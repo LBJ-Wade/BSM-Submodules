{
 "cells": [
  {
   "cell_type": "code",
   "execution_count": 1,
   "metadata": {},
   "outputs": [],
   "source": [
    "import pandas as pd\n",
    "import json\n",
    "import re\n",
    "import numpy as np\n",
    "import sys"
   ]
  },
  {
   "cell_type": "code",
   "execution_count": 2,
   "metadata": {},
   "outputs": [],
   "source": [
    "SPfull={'Properties':{\n",
    "         'OnlyLowEnergySPheno' : True,\n",
    "         'AddTreeLevelUnitarityLimits':True,\n",
    "        'MINPAR':[[1,'LambdaIN']],\n",
    "        'ParametersToSolveTadpoles':['mu2'],\n",
    "        'BoundaryLowScaleInput':[['\\[Lambda]','LambdaIN']],\n",
    "        'ListDecayParticles':['Fu','Fe','Fd','hh'],\n",
    "        'ListDecayParticles3B': [['Fu','\"Fu.f90\"'],['Fe','\"Fe.f90\"'],['Fd','\"Fd.f90\"']],\n",
    "        'RenConditionsDecays':[\n",
    "               ['dCosTW', '1/2*Cos[ThetaW] * (PiVWp/(MVWp^2) - PiVZ/(mVZ^2))'],\n",
    "               ['dSinTW', '-dCosTW/Tan[ThetaW]'],\n",
    "               ['dg2', '1/2*g2*(derPiVPheavy0 + PiVPlightMZ/MVZ^2 - (-(PiVWp/MVWp^2) + PiVZ/MVZ^2)/Tan[ThetaW]^2 + (2*PiVZVP*Tan[ThetaW])/MVZ^2)'],\n",
    "               ['dg1', 'dg2*Tan[ThetaW]+g2*dSinTW/Cos[ThetaW]- dCosTW*g2*Tan[ThetaW]/Cos[ThetaW]']\n",
    "             ],\n",
    "        'DEFINITION': {'MatchingConditions':\n",
    "                 [['v' ,'vSM'], \n",
    "                  ['Ye', 'YeSM'],\n",
    "                  ['Yd', 'YdSM'],\n",
    "                  ['Yu', 'YuSM'],\n",
    "                  ['g1', 'g1SM'],\n",
    "                  ['g2', 'g2SM'],\n",
    "                  ['g3', 'g3SM']]},\n",
    "        'DefaultInputValues' :['LambdaIN' , 0.27]\n",
    "           },\n",
    "    'Index':{'OnlyLowEnergySPheno':0,'MINPAR':1, 'ParametersToSolveTadpoles':2, \n",
    "                'BoundaryLowScaleInput':3, 'DEFINITION':4, 'ListDecayParticles':5, \n",
    "                'ListDecayParticles3B':6, 'DefaultInputValues':7, \n",
    "                'AddTreeLevelUnitarityLimits':8, 'RenConditionsDecays':9}   \n",
    "   }\n",
    "SP={'Properties':{\n",
    "         'OnlyLowEnergySPheno' : True,\n",
    "         'AddTreeLevelUnitarityLimits':True,\n",
    "        'MINPAR':[],\n",
    "        'ParametersToSolveTadpoles':[],\n",
    "        'BoundaryLowScaleInput':[],\n",
    "        'ListDecayParticles':[],\n",
    "        'ListDecayParticles3B': [],\n",
    "        'RenConditionsDecays':[\n",
    "               ['dCosTW', '1/2*Cos[ThetaW] * (PiVWp/(MVWp^2) - PiVZ/(mVZ^2))'],\n",
    "               ['dSinTW', '-dCosTW/Tan[ThetaW]'],\n",
    "               ['dg2', '1/2*g2*(derPiVPheavy0 + PiVPlightMZ/MVZ^2 - (-(PiVWp/MVWp^2) + PiVZ/MVZ^2)/Tan[ThetaW]^2 + (2*PiVZVP*Tan[ThetaW])/MVZ^2)'],\n",
    "               ['dg1', 'dg2*Tan[ThetaW]+g2*dSinTW/Cos[ThetaW]- dCosTW*g2*Tan[ThetaW]/Cos[ThetaW]']\n",
    "             ],\n",
    "        'DEFINITION': {'MatchingConditions':\n",
    "                 []},\n",
    "        'DefaultInputValues' :{}\n",
    "           },\n",
    "    'Index':{'OnlyLowEnergySPheno':0,'MINPAR':1, 'ParametersToSolveTadpoles':2, \n",
    "                'BoundaryLowScaleInput':3, 'DEFINITION':4, 'ListDecayParticles':5, \n",
    "                'ListDecayParticles3B':6, 'DefaultInputValues':7, \n",
    "                'AddTreeLevelUnitarityLimits':8, 'RenConditionsDecays':9}   \n",
    "   }"
   ]
  },
  {
   "cell_type": "markdown",
   "metadata": {},
   "source": [
    "## Local definitions"
   ]
  },
  {
   "cell_type": "code",
   "execution_count": 3,
   "metadata": {},
   "outputs": [],
   "source": [
    "def get_tadpoles_and_bilinears(L,dimL,exclude=None):\n",
    "    #Get tadpoles from Lagrangina excluding bilinear `exclude`\n",
    "    tadpoles=list(L[(np.logical_and(L==1,dimL==2))].index)\n",
    "    ctdpl=[] # Parameters to be calculated from tadpoles\n",
    "    cbln =[] # Bilinear input paramater\n",
    "    for t in tadpoles:\n",
    "        bln=smd.loc['Coupling',t]\n",
    "        if bln!=exclude:\n",
    "            ctdpl.append( bln )\n",
    "        else:\n",
    "            cbln.append(bln)\n",
    "    return ctdpl,cbln\n",
    "\n",
    "def get_input_parameters(L,dimL):\n",
    "    #TODO: Include Yukawas\n",
    "    sci=[]\n",
    "    scalarint=list(L[(np.logical_and(L==1,dimL>2))].index)\n",
    "    for sc in scalarint:\n",
    "        sci.append( smd.loc['Coupling',sc] )\n",
    "    return sci\n",
    "\n",
    "#TODO: Incluede Input Yukawas\n",
    "def get_input_parameters_IN(sci,suffix='IN'):\n",
    "    sciIN=[]\n",
    "    BLS=[]\n",
    "    for p in sci:\n",
    "        rp=re.search('(\\w+)',p)\n",
    "        if rp:\n",
    "            sciIN.append( rp.groups()[0]+suffix )\n",
    "\n",
    "    if len(sci)==len(sciIN):\n",
    "        return sciIN\n",
    "    else:\n",
    "        sys.exit('ERROR: Input parameter mismatch {}!={}'.format(sci,sciIN))\n",
    "        \n",
    "def get_BoundaryLowScaleInput(sci,sciIN):\n",
    "    BLS=[]\n",
    "    for i in range(len(sci)):\n",
    "        BLS.append([sci[i],sciIN[i]])\n",
    "    return BLS\n",
    "def get_MINPAR(sciIN):\n",
    "    MP=[]\n",
    "    for i in range(len(sciIN)):\n",
    "        MP.append([i+1,sciIN[i]])\n",
    "    return MP\n",
    "\n",
    "def get_smyukawas(smd,def_smyukawas=\n",
    "                      ['Down-Yukawa-Coupling', 'Lepton-Yukawa-Coupling', 'Up-Yukawa-Coupling']):\n",
    "    smyc=[]\n",
    "    for y in def_smyukawas:\n",
    "        smyc.append( smd.loc['Coupling',y])\n",
    "    return smyc\n",
    "\n",
    "def get_other_yukawas(smd,L,dimL,def_smyukawas=\n",
    "                      ['Down-Yukawa-Coupling', 'Lepton-Yukawa-Coupling', 'Up-Yukawa-Coupling']):\n",
    "    def_yukawas=list(L[(np.logical_and(L==2,dimL==3))].index)\n",
    "    oyc=[]\n",
    "    for y in def_yukawas:\n",
    "        if y not in def_smyukawas:\n",
    "            oyc.append( smd.loc['Coupling',y])\n",
    "    return oyc\n",
    "\n",
    "def get_gauge_couplings(smc,smcouplings=['Hypercharge-Coupling','Left-Coupling','Strong-Coupling']):\n",
    "    cs=[]\n",
    "    for c in smcouplings:\n",
    "        cs.append( smc.loc['Description'][ smc.loc['Description']==c ].index[0] )\n",
    "    \n",
    "    return cs\n",
    "\n",
    "def get_SM_MatchingConditions(smd,smc,\n",
    "                              smcouplings=['Hypercharge-Coupling','Left-Coupling','Strong-Coupling'],\n",
    "                              def_smyukawas=\n",
    "                              ['Down-Yukawa-Coupling', 'Lepton-Yukawa-Coupling', 'Up-Yukawa-Coupling']):\n",
    "    #VEV\n",
    "    smvev=smd.loc['Coupling','EW-VEV']\n",
    "    #Gauge couplings\n",
    "    cs=get_gauge_couplings(smc,smcouplings)\n",
    "    #SM Yukawas\n",
    "    smyc=get_smyukawas(smd,def_smyukawas)\n",
    "\n",
    "    lsmcpl=[]\n",
    "    smcpl =[smvev]+smyc+cs\n",
    "    for c in smcpl:\n",
    "        lsmcpl.append( [c,c+'SM'])\n",
    "    return lsmcpl\n",
    "\n",
    "def get_decay_particles(DecayParticles   = ['Fu', 'Fe', 'Fd', 'hh'],\n",
    "                    DecayParticles3B = ['Fu', 'Fe', 'Fd']):\n",
    "    LDecayParticles3B=[]\n",
    "    for p in DecayParticles3B:\n",
    "        LDecayParticles3B.append( [p,'\"{}.f90\"'.format(p)])\n",
    "    return DecayParticles,LDecayParticles3B\n",
    "\n",
    "\n",
    "def get_sm_DefaultInputValues(smd,sci,sciIN):\n",
    "    for i in range(len(sci)):\n",
    "        if smd.loc['Coupling','SM Higgs Selfcouplings']==sci[i]:\n",
    "            d={sciIN[i]:0.27}\n",
    "        else:\n",
    "            d={}\n",
    "        return d\n",
    "    \n",
    "def to_math_list( l ):\n",
    "    import re\n",
    "    sl=str(l).replace('[','{' ).replace(\n",
    "                      ']','}'     ).replace(\n",
    "                       \"'\",\"\"   ).replace(\n",
    "                       r'\\\\','\\\\')\n",
    "    sl=re.sub(r'\\\\{(\\w+)}',r'\\\\[\\1]',sl)\n",
    "    return sl"
   ]
  },
  {
   "cell_type": "code",
   "execution_count": 4,
   "metadata": {},
   "outputs": [],
   "source": [
    "SPdf=pd.DataFrame(SPfull)"
   ]
  },
  {
   "cell_type": "code",
   "execution_count": 5,
   "metadata": {},
   "outputs": [
    {
     "data": {
      "text/html": [
       "<div>\n",
       "<style scoped>\n",
       "    .dataframe tbody tr th:only-of-type {\n",
       "        vertical-align: middle;\n",
       "    }\n",
       "\n",
       "    .dataframe tbody tr th {\n",
       "        vertical-align: top;\n",
       "    }\n",
       "\n",
       "    .dataframe thead th {\n",
       "        text-align: right;\n",
       "    }\n",
       "</style>\n",
       "<table border=\"1\" class=\"dataframe\">\n",
       "  <thead>\n",
       "    <tr style=\"text-align: right;\">\n",
       "      <th></th>\n",
       "      <th>Index</th>\n",
       "      <th>Properties</th>\n",
       "    </tr>\n",
       "  </thead>\n",
       "  <tbody>\n",
       "    <tr>\n",
       "      <th>AddTreeLevelUnitarityLimits</th>\n",
       "      <td>8</td>\n",
       "      <td>True</td>\n",
       "    </tr>\n",
       "    <tr>\n",
       "      <th>BoundaryLowScaleInput</th>\n",
       "      <td>3</td>\n",
       "      <td>[[\\[Lambda], LambdaIN]]</td>\n",
       "    </tr>\n",
       "    <tr>\n",
       "      <th>DEFINITION</th>\n",
       "      <td>4</td>\n",
       "      <td>{'MatchingConditions': [['v', 'vSM'], ['Ye', '...</td>\n",
       "    </tr>\n",
       "    <tr>\n",
       "      <th>DefaultInputValues</th>\n",
       "      <td>7</td>\n",
       "      <td>[LambdaIN, 0.27]</td>\n",
       "    </tr>\n",
       "    <tr>\n",
       "      <th>ListDecayParticles</th>\n",
       "      <td>5</td>\n",
       "      <td>[Fu, Fe, Fd, hh]</td>\n",
       "    </tr>\n",
       "    <tr>\n",
       "      <th>ListDecayParticles3B</th>\n",
       "      <td>6</td>\n",
       "      <td>[[Fu, \"Fu.f90\"], [Fe, \"Fe.f90\"], [Fd, \"Fd.f90\"]]</td>\n",
       "    </tr>\n",
       "    <tr>\n",
       "      <th>MINPAR</th>\n",
       "      <td>1</td>\n",
       "      <td>[[1, LambdaIN]]</td>\n",
       "    </tr>\n",
       "    <tr>\n",
       "      <th>OnlyLowEnergySPheno</th>\n",
       "      <td>0</td>\n",
       "      <td>True</td>\n",
       "    </tr>\n",
       "    <tr>\n",
       "      <th>ParametersToSolveTadpoles</th>\n",
       "      <td>2</td>\n",
       "      <td>[mu2]</td>\n",
       "    </tr>\n",
       "    <tr>\n",
       "      <th>RenConditionsDecays</th>\n",
       "      <td>9</td>\n",
       "      <td>[[dCosTW, 1/2*Cos[ThetaW] * (PiVWp/(MVWp^2) - ...</td>\n",
       "    </tr>\n",
       "  </tbody>\n",
       "</table>\n",
       "</div>"
      ],
      "text/plain": [
       "                             Index  \\\n",
       "AddTreeLevelUnitarityLimits      8   \n",
       "BoundaryLowScaleInput            3   \n",
       "DEFINITION                       4   \n",
       "DefaultInputValues               7   \n",
       "ListDecayParticles               5   \n",
       "ListDecayParticles3B             6   \n",
       "MINPAR                           1   \n",
       "OnlyLowEnergySPheno              0   \n",
       "ParametersToSolveTadpoles        2   \n",
       "RenConditionsDecays              9   \n",
       "\n",
       "                                                                    Properties  \n",
       "AddTreeLevelUnitarityLimits                                               True  \n",
       "BoundaryLowScaleInput                                  [[\\[Lambda], LambdaIN]]  \n",
       "DEFINITION                   {'MatchingConditions': [['v', 'vSM'], ['Ye', '...  \n",
       "DefaultInputValues                                            [LambdaIN, 0.27]  \n",
       "ListDecayParticles                                            [Fu, Fe, Fd, hh]  \n",
       "ListDecayParticles3B          [[Fu, \"Fu.f90\"], [Fe, \"Fe.f90\"], [Fd, \"Fd.f90\"]]  \n",
       "MINPAR                                                         [[1, LambdaIN]]  \n",
       "OnlyLowEnergySPheno                                                       True  \n",
       "ParametersToSolveTadpoles                                                [mu2]  \n",
       "RenConditionsDecays          [[dCosTW, 1/2*Cos[ThetaW] * (PiVWp/(MVWp^2) - ...  "
      ]
     },
     "execution_count": 5,
     "metadata": {},
     "output_type": "execute_result"
    }
   ],
   "source": [
    "SPdf"
   ]
  },
  {
   "cell_type": "code",
   "execution_count": 6,
   "metadata": {},
   "outputs": [],
   "source": [
    "f=open('sp.json','w')\n",
    "json.dump(SP,f)\n",
    "f.close()"
   ]
  },
  {
   "cell_type": "code",
   "execution_count": 7,
   "metadata": {},
   "outputs": [],
   "source": [
    "f=open('fullparamenter.json','r')\n",
    "fp=json.load(f)\n",
    "f.close()"
   ]
  },
  {
   "cell_type": "code",
   "execution_count": 8,
   "metadata": {},
   "outputs": [],
   "source": [
    "smd=pd.DataFrame( fp['smdict'] )"
   ]
  },
  {
   "cell_type": "code",
   "execution_count": 9,
   "metadata": {},
   "outputs": [],
   "source": [
    "smd.loc['Lorentz']=smd.loc['Lorentz'].apply(lambda l: [] if type(l)!=list else l)"
   ]
  },
  {
   "cell_type": "code",
   "execution_count": 10,
   "metadata": {},
   "outputs": [],
   "source": [
    "dimL=smd.loc['Lorentz'].apply(lambda l: len(l) )"
   ]
  },
  {
   "cell_type": "code",
   "execution_count": 11,
   "metadata": {},
   "outputs": [],
   "source": [
    "L=smd.loc['Lorentz'].apply(lambda l: len( list(np.unique(l))) )"
   ]
  },
  {
   "cell_type": "code",
   "execution_count": 13,
   "metadata": {},
   "outputs": [
    {
     "data": {
      "text/plain": [
       "['mu2']"
      ]
     },
     "execution_count": 13,
     "metadata": {},
     "output_type": "execute_result"
    }
   ],
   "source": [
    "SP['Properties']['ParametersToSolveTadpoles']=get_tadpoles_and_bilinears(L,dimL)[0]\n",
    "SP['Properties']['ParametersToSolveTadpoles']"
   ]
  },
  {
   "cell_type": "code",
   "execution_count": 15,
   "metadata": {},
   "outputs": [
    {
     "data": {
      "text/plain": [
       "['\\\\[Lambda]']"
      ]
     },
     "execution_count": 15,
     "metadata": {},
     "output_type": "execute_result"
    }
   ],
   "source": [
    "sci=get_input_parameters(L,dimL)\n",
    "sci"
   ]
  },
  {
   "cell_type": "code",
   "execution_count": 19,
   "metadata": {},
   "outputs": [
    {
     "data": {
      "text/plain": [
       "['LambdaIN']"
      ]
     },
     "execution_count": 19,
     "metadata": {},
     "output_type": "execute_result"
    }
   ],
   "source": [
    "sciIN=get_input_parameters_IN(sci,suffix='IN')\n",
    "sciIN"
   ]
  },
  {
   "cell_type": "code",
   "execution_count": 20,
   "metadata": {},
   "outputs": [
    {
     "data": {
      "text/plain": [
       "[['\\\\[Lambda]', 'LambdaIN']]"
      ]
     },
     "execution_count": 20,
     "metadata": {},
     "output_type": "execute_result"
    }
   ],
   "source": [
    "SP['Properties']['BoundaryLowScaleInput']=get_BoundaryLowScaleInput(sci,sciIN)\n",
    "SP['Properties']['BoundaryLowScaleInput']"
   ]
  },
  {
   "cell_type": "code",
   "execution_count": 21,
   "metadata": {},
   "outputs": [
    {
     "data": {
      "text/plain": [
       "[[1, 'LambdaIN']]"
      ]
     },
     "execution_count": 21,
     "metadata": {},
     "output_type": "execute_result"
    }
   ],
   "source": [
    "SP['Properties']['MINPAR']=get_MINPAR(sciIN)\n",
    "SP['Properties']['MINPAR']"
   ]
  },
  {
   "cell_type": "code",
   "execution_count": 22,
   "metadata": {},
   "outputs": [],
   "source": [
    "smc=pd.DataFrame( fp['coupling'] )"
   ]
  },
  {
   "cell_type": "code",
   "execution_count": 24,
   "metadata": {},
   "outputs": [
    {
     "data": {
      "text/plain": [
       "[]"
      ]
     },
     "execution_count": 24,
     "metadata": {},
     "output_type": "execute_result"
    }
   ],
   "source": [
    "get_other_yukawas(smd,L,dimL)"
   ]
  },
  {
   "cell_type": "code",
   "execution_count": 25,
   "metadata": {},
   "outputs": [
    {
     "data": {
      "text/plain": [
       "[['v', 'vSM'],\n",
       " ['Yd', 'YdSM'],\n",
       " ['Ye', 'YeSM'],\n",
       " ['Yu', 'YuSM'],\n",
       " ['g1', 'g1SM'],\n",
       " ['g2', 'g2SM'],\n",
       " ['g3', 'g3SM']]"
      ]
     },
     "execution_count": 25,
     "metadata": {},
     "output_type": "execute_result"
    }
   ],
   "source": [
    "get_SM_MatchingConditions(smd,smc)"
   ]
  },
  {
   "cell_type": "code",
   "execution_count": 26,
   "metadata": {},
   "outputs": [],
   "source": [
    "#V=smd.loc['Lorentz'].apply(lambda l: l if len( list(np.unique(l)))==1 else None ).dropna()"
   ]
  },
  {
   "cell_type": "code",
   "execution_count": 27,
   "metadata": {},
   "outputs": [],
   "source": [
    "#V.to_dict()"
   ]
  },
  {
   "cell_type": "code",
   "execution_count": 28,
   "metadata": {},
   "outputs": [],
   "source": [
    "DP,DP3B=get_decay_particles(DecayParticles   = ['Fu', 'Fe', 'Fd', 'hh'],\n",
    "                    DecayParticles3B = ['Fu', 'Fe', 'Fd'])"
   ]
  },
  {
   "cell_type": "code",
   "execution_count": 29,
   "metadata": {},
   "outputs": [
    {
     "data": {
      "text/plain": [
       "[['v', 'vSM'],\n",
       " ['Yd', 'YdSM'],\n",
       " ['Ye', 'YeSM'],\n",
       " ['Yu', 'YuSM'],\n",
       " ['g1', 'g1SM'],\n",
       " ['g2', 'g2SM'],\n",
       " ['g3', 'g3SM']]"
      ]
     },
     "execution_count": 29,
     "metadata": {},
     "output_type": "execute_result"
    }
   ],
   "source": [
    "SP['Properties']['DEFINITION']['MatchingConditions']=get_SM_MatchingConditions(smd,smc)\n",
    "SP['Properties']['DEFINITION']['MatchingConditions']"
   ]
  },
  {
   "cell_type": "code",
   "execution_count": 30,
   "metadata": {},
   "outputs": [],
   "source": [
    "SP['Properties']['ListDecayParticles']=DP\n",
    "SP['Properties']['ListDecayParticles3B']=DP3B"
   ]
  },
  {
   "cell_type": "code",
   "execution_count": 31,
   "metadata": {},
   "outputs": [],
   "source": [
    "SP['Properties']['DefaultInputValues']['LambdaIN']=0.27"
   ]
  },
  {
   "cell_type": "code",
   "execution_count": 32,
   "metadata": {},
   "outputs": [
    {
     "data": {
      "text/plain": [
       "{'LambdaIN': 0.27}"
      ]
     },
     "execution_count": 32,
     "metadata": {},
     "output_type": "execute_result"
    }
   ],
   "source": [
    "get_sm_DefaultInputValues(smd,sci,sciIN)"
   ]
  },
  {
   "cell_type": "code",
   "execution_count": 33,
   "metadata": {},
   "outputs": [],
   "source": [
    "SP['Properties']['DefaultInputValues'].update( \n",
    "                     get_sm_DefaultInputValues(smd,sci,sciIN) )"
   ]
  },
  {
   "cell_type": "code",
   "execution_count": 34,
   "metadata": {},
   "outputs": [
    {
     "data": {
      "text/plain": [
       "{'LambdaIN': 0.27}"
      ]
     },
     "execution_count": 34,
     "metadata": {},
     "output_type": "execute_result"
    }
   ],
   "source": [
    "SP['Properties']['DefaultInputValues']"
   ]
  },
  {
   "cell_type": "code",
   "execution_count": 35,
   "metadata": {},
   "outputs": [
    {
     "data": {
      "text/plain": [
       "{'Index': {'AddTreeLevelUnitarityLimits': 8,\n",
       "  'BoundaryLowScaleInput': 3,\n",
       "  'DEFINITION': 4,\n",
       "  'DefaultInputValues': 7,\n",
       "  'ListDecayParticles': 5,\n",
       "  'ListDecayParticles3B': 6,\n",
       "  'MINPAR': 1,\n",
       "  'OnlyLowEnergySPheno': 0,\n",
       "  'ParametersToSolveTadpoles': 2,\n",
       "  'RenConditionsDecays': 9},\n",
       " 'Properties': {'AddTreeLevelUnitarityLimits': True,\n",
       "  'BoundaryLowScaleInput': [['\\\\[Lambda]', 'LambdaIN']],\n",
       "  'DEFINITION': {'MatchingConditions': [['v', 'vSM'],\n",
       "    ['Yd', 'YdSM'],\n",
       "    ['Ye', 'YeSM'],\n",
       "    ['Yu', 'YuSM'],\n",
       "    ['g1', 'g1SM'],\n",
       "    ['g2', 'g2SM'],\n",
       "    ['g3', 'g3SM']]},\n",
       "  'DefaultInputValues': {'LambdaIN': 0.27},\n",
       "  'ListDecayParticles': ['Fu', 'Fe', 'Fd', 'hh'],\n",
       "  'ListDecayParticles3B': [['Fu', '\"Fu.f90\"'],\n",
       "   ['Fe', '\"Fe.f90\"'],\n",
       "   ['Fd', '\"Fd.f90\"']],\n",
       "  'MINPAR': [[1, 'LambdaIN']],\n",
       "  'OnlyLowEnergySPheno': True,\n",
       "  'ParametersToSolveTadpoles': ['mu2'],\n",
       "  'RenConditionsDecays': [['dCosTW',\n",
       "    '1/2*Cos[ThetaW] * (PiVWp/(MVWp^2) - PiVZ/(mVZ^2))'],\n",
       "   ['dSinTW', '-dCosTW/Tan[ThetaW]'],\n",
       "   ['dg2',\n",
       "    '1/2*g2*(derPiVPheavy0 + PiVPlightMZ/MVZ^2 - (-(PiVWp/MVWp^2) + PiVZ/MVZ^2)/Tan[ThetaW]^2 + (2*PiVZVP*Tan[ThetaW])/MVZ^2)'],\n",
       "   ['dg1',\n",
       "    'dg2*Tan[ThetaW]+g2*dSinTW/Cos[ThetaW]- dCosTW*g2*Tan[ThetaW]/Cos[ThetaW]']]}}"
      ]
     },
     "execution_count": 35,
     "metadata": {},
     "output_type": "execute_result"
    }
   ],
   "source": [
    "SP"
   ]
  },
  {
   "cell_type": "markdown",
   "metadata": {},
   "source": [
    "## Output file"
   ]
  },
  {
   "cell_type": "code",
   "execution_count": 36,
   "metadata": {},
   "outputs": [],
   "source": [
    "SP=pd.DataFrame(SP)\n",
    "SP=SP.sort_values('Index')"
   ]
  },
  {
   "cell_type": "code",
   "execution_count": 37,
   "metadata": {},
   "outputs": [],
   "source": [
    "SMp=pd.read_json('SMp.json')"
   ]
  },
  {
   "cell_type": "code",
   "execution_count": 38,
   "metadata": {},
   "outputs": [
    {
     "data": {
      "text/plain": [
       "AlphaS                         {'Description': 'Alpha Strong'}\n",
       "Gf                         {'Description': 'Fermi's constant'}\n",
       "ThetaW       {'Description': 'Weinberg-Angle', 'DependenceN...\n",
       "Ud                 {'Description': 'Right-Down-Mixing-Matrix'}\n",
       "Ue               {'Description': 'Right-Lepton-Mixing-Matrix'}\n",
       "Uu                   {'Description': 'Right-Up-Mixing-Matrix'}\n",
       "Vd                  {'Description': 'Left-Down-Mixing-Matrix'}\n",
       "Ve                {'Description': 'Left-Lepton-Mixing-Matrix'}\n",
       "Vu                    {'Description': 'Left-Up-Mixing-Matrix'}\n",
       "Yd           {'Description': 'Down-Yukawa-Coupling', 'Depen...\n",
       "Ye           {'Description': 'Lepton-Yukawa-Coupling', 'Dep...\n",
       "Yu           {'Description': 'Up-Yukawa-Coupling', 'Depende...\n",
       "ZW           {'Description': 'W Mixing Matrix', 'Dependence...\n",
       "ZZ                   {'Description': 'Photon-Z Mixing Matrix'}\n",
       "\\[Lambda]    {'Description': 'SM Higgs Selfcouplings', 'Dep...\n",
       "aEWinv       {'Description': 'inverse weak coupling constan...\n",
       "e                           {'Description': 'electric charge'}\n",
       "g1                     {'Description': 'Hypercharge-Coupling'}\n",
       "g2                            {'Description': 'Left-Coupling'}\n",
       "g3                          {'Description': 'Strong-Coupling'}\n",
       "mH2                 {'Description': 'SM Higgs Mass Parameter'}\n",
       "mu2          {'Description': 'SM Mu Parameter', 'OutputName...\n",
       "v            {'Description': 'EW-VEV', 'OutputName': 'vvSM'...\n",
       "Name: Properties, dtype: object"
      ]
     },
     "execution_count": 38,
     "metadata": {},
     "output_type": "execute_result"
    }
   ],
   "source": [
    "SMp['Properties']#.apply(lambda d: d.get('Lorent'))"
   ]
  },
  {
   "cell_type": "code",
   "execution_count": 39,
   "metadata": {},
   "outputs": [],
   "source": [
    "dictentries=['DefaultInputValues']\n",
    "f=open('sp.m','w')\n",
    "for i in SP.index:\n",
    "    if type(SP.loc[i,'Properties'])==bool:\n",
    "        f.write('{} = {};\\n\\n'.format(i,SP.loc[i,'Properties']))\n",
    "    elif type(SP.loc[i,'Properties'])==list:\n",
    "        f.write('{} = {};\\n\\n'.format(i,to_math_list(SP.loc[i,'Properties'])  ))\n",
    "    elif type(SP.loc[i,'Properties'])==dict:\n",
    "        d=SP.loc[i,'Properties']\n",
    "        if i in dictentries:\n",
    "            dfv='{} = {{'.format(i)\n",
    "            for k in d.keys():\n",
    "                dfv=dfv+'{} -> {}'.format(k,0.27) \n",
    "            dfv=dfv+'};\\n\\n'\n",
    "            f.write(dfv)\n",
    "        else:\n",
    "            for k in d.keys():\n",
    "                if k  in ['MatchingConditions']:\n",
    "                    f.write('{}[{}]={};\\n\\n'.format(i,k,to_math_list( SP.loc[i,'Properties'][k] )    \n",
    "                          ))\n",
    "f.close()                "
   ]
  },
  {
   "cell_type": "code",
   "execution_count": 40,
   "metadata": {},
   "outputs": [
    {
     "name": "stdout",
     "output_type": "stream",
     "text": [
      "OnlyLowEnergySPheno = True;\r\n",
      "\r\n",
      "MINPAR = {{1, LambdaIN}};\r\n",
      "\r\n",
      "ParametersToSolveTadpoles = {mu2};\r\n",
      "\r\n",
      "BoundaryLowScaleInput = {{\\[Lambda], LambdaIN}};\r\n",
      "\r\n",
      "DEFINITION[MatchingConditions]={{v, vSM}, {Yd, YdSM}, {Ye, YeSM}, {Yu, YuSM}, {g1, g1SM}, {g2, g2SM}, {g3, g3SM}};\r\n",
      "\r\n",
      "ListDecayParticles = {Fu, Fe, Fd, hh};\r\n",
      "\r\n",
      "ListDecayParticles3B = {{Fu, \"Fu.f90\"}, {Fe, \"Fe.f90\"}, {Fd, \"Fd.f90\"}};\r\n",
      "\r\n",
      "DefaultInputValues = {LambdaIN -> 0.27};\r\n",
      "\r\n",
      "AddTreeLevelUnitarityLimits = True;\r\n",
      "\r\n",
      "RenConditionsDecays = {{dCosTW, 1/2*Cos{ThetaW} * (PiVWp/(MVWp^2) - PiVZ/(mVZ^2))}, {dSinTW, -dCosTW/Tan{ThetaW}}, {dg2, 1/2*g2*(derPiVPheavy0 + PiVPlightMZ/MVZ^2 - (-(PiVWp/MVWp^2) + PiVZ/MVZ^2)/Tan{ThetaW}^2 + (2*PiVZVP*Tan{ThetaW})/MVZ^2)}, {dg1, dg2*Tan{ThetaW}+g2*dSinTW/Cos{ThetaW}- dCosTW*g2*Tan{ThetaW}/Cos{ThetaW}}};\r\n",
      "\r\n"
     ]
    }
   ],
   "source": [
    "cat sp.m"
   ]
  }
 ],
 "metadata": {
  "kernelspec": {
   "display_name": "Python 3",
   "language": "python",
   "name": "python3"
  },
  "language_info": {
   "codemirror_mode": {
    "name": "ipython",
    "version": 3
   },
   "file_extension": ".py",
   "mimetype": "text/x-python",
   "name": "python",
   "nbconvert_exporter": "python",
   "pygments_lexer": "ipython3",
   "version": "3.5.3"
  },
  "latex_envs": {
   "LaTeX_envs_menu_present": true,
   "autoclose": false,
   "autocomplete": true,
   "bibliofile": "biblio.bib",
   "cite_by": "apalike",
   "current_citInitial": 1,
   "eqLabelWithNumbers": true,
   "eqNumInitial": 1,
   "hotkeys": {
    "equation": "Ctrl-E",
    "itemize": "Ctrl-I"
   },
   "labels_anchors": false,
   "latex_user_defs": false,
   "report_style_numbering": false,
   "user_envs_cfg": false
  }
 },
 "nbformat": 4,
 "nbformat_minor": 2
}
