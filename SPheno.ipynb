{
 "cells": [
  {
   "cell_type": "code",
   "execution_count": 1,
   "metadata": {},
   "outputs": [],
   "source": [
    "import pandas as pd\n",
    "import json"
   ]
  },
  {
   "cell_type": "code",
   "execution_count": 184,
   "metadata": {},
   "outputs": [],
   "source": [
    "SP={'Properties':{\n",
    "         'OnlyLowEnergySPheno' : True,\n",
    "         'AddTreeLevelUnitarityLimits':True,\n",
    "        'MINPAR':[[1,'LambdaIN']],\n",
    "        'ParametersToSolveTadpoles':['mu2'],\n",
    "        'BoundaryLowScaleInput':[['\\[Lambda]','LambdaIN']],\n",
    "        'ListDecayParticles':['Fu','Fe','Fd','hh'],\n",
    "        'ListDecayParticles3B': [['Fu','\"Fu.f90\"'],['Fe','\"Fe.f90\"'],['Fd','\"Fd.f90\"']],\n",
    "        'RenConditionsDecays':[\n",
    "               ['dCosTW', '1/2*Cos[ThetaW] * (PiVWp/(MVWp^2) - PiVZ/(mVZ^2))'],\n",
    "               ['dSinTW', '-dCosTW/Tan[ThetaW]'],\n",
    "               ['dg2', '1/2*g2*(derPiVPheavy0 + PiVPlightMZ/MVZ^2 - (-(PiVWp/MVWp^2) + PiVZ/MVZ^2)/Tan[ThetaW]^2 + (2*PiVZVP*Tan[ThetaW])/MVZ^2)'],\n",
    "               ['dg1', 'dg2*Tan[ThetaW]+g2*dSinTW/Cos[ThetaW]- dCosTW*g2*Tan[ThetaW]/Cos[ThetaW]']\n",
    "             ],\n",
    "        'DEFINITION': {'MatchingConditions':\n",
    "                 [['v' ,'vSM'], \n",
    "                  ['Ye', 'YeSM'],\n",
    "                  ['Yd', 'YdSM'],\n",
    "                  ['Yu', 'YuSM'],\n",
    "                  ['g1', 'g1SM'],\n",
    "                  ['g2', 'g2SM'],\n",
    "                  ['g3', 'g3SM']]},\n",
    "        'DefaultInputValues' :['LambdaIN' , 0.27]\n",
    "           },\n",
    "    'Index':{'OnlyLowEnergySPheno':0,'MINPAR':1, 'ParametersToSolveTadpoles':2, \n",
    "                'BoundaryLowScaleInput':3, 'DEFINITION':4, 'ListDecayParticles':5, \n",
    "                'ListDecayParticles3B':6, 'DefaultInputValues':7, \n",
    "                'AddTreeLevelUnitarityLimits':8, 'RenConditionsDecays':9}   \n",
    "   }"
   ]
  },
  {
   "cell_type": "code",
   "execution_count": 185,
   "metadata": {},
   "outputs": [],
   "source": [
    "SPdf=pd.DataFrame(SP)"
   ]
  },
  {
   "cell_type": "code",
   "execution_count": 186,
   "metadata": {},
   "outputs": [
    {
     "data": {
      "text/html": [
       "<div>\n",
       "<style scoped>\n",
       "    .dataframe tbody tr th:only-of-type {\n",
       "        vertical-align: middle;\n",
       "    }\n",
       "\n",
       "    .dataframe tbody tr th {\n",
       "        vertical-align: top;\n",
       "    }\n",
       "\n",
       "    .dataframe thead th {\n",
       "        text-align: right;\n",
       "    }\n",
       "</style>\n",
       "<table border=\"1\" class=\"dataframe\">\n",
       "  <thead>\n",
       "    <tr style=\"text-align: right;\">\n",
       "      <th></th>\n",
       "      <th>Index</th>\n",
       "      <th>Properties</th>\n",
       "    </tr>\n",
       "  </thead>\n",
       "  <tbody>\n",
       "    <tr>\n",
       "      <th>AddTreeLevelUnitarityLimits</th>\n",
       "      <td>8</td>\n",
       "      <td>True</td>\n",
       "    </tr>\n",
       "    <tr>\n",
       "      <th>BoundaryLowScaleInput</th>\n",
       "      <td>3</td>\n",
       "      <td>[[\\[Lambda], LambdaIN]]</td>\n",
       "    </tr>\n",
       "    <tr>\n",
       "      <th>DEFINITION</th>\n",
       "      <td>4</td>\n",
       "      <td>{'MatchingConditions': [['v', 'vSM'], ['Ye', '...</td>\n",
       "    </tr>\n",
       "    <tr>\n",
       "      <th>DefaultInputValues</th>\n",
       "      <td>7</td>\n",
       "      <td>[LambdaIN, 0.27]</td>\n",
       "    </tr>\n",
       "    <tr>\n",
       "      <th>ListDecayParticles</th>\n",
       "      <td>5</td>\n",
       "      <td>[Fu, Fe, Fd, hh]</td>\n",
       "    </tr>\n",
       "    <tr>\n",
       "      <th>ListDecayParticles3B</th>\n",
       "      <td>6</td>\n",
       "      <td>[[Fu, \"Fu.f90\"], [Fe, \"Fe.f90\"], [Fd, \"Fd.f90\"]]</td>\n",
       "    </tr>\n",
       "    <tr>\n",
       "      <th>MINPAR</th>\n",
       "      <td>1</td>\n",
       "      <td>[[1, LambdaIN]]</td>\n",
       "    </tr>\n",
       "    <tr>\n",
       "      <th>OnlyLowEnergySPheno</th>\n",
       "      <td>0</td>\n",
       "      <td>True</td>\n",
       "    </tr>\n",
       "    <tr>\n",
       "      <th>ParametersToSolveTadpoles</th>\n",
       "      <td>2</td>\n",
       "      <td>[mu2]</td>\n",
       "    </tr>\n",
       "    <tr>\n",
       "      <th>RenConditionsDecays</th>\n",
       "      <td>9</td>\n",
       "      <td>[[dCosTW, 1/2*Cos[ThetaW] * (PiVWp/(MVWp^2) - ...</td>\n",
       "    </tr>\n",
       "  </tbody>\n",
       "</table>\n",
       "</div>"
      ],
      "text/plain": [
       "                             Index  \\\n",
       "AddTreeLevelUnitarityLimits      8   \n",
       "BoundaryLowScaleInput            3   \n",
       "DEFINITION                       4   \n",
       "DefaultInputValues               7   \n",
       "ListDecayParticles               5   \n",
       "ListDecayParticles3B             6   \n",
       "MINPAR                           1   \n",
       "OnlyLowEnergySPheno              0   \n",
       "ParametersToSolveTadpoles        2   \n",
       "RenConditionsDecays              9   \n",
       "\n",
       "                                                                    Properties  \n",
       "AddTreeLevelUnitarityLimits                                               True  \n",
       "BoundaryLowScaleInput                                  [[\\[Lambda], LambdaIN]]  \n",
       "DEFINITION                   {'MatchingConditions': [['v', 'vSM'], ['Ye', '...  \n",
       "DefaultInputValues                                            [LambdaIN, 0.27]  \n",
       "ListDecayParticles                                            [Fu, Fe, Fd, hh]  \n",
       "ListDecayParticles3B          [[Fu, \"Fu.f90\"], [Fe, \"Fe.f90\"], [Fd, \"Fd.f90\"]]  \n",
       "MINPAR                                                         [[1, LambdaIN]]  \n",
       "OnlyLowEnergySPheno                                                       True  \n",
       "ParametersToSolveTadpoles                                                [mu2]  \n",
       "RenConditionsDecays          [[dCosTW, 1/2*Cos[ThetaW] * (PiVWp/(MVWp^2) - ...  "
      ]
     },
     "execution_count": 186,
     "metadata": {},
     "output_type": "execute_result"
    }
   ],
   "source": [
    "SPdf"
   ]
  },
  {
   "cell_type": "code",
   "execution_count": 187,
   "metadata": {},
   "outputs": [],
   "source": [
    "f=open('sp.json','w')\n",
    "json.dump(SP,f)\n",
    "f.close()"
   ]
  },
  {
   "cell_type": "code",
   "execution_count": 240,
   "metadata": {},
   "outputs": [],
   "source": [
    "import json"
   ]
  },
  {
   "cell_type": "code",
   "execution_count": 248,
   "metadata": {},
   "outputs": [],
   "source": [
    "f=open('fullparamenter.json','r')\n",
    "fp=json.load(f)\n",
    "f.close()"
   ]
  },
  {
   "cell_type": "code",
   "execution_count": 253,
   "metadata": {},
   "outputs": [],
   "source": [
    "smd=pd.DataFrame( fp['smdict'] )"
   ]
  },
  {
   "cell_type": "code",
   "execution_count": 355,
   "metadata": {},
   "outputs": [],
   "source": [
    "import numpy as np"
   ]
  },
  {
   "cell_type": "code",
   "execution_count": 264,
   "metadata": {},
   "outputs": [],
   "source": [
    "smd.loc['Lorentz']=smd.loc['Lorentz'].apply(lambda l: [] if type(l)!=list else l)"
   ]
  },
  {
   "cell_type": "code",
   "execution_count": 296,
   "metadata": {},
   "outputs": [],
   "source": [
    "dimL=smd.loc['Lorentz'].apply(lambda l: len(l) )"
   ]
  },
  {
   "cell_type": "code",
   "execution_count": 289,
   "metadata": {},
   "outputs": [],
   "source": [
    "L=smd.loc['Lorentz'].apply(lambda l: len( list(np.unique(l))) )"
   ]
  },
  {
   "cell_type": "code",
   "execution_count": 307,
   "metadata": {},
   "outputs": [
    {
     "data": {
      "text/plain": [
       "['SM Mu Parameter']"
      ]
     },
     "execution_count": 307,
     "metadata": {},
     "output_type": "execute_result"
    }
   ],
   "source": [
    "tadpoles=list(L[(np.logical_and(L==1,dimL==2))].index)"
   ]
  },
  {
   "cell_type": "code",
   "execution_count": 356,
   "metadata": {},
   "outputs": [
    {
     "data": {
      "text/plain": [
       "['mu2']"
      ]
     },
     "execution_count": 356,
     "metadata": {},
     "output_type": "execute_result"
    }
   ],
   "source": [
    "ctdpl=[]\n",
    "for t in tadpoles:\n",
    "    ctdpl.append( smd.loc['Coupling',t] )\n",
    "ctdpl"
   ]
  },
  {
   "cell_type": "code",
   "execution_count": 357,
   "metadata": {},
   "outputs": [
    {
     "data": {
      "text/plain": [
       "['\\\\[Lambda]']"
      ]
     },
     "execution_count": 357,
     "metadata": {},
     "output_type": "execute_result"
    }
   ],
   "source": [
    "sci=[]\n",
    "scalarint=list(L[(np.logical_and(L==1,dimL>2))].index)\n",
    "for sc in scalarint:\n",
    "    sci.append( smd.loc['Coupling',sc] )\n",
    "sci # append also to DefaultInputValues"
   ]
  },
  {
   "cell_type": "code",
   "execution_count": 358,
   "metadata": {},
   "outputs": [],
   "source": [
    "yukawas=list(L[(np.logical_and(L==2,dimL==3))].index)\n",
    "smyukawas=['Down-Yukawa-Coupling', 'Lepton-Yukawa-Coupling', 'Up-Yukawa-Coupling']"
   ]
  },
  {
   "cell_type": "code",
   "execution_count": 360,
   "metadata": {},
   "outputs": [
    {
     "data": {
      "text/plain": [
       "['Down-Yukawa-Coupling', 'Lepton-Yukawa-Coupling', 'Up-Yukawa-Coupling']"
      ]
     },
     "execution_count": 360,
     "metadata": {},
     "output_type": "execute_result"
    }
   ],
   "source": [
    "yukawas"
   ]
  },
  {
   "cell_type": "code",
   "execution_count": 362,
   "metadata": {},
   "outputs": [
    {
     "data": {
      "text/plain": [
       "(['Yd', 'Ye', 'Yu'], [])"
      ]
     },
     "execution_count": 362,
     "metadata": {},
     "output_type": "execute_result"
    }
   ],
   "source": [
    "smyc=[]\n",
    "oyc=[]\n",
    "for y in yukawas:\n",
    "    if y in smyukawas:\n",
    "        smyc.append( smd.loc['Coupling',y])\n",
    "    else:\n",
    "        oyc.append( smd.loc['Coupling',y])\n",
    "smyc,oyc"
   ]
  },
  {
   "cell_type": "code",
   "execution_count": 333,
   "metadata": {},
   "outputs": [
    {
     "data": {
      "text/plain": [
       "'v'"
      ]
     },
     "execution_count": 333,
     "metadata": {},
     "output_type": "execute_result"
    }
   ],
   "source": [
    "smvev=smd.loc['Coupling','EW-VEV']\n",
    "vev"
   ]
  },
  {
   "cell_type": "code",
   "execution_count": 321,
   "metadata": {},
   "outputs": [],
   "source": [
    "smc=pd.DataFrame( fp['coupling'] )"
   ]
  },
  {
   "cell_type": "code",
   "execution_count": 331,
   "metadata": {},
   "outputs": [
    {
     "data": {
      "text/plain": [
       "['g1', 'g2', 'g3']"
      ]
     },
     "execution_count": 331,
     "metadata": {},
     "output_type": "execute_result"
    }
   ],
   "source": [
    "cs=[]\n",
    "for c in ['Hypercharge-Coupling','Left-Coupling','Strong-Coupling']:\n",
    "    cs.append( smc.loc['Description'][ smc.loc['Description']==c ].index[0] )\n",
    "cs"
   ]
  },
  {
   "cell_type": "code",
   "execution_count": 348,
   "metadata": {},
   "outputs": [
    {
     "data": {
      "text/plain": [
       "[['v', 'vSM'],\n",
       " ['Yd', 'YdSM'],\n",
       " ['Ye', 'YeSM'],\n",
       " ['Yu', 'YuSM'],\n",
       " ['g1', 'g1SM'],\n",
       " ['g2', 'g2SM'],\n",
       " ['g3', 'g3SM']]"
      ]
     },
     "execution_count": 348,
     "metadata": {},
     "output_type": "execute_result"
    }
   ],
   "source": [
    "lsmcpl=[]\n",
    "smcpl=[vev]+smyc+cs\n",
    "for c in smcpl:\n",
    "    lsmcpl.append( [c,c+'SM'])\n",
    "lsmcpl    "
   ]
  },
  {
   "cell_type": "code",
   "execution_count": 318,
   "metadata": {},
   "outputs": [
    {
     "data": {
      "text/plain": [
       "['g1', 'g2', 'g3']"
      ]
     },
     "execution_count": 318,
     "metadata": {},
     "output_type": "execute_result"
    }
   ],
   "source": [
    "list(  fp['coupling'].keys() )"
   ]
  },
  {
   "cell_type": "code",
   "execution_count": 294,
   "metadata": {},
   "outputs": [
    {
     "data": {
      "text/plain": [
       "Down-Yukawa-Coupling      [Scalar, WeylFermion, WeylFermion]\n",
       "EW-VEV                                                    []\n",
       "Lepton-Yukawa-Coupling    [Scalar, WeylFermion, WeylFermion]\n",
       "SM Higgs Selfcouplings      [Scalar, Scalar, Scalar, Scalar]\n",
       "SM Mu Parameter                             [Scalar, Scalar]\n",
       "Up-Yukawa-Coupling        [WeylFermion, WeylFermion, Scalar]\n",
       "Weinberg-Angle                                            []\n",
       "Name: Lorentz, dtype: object"
      ]
     },
     "execution_count": 294,
     "metadata": {},
     "output_type": "execute_result"
    }
   ],
   "source": [
    "smd.loc['Lorentz']"
   ]
  },
  {
   "cell_type": "code",
   "execution_count": 285,
   "metadata": {},
   "outputs": [],
   "source": [
    "V=smd.loc['Lorentz'].apply(lambda l: l if len( list(np.unique(l)))==1 else None ).dropna()"
   ]
  },
  {
   "cell_type": "code",
   "execution_count": 287,
   "metadata": {},
   "outputs": [
    {
     "data": {
      "text/plain": [
       "{'SM Higgs Selfcouplings': ['Scalar', 'Scalar', 'Scalar', 'Scalar'],\n",
       " 'SM Mu Parameter': ['Scalar', 'Scalar']}"
      ]
     },
     "execution_count": 287,
     "metadata": {},
     "output_type": "execute_result"
    }
   ],
   "source": [
    "V.to_dict()"
   ]
  },
  {
   "cell_type": "code",
   "execution_count": null,
   "metadata": {},
   "outputs": [],
   "source": [
    "DecayParticles = [Fu, Fe, Fd, hh]\n",
    "DecayParticles3B = [Fu, Fe, Fd]"
   ]
  },
  {
   "cell_type": "markdown",
   "metadata": {},
   "source": [
    "## Output file"
   ]
  },
  {
   "cell_type": "code",
   "execution_count": 193,
   "metadata": {},
   "outputs": [],
   "source": [
    "SP=SP.sort_values('Index')"
   ]
  },
  {
   "cell_type": "code",
   "execution_count": 234,
   "metadata": {},
   "outputs": [],
   "source": [
    "SMp=pd.read_json('SMp.json')"
   ]
  },
  {
   "cell_type": "code",
   "execution_count": 238,
   "metadata": {},
   "outputs": [
    {
     "data": {
      "text/plain": [
       "AlphaS                         {'Description': 'Alpha Strong'}\n",
       "Gf                         {'Description': 'Fermi's constant'}\n",
       "ThetaW       {'Description': 'Weinberg-Angle', 'DependenceN...\n",
       "Ud                 {'Description': 'Right-Down-Mixing-Matrix'}\n",
       "Ue               {'Description': 'Right-Lepton-Mixing-Matrix'}\n",
       "Uu                   {'Description': 'Right-Up-Mixing-Matrix'}\n",
       "Vd                  {'Description': 'Left-Down-Mixing-Matrix'}\n",
       "Ve                {'Description': 'Left-Lepton-Mixing-Matrix'}\n",
       "Vu                    {'Description': 'Left-Up-Mixing-Matrix'}\n",
       "Yd           {'Description': 'Down-Yukawa-Coupling', 'Depen...\n",
       "Ye           {'Description': 'Lepton-Yukawa-Coupling', 'Dep...\n",
       "Yu           {'Description': 'Up-Yukawa-Coupling', 'Depende...\n",
       "ZW           {'Description': 'W Mixing Matrix', 'Dependence...\n",
       "ZZ                   {'Description': 'Photon-Z Mixing Matrix'}\n",
       "\\[Lambda]    {'Description': 'SM Higgs Selfcouplings', 'Dep...\n",
       "aEWinv       {'Description': 'inverse weak coupling constan...\n",
       "e                           {'Description': 'electric charge'}\n",
       "g1                     {'Description': 'Hypercharge-Coupling'}\n",
       "g2                            {'Description': 'Left-Coupling'}\n",
       "g3                          {'Description': 'Strong-Coupling'}\n",
       "mH2                 {'Description': 'SM Higgs Mass Parameter'}\n",
       "mu2          {'Description': 'SM Mu Parameter', 'OutputName...\n",
       "v            {'Description': 'EW-VEV', 'OutputName': 'vvSM'...\n",
       "Name: Properties, dtype: object"
      ]
     },
     "execution_count": 238,
     "metadata": {},
     "output_type": "execute_result"
    }
   ],
   "source": [
    "SMp['Properties']#.apply(lambda d: d.get('Lorent'))"
   ]
  },
  {
   "cell_type": "code",
   "execution_count": 229,
   "metadata": {},
   "outputs": [],
   "source": [
    "def to_math_list( l ):\n",
    "    import re\n",
    "    sl=str(l).replace('[','{' ).replace(\n",
    "                      ']','}'     ).replace(\n",
    "                       \"'\",\"\"   ).replace(\n",
    "                       r'\\\\','\\\\')\n",
    "    sl=re.sub(r'\\\\{(\\w+)}',r'\\\\[\\1]',sl)\n",
    "    return sl"
   ]
  },
  {
   "cell_type": "code",
   "execution_count": 230,
   "metadata": {},
   "outputs": [],
   "source": [
    "f=open('sp.m','w')\n",
    "for i in SP.index:\n",
    "    if type(SP.loc[i,'Properties'])==bool:\n",
    "        f.write('{} = {};\\n\\n'.format(i,SP.loc[i,'Properties']))\n",
    "    elif type(SP.loc[i,'Properties'])==list:\n",
    "        f.write('{} = {};\\n\\n'.format(i,to_math_list(SP.loc[i,'Properties'])  ))\n",
    "    elif type(SP.loc[i,'Properties'])==dict:\n",
    "        d=SP.loc[i,'Properties']\n",
    "        for k in d.keys():\n",
    "            if k  in ['MatchingConditions']:\n",
    "                f.write('{}[{}]={};\\n\\n'.format(i,k,to_math_list( SP.loc[i,'Properties'][k] )    \n",
    "                      ))\n",
    "f.close()                "
   ]
  },
  {
   "cell_type": "code",
   "execution_count": 231,
   "metadata": {},
   "outputs": [
    {
     "name": "stdout",
     "output_type": "stream",
     "text": [
      "OnlyLowEnergySPheno = True;\r\n",
      "\r\n",
      "MINPAR = {{1, LambdaIN}};\r\n",
      "\r\n",
      "ParametersToSolveTadpoles = {mu2};\r\n",
      "\r\n",
      "BoundaryLowScaleInput = {{\\[Lambda], LambdaIN}};\r\n",
      "\r\n",
      "DEFINITION[MatchingConditions]={{v, vSM}, {Ye, YeSM}, {Yd, YdSM}, {Yu, YuSM}, {g1, g1SM}, {g2, g2SM}, {g3, g3SM}};\r\n",
      "\r\n",
      "ListDecayParticles = {Fu, Fe, Fd, hh};\r\n",
      "\r\n",
      "ListDecayParticles3B = {{Fu, \"Fu.f90\"}, {Fe, \"Fe.f90\"}, {Fd, \"Fd.f90\"}};\r\n",
      "\r\n",
      "DefaultInputValues = {LambdaIN, 0.27};\r\n",
      "\r\n",
      "AddTreeLevelUnitarityLimits = True;\r\n",
      "\r\n",
      "RenConditionsDecays = {{dCosTW, 1/2*Cos{ThetaW} * (PiVWp/(MVWp^2) - PiVZ/(mVZ^2))}, {dSinTW, -dCosTW/Tan{ThetaW}}, {dg2, 1/2*g2*(derPiVPheavy0 + PiVPlightMZ/MVZ^2 - (-(PiVWp/MVWp^2) + PiVZ/MVZ^2)/Tan{ThetaW}^2 + (2*PiVZVP*Tan{ThetaW})/MVZ^2)}, {dg1, dg2*Tan{ThetaW}+g2*dSinTW/Cos{ThetaW}- dCosTW*g2*Tan{ThetaW}/Cos{ThetaW}}};\r\n",
      "\r\n"
     ]
    }
   ],
   "source": [
    "cat sp.m"
   ]
  },
  {
   "cell_type": "code",
   "execution_count": null,
   "metadata": {},
   "outputs": [],
   "source": []
  },
  {
   "cell_type": "code",
   "execution_count": null,
   "metadata": {},
   "outputs": [],
   "source": []
  }
 ],
 "metadata": {
  "kernelspec": {
   "display_name": "Python 3",
   "language": "python",
   "name": "python3"
  },
  "language_info": {
   "codemirror_mode": {
    "name": "ipython",
    "version": 3
   },
   "file_extension": ".py",
   "mimetype": "text/x-python",
   "name": "python",
   "nbconvert_exporter": "python",
   "pygments_lexer": "ipython3",
   "version": "3.5.3"
  },
  "latex_envs": {
   "LaTeX_envs_menu_present": true,
   "autoclose": false,
   "autocomplete": true,
   "bibliofile": "biblio.bib",
   "cite_by": "apalike",
   "current_citInitial": 1,
   "eqLabelWithNumbers": true,
   "eqNumInitial": 1,
   "hotkeys": {
    "equation": "Ctrl-E",
    "itemize": "Ctrl-I"
   },
   "labels_anchors": false,
   "latex_user_defs": false,
   "report_style_numbering": false,
   "user_envs_cfg": false
  }
 },
 "nbformat": 4,
 "nbformat_minor": 2
}
