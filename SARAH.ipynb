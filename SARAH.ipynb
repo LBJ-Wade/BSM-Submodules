{
 "cells": [
  {
   "cell_type": "code",
   "execution_count": 17,
   "metadata": {},
   "outputs": [],
   "source": [
    "import pandas as pd\n",
    "import json\n",
    "import re\n",
    "import numpy as np\n",
    "import sys\n",
    "from SARAH import *\n",
    "pd.set_option('display.max_colwidth',200)"
   ]
  },
  {
   "cell_type": "markdown",
   "metadata": {},
   "source": [
    "##  Load particles"
   ]
  },
  {
   "cell_type": "markdown",
   "metadata": {},
   "source": [
    "Generated with [./particles.ipynb](./particles.ipynb)"
   ]
  },
  {
   "cell_type": "code",
   "execution_count": 18,
   "metadata": {},
   "outputs": [],
   "source": [
    "SM=pd.read_json('JSON/particles.json')"
   ]
  },
  {
   "cell_type": "code",
   "execution_count": 19,
   "metadata": {},
   "outputs": [],
   "source": [
    "kk=to_math(SM,'p.m')"
   ]
  },
  {
   "cell_type": "markdown",
   "metadata": {},
   "source": [
    "## Load parameters"
   ]
  },
  {
   "cell_type": "markdown",
   "metadata": {},
   "source": [
    "Generated with [parameters.ipynb](./parameters.ipynb)"
   ]
  },
  {
   "cell_type": "code",
   "execution_count": 20,
   "metadata": {},
   "outputs": [],
   "source": [
    "SMp=pd.read_json('JSON/parameters.json')"
   ]
  },
  {
   "cell_type": "code",
   "execution_count": 21,
   "metadata": {},
   "outputs": [],
   "source": [
    "kk=to_math(SM,'para.m',definitions='ParameterDefinitions') "
   ]
  },
  {
   "cell_type": "markdown",
   "metadata": {},
   "source": [
    "## Load SPheno"
   ]
  },
  {
   "cell_type": "markdown",
   "metadata": {},
   "source": [
    "Generated with [SPheno.ipynb](./SPheno.ipynb)"
   ]
  },
  {
   "cell_type": "code",
   "execution_count": 22,
   "metadata": {},
   "outputs": [],
   "source": [
    "SP=pd.read_json('JSON/SPheno.json')\n",
    "SP=SP.sort_values('Index')"
   ]
  },
  {
   "cell_type": "code",
   "execution_count": 23,
   "metadata": {},
   "outputs": [],
   "source": [
    "to_SPheno(SP,'sp.m',dictentries=['DefaultInputValues'])"
   ]
  },
  {
   "cell_type": "markdown",
   "metadata": {},
   "source": [
    "## Design"
   ]
  },
  {
   "cell_type": "code",
   "execution_count": 83,
   "metadata": {},
   "outputs": [],
   "source": [
    "import pandas as pd\n",
    "import json\n",
    "class SARAH:\n",
    "    def __init__(self, file=''):\n",
    "        self.particles=pd.read_json('JSON/fullparticlesnames.json')\n",
    "        self.particles.index=self.particles['Name'].str.replace('-','_').str.replace('\\s','_')\n",
    "        self.particle = pd.Series()\n",
    "        for n in df.index:\n",
    "            self.particle[n]=self.particles.loc[n]\n",
    "        self.parameter = {}\n",
    "        self.config = {}\n",
    "        self.parameters=[{}]\n",
    "        self.SPheno=[{}]"
   ]
  },
  {
   "cell_type": "code",
   "execution_count": 84,
   "metadata": {},
   "outputs": [],
   "source": [
    "s=SARAH()"
   ]
  },
  {
   "cell_type": "code",
   "execution_count": 87,
   "metadata": {},
   "outputs": [
    {
     "data": {
      "text/plain": [
       "Block                                                                                                                                              MatterField\n",
       "Definition                                                                                                                          WeylFermionAndIndermediate\n",
       "Description                                                                                                                                               None\n",
       "Field                                                                                                                                                       ER\n",
       "Name                                                                                                                               Anti-Leptons Right Physical\n",
       "Parents                                                                                                                                               conj[eR]\n",
       "Properties     {'Mass_basis': 'ER', 'update_Description': {'LaTeX': 'E_R'}, 'Interaction_basis': ['conj[eR]'], 'Lorentz': 'WeylFermion', 'Chirality': 'right'}\n",
       "rotation                                                                                                                                                    Ue\n",
       "Name: Anti_Leptons_Right_Physical, dtype: object"
      ]
     },
     "execution_count": 87,
     "metadata": {},
     "output_type": "execute_result"
    }
   ],
   "source": [
    "s.particle.Anti_Leptons_Right_Physical"
   ]
  }
 ],
 "metadata": {
  "kernelspec": {
   "display_name": "Python 3",
   "language": "python",
   "name": "python3"
  },
  "language_info": {
   "codemirror_mode": {
    "name": "ipython",
    "version": 3
   },
   "file_extension": ".py",
   "mimetype": "text/x-python",
   "name": "python",
   "nbconvert_exporter": "python",
   "pygments_lexer": "ipython3",
   "version": "3.5.3"
  },
  "latex_envs": {
   "LaTeX_envs_menu_present": true,
   "autoclose": false,
   "autocomplete": true,
   "bibliofile": "biblio.bib",
   "cite_by": "apalike",
   "current_citInitial": 1,
   "eqLabelWithNumbers": true,
   "eqNumInitial": 1,
   "hotkeys": {
    "equation": "Ctrl-E",
    "itemize": "Ctrl-I"
   },
   "labels_anchors": false,
   "latex_user_defs": false,
   "report_style_numbering": false,
   "user_envs_cfg": false
  }
 },
 "nbformat": 4,
 "nbformat_minor": 2
}
