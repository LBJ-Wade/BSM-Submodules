{
 "cells": [
  {
   "cell_type": "markdown",
   "metadata": {},
   "source": [
    "#  Scalar Singlet Dark Matter"
   ]
  },
  {
   "cell_type": "markdown",
   "metadata": {},
   "source": [
    "Get the binary files ready for SPheno and Micromegas according the instructions in https://github.com/restrepo/myslides/blob/2019_SARAH/sarah.pdf"
   ]
  },
  {
   "cell_type": "code",
   "execution_count": 1,
   "metadata": {
    "collapsed": false,
    "jupyter": {
     "outputs_hidden": false
    }
   },
   "outputs": [
    {
     "name": "stdout",
     "output_type": "stream",
     "text": [
      "Populating the interactive namespace from numpy and matplotlib\n"
     ]
    }
   ],
   "source": [
    "%pylab inline"
   ]
  },
  {
   "cell_type": "code",
   "execution_count": 2,
   "metadata": {
    "collapsed": false,
    "jupyter": {
     "outputs_hidden": false
    }
   },
   "outputs": [],
   "source": [
    "import pandas as pd\n",
    "import numpy as np\n",
    "import os, sys, inspect\n",
    "import commands3\n",
    "from hep import *"
   ]
  },
  {
   "cell_type": "markdown",
   "metadata": {},
   "source": [
    "## Benchmark point"
   ]
  },
  {
   "cell_type": "code",
   "execution_count": 3,
   "metadata": {
    "tags": []
   },
   "outputs": [],
   "source": [
    "a=hep(MODEL='SSDM')\n",
    "#devnull=commands.getoutput('rm -f SPheno.spc.%s' %a.MODEL)"
   ]
  },
  {
   "cell_type": "markdown",
   "metadata": {},
   "source": [
    "Check `a.config` for proper configurations."
   ]
  },
  {
   "cell_type": "code",
   "execution_count": 4,
   "metadata": {},
   "outputs": [
    {
     "data": {
      "text/plain": [
       "MINPAR { 1 : 2.8000000E-01   # Lambda1IN; 2 : 1.0000000E-02   # LamSHIN; 3 : 0.0000000E+00   # LamSIN; 4 : 2.0000000E+02   # MSinput }"
      ]
     },
     "execution_count": 4,
     "metadata": {},
     "output_type": "execute_result"
    }
   ],
   "source": [
    "a.LHA.blocks['MINPAR']"
   ]
  },
  {
   "cell_type": "code",
   "execution_count": 5,
   "metadata": {},
   "outputs": [],
   "source": [
    "a.LHA.blocks['MINPAR'][1]='2.6000000E-01   # Lambda1IN'\n",
    "a.LHA.blocks['MINPAR'][2]='1.0000000E-02   # LamSHIN'\n",
    "a.LHA.blocks['MINPAR'][4]='2.5000000E+03   # MSinput'"
   ]
  },
  {
   "cell_type": "markdown",
   "metadata": {},
   "source": [
    "Run SPheno"
   ]
  },
  {
   "cell_type": "code",
   "execution_count": 6,
   "metadata": {},
   "outputs": [],
   "source": [
    "spc=a.runSPheno()"
   ]
  },
  {
   "cell_type": "markdown",
   "metadata": {},
   "source": [
    "Check output with float values"
   ]
  },
  {
   "cell_type": "code",
   "execution_count": 7,
   "metadata": {},
   "outputs": [
    {
     "data": {
      "text/plain": [
       "125.548349"
      ]
     },
     "execution_count": 7,
     "metadata": {},
     "output_type": "execute_result"
    }
   ],
   "source": [
    "a.LHA_out.blocks['MASS'][25]"
   ]
  },
  {
   "cell_type": "markdown",
   "metadata": {},
   "source": [
    "Check output with string values"
   ]
  },
  {
   "cell_type": "code",
   "execution_count": 8,
   "metadata": {},
   "outputs": [
    {
     "data": {
      "text/plain": [
       "'1.25548349E+02  # hh'"
      ]
     },
     "execution_count": 8,
     "metadata": {},
     "output_type": "execute_result"
    }
   ],
   "source": [
    "a.LHA_out_with_comments.blocks['MASS'][25]"
   ]
  },
  {
   "cell_type": "code",
   "execution_count": 9,
   "metadata": {},
   "outputs": [
    {
     "data": {
      "text/plain": [
       "'0.00000000E+00  # BR(mu->e gamma)'"
      ]
     },
     "execution_count": 9,
     "metadata": {},
     "output_type": "execute_result"
    }
   ],
   "source": [
    "a.LHA_out_with_comments.blocks['FLAVORKITLFV'][701]"
   ]
  },
  {
   "cell_type": "markdown",
   "metadata": {},
   "source": [
    "Process branchings and fill `a.Br` and `a.Br_names`"
   ]
  },
  {
   "cell_type": "code",
   "execution_count": 10,
   "metadata": {},
   "outputs": [],
   "source": [
    "kk=a.branchings(a.LHA_out.decays,min_pdg=25)"
   ]
  },
  {
   "cell_type": "code",
   "execution_count": 11,
   "metadata": {},
   "outputs": [
    {
     "data": {
      "text/plain": [
       "0.000172565229"
      ]
     },
     "execution_count": 11,
     "metadata": {},
     "output_type": "execute_result"
    }
   ],
   "source": [
    "a.Br[25][-3,3]"
   ]
  },
  {
   "cell_type": "code",
   "execution_count": 12,
   "metadata": {},
   "outputs": [
    {
     "data": {
      "text/plain": [
       "0.462222579"
      ]
     },
     "execution_count": 12,
     "metadata": {},
     "output_type": "execute_result"
    }
   ],
   "source": [
    "a.Br_names['h0 ->  BBAR B']"
   ]
  },
  {
   "cell_type": "markdown",
   "metadata": {},
   "source": [
    "Run micromegas (SPheno is also run automatically)"
   ]
  },
  {
   "cell_type": "code",
   "execution_count": 13,
   "metadata": {},
   "outputs": [],
   "source": [
    "moc=a.runmicromegas(Direct_Detection=True,ddcmd='CalcOmega_with_DDetection_MOv5')"
   ]
  },
  {
   "cell_type": "markdown",
   "metadata": {},
   "source": [
    "Check micromegas Output"
   ]
  },
  {
   "cell_type": "code",
   "execution_count": 14,
   "metadata": {},
   "outputs": [
    {
     "data": {
      "text/plain": [
       "0.0184"
      ]
     },
     "execution_count": 14,
     "metadata": {},
     "output_type": "execute_result"
    }
   ],
   "source": [
    "a.Series.Omega_h2"
   ]
  },
  {
   "cell_type": "code",
   "execution_count": 15,
   "metadata": {},
   "outputs": [
    {
     "data": {
      "text/plain": [
       "7.066e-10"
      ]
     },
     "execution_count": 15,
     "metadata": {},
     "output_type": "execute_result"
    }
   ],
   "source": [
    "a.Series.proton_SI"
   ]
  },
  {
   "cell_type": "markdown",
   "metadata": {},
   "source": [
    "## Parameter scan"
   ]
  },
  {
   "cell_type": "code",
   "execution_count": 16,
   "metadata": {},
   "outputs": [],
   "source": [
    "import pandas as pd\n",
    "import numpy as np"
   ]
  },
  {
   "cell_type": "markdown",
   "metadata": {},
   "source": [
    "Get experimental values of $\\Omega_{\\text{DM}}h^2$"
   ]
  },
  {
   "cell_type": "code",
   "execution_count": 17,
   "metadata": {},
   "outputs": [],
   "source": [
    "dfs=pd.read_html('https://en.wikipedia.org/wiki/Lambda-CDM_model#Parameters')"
   ]
  },
  {
   "cell_type": "code",
   "execution_count": 18,
   "metadata": {},
   "outputs": [
    {
     "data": {
      "text/plain": [
       "[0.1188, 0.001]"
      ]
     },
     "execution_count": 18,
     "metadata": {},
     "output_type": "execute_result"
    }
   ],
   "source": [
    "Ωh2_exp=dfs[4]['Value'][1].split('±')\n",
    "Ωh2_exp=[eval(x) for x in Ωh2_exp]\n",
    "Ωh2_exp"
   ]
  },
  {
   "cell_type": "markdown",
   "metadata": {},
   "source": [
    "Use physical singlet scalar mass as an input parameter\n",
    "$$\n",
    "m_S^2=M_S^2+\\lambda_{HS} v^2\n",
    "$$\n",
    "$$\n",
    "M_S^2=m_S^2-\\lambda_{HS} v^2\n",
    "$$"
   ]
  },
  {
   "cell_type": "code",
   "execution_count": 23,
   "metadata": {},
   "outputs": [],
   "source": [
    "def get_Ωh2(xx):\n",
    "    a.LHA.blocks['MINPAR'][2]=f'{xx}   # LamSHIN'\n",
    "    moc=a.runmicromegas(Direct_Detection=True,ddcmd='CalcOmega_with_DDetection_MOv5')\n",
    "    try:\n",
    "        Ωh2=a.Series.Omega_h2\n",
    "    except:\n",
    "        Ωh2=float('NaN')\n",
    "    return Ωh2"
   ]
  },
  {
   "cell_type": "code",
   "execution_count": 113,
   "metadata": {},
   "outputs": [],
   "source": [
    "def search_Ωh2(λ_HS,Ωh2_exp,sign=+1,start=-2,end=1,NP=400,σs=3):\n",
    "    '''\n",
    "    Search for the proper relic density, \n",
    "    `Ωh2_exp` \n",
    "    within\n",
    "    `σs`\n",
    "    by increasing or decreasing \n",
    "    `λ_HS` \n",
    "    according to \n",
    "    `sign=+1` or `sign=-1` \n",
    "    respectively.\n",
    "    `start` and `end` \n",
    "    are the logaλ variaton of `λ_HS` according to\n",
    "    `λ_HS → λ_HS+sign*(10^(start),10^(end))` \n",
    "    with\n",
    "    `NP` \n",
    "    points\n",
    "    '''\n",
    "    Ω=False\n",
    "    l=[]\n",
    "    increase=None\n",
    "    #al=np.array([0])\n",
    "    for xx in λ_HS+sign*λ_HS*np.logspace(start,1,NP):\n",
    "        Ωh2=get_Ωh2(xx)\n",
    "        if not np.isnan(Ωh2): \n",
    "            l.append(Ωh2)\n",
    "        else:\n",
    "            break\n",
    "        if len(l)>0 and len(l)%10==0: #check every 10 steps\n",
    "            increase=True\n",
    "            #check only for the last 10\n",
    "            ll=l[-10:]\n",
    "            #print(ll)\n",
    "            al=np.array(ll[1:])-np.array(ll[:-1])\n",
    "            if False in [x>=0 for x in al]:\n",
    "                increase=False\n",
    "        #if list(al):\n",
    "        #    print(increase==False ,len(al[al.round(6)!=0])>0 , Ωh2<Ωh2_exp[0]-σs*Ωh2_exp[1] )\n",
    "        nround=6 # to check if it is really changing\n",
    "        if increase and len(al[al.round(nround)!=0])>0 and Ωh2>Ωh2_exp[0]+σs*Ωh2_exp[1]:# → Problem\n",
    "            sign=-sign\n",
    "            break\n",
    "        if increase==False and len(al[al.round(nround)!=0])>0 and Ωh2<Ωh2_exp[0]-σs*Ωh2_exp[1]:# → Problem\n",
    "            sign=-sign\n",
    "            break            \n",
    "        print(f'{i} → λ_HS = {λ_HS} → {round(xx,8)}: Ωh²→ {round(Ωh2,4)}',increase,end='\\r')\n",
    "        if (Ωh2>Ωh2_exp[0]-σs*Ωh2_exp[1] and  \n",
    "            Ωh2<Ωh2_exp[0]+σs*Ωh2_exp[1]):\n",
    "            Ω=True\n",
    "            λ_HS=xx\n",
    "            break\n",
    "    return λ_HS,Ω,Ωh2,sign"
   ]
  },
  {
   "cell_type": "code",
   "execution_count": null,
   "metadata": {},
   "outputs": [],
   "source": [
    "l=[]\n",
    "i=0\n",
    "λ_HS=7.900000E-02\n",
    "for mS2 in np.logspace(np.log10(40**2),np.log10(1000**2),50):#np.logspace(np.log10(40**2),np.log10(1000**2),10):\n",
    "    #===CONFIG====\n",
    "    Ω=False\n",
    "    NP=400\n",
    "    start=-2\n",
    "    end=1\n",
    "    sign=+1  \n",
    "    σs=3\n",
    "    λ_HSold=λ_HS #original\n",
    "    #==============\n",
    "    MS2=mS2-λ_HS*a.vev**2\n",
    "    a.LHA.blocks['MINPAR'][2]=f'{λ_HS}   # LamSHIN'\n",
    "    a.LHA.blocks['MINPAR'][4]=f'{MS2}   # MSinput'\n",
    "    λ_HS,Ω,Ωh2,sign=search_Ωh2(λ_HS,Ωh2_exp,sign=sign,start=start,end=end,NP=NP,σs=σs) #(1)\n",
    "    if not Ω: #Try the other way with opposite sign\n",
    "        λ_HS=λ_HSold #recover intial λ_HS\n",
    "        λ_HS,Ω,Ωh2,sign=search_Ωh2(λ_HS,Ωh2_exp,sign=sign,start=start,end=end,NP=NP,σs=σs) #(2)\n",
    "    #Ω True after (1) or (2)\n",
    "    if Ω:\n",
    "        λ_HSold=λ_HS\n",
    "        l.append({'MS2':a.LHA.blocks['MINPAR'][4],\n",
    "                  'λ_HS':a.LHA_out.blocks['MINPAR'][2],\n",
    "                  'M_DM':a.LHA_out.blocks['MASS'][6666635],                  \n",
    "                  'Ω_h2':Ωh2,\n",
    "                  'σSI':a.Series.proton_SI})\n",
    "    else:\n",
    "        λ_HS=λ_HSold #recover intial λ_HS\n",
    "    print(i)\n",
    "    #if i==60:\n",
    "    #    break\n",
    "    i=i+1\n",
    "    #break"
   ]
  },
  {
   "cell_type": "code",
   "execution_count": 116,
   "metadata": {},
   "outputs": [],
   "source": [
    "df=pd.DataFrame(l)"
   ]
  },
  {
   "cell_type": "code",
   "execution_count": 130,
   "metadata": {},
   "outputs": [
    {
     "data": {
      "text/plain": [
       "Text(0, 0.5, '$\\\\lambda_{HS}$')"
      ]
     },
     "execution_count": 130,
     "metadata": {},
     "output_type": "execute_result"
    },
    {
     "data": {
      "image/png": "[encoded data removed]",
      "text/plain": [
       "<Figure size 432x288 with 1 Axes>"
      ]
     },
     "metadata": {
      "needs_background": "light"
     },
     "output_type": "display_data"
    }
   ],
   "source": [
    "plt.semilogx(df.M_DM,df.λ_HS,'r.')\n",
    "plt.grid()\n",
    "plt.xlabel(r'$m_{\\rm{DM}}$ [GeV]',size=15)\n",
    "plt.ylabel(r'$\\lambda_{HS}$',size=15)"
   ]
  },
  {
   "cell_type": "code",
   "execution_count": 132,
   "metadata": {},
   "outputs": [
    {
     "data": {
      "text/plain": [
       "Text(0, 0.5, '$\\\\sigma^{\\\\rm{SI}}$  [pb]')"
      ]
     },
     "execution_count": 132,
     "metadata": {},
     "output_type": "execute_result"
    },
    {
     "data": {
      "image/png": "[encoded data removed]",
      "text/plain": [
       "<Figure size 432x288 with 1 Axes>"
      ]
     },
     "metadata": {
      "needs_background": "light"
     },
     "output_type": "display_data"
    }
   ],
   "source": [
    "plt.loglog(df.M_DM,df.σSI,'r.')\n",
    "plt.grid()\n",
    "plt.xlabel(r'$m_{\\rm{DM}}$ [GeV]',size=15)\n",
    "plt.ylabel(r'$\\sigma^{\\rm{SI}}$  [pb]' ,size=15)"
   ]
  }
 ],
 "metadata": {
  "kernelspec": {
   "display_name": "Python 3 (ipykernel)",
   "language": "python",
   "name": "python3"
  },
  "language_info": {
   "codemirror_mode": {
    "name": "ipython",
    "version": 3
   },
   "file_extension": ".py",
   "mimetype": "text/x-python",
   "name": "python",
   "nbconvert_exporter": "python",
   "pygments_lexer": "ipython3",
   "version": "3.9.2"
  }
 },
 "nbformat": 4,
 "nbformat_minor": 4
}
