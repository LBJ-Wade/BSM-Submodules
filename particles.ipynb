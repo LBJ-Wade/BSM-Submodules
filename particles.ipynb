{
  "nbformat": 4,
  "nbformat_minor": 0,
  "metadata": {
    "kernelspec": {
      "display_name": "Python 3",
      "language": "python",
      "name": "python3"
    },
    "language_info": {
      "codemirror_mode": {
        "name": "ipython",
        "version": 3
      },
      "file_extension": ".py",
      "mimetype": "text/x-python",
      "name": "python",
      "nbconvert_exporter": "python",
      "pygments_lexer": "ipython3",
      "version": "3.5.3"
    },
    "latex_envs": {
      "LaTeX_envs_menu_present": true,
      "autoclose": false,
      "autocomplete": true,
      "bibliofile": "biblio.bib",
      "cite_by": "apalike",
      "current_citInitial": 1,
      "eqLabelWithNumbers": true,
      "eqNumInitial": 1,
      "hotkeys": {
        "equation": "Ctrl-E",
        "itemize": "Ctrl-I"
      },
      "labels_anchors": false,
      "latex_user_defs": false,
      "report_style_numbering": false,
      "user_envs_cfg": false
    },
    "colab": {
      "name": "particles.ipynb",
      "provenance": [],
      "include_colab_link": true
    }
  },
  "cells": [
    {
      "cell_type": "markdown",
      "metadata": {
        "id": "view-in-github",
        "colab_type": "text"
      },
      "source": [
        "<a href=\"https://colab.research.google.com/github/restrepo/BSM-Submodules/blob/master/particles.ipynb\" target=\"_parent\"><img src=\"https://colab.research.google.com/assets/colab-badge.svg\" alt=\"Open In Colab\"/></a>"
      ]
    },
    {
      "cell_type": "markdown",
      "metadata": {
        "id": "MAjFAV9yjPxG",
        "colab_type": "text"
      },
      "source": [
        "# Particles generator"
      ]
    },
    {
      "cell_type": "markdown",
      "metadata": {
        "id": "PFBjQLsGjwfn",
        "colab_type": "text"
      },
      "source": [
        "## Dictionary design for JSON output"
      ]
    },
    {
      "cell_type": "markdown",
      "metadata": {
        "id": "o2ePEeiKjPxI",
        "colab_type": "text"
      },
      "source": [
        "The SM will be defined as pandas file in JSON format.\n",
        "In this file it will be shown the definition of such a file from a dictionary"
      ]
    },
    {
      "cell_type": "code",
      "metadata": {
        "id": "y7FQ8KB3jPxJ",
        "colab_type": "code",
        "colab": {}
      },
      "source": [
        "#TODO: Initialize objects\n",
        "particles=[]\n",
        "particlessons=[]\n",
        "\n",
        "Fields=['Gauge','FermionFields','ScalarFields']\n",
        "NAME='DEFINITION'\n",
        "KEY='EWSB'\n",
        "# Get also particles from\n",
        "#NAME[KEY] dictionary!"
      ],
      "execution_count": 0,
      "outputs": []
    },
    {
      "cell_type": "code",
      "metadata": {
        "id": "SUfSThQijPxM",
        "colab_type": "code",
        "colab": {}
      },
      "source": [
        "import pandas as pd\n",
        "import numpy as np\n",
        "import json\n",
        "# import re, cmdlike as cmd, OrdereDict, json\n",
        "from SARAH import *\n",
        "pd.set_option('display.max_colwidth',200)"
      ],
      "execution_count": 0,
      "outputs": []
    },
    {
      "cell_type": "code",
      "metadata": {
        "id": "ZsHSZkarjPxR",
        "colab_type": "code",
        "colab": {},
        "outputId": "f3f7fca7-295e-4f7c-b978-e6191db78a40"
      },
      "source": [
        "cat kk.json | cut -c1-80"
      ],
      "execution_count": 0,
      "outputs": [
        {
          "output_type": "stream",
          "text": [
            "{\"EWSB\":{\"Ah\":{\"Mass\":[0],\"PDG.IX\":[0],\"PDG\":[0],\"Description\":\"Pseudo-Scalar Hi\r\n"
          ],
          "name": "stdout"
        }
      ]
    },
    {
      "cell_type": "code",
      "metadata": {
        "id": "16joIe5_jPxU",
        "colab_type": "code",
        "colab": {}
      },
      "source": [
        "import pandas as pd\n",
        "import json"
      ],
      "execution_count": 0,
      "outputs": []
    },
    {
      "cell_type": "markdown",
      "metadata": {
        "id": "hHUUft35jPxW",
        "colab_type": "text"
      },
      "source": [
        "TODO: Capture also main configuration files in parent directory\n",
        "\n",
        "SMMain={'ParticleDefinitionsMain':[{'Description':{'Neutral Higgs':{'PDG':[0],'Width':0}}}]}\n",
        "SMMain['ParticleDefinitionsMain'][0]['Description']['Neutral Higgs']"
      ]
    },
    {
      "cell_type": "markdown",
      "metadata": {
        "id": "VXpb3AJyjPxW",
        "colab_type": "text"
      },
      "source": [
        "Build SM as dictionary to feed pandas"
      ]
    },
    {
      "cell_type": "code",
      "metadata": {
        "id": "uB4IhO9cjPxX",
        "colab_type": "code",
        "colab": {}
      },
      "source": [
        "#Matter fields\n",
        "# LaTeX backslash as \\\\\\\\\n",
        "str_keys=['LaTeX','OutputName','Description']\n",
        "lst_keys=['PDG','PDG.IX']\n",
        "ParticleDefinitions={'GaugeES':\n",
        "                             {'H0':{'PDG'  :[0],\n",
        "                                    'Width':0,\n",
        "                                    'Mass' : 'Automatic',\n",
        "                                    'FeynArtsNr' : 1,\n",
        "                                    'LaTeX' : 'H^0',\n",
        "                                    'OutputName' : 'H0'                                   \n",
        "                                   },\n",
        "                              'Hp':{'PDG'  :[0],\n",
        "                                    'Width':0,\n",
        "                                    'Mass' : 'Automatic',\n",
        "                                    'FeynArtsNr' : 2,\n",
        "                                    'LaTeX' : 'H^+',\n",
        "                                    'OutputName' : 'Hp'                                   \n",
        "                                   },\n",
        "                              'VB' : {'Description' :'B-Boson'      },                                                   \n",
        "                              'VG' : {'Description' :'Gluon'        },          \n",
        "                              'VWB': {'Description' :'W-Bosons'     },          \n",
        "                              'gB' : {'Description' :'B-Boson Ghost'},                                                   \n",
        "                              'gG' : {'Description' :'Gluon Ghost'  },          \n",
        "                              'gWB': {'Description' :'W-Boson Ghost'}\n",
        "                             },\n",
        "                            'EWSB':\n",
        "                            {                                \n",
        "                            },\n",
        "                            'WeylFermionAndIndermediate':\n",
        "                            {   \n",
        "                            }\n",
        "                           }\n",
        "\n",
        "ParticleDefinitions['EWSB']['hh']={'Description' : 'Higgs',\n",
        "                                   'PDG'         : [25],\n",
        "                                   'PDG.IX'      : [101000001]}\n",
        "ParticleDefinitions['EWSB']['Ah']={'Description' : \"Pseudo-Scalar Higgs\",\n",
        "                                   'PDG'         : [0],\n",
        "                                   'PDG.IX'      : [0],\n",
        "                                   'Mass'        : [0],\n",
        "                                   'Width'       : [0]\n",
        "                                   }\n",
        "ParticleDefinitions['EWSB']['Hp']={'Description'    : 'Charged Higgs', \n",
        "                                   'PDG'            : [0],\n",
        "                                   'PDG.IX'         : [0],\n",
        "                                   'Width'          : [0], \n",
        "                                   'Mass'           : [0],\n",
        "                                   'LaTeX'          : ['H^+','H^-' ],\n",
        "                                   'OutputName'     : ['Hp' ,'Hm'  ],\n",
        "                                   'ElectricCharge' : 1\n",
        "                                   }\n",
        "\n",
        "ParticleDefinitions['EWSB']['VP']  =  { 'Description' : 'Photon'}\n",
        "ParticleDefinitions['EWSB']['VZ']  =  { 'Description' : 'Z-Boson',\n",
        "                                        'Goldstone' : 'Ah' }\n",
        "ParticleDefinitions['EWSB']['VG']  =  { 'Description' : 'Gluon' }\n",
        "ParticleDefinitions['EWSB']['VWp'] =  { 'Description' : 'W+ - Boson',\n",
        "                                        'Goldstone': 'Hp' }\n",
        "ParticleDefinitions['EWSB']['gP']  =  { 'Description' : 'Photon Ghost'}\n",
        "ParticleDefinitions['EWSB']['gWp'] =  { 'Description' : 'Positive W+ - Boson Ghost'}\n",
        "ParticleDefinitions['EWSB']['gWpC']=  { 'Description' : 'Negative W+ - Boson Ghost' }\n",
        "ParticleDefinitions['EWSB']['gZ']  =  { 'Description' : 'Z-Boson Ghost' }\n",
        "ParticleDefinitions['EWSB']['gG']  =  { 'Description' : 'Gluon Ghost' }\n",
        "ParticleDefinitions['EWSB']['Fd']  =  { 'Description' : 'Down-Quarks'}\n",
        "ParticleDefinitions['EWSB']['Fu']  =  { 'Description' : 'Up-Quarks'}\n",
        "ParticleDefinitions['EWSB']['Fe']  =  { 'Description' : 'Leptons' }\n",
        "ParticleDefinitions['EWSB']['Fv']  =  { 'Description' : 'Neutrinos' }\n",
        "\n",
        "ParticleDefinitions['WeylFermionAndIndermediate']['H' ] = {'PDG'       : [0],\n",
        "                                                           'Width'     : 0,\n",
        "                                                           'Mass'      : 'Automatic',\n",
        "                                                           'LaTeX'     : 'H',\n",
        "                                                           'OutputName': 'H' }\n",
        "ParticleDefinitions['WeylFermionAndIndermediate']['dR'] = {'LaTeX' : 'd_R'   }\n",
        "ParticleDefinitions['WeylFermionAndIndermediate']['eR'] = {'LaTeX' : 'e_R'   }\n",
        "ParticleDefinitions['WeylFermionAndIndermediate']['l' ] = {'LaTeX' : 'l'     }\n",
        "ParticleDefinitions['WeylFermionAndIndermediate']['uR'] = {'LaTeX' : 'u_R'   }\n",
        "ParticleDefinitions['WeylFermionAndIndermediate']['q' ] = {'LaTeX' : 'q'     }\n",
        "ParticleDefinitions['WeylFermionAndIndermediate']['eL'] = {'LaTeX' : 'e_L'   }\n",
        "ParticleDefinitions['WeylFermionAndIndermediate']['dL'] = {'LaTeX' : 'd_L'   }\n",
        "ParticleDefinitions['WeylFermionAndIndermediate']['uL'] = {'LaTeX' : 'u_L'   }\n",
        "ParticleDefinitions['WeylFermionAndIndermediate']['vL'] = {'LaTeX' : '\\\\\\\\nu_L'}\n",
        "ParticleDefinitions['WeylFermionAndIndermediate']['DR'] = {'LaTeX' : 'D_R'   }\n",
        "ParticleDefinitions['WeylFermionAndIndermediate']['ER'] = {'LaTeX' : 'E_R'   }\n",
        "ParticleDefinitions['WeylFermionAndIndermediate']['UR'] = {'LaTeX' : 'U_R'   }\n",
        "ParticleDefinitions['WeylFermionAndIndermediate']['EL'] = {'LaTeX' : 'E_L'   }\n",
        "ParticleDefinitions['WeylFermionAndIndermediate']['DL'] = {'LaTeX' : 'D_L'   }\n",
        "ParticleDefinitions['WeylFermionAndIndermediate']['UL'] = {'LaTeX' : 'U_L'   }"
      ],
      "execution_count": 0,
      "outputs": []
    },
    {
      "cell_type": "markdown",
      "metadata": {
        "id": "3voQvPF0jPxZ",
        "colab_type": "text"
      },
      "source": [
        "Example to modify dictionary entry"
      ]
    },
    {
      "cell_type": "code",
      "metadata": {
        "id": "AjhNwiXyjPxa",
        "colab_type": "code",
        "colab": {}
      },
      "source": [
        "ParticleDefinitions['GaugeES']['H0']['FeynArtsNr']=1"
      ],
      "execution_count": 0,
      "outputs": []
    },
    {
      "cell_type": "markdown",
      "metadata": {
        "id": "qItPu978jPxc",
        "colab_type": "text"
      },
      "source": [
        "## Save as JSON"
      ]
    },
    {
      "cell_type": "code",
      "metadata": {
        "id": "7vI2Wq9BjPxd",
        "colab_type": "code",
        "colab": {}
      },
      "source": [
        "f=open('JSON/particles.json','w')\n",
        "json.dump(ParticleDefinitions,f)\n",
        "f.close()"
      ],
      "execution_count": 0,
      "outputs": []
    },
    {
      "cell_type": "markdown",
      "metadata": {
        "id": "sWh7tIjgjPxf",
        "colab_type": "text"
      },
      "source": [
        "Check if `pandas` can read it"
      ]
    },
    {
      "cell_type": "code",
      "metadata": {
        "id": "DYNGl7dwjPxg",
        "colab_type": "code",
        "colab": {},
        "outputId": "a3944550-2322-4fb3-8181-1c2cee6e1c1e"
      },
      "source": [
        "pd.read_json('JSON/particles.json').loc['Hp']['EWSB']"
      ],
      "execution_count": 0,
      "outputs": [
        {
          "output_type": "execute_result",
          "data": {
            "text/plain": [
              "{'Description': 'Charged Higgs',\n",
              " 'ElectricCharge': 1,\n",
              " 'LaTeX': ['H^+', 'H^-'],\n",
              " 'Mass': [0],\n",
              " 'OutputName': ['Hp', 'Hm'],\n",
              " 'PDG': [0],\n",
              " 'PDG.IX': [0],\n",
              " 'Width': [0]}"
            ]
          },
          "metadata": {
            "tags": []
          },
          "execution_count": 8
        }
      ]
    },
    {
      "cell_type": "markdown",
      "metadata": {
        "id": "DLU49UIfjPxk",
        "colab_type": "text"
      },
      "source": [
        "## Feed a `pandas` `DataFrame`"
      ]
    },
    {
      "cell_type": "code",
      "metadata": {
        "id": "EPSbXGZ4jPxl",
        "colab_type": "code",
        "colab": {}
      },
      "source": [
        "SM=pd.DataFrame( ParticleDefinitions  )"
      ],
      "execution_count": 0,
      "outputs": []
    },
    {
      "cell_type": "code",
      "metadata": {
        "id": "DqKqweXXjPxo",
        "colab_type": "code",
        "colab": {},
        "outputId": "83ba7e5d-56f8-4a30-f697-97e22ad8f62b"
      },
      "source": [
        "SM"
      ],
      "execution_count": 0,
      "outputs": [
        {
          "output_type": "execute_result",
          "data": {
            "text/html": [
              "<div>\n",
              "<style scoped>\n",
              "    .dataframe tbody tr th:only-of-type {\n",
              "        vertical-align: middle;\n",
              "    }\n",
              "\n",
              "    .dataframe tbody tr th {\n",
              "        vertical-align: top;\n",
              "    }\n",
              "\n",
              "    .dataframe thead th {\n",
              "        text-align: right;\n",
              "    }\n",
              "</style>\n",
              "<table border=\"1\" class=\"dataframe\">\n",
              "  <thead>\n",
              "    <tr style=\"text-align: right;\">\n",
              "      <th></th>\n",
              "      <th>EWSB</th>\n",
              "      <th>GaugeES</th>\n",
              "      <th>WeylFermionAndIndermediate</th>\n",
              "    </tr>\n",
              "  </thead>\n",
              "  <tbody>\n",
              "    <tr>\n",
              "      <th>Ah</th>\n",
              "      <td>{'Width': [0], 'PDG': [0], 'PDG.IX': [0], 'Mass': [0], 'Description': 'Pseudo-Scalar Higgs'}</td>\n",
              "      <td>NaN</td>\n",
              "      <td>NaN</td>\n",
              "    </tr>\n",
              "    <tr>\n",
              "      <th>DL</th>\n",
              "      <td>NaN</td>\n",
              "      <td>NaN</td>\n",
              "      <td>{'LaTeX': 'D_L'}</td>\n",
              "    </tr>\n",
              "    <tr>\n",
              "      <th>DR</th>\n",
              "      <td>NaN</td>\n",
              "      <td>NaN</td>\n",
              "      <td>{'LaTeX': 'D_R'}</td>\n",
              "    </tr>\n",
              "    <tr>\n",
              "      <th>EL</th>\n",
              "      <td>NaN</td>\n",
              "      <td>NaN</td>\n",
              "      <td>{'LaTeX': 'E_L'}</td>\n",
              "    </tr>\n",
              "    <tr>\n",
              "      <th>ER</th>\n",
              "      <td>NaN</td>\n",
              "      <td>NaN</td>\n",
              "      <td>{'LaTeX': 'E_R'}</td>\n",
              "    </tr>\n",
              "    <tr>\n",
              "      <th>Fd</th>\n",
              "      <td>{'Description': 'Down-Quarks'}</td>\n",
              "      <td>NaN</td>\n",
              "      <td>NaN</td>\n",
              "    </tr>\n",
              "    <tr>\n",
              "      <th>Fe</th>\n",
              "      <td>{'Description': 'Leptons'}</td>\n",
              "      <td>NaN</td>\n",
              "      <td>NaN</td>\n",
              "    </tr>\n",
              "    <tr>\n",
              "      <th>Fu</th>\n",
              "      <td>{'Description': 'Up-Quarks'}</td>\n",
              "      <td>NaN</td>\n",
              "      <td>NaN</td>\n",
              "    </tr>\n",
              "    <tr>\n",
              "      <th>Fv</th>\n",
              "      <td>{'Description': 'Neutrinos'}</td>\n",
              "      <td>NaN</td>\n",
              "      <td>NaN</td>\n",
              "    </tr>\n",
              "    <tr>\n",
              "      <th>H</th>\n",
              "      <td>NaN</td>\n",
              "      <td>NaN</td>\n",
              "      <td>{'Width': 0, 'Mass': 'Automatic', 'PDG': [0], 'LaTeX': 'H', 'OutputName': 'H'}</td>\n",
              "    </tr>\n",
              "    <tr>\n",
              "      <th>H0</th>\n",
              "      <td>NaN</td>\n",
              "      <td>{'OutputName': 'H0', 'FeynArtsNr': 1, 'LaTeX': 'H^0', 'Width': 0, 'PDG': [0], 'Mass': 'Automatic'}</td>\n",
              "      <td>NaN</td>\n",
              "    </tr>\n",
              "    <tr>\n",
              "      <th>Hp</th>\n",
              "      <td>{'LaTeX': ['H^+', 'H^-'], 'OutputName': ['Hp', 'Hm'], 'Mass': [0], 'Description': 'Charged Higgs', 'Width': [0], 'PDG.IX': [0], 'ElectricCharge': 1, 'PDG': [0]}</td>\n",
              "      <td>{'OutputName': 'Hp', 'FeynArtsNr': 2, 'LaTeX': 'H^+', 'Width': 0, 'PDG': [0], 'Mass': 'Automatic'}</td>\n",
              "      <td>NaN</td>\n",
              "    </tr>\n",
              "    <tr>\n",
              "      <th>UL</th>\n",
              "      <td>NaN</td>\n",
              "      <td>NaN</td>\n",
              "      <td>{'LaTeX': 'U_L'}</td>\n",
              "    </tr>\n",
              "    <tr>\n",
              "      <th>UR</th>\n",
              "      <td>NaN</td>\n",
              "      <td>NaN</td>\n",
              "      <td>{'LaTeX': 'U_R'}</td>\n",
              "    </tr>\n",
              "    <tr>\n",
              "      <th>VB</th>\n",
              "      <td>NaN</td>\n",
              "      <td>{'Description': 'B-Boson'}</td>\n",
              "      <td>NaN</td>\n",
              "    </tr>\n",
              "    <tr>\n",
              "      <th>VG</th>\n",
              "      <td>{'Description': 'Gluon'}</td>\n",
              "      <td>{'Description': 'Gluon'}</td>\n",
              "      <td>NaN</td>\n",
              "    </tr>\n",
              "    <tr>\n",
              "      <th>VP</th>\n",
              "      <td>{'Description': 'Photon'}</td>\n",
              "      <td>NaN</td>\n",
              "      <td>NaN</td>\n",
              "    </tr>\n",
              "    <tr>\n",
              "      <th>VWB</th>\n",
              "      <td>NaN</td>\n",
              "      <td>{'Description': 'W-Bosons'}</td>\n",
              "      <td>NaN</td>\n",
              "    </tr>\n",
              "    <tr>\n",
              "      <th>VWp</th>\n",
              "      <td>{'Goldstone': 'Hp', 'Description': 'W+ - Boson'}</td>\n",
              "      <td>NaN</td>\n",
              "      <td>NaN</td>\n",
              "    </tr>\n",
              "    <tr>\n",
              "      <th>VZ</th>\n",
              "      <td>{'Goldstone': 'Ah', 'Description': 'Z-Boson'}</td>\n",
              "      <td>NaN</td>\n",
              "      <td>NaN</td>\n",
              "    </tr>\n",
              "    <tr>\n",
              "      <th>dL</th>\n",
              "      <td>NaN</td>\n",
              "      <td>NaN</td>\n",
              "      <td>{'LaTeX': 'd_L'}</td>\n",
              "    </tr>\n",
              "    <tr>\n",
              "      <th>dR</th>\n",
              "      <td>NaN</td>\n",
              "      <td>NaN</td>\n",
              "      <td>{'LaTeX': 'd_R'}</td>\n",
              "    </tr>\n",
              "    <tr>\n",
              "      <th>eL</th>\n",
              "      <td>NaN</td>\n",
              "      <td>NaN</td>\n",
              "      <td>{'LaTeX': 'e_L'}</td>\n",
              "    </tr>\n",
              "    <tr>\n",
              "      <th>eR</th>\n",
              "      <td>NaN</td>\n",
              "      <td>NaN</td>\n",
              "      <td>{'LaTeX': 'e_R'}</td>\n",
              "    </tr>\n",
              "    <tr>\n",
              "      <th>gB</th>\n",
              "      <td>NaN</td>\n",
              "      <td>{'Description': 'B-Boson Ghost'}</td>\n",
              "      <td>NaN</td>\n",
              "    </tr>\n",
              "    <tr>\n",
              "      <th>gG</th>\n",
              "      <td>{'Description': 'Gluon Ghost'}</td>\n",
              "      <td>{'Description': 'Gluon Ghost'}</td>\n",
              "      <td>NaN</td>\n",
              "    </tr>\n",
              "    <tr>\n",
              "      <th>gP</th>\n",
              "      <td>{'Description': 'Photon Ghost'}</td>\n",
              "      <td>NaN</td>\n",
              "      <td>NaN</td>\n",
              "    </tr>\n",
              "    <tr>\n",
              "      <th>gWB</th>\n",
              "      <td>NaN</td>\n",
              "      <td>{'Description': 'W-Boson Ghost'}</td>\n",
              "      <td>NaN</td>\n",
              "    </tr>\n",
              "    <tr>\n",
              "      <th>gWp</th>\n",
              "      <td>{'Description': 'Positive W+ - Boson Ghost'}</td>\n",
              "      <td>NaN</td>\n",
              "      <td>NaN</td>\n",
              "    </tr>\n",
              "    <tr>\n",
              "      <th>gWpC</th>\n",
              "      <td>{'Description': 'Negative W+ - Boson Ghost'}</td>\n",
              "      <td>NaN</td>\n",
              "      <td>NaN</td>\n",
              "    </tr>\n",
              "    <tr>\n",
              "      <th>gZ</th>\n",
              "      <td>{'Description': 'Z-Boson Ghost'}</td>\n",
              "      <td>NaN</td>\n",
              "      <td>NaN</td>\n",
              "    </tr>\n",
              "    <tr>\n",
              "      <th>hh</th>\n",
              "      <td>{'PDG': [25], 'PDG.IX': [101000001], 'Description': 'Higgs'}</td>\n",
              "      <td>NaN</td>\n",
              "      <td>NaN</td>\n",
              "    </tr>\n",
              "    <tr>\n",
              "      <th>l</th>\n",
              "      <td>NaN</td>\n",
              "      <td>NaN</td>\n",
              "      <td>{'LaTeX': 'l'}</td>\n",
              "    </tr>\n",
              "    <tr>\n",
              "      <th>q</th>\n",
              "      <td>NaN</td>\n",
              "      <td>NaN</td>\n",
              "      <td>{'LaTeX': 'q'}</td>\n",
              "    </tr>\n",
              "    <tr>\n",
              "      <th>uL</th>\n",
              "      <td>NaN</td>\n",
              "      <td>NaN</td>\n",
              "      <td>{'LaTeX': 'u_L'}</td>\n",
              "    </tr>\n",
              "    <tr>\n",
              "      <th>uR</th>\n",
              "      <td>NaN</td>\n",
              "      <td>NaN</td>\n",
              "      <td>{'LaTeX': 'u_R'}</td>\n",
              "    </tr>\n",
              "    <tr>\n",
              "      <th>vL</th>\n",
              "      <td>NaN</td>\n",
              "      <td>NaN</td>\n",
              "      <td>{'LaTeX': '\\\\nu_L'}</td>\n",
              "    </tr>\n",
              "  </tbody>\n",
              "</table>\n",
              "</div>"
            ],
            "text/plain": [
              "                                                                                                                                                                  EWSB  \\\n",
              "Ah                                                                        {'Width': [0], 'PDG': [0], 'PDG.IX': [0], 'Mass': [0], 'Description': 'Pseudo-Scalar Higgs'}   \n",
              "DL                                                                                                                                                                 NaN   \n",
              "DR                                                                                                                                                                 NaN   \n",
              "EL                                                                                                                                                                 NaN   \n",
              "ER                                                                                                                                                                 NaN   \n",
              "Fd                                                                                                                                      {'Description': 'Down-Quarks'}   \n",
              "Fe                                                                                                                                          {'Description': 'Leptons'}   \n",
              "Fu                                                                                                                                        {'Description': 'Up-Quarks'}   \n",
              "Fv                                                                                                                                        {'Description': 'Neutrinos'}   \n",
              "H                                                                                                                                                                  NaN   \n",
              "H0                                                                                                                                                                 NaN   \n",
              "Hp    {'LaTeX': ['H^+', 'H^-'], 'OutputName': ['Hp', 'Hm'], 'Mass': [0], 'Description': 'Charged Higgs', 'Width': [0], 'PDG.IX': [0], 'ElectricCharge': 1, 'PDG': [0]}   \n",
              "UL                                                                                                                                                                 NaN   \n",
              "UR                                                                                                                                                                 NaN   \n",
              "VB                                                                                                                                                                 NaN   \n",
              "VG                                                                                                                                            {'Description': 'Gluon'}   \n",
              "VP                                                                                                                                           {'Description': 'Photon'}   \n",
              "VWB                                                                                                                                                                NaN   \n",
              "VWp                                                                                                                   {'Goldstone': 'Hp', 'Description': 'W+ - Boson'}   \n",
              "VZ                                                                                                                       {'Goldstone': 'Ah', 'Description': 'Z-Boson'}   \n",
              "dL                                                                                                                                                                 NaN   \n",
              "dR                                                                                                                                                                 NaN   \n",
              "eL                                                                                                                                                                 NaN   \n",
              "eR                                                                                                                                                                 NaN   \n",
              "gB                                                                                                                                                                 NaN   \n",
              "gG                                                                                                                                      {'Description': 'Gluon Ghost'}   \n",
              "gP                                                                                                                                     {'Description': 'Photon Ghost'}   \n",
              "gWB                                                                                                                                                                NaN   \n",
              "gWp                                                                                                                       {'Description': 'Positive W+ - Boson Ghost'}   \n",
              "gWpC                                                                                                                      {'Description': 'Negative W+ - Boson Ghost'}   \n",
              "gZ                                                                                                                                    {'Description': 'Z-Boson Ghost'}   \n",
              "hh                                                                                                        {'PDG': [25], 'PDG.IX': [101000001], 'Description': 'Higgs'}   \n",
              "l                                                                                                                                                                  NaN   \n",
              "q                                                                                                                                                                  NaN   \n",
              "uL                                                                                                                                                                 NaN   \n",
              "uR                                                                                                                                                                 NaN   \n",
              "vL                                                                                                                                                                 NaN   \n",
              "\n",
              "                                                                                                 GaugeES  \\\n",
              "Ah                                                                                                   NaN   \n",
              "DL                                                                                                   NaN   \n",
              "DR                                                                                                   NaN   \n",
              "EL                                                                                                   NaN   \n",
              "ER                                                                                                   NaN   \n",
              "Fd                                                                                                   NaN   \n",
              "Fe                                                                                                   NaN   \n",
              "Fu                                                                                                   NaN   \n",
              "Fv                                                                                                   NaN   \n",
              "H                                                                                                    NaN   \n",
              "H0    {'OutputName': 'H0', 'FeynArtsNr': 1, 'LaTeX': 'H^0', 'Width': 0, 'PDG': [0], 'Mass': 'Automatic'}   \n",
              "Hp    {'OutputName': 'Hp', 'FeynArtsNr': 2, 'LaTeX': 'H^+', 'Width': 0, 'PDG': [0], 'Mass': 'Automatic'}   \n",
              "UL                                                                                                   NaN   \n",
              "UR                                                                                                   NaN   \n",
              "VB                                                                            {'Description': 'B-Boson'}   \n",
              "VG                                                                              {'Description': 'Gluon'}   \n",
              "VP                                                                                                   NaN   \n",
              "VWB                                                                          {'Description': 'W-Bosons'}   \n",
              "VWp                                                                                                  NaN   \n",
              "VZ                                                                                                   NaN   \n",
              "dL                                                                                                   NaN   \n",
              "dR                                                                                                   NaN   \n",
              "eL                                                                                                   NaN   \n",
              "eR                                                                                                   NaN   \n",
              "gB                                                                      {'Description': 'B-Boson Ghost'}   \n",
              "gG                                                                        {'Description': 'Gluon Ghost'}   \n",
              "gP                                                                                                   NaN   \n",
              "gWB                                                                     {'Description': 'W-Boson Ghost'}   \n",
              "gWp                                                                                                  NaN   \n",
              "gWpC                                                                                                 NaN   \n",
              "gZ                                                                                                   NaN   \n",
              "hh                                                                                                   NaN   \n",
              "l                                                                                                    NaN   \n",
              "q                                                                                                    NaN   \n",
              "uL                                                                                                   NaN   \n",
              "uR                                                                                                   NaN   \n",
              "vL                                                                                                   NaN   \n",
              "\n",
              "                                                          WeylFermionAndIndermediate  \n",
              "Ah                                                                               NaN  \n",
              "DL                                                                  {'LaTeX': 'D_L'}  \n",
              "DR                                                                  {'LaTeX': 'D_R'}  \n",
              "EL                                                                  {'LaTeX': 'E_L'}  \n",
              "ER                                                                  {'LaTeX': 'E_R'}  \n",
              "Fd                                                                               NaN  \n",
              "Fe                                                                               NaN  \n",
              "Fu                                                                               NaN  \n",
              "Fv                                                                               NaN  \n",
              "H     {'Width': 0, 'Mass': 'Automatic', 'PDG': [0], 'LaTeX': 'H', 'OutputName': 'H'}  \n",
              "H0                                                                               NaN  \n",
              "Hp                                                                               NaN  \n",
              "UL                                                                  {'LaTeX': 'U_L'}  \n",
              "UR                                                                  {'LaTeX': 'U_R'}  \n",
              "VB                                                                               NaN  \n",
              "VG                                                                               NaN  \n",
              "VP                                                                               NaN  \n",
              "VWB                                                                              NaN  \n",
              "VWp                                                                              NaN  \n",
              "VZ                                                                               NaN  \n",
              "dL                                                                  {'LaTeX': 'd_L'}  \n",
              "dR                                                                  {'LaTeX': 'd_R'}  \n",
              "eL                                                                  {'LaTeX': 'e_L'}  \n",
              "eR                                                                  {'LaTeX': 'e_R'}  \n",
              "gB                                                                               NaN  \n",
              "gG                                                                               NaN  \n",
              "gP                                                                               NaN  \n",
              "gWB                                                                              NaN  \n",
              "gWp                                                                              NaN  \n",
              "gWpC                                                                             NaN  \n",
              "gZ                                                                               NaN  \n",
              "hh                                                                               NaN  \n",
              "l                                                                     {'LaTeX': 'l'}  \n",
              "q                                                                     {'LaTeX': 'q'}  \n",
              "uL                                                                  {'LaTeX': 'u_L'}  \n",
              "uR                                                                  {'LaTeX': 'u_R'}  \n",
              "vL                                                               {'LaTeX': '\\\\nu_L'}  "
            ]
          },
          "metadata": {
            "tags": []
          },
          "execution_count": 10
        }
      ]
    },
    {
      "cell_type": "markdown",
      "metadata": {
        "id": "K9lvhZ_fjPxq",
        "colab_type": "text"
      },
      "source": [
        "Checks"
      ]
    },
    {
      "cell_type": "code",
      "metadata": {
        "id": "08I0f95HjPxr",
        "colab_type": "code",
        "colab": {},
        "outputId": "2e6c5684-0347-4255-c783-5cf1b4ed2af6"
      },
      "source": [
        "SM['GaugeES']['H0']"
      ],
      "execution_count": 0,
      "outputs": [
        {
          "output_type": "execute_result",
          "data": {
            "text/plain": [
              "{'FeynArtsNr': 1,\n",
              " 'LaTeX': 'H^0',\n",
              " 'Mass': 'Automatic',\n",
              " 'OutputName': 'H0',\n",
              " 'PDG': [0],\n",
              " 'Width': 0}"
            ]
          },
          "metadata": {
            "tags": []
          },
          "execution_count": 11
        }
      ]
    },
    {
      "cell_type": "code",
      "metadata": {
        "id": "expY1-fgjPxu",
        "colab_type": "code",
        "colab": {},
        "outputId": "f12f13c5-9d88-4d57-f5e7-cf537c3a0587"
      },
      "source": [
        "SM['EWSB']['VZ']"
      ],
      "execution_count": 0,
      "outputs": [
        {
          "output_type": "execute_result",
          "data": {
            "text/plain": [
              "{'Description': 'Z-Boson', 'Goldstone': 'Ah'}"
            ]
          },
          "metadata": {
            "tags": []
          },
          "execution_count": 12
        }
      ]
    },
    {
      "cell_type": "code",
      "metadata": {
        "id": "CqWtRpTpjPxx",
        "colab_type": "code",
        "colab": {},
        "outputId": "20d20141-3bdb-4078-a622-d6159c35a578"
      },
      "source": [
        "SM[:1]"
      ],
      "execution_count": 0,
      "outputs": [
        {
          "output_type": "execute_result",
          "data": {
            "text/html": [
              "<div>\n",
              "<style scoped>\n",
              "    .dataframe tbody tr th:only-of-type {\n",
              "        vertical-align: middle;\n",
              "    }\n",
              "\n",
              "    .dataframe tbody tr th {\n",
              "        vertical-align: top;\n",
              "    }\n",
              "\n",
              "    .dataframe thead th {\n",
              "        text-align: right;\n",
              "    }\n",
              "</style>\n",
              "<table border=\"1\" class=\"dataframe\">\n",
              "  <thead>\n",
              "    <tr style=\"text-align: right;\">\n",
              "      <th></th>\n",
              "      <th>EWSB</th>\n",
              "      <th>GaugeES</th>\n",
              "      <th>WeylFermionAndIndermediate</th>\n",
              "    </tr>\n",
              "  </thead>\n",
              "  <tbody>\n",
              "    <tr>\n",
              "      <th>Ah</th>\n",
              "      <td>{'Width': [0], 'PDG': [0], 'PDG.IX': [0], 'Mass': [0], 'Description': 'Pseudo-Scalar Higgs'}</td>\n",
              "      <td>NaN</td>\n",
              "      <td>NaN</td>\n",
              "    </tr>\n",
              "  </tbody>\n",
              "</table>\n",
              "</div>"
            ],
            "text/plain": [
              "                                                                                            EWSB  \\\n",
              "Ah  {'Width': [0], 'PDG': [0], 'PDG.IX': [0], 'Mass': [0], 'Description': 'Pseudo-Scalar Higgs'}   \n",
              "\n",
              "   GaugeES WeylFermionAndIndermediate  \n",
              "Ah     NaN                        NaN  "
            ]
          },
          "metadata": {
            "tags": []
          },
          "execution_count": 13
        }
      ]
    },
    {
      "cell_type": "markdown",
      "metadata": {
        "id": "C8IdPTKMjPxz",
        "colab_type": "text"
      },
      "source": [
        "Show a particle"
      ]
    },
    {
      "cell_type": "code",
      "metadata": {
        "id": "-fQxDfHbjPx0",
        "colab_type": "code",
        "colab": {},
        "outputId": "6344156e-46d8-4357-d11d-cb9d45dd83fc"
      },
      "source": [
        "SM['GaugeES']['H0']"
      ],
      "execution_count": 0,
      "outputs": [
        {
          "output_type": "execute_result",
          "data": {
            "text/plain": [
              "{'FeynArtsNr': 1,\n",
              " 'LaTeX': 'H^0',\n",
              " 'Mass': 'Automatic',\n",
              " 'OutputName': 'H0',\n",
              " 'PDG': [0],\n",
              " 'Width': 0}"
            ]
          },
          "metadata": {
            "tags": []
          },
          "execution_count": 14
        }
      ]
    },
    {
      "cell_type": "markdown",
      "metadata": {
        "id": "L9EgUsifjPx1",
        "colab_type": "text"
      },
      "source": [
        "Example: Modify particle property"
      ]
    },
    {
      "cell_type": "code",
      "metadata": {
        "id": "LTirvgEUjPx2",
        "colab_type": "code",
        "colab": {}
      },
      "source": [
        "SM['WeylFermionAndIndermediate']['dR'] = {'LaTeX' : 'd_R'   }"
      ],
      "execution_count": 0,
      "outputs": []
    },
    {
      "cell_type": "code",
      "metadata": {
        "id": "P6E35QO_jPx4",
        "colab_type": "code",
        "colab": {}
      },
      "source": [
        "SM.to_json('SM2.json')#,lines=True,orient='records')"
      ],
      "execution_count": 0,
      "outputs": []
    },
    {
      "cell_type": "markdown",
      "metadata": {
        "id": "zfnDhGoBjPx6",
        "colab_type": "text"
      },
      "source": [
        "## Load JSON\n",
        "Directly fromo the `json.dumps...`"
      ]
    },
    {
      "cell_type": "code",
      "metadata": {
        "id": "peoX7__OjPx7",
        "colab_type": "code",
        "colab": {}
      },
      "source": [
        "BSM=pd.read_json('JSON/particles.json')#,lines=True,orient='records')"
      ],
      "execution_count": 0,
      "outputs": []
    },
    {
      "cell_type": "code",
      "metadata": {
        "id": "BKnOyqT_jPx9",
        "colab_type": "code",
        "colab": {},
        "outputId": "3e3e6fa3-a5ee-423e-adcf-b3fc2b393798"
      },
      "source": [
        "\n",
        "BSM[:1]"
      ],
      "execution_count": 0,
      "outputs": [
        {
          "output_type": "execute_result",
          "data": {
            "text/html": [
              "<div>\n",
              "<style scoped>\n",
              "    .dataframe tbody tr th:only-of-type {\n",
              "        vertical-align: middle;\n",
              "    }\n",
              "\n",
              "    .dataframe tbody tr th {\n",
              "        vertical-align: top;\n",
              "    }\n",
              "\n",
              "    .dataframe thead th {\n",
              "        text-align: right;\n",
              "    }\n",
              "</style>\n",
              "<table border=\"1\" class=\"dataframe\">\n",
              "  <thead>\n",
              "    <tr style=\"text-align: right;\">\n",
              "      <th></th>\n",
              "      <th>EWSB</th>\n",
              "      <th>GaugeES</th>\n",
              "      <th>WeylFermionAndIndermediate</th>\n",
              "    </tr>\n",
              "  </thead>\n",
              "  <tbody>\n",
              "    <tr>\n",
              "      <th>Ah</th>\n",
              "      <td>{'Width': [0], 'PDG.IX': [0], 'Mass': [0], 'PDG': [0], 'Description': 'Pseudo-Scalar Higgs'}</td>\n",
              "      <td>NaN</td>\n",
              "      <td>NaN</td>\n",
              "    </tr>\n",
              "  </tbody>\n",
              "</table>\n",
              "</div>"
            ],
            "text/plain": [
              "                                                                                            EWSB  \\\n",
              "Ah  {'Width': [0], 'PDG.IX': [0], 'Mass': [0], 'PDG': [0], 'Description': 'Pseudo-Scalar Higgs'}   \n",
              "\n",
              "   GaugeES WeylFermionAndIndermediate  \n",
              "Ah     NaN                        NaN  "
            ]
          },
          "metadata": {
            "tags": []
          },
          "execution_count": 18
        }
      ]
    },
    {
      "cell_type": "code",
      "metadata": {
        "id": "ZmdwzMDojPyA",
        "colab_type": "code",
        "colab": {},
        "outputId": "613262dd-be6e-49a2-8378-020c2f5b4468"
      },
      "source": [
        "BSM['GaugeES'].dropna()['H0']"
      ],
      "execution_count": 0,
      "outputs": [
        {
          "output_type": "execute_result",
          "data": {
            "text/plain": [
              "{'FeynArtsNr': 1,\n",
              " 'LaTeX': 'H^0',\n",
              " 'Mass': 'Automatic',\n",
              " 'OutputName': 'H0',\n",
              " 'PDG': [0],\n",
              " 'Width': 0}"
            ]
          },
          "metadata": {
            "tags": []
          },
          "execution_count": 19
        }
      ]
    },
    {
      "cell_type": "code",
      "metadata": {
        "id": "wNcDrdrhjPyC",
        "colab_type": "code",
        "colab": {},
        "outputId": "b98d0a7f-14f9-4adb-850a-e4f4b86088d7"
      },
      "source": [
        "BSM['GaugeES']['H0']"
      ],
      "execution_count": 0,
      "outputs": [
        {
          "output_type": "execute_result",
          "data": {
            "text/plain": [
              "{'FeynArtsNr': 1,\n",
              " 'LaTeX': 'H^0',\n",
              " 'Mass': 'Automatic',\n",
              " 'OutputName': 'H0',\n",
              " 'PDG': [0],\n",
              " 'Width': 0}"
            ]
          },
          "metadata": {
            "tags": []
          },
          "execution_count": 20
        }
      ]
    },
    {
      "cell_type": "code",
      "metadata": {
        "id": "leiWdLCajPyE",
        "colab_type": "code",
        "colab": {},
        "outputId": "de67383f-7b05-4528-b794-3ff3a733ab2a"
      },
      "source": [
        "BSM['EWSB']['VZ']"
      ],
      "execution_count": 0,
      "outputs": [
        {
          "output_type": "execute_result",
          "data": {
            "text/plain": [
              "{'Description': 'Z-Boson', 'Goldstone': 'Ah'}"
            ]
          },
          "metadata": {
            "tags": []
          },
          "execution_count": 21
        }
      ]
    },
    {
      "cell_type": "code",
      "metadata": {
        "id": "smqLm-EijPyF",
        "colab_type": "code",
        "colab": {}
      },
      "source": [
        "#SM.loc['Ah','EWSB']['Mass']=[1]"
      ],
      "execution_count": 0,
      "outputs": []
    },
    {
      "cell_type": "markdown",
      "metadata": {
        "id": "BCjV1dbajPyI",
        "colab_type": "text"
      },
      "source": [
        "Still working..."
      ]
    },
    {
      "cell_type": "code",
      "metadata": {
        "id": "Yyo64EnsjPyJ",
        "colab_type": "code",
        "colab": {}
      },
      "source": [
        "BSM['WeylFermionAndIndermediate']['dR'] = {'LaTeX' : 'd_R'   }"
      ],
      "execution_count": 0,
      "outputs": []
    },
    {
      "cell_type": "code",
      "metadata": {
        "id": "EHzpxzjhjPyL",
        "colab_type": "code",
        "colab": {},
        "outputId": "305df22d-fb7a-4263-8cb2-06dadd1aa960"
      },
      "source": [
        "BSM.loc['Ah','EWSB']"
      ],
      "execution_count": 0,
      "outputs": [
        {
          "output_type": "execute_result",
          "data": {
            "text/plain": [
              "{'Description': 'Pseudo-Scalar Higgs',\n",
              " 'Mass': [0],\n",
              " 'PDG': [0],\n",
              " 'PDG.IX': [0],\n",
              " 'Width': [0]}"
            ]
          },
          "metadata": {
            "tags": []
          },
          "execution_count": 24
        }
      ]
    },
    {
      "cell_type": "markdown",
      "metadata": {
        "id": "rWKV63g7jPyN",
        "colab_type": "text"
      },
      "source": [
        "## Export to files"
      ]
    },
    {
      "cell_type": "code",
      "metadata": {
        "id": "xfhAGdBJjPyN",
        "colab_type": "code",
        "colab": {}
      },
      "source": [
        "SM=BSM.loc[['Ah', 'DL', 'DR', 'EL', 'ER', 'Fd', 'Fe', 'Fu', 'Fv', 'H', 'H0', 'Hp',\n",
        "       'UL', 'UR', 'VB', 'VG', 'VP', 'VWB', 'VWp', 'VZ', 'dL', 'dR', 'eL',\n",
        "       'eR', 'gB', 'gG', 'gP', 'gWB', 'gWp', 'gWpC', 'gZ', 'hh', 'l', 'q',\n",
        "       'uL', 'uR', 'vL']]"
      ],
      "execution_count": 0,
      "outputs": []
    },
    {
      "cell_type": "code",
      "metadata": {
        "id": "OsohFsIBjPyP",
        "colab_type": "code",
        "colab": {}
      },
      "source": [
        "CHECK_PANDAS_SAVED_JSON=False\n",
        "if CHECK_PANDAS_SAVED_JSON:\n",
        "    SM=pd.read_json('SM2.json')#,lines=True,orient='records')"
      ],
      "execution_count": 0,
      "outputs": []
    },
    {
      "cell_type": "code",
      "metadata": {
        "id": "z5tJHnWsjPyR",
        "colab_type": "code",
        "colab": {},
        "outputId": "c0872884-ee33-4a6d-f0e1-8ac1503670c0"
      },
      "source": [
        "print( to_math(SM,'p.m') )"
      ],
      "execution_count": 0,
      "outputs": [
        {
          "output_type": "stream",
          "text": [
            "ParticleDefinitions[EWSB] = {\n",
            "    {Ah, { Description -> \"Pseudo-Scalar Higgs\",\n",
            "           Width -> {0},\n",
            "           PDG.IX -> {0},\n",
            "           Mass -> {0},\n",
            "           PDG -> {0}}},\n",
            "    {Fd, { Description -> \"Down-Quarks\"}},\n",
            "    {Fe, { Description -> \"Leptons\"}},\n",
            "    {Fu, { Description -> \"Up-Quarks\"}},\n",
            "    {Fv, { Description -> \"Neutrinos\"}},\n",
            "    {Hp, { Description -> \"Charged Higgs\",\n",
            "           Width -> {0},\n",
            "           LaTeX -> {\"H^+\", \"H^-\"},\n",
            "           OutputName -> {\"Hp\", \"Hm\"},\n",
            "           PDG.IX -> {0},\n",
            "           ElectricCharge -> 1,\n",
            "           Mass -> {0},\n",
            "           PDG -> {0}}},\n",
            "    {VG, { Description -> \"Gluon\"}},\n",
            "    {VP, { Description -> \"Photon\"}},\n",
            "    {VWp, { Description -> \"W+ - Boson\",\n",
            "           Goldstone -> Hp}},\n",
            "    {VZ, { Description -> \"Z-Boson\",\n",
            "           Goldstone -> Ah}},\n",
            "    {gG, { Description -> \"Gluon Ghost\"}},\n",
            "    {gP, { Description -> \"Photon Ghost\"}},\n",
            "    {gWp, { Description -> \"Positive W+ - Boson Ghost\"}},\n",
            "    {gWpC, { Description -> \"Negative W+ - Boson Ghost\"}},\n",
            "    {gZ, { Description -> \"Z-Boson Ghost\"}},\n",
            "    {hh, { Description -> \"Higgs\",\n",
            "           PDG.IX -> {101000001},\n",
            "           PDG -> {25}}}\n",
            "};\n",
            "\n",
            "ParticleDefinitions[GaugeES] = {\n",
            "    {H0, { Width -> 0,\n",
            "           FeynArtsNr -> 1,\n",
            "           LaTeX -> \"H^0\",\n",
            "           OutputName -> H0,\n",
            "           Mass -> Automatic,\n",
            "           PDG -> {0}}},\n",
            "    {Hp, { Width -> 0,\n",
            "           FeynArtsNr -> 2,\n",
            "           LaTeX -> \"H^+\",\n",
            "           OutputName -> Hp,\n",
            "           Mass -> Automatic,\n",
            "           PDG -> {0}}},\n",
            "    {VB, { Description -> \"B-Boson\"}},\n",
            "    {VG, { Description -> \"Gluon\"}},\n",
            "    {VWB, { Description -> \"W-Bosons\"}},\n",
            "    {gB, { Description -> \"B-Boson Ghost\"}},\n",
            "    {gG, { Description -> \"Gluon Ghost\"}},\n",
            "    {gWB, { Description -> \"W-Boson Ghost\"}}\n",
            "};\n",
            "\n",
            "ParticleDefinitions[WeylFermionAndIndermediate] = {\n",
            "    {DL, { LaTeX -> \"D_L\"}},\n",
            "    {DR, { LaTeX -> \"D_R\"}},\n",
            "    {EL, { LaTeX -> \"E_L\"}},\n",
            "    {ER, { LaTeX -> \"E_R\"}},\n",
            "    {H, { Width -> 0,\n",
            "           PDG -> {0},\n",
            "           Mass -> Automatic,\n",
            "           LaTeX -> \"H\",\n",
            "           OutputName -> H}},\n",
            "    {UL, { LaTeX -> \"U_L\"}},\n",
            "    {UR, { LaTeX -> \"U_R\"}},\n",
            "    {dL, { LaTeX -> \"d_L\"}},\n",
            "    {dR, { LaTeX -> \"d_R\"}},\n",
            "    {eL, { LaTeX -> \"e_L\"}},\n",
            "    {eR, { LaTeX -> \"e_R\"}},\n",
            "    {l, { LaTeX -> \"l\"}},\n",
            "    {q, { LaTeX -> \"q\"}},\n",
            "    {uL, { LaTeX -> \"u_L\"}},\n",
            "    {uR, { LaTeX -> \"u_R\"}},\n",
            "    {vL, { LaTeX -> \"\\\\nu_L\"}}\n",
            "};\n",
            "\n",
            "\n"
          ],
          "name": "stdout"
        }
      ]
    },
    {
      "cell_type": "markdown",
      "metadata": {
        "id": "RLFquyVYjPyT",
        "colab_type": "text"
      },
      "source": [
        "# Get particle from model file"
      ]
    },
    {
      "cell_type": "markdown",
      "metadata": {
        "id": "ZLd2nde4jPyU",
        "colab_type": "text"
      },
      "source": [
        "Design:\n",
        "* Intialize `particle` as an empty dictionary.\n",
        "* Intialize `particles` as an empty list.\n",
        "* Fill particle properties and build the list: `particles`\n",
        "* Internal defintions\n",
        "  * weyl: Charged Weyl fermion bidiagonal rotation object\n",
        "  * symm: Symmetric diagonalization system object\n",
        "  * vev:  Complex scalar decomposition"
      ]
    },
    {
      "cell_type": "markdown",
      "metadata": {
        "id": "-dIdbo7cjPyW",
        "colab_type": "text"
      },
      "source": [
        "Implementation:\n",
        "1. Get particles from particles definitions\n",
        "2. Get particles from `DEFINITION[EWSB]`"
      ]
    },
    {
      "cell_type": "markdown",
      "metadata": {
        "id": "0LMMBdupjPyW",
        "colab_type": "text"
      },
      "source": [
        "## Load Model file"
      ]
    },
    {
      "cell_type": "code",
      "metadata": {
        "id": "58ndMOghjPyX",
        "colab_type": "code",
        "colab": {},
        "outputId": "e2d59748-f576-42f7-e904-0b6bd238a120"
      },
      "source": [
        "pwd"
      ],
      "execution_count": 0,
      "outputs": [
        {
          "output_type": "execute_result",
          "data": {
            "text/plain": [
              "'/home/restrepo/tmp'"
            ]
          },
          "metadata": {
            "tags": []
          },
          "execution_count": 28
        }
      ]
    },
    {
      "cell_type": "code",
      "metadata": {
        "id": "Q7c9ibrujPyZ",
        "colab_type": "code",
        "colab": {}
      },
      "source": [
        "MODEL_PATH=\"./SARAH/Models/SM/SM.m\""
      ],
      "execution_count": 0,
      "outputs": []
    },
    {
      "cell_type": "code",
      "metadata": {
        "id": "3X54ygr4jPyb",
        "colab_type": "code",
        "colab": {}
      },
      "source": [
        "f=open(MODEL_PATH,'r')"
      ],
      "execution_count": 0,
      "outputs": []
    },
    {
      "cell_type": "code",
      "metadata": {
        "id": "ie3IIYn3jPyc",
        "colab_type": "code",
        "colab": {}
      },
      "source": [
        "smf=f.read()\n",
        "f.close()"
      ],
      "execution_count": 0,
      "outputs": []
    },
    {
      "cell_type": "code",
      "metadata": {
        "id": "X0XuyqCejPye",
        "colab_type": "code",
        "colab": {},
        "outputId": "38ffd56e-8292-4b19-87d3-1bddf9a7fdd6"
      },
      "source": [
        "smf"
      ],
      "execution_count": 0,
      "outputs": [
        {
          "output_type": "execute_result",
          "data": {
            "text/plain": [
              "'Off[General::spell]\\n\\nModel`Name = \"SM\";\\nModel`NameLaTeX =\"Standard Model\";\\nModel`Authors = \"F.Staub\";\\nModel`Date = \"2014-11-06\";\\n\\n(* 2013-01-24: changed normalization of lambda term to convention of hep-ph/0207271 *)\\n(* 2013-06-24: using new name conventions (without inital \"S\" and \"F\" for scalar and matter fields) *)\\n(* 2013-09-01: changing to new conventions for FermionFields/MatterFields *)\\n(* 2014-11-06: Changed sign in Lagrangian to fit standard conventions *)\\n(* 2016-05-03: Changed sign of Yu *)\\n\\n\\n\\n(*-------------------------------------------*)\\n(*   Particle Content*)\\n(*-------------------------------------------*)\\n\\n(* Gauge Groups *)\\n\\nGauge[[1]]={B,   U[1], hypercharge, g1,False};\\nGauge[[2]]={WB, SU[2], left,        g2,True};\\nGauge[[3]]={G,  SU[3], color,       g3,False};\\n\\n\\n(* Matter Fields *)\\n\\nFermionFields[[1]] = {q, 3, {uL, dL},     1/6, 2,  3};  \\nFermionFields[[2]] = {l, 3, {vL, eL},    -1/2, 2,  1};\\nFermionFields[[3]] = {d, 3, conj[dR],     1/3, 1, -3};\\nFermionFields[[4]] = {u, 3, conj[uR],    -2/3, 1, -3};\\nFermionFields[[5]] = {e, 3, conj[eR],       1, 1,  1};\\n\\nScalarFields[[1]] =  {H, 1, {Hp, H0},     1/2, 2,  1};\\n\\n\\n        \\n(*----------------------------------------------*)\\n(*   DEFINITION                                 *)\\n(*----------------------------------------------*)\\n\\nNameOfStates={GaugeES, EWSB};\\n\\n(* ----- Before EWSB ----- *)\\n\\nDEFINITION[GaugeES][LagrangianInput]= {\\n\\t{LagHC, {AddHC->True}},\\n\\t{LagNoHC,{AddHC->False}}\\n};\\n\\n\\nLagNoHC = -mu2 conj[H].H - 1/2 \\\\[Lambda] conj[H].H.conj[H].H;\\nLagHC =  -(Yd conj[H].d.q + Ye conj[H].e.l + Yu u.q.H);\\n\\n\\n\\t\\t\\t  \\t\\t  \\n\\n(* Gauge Sector *)\\n\\nDEFINITION[EWSB][GaugeSector] =\\n{ \\n  {{VB,VWB[3]},{VP,VZ},ZZ},\\n  {{VWB[1],VWB[2]},{VWp,conj[VWp]},ZW}\\n};     \\n        \\n        \\n          \\t\\n\\n(* ----- VEVs ---- *)\\n\\nDEFINITION[EWSB][VEVs]= \\n{    {H0, {v, 1/Sqrt[2]}, {Ah, \\\\[ImaginaryI]/Sqrt[2]},{hh, 1/Sqrt[2]}}     };\\n \\n\\nDEFINITION[EWSB][MatterSector]=   \\n    {{{{dL}, {conj[dR]}}, {{DL,Vd}, {DR,Ud}}},\\n     {{{uL}, {conj[uR]}}, {{UL,Vu}, {UR,Uu}}},\\n     {{{eL}, {conj[eR]}}, {{EL,Ve}, {ER,Ue}}}};  \\n\\n\\n(*------------------------------------------------------*)\\n(* Dirac-Spinors *)\\n(*------------------------------------------------------*)\\n\\nDEFINITION[EWSB][DiracSpinors]={\\n Fd ->{  DL, conj[DR]},\\n Fe ->{  EL, conj[ER]},\\n Fu ->{  UL, conj[UR]},\\n Fv ->{  vL, 0}};\\n\\nDEFINITION[EWSB][GaugeES]={\\n Fd1 ->{  FdL, 0},\\n Fd2 ->{  0, FdR},\\n Fu1 ->{  Fu1, 0},\\n Fu2 ->{  0, Fu2},\\n Fe1 ->{  Fe1, 0},\\n Fe2 ->{  0, Fe2}};\\n\\n\\n\\n'"
            ]
          },
          "metadata": {
            "tags": []
          },
          "execution_count": 32
        }
      ]
    },
    {
      "cell_type": "markdown",
      "metadata": {
        "id": "jvF6WrT6jPyf",
        "colab_type": "text"
      },
      "source": [
        "## General definition"
      ]
    },
    {
      "cell_type": "markdown",
      "metadata": {
        "id": "ennzIYf1jPyg",
        "colab_type": "text"
      },
      "source": [
        "## 1) Get particles from particles definitions"
      ]
    },
    {
      "cell_type": "markdown",
      "metadata": {
        "id": "HfxfrEv9jPyg",
        "colab_type": "text"
      },
      "source": [
        "### Obtain `particle` from \n",
        "* `Gauge` list\n",
        "* `FermionFields` list, with the components fields (intialized as `particlesson` `dict`) with parents information\n",
        "* `ScalarFields`  list, with the components fields (intialized as `particlesson` `dict`) with parents information\n",
        "\n",
        "and fill `particles`"
      ]
    },
    {
      "cell_type": "code",
      "metadata": {
        "id": "LmEqj2KWjPyh",
        "colab_type": "code",
        "colab": {},
        "outputId": "67ce3bd7-13a9-4ed2-a839-8833b9849972"
      },
      "source": [
        "particles=get_particles(smf,Fields,NAME,KEY,particles,particlessons)"
      ],
      "execution_count": 0,
      "outputs": [
        {
          "output_type": "stream",
          "text": [
            "('B,   U[1], hypercharge, g1,False',) Gauge 5\n",
            "{'Properties': {'Lorentz': 'Vector', 'SSB': ' g1', 'Index': ' hypercharge', 'Group': '   U[1]', 'Coupling': ' g1'}, 'Definition': 'GaugeES', 'Field': 'VB', 'Parents': None}\n",
            "('WB, SU[2], left,        g2,True',) Gauge 5\n",
            "{'Properties': {'Lorentz': 'Vector', 'SSB': '        g2', 'Index': ' left', 'Group': ' SU[2]', 'Coupling': '        g2'}, 'Definition': 'GaugeES', 'Field': 'VWB', 'Parents': None}\n",
            "('G,  SU[3], color,       g3,False',) Gauge 5\n",
            "{'Properties': {'Lorentz': 'Vector', 'SSB': '       g3', 'Index': ' color', 'Group': '  SU[3]', 'Coupling': '       g3'}, 'Definition': 'GaugeES', 'Field': 'VG', 'Parents': None}\n",
            "('q, 3, uL:: dL,     1/6, 2,  3;  ',) FermionFields 6\n",
            "**********\n",
            " uL:: dL [' uL', ' dL']\n",
            " uL\n",
            " dL\n",
            "**********\n",
            "('l, 3, vL:: eL,    -1/2, 2,  1;',) FermionFields 6\n",
            "**********\n",
            " vL:: eL [' vL', ' eL']\n",
            " vL\n",
            " eL\n",
            "**********\n",
            "('d, 3, conj[dR],     1/3, 1, -3',) FermionFields 6\n",
            "**********\n",
            " conj[dR] [' dR']\n",
            " dR\n",
            "**********\n",
            "('u, 3, conj[uR],    -2/3, 1, -3',) FermionFields 6\n",
            "**********\n",
            " conj[uR] [' uR']\n",
            " uR\n",
            "**********\n",
            "('e, 3, conj[eR],       1, 1,  1',) FermionFields 6\n",
            "**********\n",
            " conj[eR] [' eR']\n",
            " eR\n",
            "**********\n",
            "('H, 1, Hp:: H0,     1/2, 2,  1;',) ScalarFields 6\n",
            "**********\n",
            " Hp:: H0 [' Hp', ' H0']\n",
            " Hp\n",
            " H0\n",
            "**********\n"
          ],
          "name": "stdout"
        }
      ]
    },
    {
      "cell_type": "code",
      "metadata": {
        "id": "-xaA_G0jjPyi",
        "colab_type": "code",
        "colab": {},
        "outputId": "7d23a39b-6117-4cf1-c856-eb60e9ce3c71"
      },
      "source": [
        "pd.DataFrame( particles )#.loc[8]['Properties']"
      ],
      "execution_count": 0,
      "outputs": [
        {
          "output_type": "execute_result",
          "data": {
            "text/html": [
              "<div>\n",
              "<style scoped>\n",
              "    .dataframe tbody tr th:only-of-type {\n",
              "        vertical-align: middle;\n",
              "    }\n",
              "\n",
              "    .dataframe tbody tr th {\n",
              "        vertical-align: top;\n",
              "    }\n",
              "\n",
              "    .dataframe thead th {\n",
              "        text-align: right;\n",
              "    }\n",
              "</style>\n",
              "<table border=\"1\" class=\"dataframe\">\n",
              "  <thead>\n",
              "    <tr style=\"text-align: right;\">\n",
              "      <th></th>\n",
              "      <th>Definition</th>\n",
              "      <th>Field</th>\n",
              "      <th>Parents</th>\n",
              "      <th>Properties</th>\n",
              "    </tr>\n",
              "  </thead>\n",
              "  <tbody>\n",
              "    <tr>\n",
              "      <th>0</th>\n",
              "      <td>GaugeES</td>\n",
              "      <td>VB</td>\n",
              "      <td>None</td>\n",
              "      <td>{'Lorentz': 'Vector', 'SSB': ' g1', 'Index': ' hypercharge', 'Group': '   U[1]', 'Coupling': ' g1'}</td>\n",
              "    </tr>\n",
              "    <tr>\n",
              "      <th>1</th>\n",
              "      <td>GaugeES</td>\n",
              "      <td>VWB</td>\n",
              "      <td>None</td>\n",
              "      <td>{'Lorentz': 'Vector', 'SSB': '        g2', 'Index': ' left', 'Group': ' SU[2]', 'Coupling': '        g2'}</td>\n",
              "    </tr>\n",
              "    <tr>\n",
              "      <th>2</th>\n",
              "      <td>GaugeES</td>\n",
              "      <td>VG</td>\n",
              "      <td>None</td>\n",
              "      <td>{'Lorentz': 'Vector', 'SSB': '       g3', 'Index': ' color', 'Group': '  SU[3]', 'Coupling': '       g3'}</td>\n",
              "    </tr>\n",
              "    <tr>\n",
              "      <th>3</th>\n",
              "      <td>WeylFermionAndIndermediate</td>\n",
              "      <td>q</td>\n",
              "      <td>None</td>\n",
              "      <td>{'Groups': ['     1/6', ' 2', '  3;  '], 'Lorentz': 'WeylFermion', 'NF': '3'}</td>\n",
              "    </tr>\n",
              "    <tr>\n",
              "      <th>4</th>\n",
              "      <td>WeylFermionAndIndermediate</td>\n",
              "      <td>l</td>\n",
              "      <td>None</td>\n",
              "      <td>{'Groups': ['    -1/2', ' 2', '  1;'], 'Lorentz': 'WeylFermion', 'NF': '3'}</td>\n",
              "    </tr>\n",
              "    <tr>\n",
              "      <th>5</th>\n",
              "      <td>WeylFermionAndIndermediate</td>\n",
              "      <td>d</td>\n",
              "      <td>None</td>\n",
              "      <td>{'Groups': ['     1/3', ' 1', ' -3'], 'Lorentz': 'WeylFermion', 'NF': '3'}</td>\n",
              "    </tr>\n",
              "    <tr>\n",
              "      <th>6</th>\n",
              "      <td>WeylFermionAndIndermediate</td>\n",
              "      <td>u</td>\n",
              "      <td>None</td>\n",
              "      <td>{'Groups': ['    -2/3', ' 1', ' -3'], 'Lorentz': 'WeylFermion', 'NF': '3'}</td>\n",
              "    </tr>\n",
              "    <tr>\n",
              "      <th>7</th>\n",
              "      <td>WeylFermionAndIndermediate</td>\n",
              "      <td>e</td>\n",
              "      <td>None</td>\n",
              "      <td>{'Groups': ['       1', ' 1', '  1'], 'Lorentz': 'WeylFermion', 'NF': '3'}</td>\n",
              "    </tr>\n",
              "    <tr>\n",
              "      <th>8</th>\n",
              "      <td>WeylFermionAndIndermediate</td>\n",
              "      <td>H</td>\n",
              "      <td>None</td>\n",
              "      <td>{'Groups': ['     1/2', ' 2', '  1;'], 'Lorentz': 'Scalar', 'NF': '1'}</td>\n",
              "    </tr>\n",
              "    <tr>\n",
              "      <th>9</th>\n",
              "      <td>WeylFermionAndIndermediate</td>\n",
              "      <td>uL</td>\n",
              "      <td>q</td>\n",
              "      <td>{'Lorentz': 'WeylFermion', 'NF': '3'}</td>\n",
              "    </tr>\n",
              "    <tr>\n",
              "      <th>10</th>\n",
              "      <td>WeylFermionAndIndermediate</td>\n",
              "      <td>dL</td>\n",
              "      <td>q</td>\n",
              "      <td>{'Lorentz': 'WeylFermion', 'NF': '3'}</td>\n",
              "    </tr>\n",
              "    <tr>\n",
              "      <th>11</th>\n",
              "      <td>WeylFermionAndIndermediate</td>\n",
              "      <td>vL</td>\n",
              "      <td>l</td>\n",
              "      <td>{'Lorentz': 'WeylFermion', 'NF': '3'}</td>\n",
              "    </tr>\n",
              "    <tr>\n",
              "      <th>12</th>\n",
              "      <td>WeylFermionAndIndermediate</td>\n",
              "      <td>eL</td>\n",
              "      <td>l</td>\n",
              "      <td>{'Lorentz': 'WeylFermion', 'NF': '3'}</td>\n",
              "    </tr>\n",
              "    <tr>\n",
              "      <th>13</th>\n",
              "      <td>WeylFermionAndIndermediate</td>\n",
              "      <td>dR</td>\n",
              "      <td>d</td>\n",
              "      <td>{'Lorentz': 'WeylFermion', 'NF': '3'}</td>\n",
              "    </tr>\n",
              "    <tr>\n",
              "      <th>14</th>\n",
              "      <td>WeylFermionAndIndermediate</td>\n",
              "      <td>uR</td>\n",
              "      <td>u</td>\n",
              "      <td>{'Lorentz': 'WeylFermion', 'NF': '3'}</td>\n",
              "    </tr>\n",
              "    <tr>\n",
              "      <th>15</th>\n",
              "      <td>WeylFermionAndIndermediate</td>\n",
              "      <td>eR</td>\n",
              "      <td>e</td>\n",
              "      <td>{'Lorentz': 'WeylFermion', 'NF': '3'}</td>\n",
              "    </tr>\n",
              "    <tr>\n",
              "      <th>16</th>\n",
              "      <td>GaugeES</td>\n",
              "      <td>Hp</td>\n",
              "      <td>H</td>\n",
              "      <td>{'Lorentz': 'Scalar', 'NF': '1'}</td>\n",
              "    </tr>\n",
              "    <tr>\n",
              "      <th>17</th>\n",
              "      <td>GaugeES</td>\n",
              "      <td>H0</td>\n",
              "      <td>H</td>\n",
              "      <td>{'Lorentz': 'Scalar', 'NF': '1'}</td>\n",
              "    </tr>\n",
              "  </tbody>\n",
              "</table>\n",
              "</div>"
            ],
            "text/plain": [
              "                    Definition Field Parents  \\\n",
              "0                      GaugeES    VB    None   \n",
              "1                      GaugeES   VWB    None   \n",
              "2                      GaugeES    VG    None   \n",
              "3   WeylFermionAndIndermediate     q    None   \n",
              "4   WeylFermionAndIndermediate     l    None   \n",
              "5   WeylFermionAndIndermediate     d    None   \n",
              "6   WeylFermionAndIndermediate     u    None   \n",
              "7   WeylFermionAndIndermediate     e    None   \n",
              "8   WeylFermionAndIndermediate     H    None   \n",
              "9   WeylFermionAndIndermediate    uL       q   \n",
              "10  WeylFermionAndIndermediate    dL       q   \n",
              "11  WeylFermionAndIndermediate    vL       l   \n",
              "12  WeylFermionAndIndermediate    eL       l   \n",
              "13  WeylFermionAndIndermediate    dR       d   \n",
              "14  WeylFermionAndIndermediate    uR       u   \n",
              "15  WeylFermionAndIndermediate    eR       e   \n",
              "16                     GaugeES    Hp       H   \n",
              "17                     GaugeES    H0       H   \n",
              "\n",
              "                                                                                                   Properties  \n",
              "0         {'Lorentz': 'Vector', 'SSB': ' g1', 'Index': ' hypercharge', 'Group': '   U[1]', 'Coupling': ' g1'}  \n",
              "1   {'Lorentz': 'Vector', 'SSB': '        g2', 'Index': ' left', 'Group': ' SU[2]', 'Coupling': '        g2'}  \n",
              "2   {'Lorentz': 'Vector', 'SSB': '       g3', 'Index': ' color', 'Group': '  SU[3]', 'Coupling': '       g3'}  \n",
              "3                               {'Groups': ['     1/6', ' 2', '  3;  '], 'Lorentz': 'WeylFermion', 'NF': '3'}  \n",
              "4                                 {'Groups': ['    -1/2', ' 2', '  1;'], 'Lorentz': 'WeylFermion', 'NF': '3'}  \n",
              "5                                  {'Groups': ['     1/3', ' 1', ' -3'], 'Lorentz': 'WeylFermion', 'NF': '3'}  \n",
              "6                                  {'Groups': ['    -2/3', ' 1', ' -3'], 'Lorentz': 'WeylFermion', 'NF': '3'}  \n",
              "7                                  {'Groups': ['       1', ' 1', '  1'], 'Lorentz': 'WeylFermion', 'NF': '3'}  \n",
              "8                                      {'Groups': ['     1/2', ' 2', '  1;'], 'Lorentz': 'Scalar', 'NF': '1'}  \n",
              "9                                                                       {'Lorentz': 'WeylFermion', 'NF': '3'}  \n",
              "10                                                                      {'Lorentz': 'WeylFermion', 'NF': '3'}  \n",
              "11                                                                      {'Lorentz': 'WeylFermion', 'NF': '3'}  \n",
              "12                                                                      {'Lorentz': 'WeylFermion', 'NF': '3'}  \n",
              "13                                                                      {'Lorentz': 'WeylFermion', 'NF': '3'}  \n",
              "14                                                                      {'Lorentz': 'WeylFermion', 'NF': '3'}  \n",
              "15                                                                      {'Lorentz': 'WeylFermion', 'NF': '3'}  \n",
              "16                                                                           {'Lorentz': 'Scalar', 'NF': '1'}  \n",
              "17                                                                           {'Lorentz': 'Scalar', 'NF': '1'}  "
            ]
          },
          "metadata": {
            "tags": []
          },
          "execution_count": 34
        }
      ]
    },
    {
      "cell_type": "markdown",
      "metadata": {
        "id": "UYjdaJE4jPyk",
        "colab_type": "text"
      },
      "source": [
        "## 2) Get particles from `DEFINITION[EWSB]`"
      ]
    },
    {
      "cell_type": "code",
      "metadata": {
        "id": "2wuReJa6jPyk",
        "colab_type": "code",
        "colab": {},
        "outputId": "470e1515-1120-4bdb-fbbd-3944dc302c4d"
      },
      "source": [
        "dsbd=parse_mathematica_list_of_list(smf,NAME='DEFINITION',KEY='EWSB')\n",
        "dsbd"
      ],
      "execution_count": 0,
      "outputs": [
        {
          "output_type": "execute_result",
          "data": {
            "text/plain": [
              "{'DiracSpinors': {'Fd': ['DL', 'conj[DR]'],\n",
              "  'Fe': ['EL', 'conj[ER]'],\n",
              "  'Fu': ['UL', 'conj[UR]'],\n",
              "  'Fv': ['vL', 0]},\n",
              " 'GaugeES': {'Fd1': ['FdL', 0],\n",
              "  'Fd2': [0, 'FdR'],\n",
              "  'Fe1': ['Fe1', 0],\n",
              "  'Fe2': [0, 'Fe2'],\n",
              "  'Fu1': ['Fu1', 0],\n",
              "  'Fu2': [0, 'Fu2']},\n",
              " 'GaugeSector': [[['VB', 'VWB[3]'], ['VP', 'VZ'], 'ZZ'],\n",
              "  [['VWB[1]', 'VWB[2]'], ['VWp', 'conj[VWp]'], 'ZW']],\n",
              " 'MatterSector': [[[['dL'], ['conj[dR]']], [['DL', 'Vd'], ['DR', 'Ud']]],\n",
              "  [[['uL'], ['conj[uR]']], [['UL', 'Vu'], ['UR', 'Uu']]],\n",
              "  [[['eL'], ['conj[eR]']], [['EL', 'Ve'], ['ER', 'Ue']]]],\n",
              " 'VEVs': [['H0',\n",
              "   ['v', '1/Sqrt[2]'],\n",
              "   ['Ah', '\\\\[ImaginaryI]/Sqrt[2]'],\n",
              "   ['hh', '1/Sqrt[2]']]]}"
            ]
          },
          "metadata": {
            "tags": []
          },
          "execution_count": 35
        }
      ]
    },
    {
      "cell_type": "code",
      "metadata": {
        "id": "Cf9_8QgPjPyl",
        "colab_type": "code",
        "colab": {}
      },
      "source": [
        "DEFINITION={}\n",
        "DEFINITION['EWSB']={}\n",
        "Bidiagonal=[]\n",
        "Diagonal=[]\n",
        "VEV=[]\n",
        "for k in dsbd.keys():\n",
        "    \n",
        "    for w in dsbd[k]:\n",
        "        if k=='GaugeSector' or k=='MatterSector':\n",
        "            if np.array(w).shape==(2,2):\n",
        "                weyl=bidiagonal(w,k)\n",
        "                Bidiagonal.append(weyl)\n",
        "            elif np.array(w).shape==(3,):\n",
        "                symm=diagonal(w,k)\n",
        "                Diagonal.append(symm)\n",
        "        elif k=='VEVs':\n",
        "            VEV.append(get_vev(w,k))\n",
        "\n",
        "DEFINITION['EWSB']['Bidiagonal']=Bidiagonal\n",
        "DEFINITION['EWSB']['Diagonal']=Diagonal\n",
        "DEFINITION['EWSB']['VEVs']=VEV\n",
        "DEFINITION['EWSB']['DiracSpinors']=dsbd['DiracSpinors']"
      ],
      "execution_count": 0,
      "outputs": []
    },
    {
      "cell_type": "code",
      "metadata": {
        "id": "XAg6H2z4jPyn",
        "colab_type": "code",
        "colab": {}
      },
      "source": [
        "def rotations_to_particles( rotations=DEFINITION,key='EWSB',lr='',sep='',DEBUG=False):\n",
        "    if not lr and not sep:\n",
        "        typekey='Diagonal'\n",
        "    elif lr=='left' and sep=='_':\n",
        "        typekey='Bidiagonal'\n",
        "    elif lr=='right' and sep=='_':\n",
        "        typekey='Bidiagonal'\n",
        "    else:\n",
        "        print('WARNING: Not yet implemented')\n",
        "    newparticles=[]\n",
        "    for k in rotations[key].keys():\n",
        "        for bd in DEFINITION['EWSB'][k]:\n",
        "            if k==typekey:\n",
        "                interaction='{}{}intr'.format(lr,sep)\n",
        "                if type(bd.get(interaction))==list:\n",
        "                    if DEBUG: print(bd)\n",
        "                    for i in  range(len(bd.get(interaction))):\n",
        "                        if type( bd.get('{}{}mass'.format(lr,sep) ) )==list:\n",
        "                            fm=bd.get('{}{}mass'.format(lr,sep))[i]\n",
        "                        else:\n",
        "                            fm=bd.get('{}{}mass'.format(lr,sep))\n",
        "                        f=re.sub('\\s*\\]\\s*','',re.sub('conj\\s*\\[\\s*','',\n",
        "                                                    fm))\n",
        "                        if f not in [ d.get('Field') for d in newparticles if type(d)==dict]:\n",
        "                            #left particle\n",
        "                            particle={'Properties':{}}\n",
        "                            particle['Field']   =f\n",
        "                            particle['Parents'] =bd.get(interaction)[i]\n",
        "                            particle['rotation']=bd.get('{}{}rota'.format(lr,sep))\n",
        "                            particle['Properties']['Mass_basis']=bd.get('{}{}mass'.format(lr,sep))\n",
        "                            particle['Properties']['Interaction_basis']=bd.get(interaction)\n",
        "                            particle['Block']='MatterField'\n",
        "                            if lr:\n",
        "                                particle['Definition']='WeylFermionAndIndermediate'\n",
        "                                particle['Properties']['Chirality']=lr\n",
        "                            if bd.get('Lorentz')=='Vector':\n",
        "                                particle['Definition']='EWSB'\n",
        "                                particle['Block']='GaugeSector'\n",
        "                                particle['Properties']['Lorentz']='Vector'\n",
        "                            else:\n",
        "                                if not lr:\n",
        "                                    print('CODE for Scalar or Fermion here')\n",
        "                            newparticles.append(particle)\n",
        "                            #print('*'*50)\n",
        "                            #print(particle)\n",
        "                            #print('*'*50)\n",
        "                            if DEBUG: print(i,bd.get('{}{}mass'.format(lr,sep)),particle)\n",
        "                else:\n",
        "                    print('No list in mass basis for diagonal particle, please check:',k,p)\n",
        "    return newparticles\n",
        "\n",
        "def vev_to_particles(d,cp=\"Real\"):\n",
        "    if cp!='Real' and cp!='Imaginary':\n",
        "        return \"Error: undefined CP\"\n",
        "    particle={'Properties':{}}\n",
        "    particle['Field']     =d.get(cp)\n",
        "    particle['Parents']   =d.get('Complex')\n",
        "    particle['Definition']='EWSB'\n",
        "    particle['Block']='VEVs'\n",
        "    particle['Properties']['Lorentz']='Scalar'\n",
        "    particle['Properties']['vev']=d.get('vev')\n",
        "    particle['Properties']['CP']=cp\n",
        "    particle['Properties']['Coefficient']=d.get('{}_coeff'.format(cp))\n",
        "    return particle\n",
        "\n",
        "def spinor_to_particles(dict_of_spinors,f):\n",
        "    particle={'Properties':{}}\n",
        "    particle['Field']=f\n",
        "    particle['Definition']='EWSB'\n",
        "    particle['Block']='DiracSpinors'\n",
        "    particle['Properties']['Lorentz']='DiracSpinor'\n",
        "    if type(dict_of_spinors[f])==list:\n",
        "        particle['Parents']=dict_of_spinors[f][0]\n",
        "        Majorana=False\n",
        "        if 0 in dict_of_spinors[f]:\n",
        "            Majorana=True\n",
        "        elif dict_of_spinors[f][1].find(  \n",
        "             dict_of_spinors[f][0])>-1:\n",
        "            Majorana=True\n",
        "        if not Majorana:\n",
        "            particle['Properties']['DiracSpinor']=dict_of_spinors[f]\n",
        "        else:\n",
        "            particle['Properties']['Lorentz']='MajoranaSpinor'\n",
        "            particle['Properties']['MajoranaSpinor']=DEFINITION['EWSB']['DiracSpinors'][f]\n",
        "    \n",
        "    return particle"
      ],
      "execution_count": 0,
      "outputs": []
    },
    {
      "cell_type": "code",
      "metadata": {
        "scrolled": true,
        "id": "KSKoARd2jPyq",
        "colab_type": "code",
        "colab": {}
      },
      "source": [
        "particles=particles+rotations_to_particles(rotations=DEFINITION,key='EWSB',lr='',sep='')\n",
        "particles=particles+rotations_to_particles(rotations=DEFINITION,key='EWSB',lr='left',sep='_')\n",
        "particles=particles+rotations_to_particles(rotations=DEFINITION,key='EWSB',lr='right',sep='_')"
      ],
      "execution_count": 0,
      "outputs": []
    },
    {
      "cell_type": "code",
      "metadata": {
        "id": "k_-isjiZjPyt",
        "colab_type": "code",
        "colab": {}
      },
      "source": [
        "newparticles=[]\n",
        "for d in DEFINITION['EWSB']['VEVs']:\n",
        "    particle=vev_to_particles(d,cp='Real')\n",
        "    newparticles.append(particle)\n",
        "    particle=vev_to_particles(d,cp='Imaginary')\n",
        "    newparticles.append(particle)\n",
        "particles=particles+newparticles    "
      ],
      "execution_count": 0,
      "outputs": []
    },
    {
      "cell_type": "code",
      "metadata": {
        "id": "cTBVVqBRjPyw",
        "colab_type": "code",
        "colab": {}
      },
      "source": [
        "newparticles=[]\n",
        "dict_of_spinors=DEFINITION['EWSB']['DiracSpinors']\n",
        "for f in dict_of_spinors.keys():\n",
        "    particle=spinor_to_particles(dict_of_spinors,f)\n",
        "    newparticles.append(particle)\n",
        "particles=particles+newparticles    "
      ],
      "execution_count": 0,
      "outputs": []
    },
    {
      "cell_type": "code",
      "metadata": {
        "id": "flFKwQnijPyy",
        "colab_type": "code",
        "colab": {}
      },
      "source": [
        "f=open('parseparticles.json','w')\n",
        "json.dump(particles,f)\n",
        "f.close()"
      ],
      "execution_count": 0,
      "outputs": []
    },
    {
      "cell_type": "code",
      "metadata": {
        "id": "AHvCHSk_jPyz",
        "colab_type": "code",
        "colab": {},
        "outputId": "3e8cf22b-dad8-4d13-d6ca-718ea32ceabc"
      },
      "source": [
        "pd.read_json('parseparticles.json')"
      ],
      "execution_count": 0,
      "outputs": [
        {
          "output_type": "execute_result",
          "data": {
            "text/html": [
              "<div>\n",
              "<style scoped>\n",
              "    .dataframe tbody tr th:only-of-type {\n",
              "        vertical-align: middle;\n",
              "    }\n",
              "\n",
              "    .dataframe tbody tr th {\n",
              "        vertical-align: top;\n",
              "    }\n",
              "\n",
              "    .dataframe thead th {\n",
              "        text-align: right;\n",
              "    }\n",
              "</style>\n",
              "<table border=\"1\" class=\"dataframe\">\n",
              "  <thead>\n",
              "    <tr style=\"text-align: right;\">\n",
              "      <th></th>\n",
              "      <th>Block</th>\n",
              "      <th>Definition</th>\n",
              "      <th>Field</th>\n",
              "      <th>Parents</th>\n",
              "      <th>Properties</th>\n",
              "      <th>rotation</th>\n",
              "    </tr>\n",
              "  </thead>\n",
              "  <tbody>\n",
              "    <tr>\n",
              "      <th>0</th>\n",
              "      <td>NaN</td>\n",
              "      <td>GaugeES</td>\n",
              "      <td>VB</td>\n",
              "      <td>None</td>\n",
              "      <td>{'Lorentz': 'Vector', 'SSB': ' g1', 'Index': ' hypercharge', 'Group': '   U[1]', 'Coupling': ' g1'}</td>\n",
              "      <td>NaN</td>\n",
              "    </tr>\n",
              "    <tr>\n",
              "      <th>1</th>\n",
              "      <td>NaN</td>\n",
              "      <td>GaugeES</td>\n",
              "      <td>VWB</td>\n",
              "      <td>None</td>\n",
              "      <td>{'Lorentz': 'Vector', 'SSB': '        g2', 'Index': ' left', 'Group': ' SU[2]', 'Coupling': '        g2'}</td>\n",
              "      <td>NaN</td>\n",
              "    </tr>\n",
              "    <tr>\n",
              "      <th>2</th>\n",
              "      <td>NaN</td>\n",
              "      <td>GaugeES</td>\n",
              "      <td>VG</td>\n",
              "      <td>None</td>\n",
              "      <td>{'Lorentz': 'Vector', 'SSB': '       g3', 'Index': ' color', 'Group': '  SU[3]', 'Coupling': '       g3'}</td>\n",
              "      <td>NaN</td>\n",
              "    </tr>\n",
              "    <tr>\n",
              "      <th>3</th>\n",
              "      <td>NaN</td>\n",
              "      <td>WeylFermionAndIndermediate</td>\n",
              "      <td>q</td>\n",
              "      <td>None</td>\n",
              "      <td>{'Groups': ['     1/6', ' 2', '  3;  '], 'Lorentz': 'WeylFermion', 'NF': '3'}</td>\n",
              "      <td>NaN</td>\n",
              "    </tr>\n",
              "    <tr>\n",
              "      <th>4</th>\n",
              "      <td>NaN</td>\n",
              "      <td>WeylFermionAndIndermediate</td>\n",
              "      <td>l</td>\n",
              "      <td>None</td>\n",
              "      <td>{'Groups': ['    -1/2', ' 2', '  1;'], 'Lorentz': 'WeylFermion', 'NF': '3'}</td>\n",
              "      <td>NaN</td>\n",
              "    </tr>\n",
              "    <tr>\n",
              "      <th>5</th>\n",
              "      <td>NaN</td>\n",
              "      <td>WeylFermionAndIndermediate</td>\n",
              "      <td>d</td>\n",
              "      <td>None</td>\n",
              "      <td>{'Groups': ['     1/3', ' 1', ' -3'], 'Lorentz': 'WeylFermion', 'NF': '3'}</td>\n",
              "      <td>NaN</td>\n",
              "    </tr>\n",
              "    <tr>\n",
              "      <th>6</th>\n",
              "      <td>NaN</td>\n",
              "      <td>WeylFermionAndIndermediate</td>\n",
              "      <td>u</td>\n",
              "      <td>None</td>\n",
              "      <td>{'Groups': ['    -2/3', ' 1', ' -3'], 'Lorentz': 'WeylFermion', 'NF': '3'}</td>\n",
              "      <td>NaN</td>\n",
              "    </tr>\n",
              "    <tr>\n",
              "      <th>7</th>\n",
              "      <td>NaN</td>\n",
              "      <td>WeylFermionAndIndermediate</td>\n",
              "      <td>e</td>\n",
              "      <td>None</td>\n",
              "      <td>{'Groups': ['       1', ' 1', '  1'], 'Lorentz': 'WeylFermion', 'NF': '3'}</td>\n",
              "      <td>NaN</td>\n",
              "    </tr>\n",
              "    <tr>\n",
              "      <th>8</th>\n",
              "      <td>NaN</td>\n",
              "      <td>WeylFermionAndIndermediate</td>\n",
              "      <td>H</td>\n",
              "      <td>None</td>\n",
              "      <td>{'Groups': ['     1/2', ' 2', '  1;'], 'Lorentz': 'Scalar', 'NF': '1'}</td>\n",
              "      <td>NaN</td>\n",
              "    </tr>\n",
              "    <tr>\n",
              "      <th>9</th>\n",
              "      <td>NaN</td>\n",
              "      <td>WeylFermionAndIndermediate</td>\n",
              "      <td>uL</td>\n",
              "      <td>q</td>\n",
              "      <td>{'Lorentz': 'WeylFermion', 'NF': '3'}</td>\n",
              "      <td>NaN</td>\n",
              "    </tr>\n",
              "    <tr>\n",
              "      <th>10</th>\n",
              "      <td>NaN</td>\n",
              "      <td>WeylFermionAndIndermediate</td>\n",
              "      <td>dL</td>\n",
              "      <td>q</td>\n",
              "      <td>{'Lorentz': 'WeylFermion', 'NF': '3'}</td>\n",
              "      <td>NaN</td>\n",
              "    </tr>\n",
              "    <tr>\n",
              "      <th>11</th>\n",
              "      <td>NaN</td>\n",
              "      <td>WeylFermionAndIndermediate</td>\n",
              "      <td>vL</td>\n",
              "      <td>l</td>\n",
              "      <td>{'Lorentz': 'WeylFermion', 'NF': '3'}</td>\n",
              "      <td>NaN</td>\n",
              "    </tr>\n",
              "    <tr>\n",
              "      <th>12</th>\n",
              "      <td>NaN</td>\n",
              "      <td>WeylFermionAndIndermediate</td>\n",
              "      <td>eL</td>\n",
              "      <td>l</td>\n",
              "      <td>{'Lorentz': 'WeylFermion', 'NF': '3'}</td>\n",
              "      <td>NaN</td>\n",
              "    </tr>\n",
              "    <tr>\n",
              "      <th>13</th>\n",
              "      <td>NaN</td>\n",
              "      <td>WeylFermionAndIndermediate</td>\n",
              "      <td>dR</td>\n",
              "      <td>d</td>\n",
              "      <td>{'Lorentz': 'WeylFermion', 'NF': '3'}</td>\n",
              "      <td>NaN</td>\n",
              "    </tr>\n",
              "    <tr>\n",
              "      <th>14</th>\n",
              "      <td>NaN</td>\n",
              "      <td>WeylFermionAndIndermediate</td>\n",
              "      <td>uR</td>\n",
              "      <td>u</td>\n",
              "      <td>{'Lorentz': 'WeylFermion', 'NF': '3'}</td>\n",
              "      <td>NaN</td>\n",
              "    </tr>\n",
              "    <tr>\n",
              "      <th>15</th>\n",
              "      <td>NaN</td>\n",
              "      <td>WeylFermionAndIndermediate</td>\n",
              "      <td>eR</td>\n",
              "      <td>e</td>\n",
              "      <td>{'Lorentz': 'WeylFermion', 'NF': '3'}</td>\n",
              "      <td>NaN</td>\n",
              "    </tr>\n",
              "    <tr>\n",
              "      <th>16</th>\n",
              "      <td>NaN</td>\n",
              "      <td>GaugeES</td>\n",
              "      <td>Hp</td>\n",
              "      <td>H</td>\n",
              "      <td>{'Lorentz': 'Scalar', 'NF': '1'}</td>\n",
              "      <td>NaN</td>\n",
              "    </tr>\n",
              "    <tr>\n",
              "      <th>17</th>\n",
              "      <td>NaN</td>\n",
              "      <td>GaugeES</td>\n",
              "      <td>H0</td>\n",
              "      <td>H</td>\n",
              "      <td>{'Lorentz': 'Scalar', 'NF': '1'}</td>\n",
              "      <td>NaN</td>\n",
              "    </tr>\n",
              "    <tr>\n",
              "      <th>18</th>\n",
              "      <td>GaugeSector</td>\n",
              "      <td>EWSB</td>\n",
              "      <td>VP</td>\n",
              "      <td>VB</td>\n",
              "      <td>{'Lorentz': 'Vector', 'Mass_basis': ['VP', 'VZ'], 'Interaction_basis': ['VB', 'VWB[3]']}</td>\n",
              "      <td>ZZ</td>\n",
              "    </tr>\n",
              "    <tr>\n",
              "      <th>19</th>\n",
              "      <td>GaugeSector</td>\n",
              "      <td>EWSB</td>\n",
              "      <td>VZ</td>\n",
              "      <td>VWB[3]</td>\n",
              "      <td>{'Lorentz': 'Vector', 'Mass_basis': ['VP', 'VZ'], 'Interaction_basis': ['VB', 'VWB[3]']}</td>\n",
              "      <td>ZZ</td>\n",
              "    </tr>\n",
              "    <tr>\n",
              "      <th>20</th>\n",
              "      <td>GaugeSector</td>\n",
              "      <td>EWSB</td>\n",
              "      <td>VWp</td>\n",
              "      <td>VWB[1]</td>\n",
              "      <td>{'Lorentz': 'Vector', 'Mass_basis': ['VWp', 'conj[VWp]'], 'Interaction_basis': ['VWB[1]', 'VWB[2]']}</td>\n",
              "      <td>ZW</td>\n",
              "    </tr>\n",
              "    <tr>\n",
              "      <th>21</th>\n",
              "      <td>MatterField</td>\n",
              "      <td>WeylFermionAndIndermediate</td>\n",
              "      <td>DL</td>\n",
              "      <td>dL</td>\n",
              "      <td>{'Chirality': 'left', 'Mass_basis': 'DL', 'Interaction_basis': ['dL']}</td>\n",
              "      <td>Vd</td>\n",
              "    </tr>\n",
              "    <tr>\n",
              "      <th>22</th>\n",
              "      <td>MatterField</td>\n",
              "      <td>WeylFermionAndIndermediate</td>\n",
              "      <td>UL</td>\n",
              "      <td>uL</td>\n",
              "      <td>{'Chirality': 'left', 'Mass_basis': 'UL', 'Interaction_basis': ['uL']}</td>\n",
              "      <td>Vu</td>\n",
              "    </tr>\n",
              "    <tr>\n",
              "      <th>23</th>\n",
              "      <td>MatterField</td>\n",
              "      <td>WeylFermionAndIndermediate</td>\n",
              "      <td>EL</td>\n",
              "      <td>eL</td>\n",
              "      <td>{'Chirality': 'left', 'Mass_basis': 'EL', 'Interaction_basis': ['eL']}</td>\n",
              "      <td>Ve</td>\n",
              "    </tr>\n",
              "    <tr>\n",
              "      <th>24</th>\n",
              "      <td>MatterField</td>\n",
              "      <td>WeylFermionAndIndermediate</td>\n",
              "      <td>DR</td>\n",
              "      <td>conj[dR]</td>\n",
              "      <td>{'Chirality': 'right', 'Mass_basis': 'DR', 'Interaction_basis': ['conj[dR]']}</td>\n",
              "      <td>Ud</td>\n",
              "    </tr>\n",
              "    <tr>\n",
              "      <th>25</th>\n",
              "      <td>MatterField</td>\n",
              "      <td>WeylFermionAndIndermediate</td>\n",
              "      <td>UR</td>\n",
              "      <td>conj[uR]</td>\n",
              "      <td>{'Chirality': 'right', 'Mass_basis': 'UR', 'Interaction_basis': ['conj[uR]']}</td>\n",
              "      <td>Uu</td>\n",
              "    </tr>\n",
              "    <tr>\n",
              "      <th>26</th>\n",
              "      <td>MatterField</td>\n",
              "      <td>WeylFermionAndIndermediate</td>\n",
              "      <td>ER</td>\n",
              "      <td>conj[eR]</td>\n",
              "      <td>{'Chirality': 'right', 'Mass_basis': 'ER', 'Interaction_basis': ['conj[eR]']}</td>\n",
              "      <td>Ue</td>\n",
              "    </tr>\n",
              "    <tr>\n",
              "      <th>27</th>\n",
              "      <td>VEVs</td>\n",
              "      <td>EWSB</td>\n",
              "      <td>hh</td>\n",
              "      <td>H0</td>\n",
              "      <td>{'Lorentz': 'Scalar', 'CP': 'Real', 'vev': 'v', 'Coefficient': '1/Sqrt[2]'}</td>\n",
              "      <td>NaN</td>\n",
              "    </tr>\n",
              "    <tr>\n",
              "      <th>28</th>\n",
              "      <td>VEVs</td>\n",
              "      <td>EWSB</td>\n",
              "      <td>Ah</td>\n",
              "      <td>H0</td>\n",
              "      <td>{'Lorentz': 'Scalar', 'CP': 'Imaginary', 'vev': 'v', 'Coefficient': '\\[ImaginaryI]/Sqrt[2]'}</td>\n",
              "      <td>NaN</td>\n",
              "    </tr>\n",
              "    <tr>\n",
              "      <th>29</th>\n",
              "      <td>DiracSpinors</td>\n",
              "      <td>EWSB</td>\n",
              "      <td>Fu</td>\n",
              "      <td>UL</td>\n",
              "      <td>{'Lorentz': 'DiracSpinor', 'DiracSpinor': ['UL', 'conj[UR]']}</td>\n",
              "      <td>NaN</td>\n",
              "    </tr>\n",
              "    <tr>\n",
              "      <th>30</th>\n",
              "      <td>DiracSpinors</td>\n",
              "      <td>EWSB</td>\n",
              "      <td>Fd</td>\n",
              "      <td>DL</td>\n",
              "      <td>{'Lorentz': 'DiracSpinor', 'DiracSpinor': ['DL', 'conj[DR]']}</td>\n",
              "      <td>NaN</td>\n",
              "    </tr>\n",
              "    <tr>\n",
              "      <th>31</th>\n",
              "      <td>DiracSpinors</td>\n",
              "      <td>EWSB</td>\n",
              "      <td>Fe</td>\n",
              "      <td>EL</td>\n",
              "      <td>{'Lorentz': 'DiracSpinor', 'DiracSpinor': ['EL', 'conj[ER]']}</td>\n",
              "      <td>NaN</td>\n",
              "    </tr>\n",
              "    <tr>\n",
              "      <th>32</th>\n",
              "      <td>DiracSpinors</td>\n",
              "      <td>EWSB</td>\n",
              "      <td>Fv</td>\n",
              "      <td>vL</td>\n",
              "      <td>{'Lorentz': 'MajoranaSpinor', 'MajoranaSpinor': ['vL', 0]}</td>\n",
              "      <td>NaN</td>\n",
              "    </tr>\n",
              "  </tbody>\n",
              "</table>\n",
              "</div>"
            ],
            "text/plain": [
              "           Block                  Definition Field   Parents  \\\n",
              "0            NaN                     GaugeES    VB      None   \n",
              "1            NaN                     GaugeES   VWB      None   \n",
              "2            NaN                     GaugeES    VG      None   \n",
              "3            NaN  WeylFermionAndIndermediate     q      None   \n",
              "4            NaN  WeylFermionAndIndermediate     l      None   \n",
              "5            NaN  WeylFermionAndIndermediate     d      None   \n",
              "6            NaN  WeylFermionAndIndermediate     u      None   \n",
              "7            NaN  WeylFermionAndIndermediate     e      None   \n",
              "8            NaN  WeylFermionAndIndermediate     H      None   \n",
              "9            NaN  WeylFermionAndIndermediate    uL         q   \n",
              "10           NaN  WeylFermionAndIndermediate    dL         q   \n",
              "11           NaN  WeylFermionAndIndermediate    vL         l   \n",
              "12           NaN  WeylFermionAndIndermediate    eL         l   \n",
              "13           NaN  WeylFermionAndIndermediate    dR         d   \n",
              "14           NaN  WeylFermionAndIndermediate    uR         u   \n",
              "15           NaN  WeylFermionAndIndermediate    eR         e   \n",
              "16           NaN                     GaugeES    Hp         H   \n",
              "17           NaN                     GaugeES    H0         H   \n",
              "18   GaugeSector                        EWSB    VP        VB   \n",
              "19   GaugeSector                        EWSB    VZ    VWB[3]   \n",
              "20   GaugeSector                        EWSB   VWp    VWB[1]   \n",
              "21   MatterField  WeylFermionAndIndermediate    DL        dL   \n",
              "22   MatterField  WeylFermionAndIndermediate    UL        uL   \n",
              "23   MatterField  WeylFermionAndIndermediate    EL        eL   \n",
              "24   MatterField  WeylFermionAndIndermediate    DR  conj[dR]   \n",
              "25   MatterField  WeylFermionAndIndermediate    UR  conj[uR]   \n",
              "26   MatterField  WeylFermionAndIndermediate    ER  conj[eR]   \n",
              "27          VEVs                        EWSB    hh        H0   \n",
              "28          VEVs                        EWSB    Ah        H0   \n",
              "29  DiracSpinors                        EWSB    Fu        UL   \n",
              "30  DiracSpinors                        EWSB    Fd        DL   \n",
              "31  DiracSpinors                        EWSB    Fe        EL   \n",
              "32  DiracSpinors                        EWSB    Fv        vL   \n",
              "\n",
              "                                                                                                   Properties  \\\n",
              "0         {'Lorentz': 'Vector', 'SSB': ' g1', 'Index': ' hypercharge', 'Group': '   U[1]', 'Coupling': ' g1'}   \n",
              "1   {'Lorentz': 'Vector', 'SSB': '        g2', 'Index': ' left', 'Group': ' SU[2]', 'Coupling': '        g2'}   \n",
              "2   {'Lorentz': 'Vector', 'SSB': '       g3', 'Index': ' color', 'Group': '  SU[3]', 'Coupling': '       g3'}   \n",
              "3                               {'Groups': ['     1/6', ' 2', '  3;  '], 'Lorentz': 'WeylFermion', 'NF': '3'}   \n",
              "4                                 {'Groups': ['    -1/2', ' 2', '  1;'], 'Lorentz': 'WeylFermion', 'NF': '3'}   \n",
              "5                                  {'Groups': ['     1/3', ' 1', ' -3'], 'Lorentz': 'WeylFermion', 'NF': '3'}   \n",
              "6                                  {'Groups': ['    -2/3', ' 1', ' -3'], 'Lorentz': 'WeylFermion', 'NF': '3'}   \n",
              "7                                  {'Groups': ['       1', ' 1', '  1'], 'Lorentz': 'WeylFermion', 'NF': '3'}   \n",
              "8                                      {'Groups': ['     1/2', ' 2', '  1;'], 'Lorentz': 'Scalar', 'NF': '1'}   \n",
              "9                                                                       {'Lorentz': 'WeylFermion', 'NF': '3'}   \n",
              "10                                                                      {'Lorentz': 'WeylFermion', 'NF': '3'}   \n",
              "11                                                                      {'Lorentz': 'WeylFermion', 'NF': '3'}   \n",
              "12                                                                      {'Lorentz': 'WeylFermion', 'NF': '3'}   \n",
              "13                                                                      {'Lorentz': 'WeylFermion', 'NF': '3'}   \n",
              "14                                                                      {'Lorentz': 'WeylFermion', 'NF': '3'}   \n",
              "15                                                                      {'Lorentz': 'WeylFermion', 'NF': '3'}   \n",
              "16                                                                           {'Lorentz': 'Scalar', 'NF': '1'}   \n",
              "17                                                                           {'Lorentz': 'Scalar', 'NF': '1'}   \n",
              "18                   {'Lorentz': 'Vector', 'Mass_basis': ['VP', 'VZ'], 'Interaction_basis': ['VB', 'VWB[3]']}   \n",
              "19                   {'Lorentz': 'Vector', 'Mass_basis': ['VP', 'VZ'], 'Interaction_basis': ['VB', 'VWB[3]']}   \n",
              "20       {'Lorentz': 'Vector', 'Mass_basis': ['VWp', 'conj[VWp]'], 'Interaction_basis': ['VWB[1]', 'VWB[2]']}   \n",
              "21                                     {'Chirality': 'left', 'Mass_basis': 'DL', 'Interaction_basis': ['dL']}   \n",
              "22                                     {'Chirality': 'left', 'Mass_basis': 'UL', 'Interaction_basis': ['uL']}   \n",
              "23                                     {'Chirality': 'left', 'Mass_basis': 'EL', 'Interaction_basis': ['eL']}   \n",
              "24                              {'Chirality': 'right', 'Mass_basis': 'DR', 'Interaction_basis': ['conj[dR]']}   \n",
              "25                              {'Chirality': 'right', 'Mass_basis': 'UR', 'Interaction_basis': ['conj[uR]']}   \n",
              "26                              {'Chirality': 'right', 'Mass_basis': 'ER', 'Interaction_basis': ['conj[eR]']}   \n",
              "27                                {'Lorentz': 'Scalar', 'CP': 'Real', 'vev': 'v', 'Coefficient': '1/Sqrt[2]'}   \n",
              "28               {'Lorentz': 'Scalar', 'CP': 'Imaginary', 'vev': 'v', 'Coefficient': '\\[ImaginaryI]/Sqrt[2]'}   \n",
              "29                                              {'Lorentz': 'DiracSpinor', 'DiracSpinor': ['UL', 'conj[UR]']}   \n",
              "30                                              {'Lorentz': 'DiracSpinor', 'DiracSpinor': ['DL', 'conj[DR]']}   \n",
              "31                                              {'Lorentz': 'DiracSpinor', 'DiracSpinor': ['EL', 'conj[ER]']}   \n",
              "32                                                 {'Lorentz': 'MajoranaSpinor', 'MajoranaSpinor': ['vL', 0]}   \n",
              "\n",
              "   rotation  \n",
              "0       NaN  \n",
              "1       NaN  \n",
              "2       NaN  \n",
              "3       NaN  \n",
              "4       NaN  \n",
              "5       NaN  \n",
              "6       NaN  \n",
              "7       NaN  \n",
              "8       NaN  \n",
              "9       NaN  \n",
              "10      NaN  \n",
              "11      NaN  \n",
              "12      NaN  \n",
              "13      NaN  \n",
              "14      NaN  \n",
              "15      NaN  \n",
              "16      NaN  \n",
              "17      NaN  \n",
              "18       ZZ  \n",
              "19       ZZ  \n",
              "20       ZW  \n",
              "21       Vd  \n",
              "22       Vu  \n",
              "23       Ve  \n",
              "24       Ud  \n",
              "25       Uu  \n",
              "26       Ue  \n",
              "27      NaN  \n",
              "28      NaN  \n",
              "29      NaN  \n",
              "30      NaN  \n",
              "31      NaN  \n",
              "32      NaN  "
            ]
          },
          "metadata": {
            "tags": []
          },
          "execution_count": 42
        }
      ]
    },
    {
      "cell_type": "code",
      "metadata": {
        "id": "HIyNIjw5jPy2",
        "colab_type": "code",
        "colab": {},
        "outputId": "9161a28b-369b-4d8a-8964-a95d9768ca75"
      },
      "source": [
        "pd.DataFrame(particles)"
      ],
      "execution_count": 0,
      "outputs": [
        {
          "output_type": "execute_result",
          "data": {
            "text/html": [
              "<div>\n",
              "<style scoped>\n",
              "    .dataframe tbody tr th:only-of-type {\n",
              "        vertical-align: middle;\n",
              "    }\n",
              "\n",
              "    .dataframe tbody tr th {\n",
              "        vertical-align: top;\n",
              "    }\n",
              "\n",
              "    .dataframe thead th {\n",
              "        text-align: right;\n",
              "    }\n",
              "</style>\n",
              "<table border=\"1\" class=\"dataframe\">\n",
              "  <thead>\n",
              "    <tr style=\"text-align: right;\">\n",
              "      <th></th>\n",
              "      <th>Block</th>\n",
              "      <th>Definition</th>\n",
              "      <th>Field</th>\n",
              "      <th>Parents</th>\n",
              "      <th>Properties</th>\n",
              "      <th>rotation</th>\n",
              "    </tr>\n",
              "  </thead>\n",
              "  <tbody>\n",
              "    <tr>\n",
              "      <th>0</th>\n",
              "      <td>NaN</td>\n",
              "      <td>GaugeES</td>\n",
              "      <td>VB</td>\n",
              "      <td>None</td>\n",
              "      <td>{'Lorentz': 'Vector', 'SSB': ' g1', 'Index': ' hypercharge', 'Group': '   U[1]', 'Coupling': ' g1'}</td>\n",
              "      <td>NaN</td>\n",
              "    </tr>\n",
              "    <tr>\n",
              "      <th>1</th>\n",
              "      <td>NaN</td>\n",
              "      <td>GaugeES</td>\n",
              "      <td>VWB</td>\n",
              "      <td>None</td>\n",
              "      <td>{'Lorentz': 'Vector', 'SSB': '        g2', 'Index': ' left', 'Group': ' SU[2]', 'Coupling': '        g2'}</td>\n",
              "      <td>NaN</td>\n",
              "    </tr>\n",
              "    <tr>\n",
              "      <th>2</th>\n",
              "      <td>NaN</td>\n",
              "      <td>GaugeES</td>\n",
              "      <td>VG</td>\n",
              "      <td>None</td>\n",
              "      <td>{'Lorentz': 'Vector', 'SSB': '       g3', 'Index': ' color', 'Group': '  SU[3]', 'Coupling': '       g3'}</td>\n",
              "      <td>NaN</td>\n",
              "    </tr>\n",
              "    <tr>\n",
              "      <th>3</th>\n",
              "      <td>NaN</td>\n",
              "      <td>WeylFermionAndIndermediate</td>\n",
              "      <td>q</td>\n",
              "      <td>None</td>\n",
              "      <td>{'Groups': ['     1/6', ' 2', '  3;  '], 'Lorentz': 'WeylFermion', 'NF': '3'}</td>\n",
              "      <td>NaN</td>\n",
              "    </tr>\n",
              "    <tr>\n",
              "      <th>4</th>\n",
              "      <td>NaN</td>\n",
              "      <td>WeylFermionAndIndermediate</td>\n",
              "      <td>l</td>\n",
              "      <td>None</td>\n",
              "      <td>{'Groups': ['    -1/2', ' 2', '  1;'], 'Lorentz': 'WeylFermion', 'NF': '3'}</td>\n",
              "      <td>NaN</td>\n",
              "    </tr>\n",
              "    <tr>\n",
              "      <th>5</th>\n",
              "      <td>NaN</td>\n",
              "      <td>WeylFermionAndIndermediate</td>\n",
              "      <td>d</td>\n",
              "      <td>None</td>\n",
              "      <td>{'Groups': ['     1/3', ' 1', ' -3'], 'Lorentz': 'WeylFermion', 'NF': '3'}</td>\n",
              "      <td>NaN</td>\n",
              "    </tr>\n",
              "    <tr>\n",
              "      <th>6</th>\n",
              "      <td>NaN</td>\n",
              "      <td>WeylFermionAndIndermediate</td>\n",
              "      <td>u</td>\n",
              "      <td>None</td>\n",
              "      <td>{'Groups': ['    -2/3', ' 1', ' -3'], 'Lorentz': 'WeylFermion', 'NF': '3'}</td>\n",
              "      <td>NaN</td>\n",
              "    </tr>\n",
              "    <tr>\n",
              "      <th>7</th>\n",
              "      <td>NaN</td>\n",
              "      <td>WeylFermionAndIndermediate</td>\n",
              "      <td>e</td>\n",
              "      <td>None</td>\n",
              "      <td>{'Groups': ['       1', ' 1', '  1'], 'Lorentz': 'WeylFermion', 'NF': '3'}</td>\n",
              "      <td>NaN</td>\n",
              "    </tr>\n",
              "    <tr>\n",
              "      <th>8</th>\n",
              "      <td>NaN</td>\n",
              "      <td>WeylFermionAndIndermediate</td>\n",
              "      <td>H</td>\n",
              "      <td>None</td>\n",
              "      <td>{'Groups': ['     1/2', ' 2', '  1;'], 'Lorentz': 'Scalar', 'NF': '1'}</td>\n",
              "      <td>NaN</td>\n",
              "    </tr>\n",
              "    <tr>\n",
              "      <th>9</th>\n",
              "      <td>NaN</td>\n",
              "      <td>WeylFermionAndIndermediate</td>\n",
              "      <td>uL</td>\n",
              "      <td>q</td>\n",
              "      <td>{'Lorentz': 'WeylFermion', 'NF': '3'}</td>\n",
              "      <td>NaN</td>\n",
              "    </tr>\n",
              "    <tr>\n",
              "      <th>10</th>\n",
              "      <td>NaN</td>\n",
              "      <td>WeylFermionAndIndermediate</td>\n",
              "      <td>dL</td>\n",
              "      <td>q</td>\n",
              "      <td>{'Lorentz': 'WeylFermion', 'NF': '3'}</td>\n",
              "      <td>NaN</td>\n",
              "    </tr>\n",
              "    <tr>\n",
              "      <th>11</th>\n",
              "      <td>NaN</td>\n",
              "      <td>WeylFermionAndIndermediate</td>\n",
              "      <td>vL</td>\n",
              "      <td>l</td>\n",
              "      <td>{'Lorentz': 'WeylFermion', 'NF': '3'}</td>\n",
              "      <td>NaN</td>\n",
              "    </tr>\n",
              "    <tr>\n",
              "      <th>12</th>\n",
              "      <td>NaN</td>\n",
              "      <td>WeylFermionAndIndermediate</td>\n",
              "      <td>eL</td>\n",
              "      <td>l</td>\n",
              "      <td>{'Lorentz': 'WeylFermion', 'NF': '3'}</td>\n",
              "      <td>NaN</td>\n",
              "    </tr>\n",
              "    <tr>\n",
              "      <th>13</th>\n",
              "      <td>NaN</td>\n",
              "      <td>WeylFermionAndIndermediate</td>\n",
              "      <td>dR</td>\n",
              "      <td>d</td>\n",
              "      <td>{'Lorentz': 'WeylFermion', 'NF': '3'}</td>\n",
              "      <td>NaN</td>\n",
              "    </tr>\n",
              "    <tr>\n",
              "      <th>14</th>\n",
              "      <td>NaN</td>\n",
              "      <td>WeylFermionAndIndermediate</td>\n",
              "      <td>uR</td>\n",
              "      <td>u</td>\n",
              "      <td>{'Lorentz': 'WeylFermion', 'NF': '3'}</td>\n",
              "      <td>NaN</td>\n",
              "    </tr>\n",
              "    <tr>\n",
              "      <th>15</th>\n",
              "      <td>NaN</td>\n",
              "      <td>WeylFermionAndIndermediate</td>\n",
              "      <td>eR</td>\n",
              "      <td>e</td>\n",
              "      <td>{'Lorentz': 'WeylFermion', 'NF': '3'}</td>\n",
              "      <td>NaN</td>\n",
              "    </tr>\n",
              "    <tr>\n",
              "      <th>16</th>\n",
              "      <td>NaN</td>\n",
              "      <td>GaugeES</td>\n",
              "      <td>Hp</td>\n",
              "      <td>H</td>\n",
              "      <td>{'Lorentz': 'Scalar', 'NF': '1'}</td>\n",
              "      <td>NaN</td>\n",
              "    </tr>\n",
              "    <tr>\n",
              "      <th>17</th>\n",
              "      <td>NaN</td>\n",
              "      <td>GaugeES</td>\n",
              "      <td>H0</td>\n",
              "      <td>H</td>\n",
              "      <td>{'Lorentz': 'Scalar', 'NF': '1'}</td>\n",
              "      <td>NaN</td>\n",
              "    </tr>\n",
              "    <tr>\n",
              "      <th>18</th>\n",
              "      <td>GaugeSector</td>\n",
              "      <td>EWSB</td>\n",
              "      <td>VP</td>\n",
              "      <td>VB</td>\n",
              "      <td>{'Lorentz': 'Vector', 'Mass_basis': ['VP', 'VZ'], 'Interaction_basis': ['VB', 'VWB[3]']}</td>\n",
              "      <td>ZZ</td>\n",
              "    </tr>\n",
              "    <tr>\n",
              "      <th>19</th>\n",
              "      <td>GaugeSector</td>\n",
              "      <td>EWSB</td>\n",
              "      <td>VZ</td>\n",
              "      <td>VWB[3]</td>\n",
              "      <td>{'Lorentz': 'Vector', 'Mass_basis': ['VP', 'VZ'], 'Interaction_basis': ['VB', 'VWB[3]']}</td>\n",
              "      <td>ZZ</td>\n",
              "    </tr>\n",
              "    <tr>\n",
              "      <th>20</th>\n",
              "      <td>GaugeSector</td>\n",
              "      <td>EWSB</td>\n",
              "      <td>VWp</td>\n",
              "      <td>VWB[1]</td>\n",
              "      <td>{'Lorentz': 'Vector', 'Mass_basis': ['VWp', 'conj[VWp]'], 'Interaction_basis': ['VWB[1]', 'VWB[2]']}</td>\n",
              "      <td>ZW</td>\n",
              "    </tr>\n",
              "    <tr>\n",
              "      <th>21</th>\n",
              "      <td>MatterField</td>\n",
              "      <td>WeylFermionAndIndermediate</td>\n",
              "      <td>DL</td>\n",
              "      <td>dL</td>\n",
              "      <td>{'Chirality': 'left', 'Mass_basis': 'DL', 'Interaction_basis': ['dL']}</td>\n",
              "      <td>Vd</td>\n",
              "    </tr>\n",
              "    <tr>\n",
              "      <th>22</th>\n",
              "      <td>MatterField</td>\n",
              "      <td>WeylFermionAndIndermediate</td>\n",
              "      <td>UL</td>\n",
              "      <td>uL</td>\n",
              "      <td>{'Chirality': 'left', 'Mass_basis': 'UL', 'Interaction_basis': ['uL']}</td>\n",
              "      <td>Vu</td>\n",
              "    </tr>\n",
              "    <tr>\n",
              "      <th>23</th>\n",
              "      <td>MatterField</td>\n",
              "      <td>WeylFermionAndIndermediate</td>\n",
              "      <td>EL</td>\n",
              "      <td>eL</td>\n",
              "      <td>{'Chirality': 'left', 'Mass_basis': 'EL', 'Interaction_basis': ['eL']}</td>\n",
              "      <td>Ve</td>\n",
              "    </tr>\n",
              "    <tr>\n",
              "      <th>24</th>\n",
              "      <td>MatterField</td>\n",
              "      <td>WeylFermionAndIndermediate</td>\n",
              "      <td>DR</td>\n",
              "      <td>conj[dR]</td>\n",
              "      <td>{'Chirality': 'right', 'Mass_basis': 'DR', 'Interaction_basis': ['conj[dR]']}</td>\n",
              "      <td>Ud</td>\n",
              "    </tr>\n",
              "    <tr>\n",
              "      <th>25</th>\n",
              "      <td>MatterField</td>\n",
              "      <td>WeylFermionAndIndermediate</td>\n",
              "      <td>UR</td>\n",
              "      <td>conj[uR]</td>\n",
              "      <td>{'Chirality': 'right', 'Mass_basis': 'UR', 'Interaction_basis': ['conj[uR]']}</td>\n",
              "      <td>Uu</td>\n",
              "    </tr>\n",
              "    <tr>\n",
              "      <th>26</th>\n",
              "      <td>MatterField</td>\n",
              "      <td>WeylFermionAndIndermediate</td>\n",
              "      <td>ER</td>\n",
              "      <td>conj[eR]</td>\n",
              "      <td>{'Chirality': 'right', 'Mass_basis': 'ER', 'Interaction_basis': ['conj[eR]']}</td>\n",
              "      <td>Ue</td>\n",
              "    </tr>\n",
              "    <tr>\n",
              "      <th>27</th>\n",
              "      <td>VEVs</td>\n",
              "      <td>EWSB</td>\n",
              "      <td>hh</td>\n",
              "      <td>H0</td>\n",
              "      <td>{'Lorentz': 'Scalar', 'CP': 'Real', 'vev': 'v', 'Coefficient': '1/Sqrt[2]'}</td>\n",
              "      <td>NaN</td>\n",
              "    </tr>\n",
              "    <tr>\n",
              "      <th>28</th>\n",
              "      <td>VEVs</td>\n",
              "      <td>EWSB</td>\n",
              "      <td>Ah</td>\n",
              "      <td>H0</td>\n",
              "      <td>{'Lorentz': 'Scalar', 'CP': 'Imaginary', 'vev': 'v', 'Coefficient': '\\[ImaginaryI]/Sqrt[2]'}</td>\n",
              "      <td>NaN</td>\n",
              "    </tr>\n",
              "    <tr>\n",
              "      <th>29</th>\n",
              "      <td>DiracSpinors</td>\n",
              "      <td>EWSB</td>\n",
              "      <td>Fu</td>\n",
              "      <td>UL</td>\n",
              "      <td>{'Lorentz': 'DiracSpinor', 'DiracSpinor': ['UL', 'conj[UR]']}</td>\n",
              "      <td>NaN</td>\n",
              "    </tr>\n",
              "    <tr>\n",
              "      <th>30</th>\n",
              "      <td>DiracSpinors</td>\n",
              "      <td>EWSB</td>\n",
              "      <td>Fd</td>\n",
              "      <td>DL</td>\n",
              "      <td>{'Lorentz': 'DiracSpinor', 'DiracSpinor': ['DL', 'conj[DR]']}</td>\n",
              "      <td>NaN</td>\n",
              "    </tr>\n",
              "    <tr>\n",
              "      <th>31</th>\n",
              "      <td>DiracSpinors</td>\n",
              "      <td>EWSB</td>\n",
              "      <td>Fe</td>\n",
              "      <td>EL</td>\n",
              "      <td>{'Lorentz': 'DiracSpinor', 'DiracSpinor': ['EL', 'conj[ER]']}</td>\n",
              "      <td>NaN</td>\n",
              "    </tr>\n",
              "    <tr>\n",
              "      <th>32</th>\n",
              "      <td>DiracSpinors</td>\n",
              "      <td>EWSB</td>\n",
              "      <td>Fv</td>\n",
              "      <td>vL</td>\n",
              "      <td>{'Lorentz': 'MajoranaSpinor', 'MajoranaSpinor': ['vL', 0]}</td>\n",
              "      <td>NaN</td>\n",
              "    </tr>\n",
              "  </tbody>\n",
              "</table>\n",
              "</div>"
            ],
            "text/plain": [
              "           Block                  Definition Field   Parents  \\\n",
              "0            NaN                     GaugeES    VB      None   \n",
              "1            NaN                     GaugeES   VWB      None   \n",
              "2            NaN                     GaugeES    VG      None   \n",
              "3            NaN  WeylFermionAndIndermediate     q      None   \n",
              "4            NaN  WeylFermionAndIndermediate     l      None   \n",
              "5            NaN  WeylFermionAndIndermediate     d      None   \n",
              "6            NaN  WeylFermionAndIndermediate     u      None   \n",
              "7            NaN  WeylFermionAndIndermediate     e      None   \n",
              "8            NaN  WeylFermionAndIndermediate     H      None   \n",
              "9            NaN  WeylFermionAndIndermediate    uL         q   \n",
              "10           NaN  WeylFermionAndIndermediate    dL         q   \n",
              "11           NaN  WeylFermionAndIndermediate    vL         l   \n",
              "12           NaN  WeylFermionAndIndermediate    eL         l   \n",
              "13           NaN  WeylFermionAndIndermediate    dR         d   \n",
              "14           NaN  WeylFermionAndIndermediate    uR         u   \n",
              "15           NaN  WeylFermionAndIndermediate    eR         e   \n",
              "16           NaN                     GaugeES    Hp         H   \n",
              "17           NaN                     GaugeES    H0         H   \n",
              "18   GaugeSector                        EWSB    VP        VB   \n",
              "19   GaugeSector                        EWSB    VZ    VWB[3]   \n",
              "20   GaugeSector                        EWSB   VWp    VWB[1]   \n",
              "21   MatterField  WeylFermionAndIndermediate    DL        dL   \n",
              "22   MatterField  WeylFermionAndIndermediate    UL        uL   \n",
              "23   MatterField  WeylFermionAndIndermediate    EL        eL   \n",
              "24   MatterField  WeylFermionAndIndermediate    DR  conj[dR]   \n",
              "25   MatterField  WeylFermionAndIndermediate    UR  conj[uR]   \n",
              "26   MatterField  WeylFermionAndIndermediate    ER  conj[eR]   \n",
              "27          VEVs                        EWSB    hh        H0   \n",
              "28          VEVs                        EWSB    Ah        H0   \n",
              "29  DiracSpinors                        EWSB    Fu        UL   \n",
              "30  DiracSpinors                        EWSB    Fd        DL   \n",
              "31  DiracSpinors                        EWSB    Fe        EL   \n",
              "32  DiracSpinors                        EWSB    Fv        vL   \n",
              "\n",
              "                                                                                                   Properties  \\\n",
              "0         {'Lorentz': 'Vector', 'SSB': ' g1', 'Index': ' hypercharge', 'Group': '   U[1]', 'Coupling': ' g1'}   \n",
              "1   {'Lorentz': 'Vector', 'SSB': '        g2', 'Index': ' left', 'Group': ' SU[2]', 'Coupling': '        g2'}   \n",
              "2   {'Lorentz': 'Vector', 'SSB': '       g3', 'Index': ' color', 'Group': '  SU[3]', 'Coupling': '       g3'}   \n",
              "3                               {'Groups': ['     1/6', ' 2', '  3;  '], 'Lorentz': 'WeylFermion', 'NF': '3'}   \n",
              "4                                 {'Groups': ['    -1/2', ' 2', '  1;'], 'Lorentz': 'WeylFermion', 'NF': '3'}   \n",
              "5                                  {'Groups': ['     1/3', ' 1', ' -3'], 'Lorentz': 'WeylFermion', 'NF': '3'}   \n",
              "6                                  {'Groups': ['    -2/3', ' 1', ' -3'], 'Lorentz': 'WeylFermion', 'NF': '3'}   \n",
              "7                                  {'Groups': ['       1', ' 1', '  1'], 'Lorentz': 'WeylFermion', 'NF': '3'}   \n",
              "8                                      {'Groups': ['     1/2', ' 2', '  1;'], 'Lorentz': 'Scalar', 'NF': '1'}   \n",
              "9                                                                       {'Lorentz': 'WeylFermion', 'NF': '3'}   \n",
              "10                                                                      {'Lorentz': 'WeylFermion', 'NF': '3'}   \n",
              "11                                                                      {'Lorentz': 'WeylFermion', 'NF': '3'}   \n",
              "12                                                                      {'Lorentz': 'WeylFermion', 'NF': '3'}   \n",
              "13                                                                      {'Lorentz': 'WeylFermion', 'NF': '3'}   \n",
              "14                                                                      {'Lorentz': 'WeylFermion', 'NF': '3'}   \n",
              "15                                                                      {'Lorentz': 'WeylFermion', 'NF': '3'}   \n",
              "16                                                                           {'Lorentz': 'Scalar', 'NF': '1'}   \n",
              "17                                                                           {'Lorentz': 'Scalar', 'NF': '1'}   \n",
              "18                   {'Lorentz': 'Vector', 'Mass_basis': ['VP', 'VZ'], 'Interaction_basis': ['VB', 'VWB[3]']}   \n",
              "19                   {'Lorentz': 'Vector', 'Mass_basis': ['VP', 'VZ'], 'Interaction_basis': ['VB', 'VWB[3]']}   \n",
              "20       {'Lorentz': 'Vector', 'Mass_basis': ['VWp', 'conj[VWp]'], 'Interaction_basis': ['VWB[1]', 'VWB[2]']}   \n",
              "21                                     {'Chirality': 'left', 'Mass_basis': 'DL', 'Interaction_basis': ['dL']}   \n",
              "22                                     {'Chirality': 'left', 'Mass_basis': 'UL', 'Interaction_basis': ['uL']}   \n",
              "23                                     {'Chirality': 'left', 'Mass_basis': 'EL', 'Interaction_basis': ['eL']}   \n",
              "24                              {'Chirality': 'right', 'Mass_basis': 'DR', 'Interaction_basis': ['conj[dR]']}   \n",
              "25                              {'Chirality': 'right', 'Mass_basis': 'UR', 'Interaction_basis': ['conj[uR]']}   \n",
              "26                              {'Chirality': 'right', 'Mass_basis': 'ER', 'Interaction_basis': ['conj[eR]']}   \n",
              "27                                {'Lorentz': 'Scalar', 'CP': 'Real', 'vev': 'v', 'Coefficient': '1/Sqrt[2]'}   \n",
              "28               {'Lorentz': 'Scalar', 'CP': 'Imaginary', 'vev': 'v', 'Coefficient': '\\[ImaginaryI]/Sqrt[2]'}   \n",
              "29                                              {'Lorentz': 'DiracSpinor', 'DiracSpinor': ['UL', 'conj[UR]']}   \n",
              "30                                              {'Lorentz': 'DiracSpinor', 'DiracSpinor': ['DL', 'conj[DR]']}   \n",
              "31                                              {'Lorentz': 'DiracSpinor', 'DiracSpinor': ['EL', 'conj[ER]']}   \n",
              "32                                                 {'Lorentz': 'MajoranaSpinor', 'MajoranaSpinor': ['vL', 0]}   \n",
              "\n",
              "   rotation  \n",
              "0       NaN  \n",
              "1       NaN  \n",
              "2       NaN  \n",
              "3       NaN  \n",
              "4       NaN  \n",
              "5       NaN  \n",
              "6       NaN  \n",
              "7       NaN  \n",
              "8       NaN  \n",
              "9       NaN  \n",
              "10      NaN  \n",
              "11      NaN  \n",
              "12      NaN  \n",
              "13      NaN  \n",
              "14      NaN  \n",
              "15      NaN  \n",
              "16      NaN  \n",
              "17      NaN  \n",
              "18       ZZ  \n",
              "19       ZZ  \n",
              "20       ZW  \n",
              "21       Vd  \n",
              "22       Vu  \n",
              "23       Ve  \n",
              "24       Ud  \n",
              "25       Uu  \n",
              "26       Ue  \n",
              "27      NaN  \n",
              "28      NaN  \n",
              "29      NaN  \n",
              "30      NaN  \n",
              "31      NaN  \n",
              "32      NaN  "
            ]
          },
          "metadata": {
            "tags": []
          },
          "execution_count": 43
        }
      ]
    },
    {
      "cell_type": "code",
      "metadata": {
        "id": "2AUZDRYijPy3",
        "colab_type": "code",
        "colab": {},
        "outputId": "f3a96de1-a53e-4236-9f23-e0097df77f0f"
      },
      "source": [
        "print(smf)"
      ],
      "execution_count": 0,
      "outputs": [
        {
          "output_type": "stream",
          "text": [
            "Off[General::spell]\n",
            "\n",
            "Model`Name = \"SM\";\n",
            "Model`NameLaTeX =\"Standard Model\";\n",
            "Model`Authors = \"F.Staub\";\n",
            "Model`Date = \"2014-11-06\";\n",
            "\n",
            "(* 2013-01-24: changed normalization of lambda term to convention of hep-ph/0207271 *)\n",
            "(* 2013-06-24: using new name conventions (without inital \"S\" and \"F\" for scalar and matter fields) *)\n",
            "(* 2013-09-01: changing to new conventions for FermionFields/MatterFields *)\n",
            "(* 2014-11-06: Changed sign in Lagrangian to fit standard conventions *)\n",
            "(* 2016-05-03: Changed sign of Yu *)\n",
            "\n",
            "\n",
            "\n",
            "(*-------------------------------------------*)\n",
            "(*   Particle Content*)\n",
            "(*-------------------------------------------*)\n",
            "\n",
            "(* Gauge Groups *)\n",
            "\n",
            "Gauge[[1]]={B,   U[1], hypercharge, g1,False};\n",
            "Gauge[[2]]={WB, SU[2], left,        g2,True};\n",
            "Gauge[[3]]={G,  SU[3], color,       g3,False};\n",
            "\n",
            "\n",
            "(* Matter Fields *)\n",
            "\n",
            "FermionFields[[1]] = {q, 3, {uL, dL},     1/6, 2,  3};  \n",
            "FermionFields[[2]] = {l, 3, {vL, eL},    -1/2, 2,  1};\n",
            "FermionFields[[3]] = {d, 3, conj[dR],     1/3, 1, -3};\n",
            "FermionFields[[4]] = {u, 3, conj[uR],    -2/3, 1, -3};\n",
            "FermionFields[[5]] = {e, 3, conj[eR],       1, 1,  1};\n",
            "\n",
            "ScalarFields[[1]] =  {H, 1, {Hp, H0},     1/2, 2,  1};\n",
            "\n",
            "\n",
            "        \n",
            "(*----------------------------------------------*)\n",
            "(*   DEFINITION                                 *)\n",
            "(*----------------------------------------------*)\n",
            "\n",
            "NameOfStates={GaugeES, EWSB};\n",
            "\n",
            "(* ----- Before EWSB ----- *)\n",
            "\n",
            "DEFINITION[GaugeES][LagrangianInput]= {\n",
            "\t{LagHC, {AddHC->True}},\n",
            "\t{LagNoHC,{AddHC->False}}\n",
            "};\n",
            "\n",
            "\n",
            "LagNoHC = -mu2 conj[H].H - 1/2 \\[Lambda] conj[H].H.conj[H].H;\n",
            "LagHC =  -(Yd conj[H].d.q + Ye conj[H].e.l + Yu u.q.H);\n",
            "\n",
            "\n",
            "\t\t\t  \t\t  \n",
            "\n",
            "(* Gauge Sector *)\n",
            "\n",
            "DEFINITION[EWSB][GaugeSector] =\n",
            "{ \n",
            "  {{VB,VWB[3]},{VP,VZ},ZZ},\n",
            "  {{VWB[1],VWB[2]},{VWp,conj[VWp]},ZW}\n",
            "};     \n",
            "        \n",
            "        \n",
            "          \t\n",
            "\n",
            "(* ----- VEVs ---- *)\n",
            "\n",
            "DEFINITION[EWSB][VEVs]= \n",
            "{    {H0, {v, 1/Sqrt[2]}, {Ah, \\[ImaginaryI]/Sqrt[2]},{hh, 1/Sqrt[2]}}     };\n",
            " \n",
            "\n",
            "DEFINITION[EWSB][MatterSector]=   \n",
            "    {{{{dL}, {conj[dR]}}, {{DL,Vd}, {DR,Ud}}},\n",
            "     {{{uL}, {conj[uR]}}, {{UL,Vu}, {UR,Uu}}},\n",
            "     {{{eL}, {conj[eR]}}, {{EL,Ve}, {ER,Ue}}}};  \n",
            "\n",
            "\n",
            "(*------------------------------------------------------*)\n",
            "(* Dirac-Spinors *)\n",
            "(*------------------------------------------------------*)\n",
            "\n",
            "DEFINITION[EWSB][DiracSpinors]={\n",
            " Fd ->{  DL, conj[DR]},\n",
            " Fe ->{  EL, conj[ER]},\n",
            " Fu ->{  UL, conj[UR]},\n",
            " Fv ->{  vL, 0}};\n",
            "\n",
            "DEFINITION[EWSB][GaugeES]={\n",
            " Fd1 ->{  FdL, 0},\n",
            " Fd2 ->{  0, FdR},\n",
            " Fu1 ->{  Fu1, 0},\n",
            " Fu2 ->{  0, Fu2},\n",
            " Fe1 ->{  Fe1, 0},\n",
            " Fe2 ->{  0, Fe2}};\n",
            "\n",
            "\n",
            "\n",
            "\n"
          ],
          "name": "stdout"
        }
      ]
    },
    {
      "cell_type": "code",
      "metadata": {
        "id": "WckXFvvzjPy6",
        "colab_type": "code",
        "colab": {},
        "outputId": "fcd948f1-424d-43c2-a364-f5d28ac55da6"
      },
      "source": [
        "1+1"
      ],
      "execution_count": 0,
      "outputs": [
        {
          "output_type": "execute_result",
          "data": {
            "text/plain": [
              "2"
            ]
          },
          "metadata": {
            "tags": []
          },
          "execution_count": 45
        }
      ]
    },
    {
      "cell_type": "code",
      "metadata": {
        "id": "M126ZqmWjPy8",
        "colab_type": "code",
        "colab": {}
      },
      "source": [
        ""
      ],
      "execution_count": 0,
      "outputs": []
    }
  ]
}