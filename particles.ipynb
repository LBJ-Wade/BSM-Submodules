{
 "cells": [
  {
   "cell_type": "markdown",
   "metadata": {},
   "source": [
    "# Particles generator"
   ]
  },
  {
   "cell_type": "markdown",
   "metadata": {},
   "source": [
    "The SM will be defined as pandas file in JSON format.\n",
    "In this file it will be shown the definition of such a file from a dictionary"
   ]
  },
  {
   "cell_type": "code",
   "execution_count": 163,
   "metadata": {},
   "outputs": [
    {
     "name": "stdout",
     "output_type": "stream",
     "text": [
      "{\"EWSB\":{\"Ah\":{\"PDG\":[0],\"Width\":[0],\"Description\":\"Pseudo-Scalar Higgs\",\"Mass\":\r\n"
     ]
    }
   ],
   "source": [
    "cat kk.json | cut -c1-80"
   ]
  },
  {
   "cell_type": "code",
   "execution_count": 1,
   "metadata": {},
   "outputs": [],
   "source": [
    "import pandas as pd"
   ]
  },
  {
   "cell_type": "markdown",
   "metadata": {},
   "source": [
    "TODO: Capture also main configuration files in parent directory\n",
    "\n",
    "SMMain={'ParticleDefinitionsMain':[{'Description':{'Neutral Higgs':{'PDG':[0],'Width':0}}}]}\n",
    "SMMain['ParticleDefinitionsMain'][0]['Description']['Neutral Higgs']"
   ]
  },
  {
   "cell_type": "markdown",
   "metadata": {},
   "source": [
    "Build SM as dictionary to feed pandas"
   ]
  },
  {
   "cell_type": "code",
   "execution_count": 241,
   "metadata": {},
   "outputs": [],
   "source": [
    "#Matter fields\n",
    "# String in single double-quotes: '\"str\"'\n",
    "# LaTeX backslash as \\\\\\\\\n",
    "str_keys=['LaTeX','OutputName','Description']\n",
    "lst_keys=['PDG','PDG.IX']\n",
    "ParticleDefinitions={'GaugeES':\n",
    "                             {'H0':{'PDG'  :[0],\n",
    "                                    'Width':0,\n",
    "                                    'Mass' : 'Automatic',\n",
    "                                    'FeynArtsNr' : 1,\n",
    "                                    'LaTeX' : '\"H^0\"',\n",
    "                                    'OutputName' : '\"H0\"'                                   \n",
    "                                   },\n",
    "                              'Hp':{'PDG'  :[0],\n",
    "                                    'Width':0,\n",
    "                                    'Mass' : 'Automatic',\n",
    "                                    'FeynArtsNr' : 2,\n",
    "                                    'LaTeX' : '\"H^+\"',\n",
    "                                    'OutputName' : '\"Hp\"'                                   \n",
    "                                   },\n",
    "                              'VB' : {'Description' :'\"B-Boson\"'      },                                                   \n",
    "                              'VG' : {'Description' :'\"Gluon\"'        },          \n",
    "                              'VWB': {'Description' :'\"W-Bosons\"'     },          \n",
    "                              'gB' : {'Description' :'\"B-Boson Ghost\"'},                                                   \n",
    "                              'gG' : {'Description' :'\"Gluon Ghost\"'  },          \n",
    "                              'gWB': {'Description' :'\"W-Boson Ghost\"'}\n",
    "                             },\n",
    "                            'EWSB':\n",
    "                            {                                \n",
    "                            },\n",
    "                            'WeylFermionAndIndermediate':\n",
    "                            {   \n",
    "                            }\n",
    "                           }\n",
    "\n",
    "ParticleDefinitions['EWSB']['hh']={'Description' : '\"Higgs\"',\n",
    "                                   'PDG'         : [25],\n",
    "                                   'PDG.IX'      : [101000001]}\n",
    "ParticleDefinitions['EWSB']['Ah']={'Description' : \"Pseudo-Scalar Higgs\",\n",
    "                                   'PDG'         : [0],\n",
    "                                   'PDG.IX'      : [0],\n",
    "                                   'Mass'        : [0],\n",
    "                                   'Width'       : [0]\n",
    "                                   }\n",
    "ParticleDefinitions['EWSB']['Hp']={'Description'    : '\"Charged Higgs\"', \n",
    "                                   'PDG'            : [0],\n",
    "                                   'PDG.IX'         : [0],\n",
    "                                   'Width'          : [0], \n",
    "                                   'Mass'           : [0],\n",
    "                                   'LaTeX'          : [\"H^+\",\"H^-\" ],\n",
    "                                   'OutputName'     : [\"Hp\" ,\"Hm\"  ],\n",
    "                                   'ElectricCharge' : 1\n",
    "                                   }\n",
    "\n",
    "ParticleDefinitions['EWSB']['VP']  =  { 'Description' : '\"Photon\"'}\n",
    "ParticleDefinitions['EWSB']['VZ']  =  { 'Description' : '\"Z-Boson\"',\n",
    "                                        'Goldstone' : 'Ah' }\n",
    "ParticleDefinitions['EWSB']['VG']  =  { 'Description' : '\"Gluon\"' }\n",
    "ParticleDefinitions['EWSB']['VWp'] =  { 'Description' : '\"W+ - Boson\"',\n",
    "                                        'Goldstone': 'Hp' }\n",
    "ParticleDefinitions['EWSB']['gP']  =  { 'Description' : '\"Photon Ghost\"'}\n",
    "ParticleDefinitions['EWSB']['gWp'] =  { 'Description' : '\"Positive W+ - Boson Ghost\"'}\n",
    "ParticleDefinitions['EWSB']['gWpC']=  { 'Description' : '\"Negative W+ - Boson Ghost\"' }\n",
    "ParticleDefinitions['EWSB']['gZ']  =  { 'Description' : '\"Z-Boson Ghost\"' }\n",
    "ParticleDefinitions['EWSB']['gG']  =  { 'Description' : '\"Gluon Ghost\"' }\n",
    "ParticleDefinitions['EWSB']['Fd']  =  { 'Description' : '\"Down-Quarks\"'}\n",
    "ParticleDefinitions['EWSB']['Fu']  =  { 'Description' : '\"Up-Quarks\"'}\n",
    "ParticleDefinitions['EWSB']['Fe']  =  { 'Description' : '\"Leptons\"' }\n",
    "ParticleDefinitions['EWSB']['Fv']  =  { 'Description' : '\"Neutrinos\"' }\n",
    "\n",
    "ParticleDefinitions['WeylFermionAndIndermediate']['H' ] = {'PDG'       : [0],\n",
    "                                                           'Width'     : 0,\n",
    "                                                           'Mass'      : 'Automatic',\n",
    "                                                           'LaTeX'     : '\"H\"',\n",
    "                                                           'OutputName': '\"\"' }\n",
    "ParticleDefinitions['WeylFermionAndIndermediate']['dR'] = {'LaTeX' : '\"d_R\"'   }\n",
    "ParticleDefinitions['WeylFermionAndIndermediate']['eR'] = {'LaTeX' : '\"e_R\"'   }\n",
    "ParticleDefinitions['WeylFermionAndIndermediate']['l' ] = {'LaTeX' : '\"l\"'     }\n",
    "ParticleDefinitions['WeylFermionAndIndermediate']['uR'] = {'LaTeX' : '\"u_R\"'   }\n",
    "ParticleDefinitions['WeylFermionAndIndermediate']['q' ] = {'LaTeX' : '\"q\"'     }\n",
    "ParticleDefinitions['WeylFermionAndIndermediate']['eL'] = {'LaTeX' : '\"e_L\"'   }\n",
    "ParticleDefinitions['WeylFermionAndIndermediate']['dL'] = {'LaTeX' : '\"d_L\"'   }\n",
    "ParticleDefinitions['WeylFermionAndIndermediate']['uL'] = {'LaTeX' : '\"u_L\"'   }\n",
    "ParticleDefinitions['WeylFermionAndIndermediate']['vL'] = {'LaTeX' : '\"\\\\\\\\nu_L\"'}\n",
    "ParticleDefinitions['WeylFermionAndIndermediate']['DR'] = {'LaTeX' : '\"D_R\"'   }\n",
    "ParticleDefinitions['WeylFermionAndIndermediate']['ER'] = {'LaTeX' : '\"E_R\"'   }\n",
    "ParticleDefinitions['WeylFermionAndIndermediate']['UR'] = {'LaTeX' : '\"U_R\"'   }\n",
    "ParticleDefinitions['WeylFermionAndIndermediate']['EL'] = {'LaTeX' : '\"E_L\"'   }\n",
    "ParticleDefinitions['WeylFermionAndIndermediate']['DL'] = {'LaTeX' : '\"D_L\"'   }\n",
    "ParticleDefinitions['WeylFermionAndIndermediate']['UL'] = {'LaTeX' : '\"U_L\"'   }"
   ]
  },
  {
   "cell_type": "markdown",
   "metadata": {},
   "source": [
    "Example to modify dictionary entry"
   ]
  },
  {
   "cell_type": "code",
   "execution_count": 211,
   "metadata": {},
   "outputs": [],
   "source": [
    "ParticleDefinitions['GaugeES']['H0']['FeynArtsNr']=1"
   ]
  },
  {
   "cell_type": "markdown",
   "metadata": {},
   "source": [
    "## Feed a `pandas` `DataFrame`"
   ]
  },
  {
   "cell_type": "code",
   "execution_count": 212,
   "metadata": {},
   "outputs": [],
   "source": [
    "SM=pd.DataFrame( ParticleDefinitions  )"
   ]
  },
  {
   "cell_type": "markdown",
   "metadata": {},
   "source": [
    "Checks"
   ]
  },
  {
   "cell_type": "code",
   "execution_count": 213,
   "metadata": {},
   "outputs": [
    {
     "data": {
      "text/plain": [
       "{'FeynArtsNr': 1,\n",
       " 'LaTeX': '\"H^0\"',\n",
       " 'Mass': 'Automatic',\n",
       " 'OutputName': '\"H0\"',\n",
       " 'PDG': [0],\n",
       " 'Width': 0}"
      ]
     },
     "execution_count": 213,
     "metadata": {},
     "output_type": "execute_result"
    }
   ],
   "source": [
    "SM['GaugeES']['H0']"
   ]
  },
  {
   "cell_type": "code",
   "execution_count": 214,
   "metadata": {},
   "outputs": [
    {
     "data": {
      "text/plain": [
       "{'Description': '\"Z-Boson\"', 'Goldstone': 'Ah'}"
      ]
     },
     "execution_count": 214,
     "metadata": {},
     "output_type": "execute_result"
    }
   ],
   "source": [
    "SM['EWSB']['VZ']"
   ]
  },
  {
   "cell_type": "code",
   "execution_count": 215,
   "metadata": {},
   "outputs": [
    {
     "data": {
      "text/html": [
       "<div>\n",
       "<style scoped>\n",
       "    .dataframe tbody tr th:only-of-type {\n",
       "        vertical-align: middle;\n",
       "    }\n",
       "\n",
       "    .dataframe tbody tr th {\n",
       "        vertical-align: top;\n",
       "    }\n",
       "\n",
       "    .dataframe thead th {\n",
       "        text-align: right;\n",
       "    }\n",
       "</style>\n",
       "<table border=\"1\" class=\"dataframe\">\n",
       "  <thead>\n",
       "    <tr style=\"text-align: right;\">\n",
       "      <th></th>\n",
       "      <th>EWSB</th>\n",
       "      <th>GaugeES</th>\n",
       "      <th>WeylFermionAndIndermediate</th>\n",
       "    </tr>\n",
       "  </thead>\n",
       "  <tbody>\n",
       "    <tr>\n",
       "      <th>Ah</th>\n",
       "      <td>{'PDG': [0], 'Description': 'Pseudo-Scalar Hig...</td>\n",
       "      <td>NaN</td>\n",
       "      <td>NaN</td>\n",
       "    </tr>\n",
       "  </tbody>\n",
       "</table>\n",
       "</div>"
      ],
      "text/plain": [
       "                                                 EWSB GaugeES  \\\n",
       "Ah  {'PDG': [0], 'Description': 'Pseudo-Scalar Hig...     NaN   \n",
       "\n",
       "   WeylFermionAndIndermediate  \n",
       "Ah                        NaN  "
      ]
     },
     "execution_count": 215,
     "metadata": {},
     "output_type": "execute_result"
    }
   ],
   "source": [
    "SM[:1]"
   ]
  },
  {
   "cell_type": "markdown",
   "metadata": {},
   "source": [
    "Show a particle"
   ]
  },
  {
   "cell_type": "code",
   "execution_count": 216,
   "metadata": {},
   "outputs": [
    {
     "data": {
      "text/plain": [
       "{'FeynArtsNr': 1,\n",
       " 'LaTeX': '\"H^0\"',\n",
       " 'Mass': 'Automatic',\n",
       " 'OutputName': '\"H0\"',\n",
       " 'PDG': [0],\n",
       " 'Width': 0}"
      ]
     },
     "execution_count": 216,
     "metadata": {},
     "output_type": "execute_result"
    }
   ],
   "source": [
    "SM['GaugeES']['H0']"
   ]
  },
  {
   "cell_type": "markdown",
   "metadata": {},
   "source": [
    "Example: Modify particle property"
   ]
  },
  {
   "cell_type": "code",
   "execution_count": 217,
   "metadata": {},
   "outputs": [],
   "source": [
    "SM['WeylFermionAndIndermediate']['dR'] = {'LaTeX' : '\"d_R\"'   }"
   ]
  },
  {
   "cell_type": "markdown",
   "metadata": {},
   "source": [
    "## Save as JSON"
   ]
  },
  {
   "cell_type": "code",
   "execution_count": 218,
   "metadata": {},
   "outputs": [],
   "source": [
    "SM.to_json('SM.json')#,lines=True,orient='records')"
   ]
  },
  {
   "cell_type": "markdown",
   "metadata": {},
   "source": [
    "## Load JSON"
   ]
  },
  {
   "cell_type": "code",
   "execution_count": 219,
   "metadata": {},
   "outputs": [],
   "source": [
    "BSM=pd.read_json('SM.json')#,lines=True,orient='records')"
   ]
  },
  {
   "cell_type": "code",
   "execution_count": 220,
   "metadata": {},
   "outputs": [
    {
     "data": {
      "text/html": [
       "<div>\n",
       "<style scoped>\n",
       "    .dataframe tbody tr th:only-of-type {\n",
       "        vertical-align: middle;\n",
       "    }\n",
       "\n",
       "    .dataframe tbody tr th {\n",
       "        vertical-align: top;\n",
       "    }\n",
       "\n",
       "    .dataframe thead th {\n",
       "        text-align: right;\n",
       "    }\n",
       "</style>\n",
       "<table border=\"1\" class=\"dataframe\">\n",
       "  <thead>\n",
       "    <tr style=\"text-align: right;\">\n",
       "      <th></th>\n",
       "      <th>EWSB</th>\n",
       "      <th>GaugeES</th>\n",
       "      <th>WeylFermionAndIndermediate</th>\n",
       "    </tr>\n",
       "  </thead>\n",
       "  <tbody>\n",
       "    <tr>\n",
       "      <th>Ah</th>\n",
       "      <td>{'PDG': [0], 'Description': 'Pseudo-Scalar Hig...</td>\n",
       "      <td>None</td>\n",
       "      <td>None</td>\n",
       "    </tr>\n",
       "  </tbody>\n",
       "</table>\n",
       "</div>"
      ],
      "text/plain": [
       "                                                 EWSB GaugeES  \\\n",
       "Ah  {'PDG': [0], 'Description': 'Pseudo-Scalar Hig...    None   \n",
       "\n",
       "   WeylFermionAndIndermediate  \n",
       "Ah                       None  "
      ]
     },
     "execution_count": 220,
     "metadata": {},
     "output_type": "execute_result"
    }
   ],
   "source": [
    "BSM[:1]"
   ]
  },
  {
   "cell_type": "code",
   "execution_count": 221,
   "metadata": {},
   "outputs": [
    {
     "data": {
      "text/plain": [
       "{'FeynArtsNr': 1,\n",
       " 'LaTeX': '\"H^0\"',\n",
       " 'Mass': 'Automatic',\n",
       " 'OutputName': '\"H0\"',\n",
       " 'PDG': [0],\n",
       " 'Width': 0}"
      ]
     },
     "execution_count": 221,
     "metadata": {},
     "output_type": "execute_result"
    }
   ],
   "source": [
    "BSM['GaugeES'].dropna()['H0']"
   ]
  },
  {
   "cell_type": "code",
   "execution_count": 222,
   "metadata": {},
   "outputs": [
    {
     "data": {
      "text/plain": [
       "{'FeynArtsNr': 1,\n",
       " 'LaTeX': '\"H^0\"',\n",
       " 'Mass': 'Automatic',\n",
       " 'OutputName': '\"H0\"',\n",
       " 'PDG': [0],\n",
       " 'Width': 0}"
      ]
     },
     "execution_count": 222,
     "metadata": {},
     "output_type": "execute_result"
    }
   ],
   "source": [
    "BSM['GaugeES']['H0']"
   ]
  },
  {
   "cell_type": "code",
   "execution_count": 223,
   "metadata": {},
   "outputs": [
    {
     "data": {
      "text/plain": [
       "{'Description': '\"Z-Boson\"', 'Goldstone': 'Ah'}"
      ]
     },
     "execution_count": 223,
     "metadata": {},
     "output_type": "execute_result"
    }
   ],
   "source": [
    "BSM['EWSB']['VZ']"
   ]
  },
  {
   "cell_type": "code",
   "execution_count": 224,
   "metadata": {},
   "outputs": [],
   "source": [
    "#SM.loc['Ah','EWSB']['Mass']=[1]"
   ]
  },
  {
   "cell_type": "markdown",
   "metadata": {},
   "source": [
    "Still working..."
   ]
  },
  {
   "cell_type": "code",
   "execution_count": 225,
   "metadata": {},
   "outputs": [],
   "source": [
    "BSM['WeylFermionAndIndermediate']['dR'] = {'LaTeX' : '\"d_R\"'   }"
   ]
  },
  {
   "cell_type": "code",
   "execution_count": 226,
   "metadata": {},
   "outputs": [
    {
     "data": {
      "text/plain": [
       "{'Description': 'Pseudo-Scalar Higgs',\n",
       " 'Mass': [0],\n",
       " 'PDG': [0],\n",
       " 'PDG.IX': [0],\n",
       " 'Width': [0]}"
      ]
     },
     "execution_count": 226,
     "metadata": {},
     "output_type": "execute_result"
    }
   ],
   "source": [
    "BSM.loc['Ah','EWSB']"
   ]
  },
  {
   "cell_type": "markdown",
   "metadata": {},
   "source": [
    "## Export to files"
   ]
  },
  {
   "cell_type": "code",
   "execution_count": 227,
   "metadata": {},
   "outputs": [],
   "source": [
    "SM=BSM.loc[['Ah', 'DL', 'DR', 'EL', 'ER', 'Fd', 'Fe', 'Fu', 'Fv', 'H', 'H0', 'Hp',\n",
    "       'UL', 'UR', 'VB', 'VG', 'VP', 'VWB', 'VWp', 'VZ', 'dL', 'dR', 'eL',\n",
    "       'eR', 'gB', 'gG', 'gP', 'gWB', 'gWp', 'gWpC', 'gZ', 'hh', 'l', 'q',\n",
    "       'uL', 'uR', 'vL']]"
   ]
  },
  {
   "cell_type": "code",
   "execution_count": 244,
   "metadata": {},
   "outputs": [],
   "source": [
    "import json\n",
    "f=open('p.m','w')\n",
    "for c in SM.columns:\n",
    "    f.write('ParticleDefinitions[{}] = {{\\n'.format(c))\n",
    "    cindex=SM[c].dropna().index\n",
    "    csep=','\n",
    "    for p in cindex:\n",
    "        if p==list(cindex)[-1]:\n",
    "            csep=''\n",
    "        f.write('    {{{}, {{'.format(p))\n",
    "        cpkeys=SM[c][p].keys()\n",
    "        sangria=' '\n",
    "        sep=','\n",
    "        nl='\\n'\n",
    "        #TODO: Be sure that Description will be printed first\n",
    "        for k in cpkeys:\n",
    "            if k!=list(cpkeys)[0]:\n",
    "                sangria='           '\n",
    "            if k==list(cpkeys)[-1]:\n",
    "                sep=''\n",
    "                nl=''\n",
    "            #print list of strings with double quotes    \n",
    "            smcpk=SM[c][p][k]\n",
    "            if type(SM[c][p][k])==list:\n",
    "                smcpk=json.dumps( SM[c][p][k] )\n",
    "            f.write('{}{} -> {}{}{}'.format(sangria,k,\n",
    "                                     smcpk ,sep,nl))\n",
    "        f.write('}}}}{}\\n'.format(csep))\n",
    "    f.write('};\\n\\n')\n",
    "f.close()"
   ]
  },
  {
   "cell_type": "code",
   "execution_count": 245,
   "metadata": {},
   "outputs": [
    {
     "name": "stdout",
     "output_type": "stream",
     "text": [
      "ParticleDefinitions[EWSB] = {\r\n",
      "    {Ah, { PDG -> [0],\r\n",
      "           Description -> Pseudo-Scalar Higgs,\r\n",
      "           PDG.IX -> [0],\r\n",
      "           Mass -> [0],\r\n",
      "           Width -> [0]}},\r\n",
      "    {Fd, { Description -> \"Down-Quarks\"}},\r\n",
      "    {Fe, { Description -> \"Leptons\"}},\r\n",
      "    {Fu, { Description -> \"Up-Quarks\"}},\r\n",
      "    {Fv, { Description -> \"Neutrinos\"}},\r\n",
      "    {Hp, { OutputName -> [\"Hp\", \"Hm\"],\r\n",
      "           Mass -> [0],\r\n",
      "           ElectricCharge -> 1,\r\n",
      "           LaTeX -> [\"H^+\", \"H^-\"],\r\n",
      "           PDG -> [0],\r\n",
      "           Description -> \"Charged Higgs\",\r\n",
      "           PDG.IX -> [0],\r\n",
      "           Width -> [0]}},\r\n",
      "    {VG, { Description -> \"Gluon\"}},\r\n",
      "    {VP, { Description -> \"Photon\"}},\r\n",
      "    {VWp, { Description -> \"W+ - Boson\",\r\n",
      "           Goldstone -> Hp}},\r\n",
      "    {VZ, { Description -> \"Z-Boson\",\r\n",
      "           Goldstone -> Ah}},\r\n",
      "    {gG, { Description -> \"Gluon Ghost\"}},\r\n",
      "    {gP, { Description -> \"Photon Ghost\"}},\r\n",
      "    {gWp, { Description -> \"Positive W+ - Boson Ghost\"}},\r\n",
      "    {gWpC, { Description -> \"Negative W+ - Boson Ghost\"}},\r\n",
      "    {gZ, { Description -> \"Z-Boson Ghost\"}},\r\n",
      "    {hh, { PDG -> [25],\r\n",
      "           Description -> \"Higgs\",\r\n",
      "           PDG.IX -> [101000001]}}\r\n",
      "};\r\n",
      "\r\n",
      "ParticleDefinitions[GaugeES] = {\r\n",
      "    {H0, { OutputName -> \"H0\",\r\n",
      "           Mass -> Automatic,\r\n",
      "           FeynArtsNr -> 1,\r\n",
      "           PDG -> [0],\r\n",
      "           LaTeX -> \"H^0\",\r\n",
      "           Width -> 0}},\r\n",
      "    {Hp, { OutputName -> \"Hp\",\r\n",
      "           Mass -> Automatic,\r\n",
      "           FeynArtsNr -> 2,\r\n",
      "           PDG -> [0],\r\n",
      "           LaTeX -> \"H^+\",\r\n",
      "           Width -> 0}},\r\n",
      "    {VB, { Description -> \"B-Boson\"}},\r\n",
      "    {VG, { Description -> \"Gluon\"}},\r\n",
      "    {VWB, { Description -> \"W-Bosons\"}},\r\n",
      "    {gB, { Description -> \"B-Boson Ghost\"}},\r\n",
      "    {gG, { Description -> \"Gluon Ghost\"}},\r\n",
      "    {gWB, { Description -> \"W-Boson Ghost\"}}\r\n",
      "};\r\n",
      "\r\n",
      "ParticleDefinitions[WeylFermionAndIndermediate] = {\r\n",
      "    {DL, { LaTeX -> \"D_L\"}},\r\n",
      "    {DR, { LaTeX -> \"D_R\"}},\r\n",
      "    {EL, { LaTeX -> \"E_L\"}},\r\n",
      "    {ER, { LaTeX -> \"E_R\"}},\r\n",
      "    {H, { OutputName -> \"\",\r\n",
      "           LaTeX -> \"H\",\r\n",
      "           PDG -> [0],\r\n",
      "           Mass -> Automatic,\r\n",
      "           Width -> 0}},\r\n",
      "    {UL, { LaTeX -> \"U_L\"}},\r\n",
      "    {UR, { LaTeX -> \"U_R\"}},\r\n",
      "    {dL, { LaTeX -> \"d_L\"}},\r\n",
      "    {dR, { LaTeX -> \"d_R\"}},\r\n",
      "    {eL, { LaTeX -> \"e_L\"}},\r\n",
      "    {eR, { LaTeX -> \"e_R\"}},\r\n",
      "    {l, { LaTeX -> \"l\"}},\r\n",
      "    {q, { LaTeX -> \"q\"}},\r\n",
      "    {uL, { LaTeX -> \"u_L\"}},\r\n",
      "    {uR, { LaTeX -> \"u_R\"}},\r\n",
      "    {vL, { LaTeX -> \"\\\\nu_L\"}}\r\n",
      "};\r\n",
      "\r\n"
     ]
    }
   ],
   "source": [
    "cat p.m"
   ]
  },
  {
   "cell_type": "code",
   "execution_count": 231,
   "metadata": {},
   "outputs": [],
   "source": [
    "c='EWSB'\n",
    "p='Hp'\n",
    "k='OutputName'"
   ]
  },
  {
   "cell_type": "code",
   "execution_count": 133,
   "metadata": {},
   "outputs": [
    {
     "data": {
      "text/plain": [
       "dict_keys(['OutputName', 'Mass', 'FeynArtsNr', 'PDG', 'LaTeX', 'Width'])"
      ]
     },
     "execution_count": 133,
     "metadata": {},
     "output_type": "execute_result"
    }
   ],
   "source": [
    "SM[c][p].keys()"
   ]
  },
  {
   "cell_type": "code",
   "execution_count": 233,
   "metadata": {},
   "outputs": [],
   "source": [
    "import json"
   ]
  },
  {
   "cell_type": "code",
   "execution_count": 236,
   "metadata": {},
   "outputs": [
    {
     "data": {
      "text/plain": [
       "'[0]'"
      ]
     },
     "execution_count": 236,
     "metadata": {},
     "output_type": "execute_result"
    }
   ],
   "source": [
    "json.dumps( SM[c][p]['Mass'] )"
   ]
  },
  {
   "cell_type": "code",
   "execution_count": 63,
   "metadata": {},
   "outputs": [
    {
     "name": "stdout",
     "output_type": "stream",
     "text": [
      "OutputName \"H0\"\n",
      "Mass Automatic\n",
      "FeynArtsNr 1\n",
      "PDG [0]\n",
      "LaTeX \"H^0\"\n",
      "Width 0\n"
     ]
    }
   ],
   "source": [
    "for k in SM[c][p].keys():\n",
    "    print(k,SM[c][p][k] )"
   ]
  },
  {
   "cell_type": "code",
   "execution_count": 77,
   "metadata": {},
   "outputs": [
    {
     "data": {
      "text/plain": [
       "{'FeynArtsNr': 1,\n",
       " 'LaTeX': '\"H^0\"',\n",
       " 'Mass': 'Automatic',\n",
       " 'OutputName': '\"H0\"',\n",
       " 'PDG': [0],\n",
       " 'Width': 0}"
      ]
     },
     "execution_count": 77,
     "metadata": {},
     "output_type": "execute_result"
    }
   ],
   "source": [
    "SM['GaugeES']['H0']"
   ]
  },
  {
   "cell_type": "markdown",
   "metadata": {},
   "source": [
    "## Get particle from model file"
   ]
  },
  {
   "cell_type": "code",
   "execution_count": 35,
   "metadata": {},
   "outputs": [
    {
     "data": {
      "text/plain": [
       "'/home/restrepo/tmp'"
      ]
     },
     "execution_count": 35,
     "metadata": {},
     "output_type": "execute_result"
    }
   ],
   "source": [
    "pwd"
   ]
  },
  {
   "cell_type": "code",
   "execution_count": 36,
   "metadata": {},
   "outputs": [],
   "source": [
    "MODEL_PATH=\"./SARAH/Models/SM/SM.m\""
   ]
  },
  {
   "cell_type": "code",
   "execution_count": 61,
   "metadata": {},
   "outputs": [],
   "source": [
    "f=open(MODEL_PATH,'r')"
   ]
  },
  {
   "cell_type": "code",
   "execution_count": 62,
   "metadata": {},
   "outputs": [],
   "source": [
    "smf=f.read()\n",
    "f.close()"
   ]
  },
  {
   "cell_type": "code",
   "execution_count": 47,
   "metadata": {},
   "outputs": [],
   "source": [
    "import re\n",
    "import cmdlike as cmd"
   ]
  },
  {
   "cell_type": "code",
   "execution_count": 330,
   "metadata": {},
   "outputs": [
    {
     "name": "stdout",
     "output_type": "stream",
     "text": [
      "('B,   U[1], hypercharge, g1,False',) Gauge 5\n",
      "{'Properties': {'Group': '   U[1]', 'Coupling': ' g1', 'SSB': ' g1', 'Index': ' hypercharge'}, 'Parent': None, 'Field': 'VB', 'Definition': 'GaugeES'}\n",
      "('WB, SU[2], left,        g2,True',) Gauge 5\n",
      "{'Properties': {'Group': ' SU[2]', 'Coupling': '        g2', 'SSB': '        g2', 'Index': ' left'}, 'Parent': None, 'Field': 'VWB', 'Definition': 'GaugeES'}\n",
      "('G,  SU[3], color,       g3,False',) Gauge 5\n",
      "{'Properties': {'Group': '  SU[3]', 'Coupling': '       g3', 'SSB': '       g3', 'Index': ' color'}, 'Parent': None, 'Field': 'VG', 'Definition': 'GaugeES'}\n",
      "('q, 3, uL:: dL,     1/6, 2,  3;  ',) FermionFields 6\n",
      "**********\n",
      " uL:: dL [' uL', ' dL']\n",
      " uL\n",
      " dL\n",
      "**********\n",
      "('l, 3, vL:: eL,    -1/2, 2,  1;',) FermionFields 6\n",
      "**********\n",
      " vL:: eL [' vL', ' eL']\n",
      " vL\n",
      " eL\n",
      "**********\n",
      "('d, 3, conj[dR],     1/3, 1, -3',) FermionFields 6\n",
      "**********\n",
      " conj[dR] [' dR']\n",
      " dR\n",
      "**********\n",
      "('u, 3, conj[uR],    -2/3, 1, -3',) FermionFields 6\n",
      "**********\n",
      " conj[uR] [' uR']\n",
      " uR\n",
      "**********\n",
      "('e, 3, conj[eR],       1, 1,  1',) FermionFields 6\n",
      "**********\n",
      " conj[eR] [' eR']\n",
      " eR\n",
      "**********\n",
      "('H, 1, Hp:: H0,     1/2, 2,  1;',) ScalarFields 6\n",
      "**********\n",
      " Hp:: H0 [' Hp', ' H0']\n",
      " Hp\n",
      " H0\n",
      "**********\n"
     ]
    }
   ],
   "source": [
    "particles=[]\n",
    "particlessons=[]\n",
    "\n",
    "Fields=['Gauge','FermionFields','ScalarFields']\n",
    "i=1\n",
    "Field=Fields[i]\n",
    "for Field in Fields:\n",
    "    for f in cmd.grep(Field,smf).split('\\n'):\n",
    "        particle={}\n",
    "        if not re.search('^\\s*\\(\\*',f):\n",
    "            #Fix components fields\n",
    "            ff=f.split('{')\n",
    "            if len(ff) ==3:\n",
    "                fff=ff[2].split('}')\n",
    "                f=ff[0]+'{'+ff[1]+fff[0].replace(',','::')+''.join(fff[1:])+'};'\n",
    "            g=re.search('%s\\[\\[[0-9]+\\]\\]\\s*=\\s*\\{(.*)\\s*\\}\\s*;\\s*' \n",
    "                %Field,f)\n",
    "                \n",
    "            if g:\n",
    "                try:\n",
    "                    fp=g.groups()[0].split(',')\n",
    "                except 'KeyError':\n",
    "                    fp=[]\n",
    "                if len(fp)>0:\n",
    "                    print(g.groups(),Field,len(fp))\n",
    "                    particle['Field']=fp[0].strip()\n",
    "                    particle['Parent']=None\n",
    "                    particle['Properties']={}\n",
    "                if Field=='Gauge' and len(fp)>=5:\n",
    "                    particle['Field']='V'+particle['Field']\n",
    "                    particle['Properties']['Group']=fp[1]\n",
    "                    particle['Definition']='GaugeES'\n",
    "                    particle['Properties']['Index']=fp[2]\n",
    "                    particle['Properties']['Coupling']=fp[3]\n",
    "                    particle['Properties']['SSB']=fp[3]\n",
    "                    print(particle)\n",
    "                else: \n",
    "                    if len(fp)>=6:\n",
    "                        particle['Properties']['NF']=fp[1].strip()\n",
    "                        particle['Properties']['Groups']=fp[3:]\n",
    "                        particle['Definition']='WeylFermionAndIndermediate'\n",
    "                        print(\"**********\")\n",
    "                        sons=re.sub('conj\\[(\\w+)\\]',r'\\1', fp[2] ).split('::')\n",
    "                        print(fp[2],sons)\n",
    "                        for s in sons:\n",
    "                            print(s)\n",
    "                            particleson={}\n",
    "                            particleson['Field']=s.strip()\n",
    "                            if Field=='FermionFields':\n",
    "                                particleson['Definition']='WeylFermionAndIndermediate'\n",
    "                            elif Field=='ScalarFields':\n",
    "                                particleson['Definition']='GaugeES'\n",
    "                            particleson['Parent']=particle['Field']\n",
    "                            particleson['Properties']={}\n",
    "                            particleson['Properties']['NF']=particle['Properties']['NF']\n",
    "                            particlessons=particlessons+[particleson]\n",
    "                        print(\"**********\")\n",
    "\n",
    "                particles.append(particle)\n",
    "particles=particles+particlessons\n"
   ]
  },
  {
   "cell_type": "code",
   "execution_count": 335,
   "metadata": {},
   "outputs": [
    {
     "name": "stdout",
     "output_type": "stream",
     "text": [
      "DEFINITION[EWSB][GaugeSector] =\n",
      "DEFINITION[EWSB][VEVs]= \n",
      "DEFINITION[EWSB][MatterSector]=   \n",
      "DEFINITION[EWSB][DiracSpinors]={\n",
      "DEFINITION[EWSB][GaugeES]={\n"
     ]
    }
   ],
   "source": []
  },
  {
   "cell_type": "code",
   "execution_count": 332,
   "metadata": {},
   "outputs": [
    {
     "data": {
      "text/plain": [
       "'Off[General::spell]\\n\\nModel`Name = \"SM\";\\nModel`NameLaTeX =\"Standard Model\";\\nModel`Authors = \"F.Staub\";\\nModel`Date = \"2014-11-06\";\\n\\n(* 2013-01-24: changed normalization of lambda term to convention of hep-ph/0207271 *)\\n(* 2013-06-24: using new name conventions (without inital \"S\" and \"F\" for scalar and matter fields) *)\\n(* 2013-09-01: changing to new conventions for FermionFields/MatterFields *)\\n(* 2014-11-06: Changed sign in Lagrangian to fit standard conventions *)\\n(* 2016-05-03: Changed sign of Yu *)\\n\\n\\n\\n(*-------------------------------------------*)\\n(*   Particle Content*)\\n(*-------------------------------------------*)\\n\\n(* Gauge Groups *)\\n\\nGauge[[1]]={B,   U[1], hypercharge, g1,False};\\nGauge[[2]]={WB, SU[2], left,        g2,True};\\nGauge[[3]]={G,  SU[3], color,       g3,False};\\n\\n\\n(* Matter Fields *)\\n\\nFermionFields[[1]] = {q, 3, {uL, dL},     1/6, 2,  3};  \\nFermionFields[[2]] = {l, 3, {vL, eL},    -1/2, 2,  1};\\nFermionFields[[3]] = {d, 3, conj[dR],     1/3, 1, -3};\\nFermionFields[[4]] = {u, 3, conj[uR],    -2/3, 1, -3};\\nFermionFields[[5]] = {e, 3, conj[eR],       1, 1,  1};\\n\\nScalarFields[[1]] =  {H, 1, {Hp, H0},     1/2, 2,  1};\\n\\n\\n        \\n(*----------------------------------------------*)\\n(*   DEFINITION                                 *)\\n(*----------------------------------------------*)\\n\\nNameOfStates={GaugeES, EWSB};\\n\\n(* ----- Before EWSB ----- *)\\n\\nDEFINITION[GaugeES][LagrangianInput]= {\\n\\t{LagHC, {AddHC->True}},\\n\\t{LagNoHC,{AddHC->False}}\\n};\\n\\n\\nLagNoHC = -mu2 conj[H].H - 1/2 \\\\[Lambda] conj[H].H.conj[H].H;\\nLagHC =  -(Yd conj[H].d.q + Ye conj[H].e.l + Yu u.q.H);\\n\\n\\n\\t\\t\\t  \\t\\t  \\n\\n(* Gauge Sector *)\\n\\nDEFINITION[EWSB][GaugeSector] =\\n{ \\n  {{VB,VWB[3]},{VP,VZ},ZZ},\\n  {{VWB[1],VWB[2]},{VWp,conj[VWp]},ZW}\\n};     \\n        \\n        \\n          \\t\\n\\n(* ----- VEVs ---- *)\\n\\nDEFINITION[EWSB][VEVs]= \\n{    {H0, {v, 1/Sqrt[2]}, {Ah, \\\\[ImaginaryI]/Sqrt[2]},{hh, 1/Sqrt[2]}}     };\\n \\n\\nDEFINITION[EWSB][MatterSector]=   \\n    {{{{dL}, {conj[dR]}}, {{DL,Vd}, {DR,Ud}}},\\n     {{{uL}, {conj[uR]}}, {{UL,Vu}, {UR,Uu}}},\\n     {{{eL}, {conj[eR]}}, {{EL,Ve}, {ER,Ue}}}};  \\n\\n\\n(*------------------------------------------------------*)\\n(* Dirac-Spinors *)\\n(*------------------------------------------------------*)\\n\\nDEFINITION[EWSB][DiracSpinors]={\\n Fd ->{  DL, conj[DR]},\\n Fe ->{  EL, conj[ER]},\\n Fu ->{  UL, conj[UR]},\\n Fv ->{  vL, 0}};\\n\\nDEFINITION[EWSB][GaugeES]={\\n Fd1 ->{  FdL, 0},\\n Fd2 ->{  0, FdR},\\n Fu1 ->{  Fu1, 0},\\n Fu2 ->{  0, Fu2},\\n Fe1 ->{  Fe1, 0},\\n Fe2 ->{  0, Fe2}};\\n\\n\\n\\n'"
      ]
     },
     "execution_count": 332,
     "metadata": {},
     "output_type": "execute_result"
    }
   ],
   "source": [
    "smf"
   ]
  },
  {
   "cell_type": "code",
   "execution_count": 328,
   "metadata": {},
   "outputs": [
    {
     "data": {
      "text/html": [
       "<div>\n",
       "<style scoped>\n",
       "    .dataframe tbody tr th:only-of-type {\n",
       "        vertical-align: middle;\n",
       "    }\n",
       "\n",
       "    .dataframe tbody tr th {\n",
       "        vertical-align: top;\n",
       "    }\n",
       "\n",
       "    .dataframe thead th {\n",
       "        text-align: right;\n",
       "    }\n",
       "</style>\n",
       "<table border=\"1\" class=\"dataframe\">\n",
       "  <thead>\n",
       "    <tr style=\"text-align: right;\">\n",
       "      <th></th>\n",
       "      <th>Definition</th>\n",
       "      <th>Field</th>\n",
       "      <th>Parent</th>\n",
       "      <th>Properties</th>\n",
       "    </tr>\n",
       "  </thead>\n",
       "  <tbody>\n",
       "    <tr>\n",
       "      <th>0</th>\n",
       "      <td>GaugeES</td>\n",
       "      <td>VB</td>\n",
       "      <td>None</td>\n",
       "      <td>{'Group': '   U[1]', 'Coupling': ' g1', 'SSB':...</td>\n",
       "    </tr>\n",
       "    <tr>\n",
       "      <th>1</th>\n",
       "      <td>GaugeES</td>\n",
       "      <td>VWB</td>\n",
       "      <td>None</td>\n",
       "      <td>{'Group': ' SU[2]', 'Coupling': '        g2', ...</td>\n",
       "    </tr>\n",
       "    <tr>\n",
       "      <th>2</th>\n",
       "      <td>GaugeES</td>\n",
       "      <td>VG</td>\n",
       "      <td>None</td>\n",
       "      <td>{'Group': '  SU[3]', 'Coupling': '       g3', ...</td>\n",
       "    </tr>\n",
       "    <tr>\n",
       "      <th>3</th>\n",
       "      <td>WeylFermionAndIndermediate</td>\n",
       "      <td>q</td>\n",
       "      <td>None</td>\n",
       "      <td>{'NF': '3', 'Groups': ['     1/6', ' 2', '  3;...</td>\n",
       "    </tr>\n",
       "    <tr>\n",
       "      <th>4</th>\n",
       "      <td>WeylFermionAndIndermediate</td>\n",
       "      <td>l</td>\n",
       "      <td>None</td>\n",
       "      <td>{'NF': '3', 'Groups': ['    -1/2', ' 2', '  1;']}</td>\n",
       "    </tr>\n",
       "    <tr>\n",
       "      <th>5</th>\n",
       "      <td>WeylFermionAndIndermediate</td>\n",
       "      <td>d</td>\n",
       "      <td>None</td>\n",
       "      <td>{'NF': '3', 'Groups': ['     1/3', ' 1', ' -3']}</td>\n",
       "    </tr>\n",
       "    <tr>\n",
       "      <th>6</th>\n",
       "      <td>WeylFermionAndIndermediate</td>\n",
       "      <td>u</td>\n",
       "      <td>None</td>\n",
       "      <td>{'NF': '3', 'Groups': ['    -2/3', ' 1', ' -3']}</td>\n",
       "    </tr>\n",
       "    <tr>\n",
       "      <th>7</th>\n",
       "      <td>WeylFermionAndIndermediate</td>\n",
       "      <td>e</td>\n",
       "      <td>None</td>\n",
       "      <td>{'NF': '3', 'Groups': ['       1', ' 1', '  1']}</td>\n",
       "    </tr>\n",
       "    <tr>\n",
       "      <th>8</th>\n",
       "      <td>WeylFermionAndIndermediate</td>\n",
       "      <td>H</td>\n",
       "      <td>None</td>\n",
       "      <td>{'NF': '1', 'Groups': ['     1/2', ' 2', '  1;']}</td>\n",
       "    </tr>\n",
       "    <tr>\n",
       "      <th>9</th>\n",
       "      <td>WeylFermionAndIndermediate</td>\n",
       "      <td>uL</td>\n",
       "      <td>q</td>\n",
       "      <td>{'NF': '3'}</td>\n",
       "    </tr>\n",
       "    <tr>\n",
       "      <th>10</th>\n",
       "      <td>WeylFermionAndIndermediate</td>\n",
       "      <td>dL</td>\n",
       "      <td>q</td>\n",
       "      <td>{'NF': '3'}</td>\n",
       "    </tr>\n",
       "    <tr>\n",
       "      <th>11</th>\n",
       "      <td>WeylFermionAndIndermediate</td>\n",
       "      <td>vL</td>\n",
       "      <td>l</td>\n",
       "      <td>{'NF': '3'}</td>\n",
       "    </tr>\n",
       "    <tr>\n",
       "      <th>12</th>\n",
       "      <td>WeylFermionAndIndermediate</td>\n",
       "      <td>eL</td>\n",
       "      <td>l</td>\n",
       "      <td>{'NF': '3'}</td>\n",
       "    </tr>\n",
       "    <tr>\n",
       "      <th>13</th>\n",
       "      <td>WeylFermionAndIndermediate</td>\n",
       "      <td>dR</td>\n",
       "      <td>d</td>\n",
       "      <td>{'NF': '3'}</td>\n",
       "    </tr>\n",
       "    <tr>\n",
       "      <th>14</th>\n",
       "      <td>WeylFermionAndIndermediate</td>\n",
       "      <td>uR</td>\n",
       "      <td>u</td>\n",
       "      <td>{'NF': '3'}</td>\n",
       "    </tr>\n",
       "    <tr>\n",
       "      <th>15</th>\n",
       "      <td>WeylFermionAndIndermediate</td>\n",
       "      <td>eR</td>\n",
       "      <td>e</td>\n",
       "      <td>{'NF': '3'}</td>\n",
       "    </tr>\n",
       "    <tr>\n",
       "      <th>16</th>\n",
       "      <td>GaugeES</td>\n",
       "      <td>Hp</td>\n",
       "      <td>H</td>\n",
       "      <td>{'NF': '1'}</td>\n",
       "    </tr>\n",
       "    <tr>\n",
       "      <th>17</th>\n",
       "      <td>GaugeES</td>\n",
       "      <td>H0</td>\n",
       "      <td>H</td>\n",
       "      <td>{'NF': '1'}</td>\n",
       "    </tr>\n",
       "  </tbody>\n",
       "</table>\n",
       "</div>"
      ],
      "text/plain": [
       "                    Definition Field Parent  \\\n",
       "0                      GaugeES    VB   None   \n",
       "1                      GaugeES   VWB   None   \n",
       "2                      GaugeES    VG   None   \n",
       "3   WeylFermionAndIndermediate     q   None   \n",
       "4   WeylFermionAndIndermediate     l   None   \n",
       "5   WeylFermionAndIndermediate     d   None   \n",
       "6   WeylFermionAndIndermediate     u   None   \n",
       "7   WeylFermionAndIndermediate     e   None   \n",
       "8   WeylFermionAndIndermediate     H   None   \n",
       "9   WeylFermionAndIndermediate    uL      q   \n",
       "10  WeylFermionAndIndermediate    dL      q   \n",
       "11  WeylFermionAndIndermediate    vL      l   \n",
       "12  WeylFermionAndIndermediate    eL      l   \n",
       "13  WeylFermionAndIndermediate    dR      d   \n",
       "14  WeylFermionAndIndermediate    uR      u   \n",
       "15  WeylFermionAndIndermediate    eR      e   \n",
       "16                     GaugeES    Hp      H   \n",
       "17                     GaugeES    H0      H   \n",
       "\n",
       "                                           Properties  \n",
       "0   {'Group': '   U[1]', 'Coupling': ' g1', 'SSB':...  \n",
       "1   {'Group': ' SU[2]', 'Coupling': '        g2', ...  \n",
       "2   {'Group': '  SU[3]', 'Coupling': '       g3', ...  \n",
       "3   {'NF': '3', 'Groups': ['     1/6', ' 2', '  3;...  \n",
       "4   {'NF': '3', 'Groups': ['    -1/2', ' 2', '  1;']}  \n",
       "5    {'NF': '3', 'Groups': ['     1/3', ' 1', ' -3']}  \n",
       "6    {'NF': '3', 'Groups': ['    -2/3', ' 1', ' -3']}  \n",
       "7    {'NF': '3', 'Groups': ['       1', ' 1', '  1']}  \n",
       "8   {'NF': '1', 'Groups': ['     1/2', ' 2', '  1;']}  \n",
       "9                                         {'NF': '3'}  \n",
       "10                                        {'NF': '3'}  \n",
       "11                                        {'NF': '3'}  \n",
       "12                                        {'NF': '3'}  \n",
       "13                                        {'NF': '3'}  \n",
       "14                                        {'NF': '3'}  \n",
       "15                                        {'NF': '3'}  \n",
       "16                                        {'NF': '1'}  \n",
       "17                                        {'NF': '1'}  "
      ]
     },
     "execution_count": 328,
     "metadata": {},
     "output_type": "execute_result"
    }
   ],
   "source": [
    "pd.DataFrame( particles )"
   ]
  },
  {
   "cell_type": "code",
   "execution_count": 425,
   "metadata": {},
   "outputs": [
    {
     "data": {
      "text/plain": [
       "''"
      ]
     },
     "execution_count": 425,
     "metadata": {},
     "output_type": "execute_result"
    }
   ],
   "source": [
    "fields=''\n",
    "fields"
   ]
  },
  {
   "cell_type": "code",
   "execution_count": 450,
   "metadata": {},
   "outputs": [
    {
     "name": "stdout",
     "output_type": "stream",
     "text": [
      "False False Off[General::spell] ::  ::\n",
      "False False  ::  ::\n",
      "False False Model`Name = \"SM\"; ::  ::\n",
      "False False Model`NameLaTeX =\"Standard Model\"; ::  ::\n",
      "False False Model`Authors = \"F.Staub\"; ::  ::\n",
      "False False Model`Date = \"2014-11-06\"; ::  ::\n",
      "False False  ::  ::\n",
      "False False (* 2013-01-24: changed normalization of lambda term to convention of hep-ph/0207271 *) ::  ::\n",
      "False False (* 2013-06-24: using new name conventions (without inital \"S\" and \"F\" for scalar and matter fields) *) ::  ::\n",
      "False False (* 2013-09-01: changing to new conventions for FermionFields/MatterFields *) ::  ::\n",
      "False False (* 2014-11-06: Changed sign in Lagrangian to fit standard conventions *) ::  ::\n",
      "False False (* 2016-05-03: Changed sign of Yu *) ::  ::\n",
      "False False  ::  ::\n",
      "False False  ::  ::\n",
      "False False  ::  ::\n",
      "False False (*-------------------------------------------*) ::  ::\n",
      "False False (*   Particle Content*) ::  ::\n",
      "False False (*-------------------------------------------*) ::  ::\n",
      "False False  ::  ::\n",
      "False False (* Gauge Groups *) ::  ::\n",
      "False False  ::  ::\n",
      "False False Gauge[[1]]={B,   U[1], hypercharge, g1,False}; ::  ::\n",
      "False False Gauge[[2]]={WB, SU[2], left,        g2,True}; ::  ::\n",
      "False False Gauge[[3]]={G,  SU[3], color,       g3,False}; ::  ::\n",
      "False False  ::  ::\n",
      "False False  ::  ::\n",
      "False False (* Matter Fields *) ::  ::\n",
      "False False  ::  ::\n",
      "False False FermionFields[[1]] = {q, 3, {uL, dL},     1/6, 2,  3};   ::  ::\n",
      "False False FermionFields[[2]] = {l, 3, {vL, eL},    -1/2, 2,  1}; ::  ::\n",
      "False False FermionFields[[3]] = {d, 3, conj[dR],     1/3, 1, -3}; ::  ::\n",
      "False False FermionFields[[4]] = {u, 3, conj[uR],    -2/3, 1, -3}; ::  ::\n",
      "False False FermionFields[[5]] = {e, 3, conj[eR],       1, 1,  1}; ::  ::\n",
      "False False  ::  ::\n",
      "False False ScalarFields[[1]] =  {H, 1, {Hp, H0},     1/2, 2,  1}; ::  ::\n",
      "False False  ::  ::\n",
      "False False  ::  ::\n",
      "False False          ::  ::\n",
      "False False (*----------------------------------------------*) ::  ::\n",
      "False False (*   DEFINITION                                 *) ::  ::\n",
      "False False (*----------------------------------------------*) ::  ::\n",
      "False False  ::  ::\n",
      "False False NameOfStates={GaugeES, EWSB}; ::  ::\n",
      "False False  ::  ::\n",
      "False False (* ----- Before EWSB ----- *) ::  ::\n",
      "False False  ::  ::\n",
      "False False DEFINITION[GaugeES][LagrangianInput]= { ::  ::\n",
      "False False \t{LagHC, {AddHC->True}}, ::  ::\n",
      "False False \t{LagNoHC,{AddHC->False}} ::  ::\n",
      "False False }; ::  ::\n",
      "False False  ::  ::\n",
      "False False  ::  ::\n",
      "False False LagNoHC = -mu2 conj[H].H - 1/2 \\[Lambda] conj[H].H.conj[H].H; ::  ::\n",
      "False False LagHC =  -(Yd conj[H].d.q + Ye conj[H].e.l + Yu u.q.H); ::  ::\n",
      "False False  ::  ::\n",
      "False False  ::  ::\n",
      "False False \t\t\t  \t\t   ::  ::\n",
      "False False  ::  ::\n",
      "False False (* Gauge Sector *) ::  ::\n",
      "False False  ::  ::\n",
      "**** GaugeSector\n",
      "True False DEFINITION[EWSB][GaugeSector] = ::  ::\n",
      "True True {  :: {  ::\n",
      "True True   {{VB,VWB[3]},{VP,VZ},ZZ}, :: {   {{VB,VWB[3]},{VP,VZ},ZZ}, ::\n",
      "True True   {{VWB[1],VWB[2]},{VWp,conj[VWp]},ZW} :: {   {{VB,VWB[3]},{VP,VZ},ZZ},  {{VWB[1],VWB[2]},{VWp,conj[VWp]},ZW} ::\n",
      "GaugeSector\n",
      "False False };      ::  ::\n",
      "False False          ::  ::\n",
      "False False          ::  ::\n",
      "False False           \t ::  ::\n",
      "False False  ::  ::\n",
      "False False (* ----- VEVs ---- *) ::  ::\n",
      "False False  ::  ::\n",
      "**** VEVs\n",
      "True False DEFINITION[EWSB][VEVs]=  ::  ::\n",
      "VEVs\n",
      "False False {    {H0, {v, 1/Sqrt[2]}, {Ah, \\[ImaginaryI]/Sqrt[2]},{hh, 1/Sqrt[2]}}     }; ::  ::\n",
      "False False   ::  ::\n",
      "False False  ::  ::\n",
      "**** MatterSector\n",
      "True False DEFINITION[EWSB][MatterSector]=    ::  ::\n",
      "True True     {{{{dL}, {conj[dR]}}, {{DL,Vd}, {DR,Ud}}}, ::     {{{{dL}, {conj[dR]}}, {{DL,Vd}, {DR,Ud}}}, ::\n",
      "True True      {{{uL}, {conj[uR]}}, {{UL,Vu}, {UR,Uu}}}, ::     {{{{dL}, {conj[dR]}}, {{DL,Vd}, {DR,Ud}}},     {{{uL}, {conj[uR]}}, {{UL,Vu}, {UR,Uu}}}, ::\n",
      "MatterSector\n",
      "False False      {{{eL}, {conj[eR]}}, {{EL,Ve}, {ER,Ue}}}};   ::  ::\n",
      "False False  ::  ::\n",
      "False False  ::  ::\n",
      "False False (*------------------------------------------------------*) ::  ::\n",
      "False False (* Dirac-Spinors *) ::  ::\n",
      "False False (*------------------------------------------------------*) ::  ::\n",
      "False False  ::  ::\n",
      "**** DiracSpinors\n",
      "True True DEFINITION[EWSB][DiracSpinors]={ :: DEFINITION[EWSB][DiracSpinors]={ ::\n",
      "True True  Fd ->{  DL, conj[DR]}, :: DEFINITION[EWSB][DiracSpinors]={ Fd ->{  DL, conj[DR]}, ::\n",
      "True True  Fe ->{  EL, conj[ER]}, :: DEFINITION[EWSB][DiracSpinors]={ Fd ->{  DL, conj[DR]}, Fe ->{  EL, conj[ER]}, ::\n",
      "True True  Fu ->{  UL, conj[UR]}, :: DEFINITION[EWSB][DiracSpinors]={ Fd ->{  DL, conj[DR]}, Fe ->{  EL, conj[ER]}, Fu ->{  UL, conj[UR]}, ::\n",
      "DiracSpinors\n",
      "False False  Fv ->{  vL, 0}}; ::  ::\n",
      "False False  ::  ::\n",
      "**** GaugeES\n",
      "True True DEFINITION[EWSB][GaugeES]={ :: DEFINITION[EWSB][GaugeES]={ ::\n",
      "True True  Fd1 ->{  FdL, 0}, :: DEFINITION[EWSB][GaugeES]={ Fd1 ->{  FdL, 0}, ::\n",
      "True True  Fd2 ->{  0, FdR}, :: DEFINITION[EWSB][GaugeES]={ Fd1 ->{  FdL, 0}, Fd2 ->{  0, FdR}, ::\n",
      "True True  Fu1 ->{  Fu1, 0}, :: DEFINITION[EWSB][GaugeES]={ Fd1 ->{  FdL, 0}, Fd2 ->{  0, FdR}, Fu1 ->{  Fu1, 0}, ::\n",
      "True True  Fu2 ->{  0, Fu2}, :: DEFINITION[EWSB][GaugeES]={ Fd1 ->{  FdL, 0}, Fd2 ->{  0, FdR}, Fu1 ->{  Fu1, 0}, Fu2 ->{  0, Fu2}, ::\n",
      "True True  Fe1 ->{  Fe1, 0}, :: DEFINITION[EWSB][GaugeES]={ Fd1 ->{  FdL, 0}, Fd2 ->{  0, FdR}, Fu1 ->{  Fu1, 0}, Fu2 ->{  0, Fu2}, Fe1 ->{  Fe1, 0}, ::\n",
      "GaugeES\n",
      "False False  Fe2 ->{  0, Fe2}}; ::  ::\n",
      "False False  ::  ::\n",
      "False False  ::  ::\n",
      "False False  ::  ::\n",
      "False False  ::  ::\n"
     ]
    }
   ],
   "source": [
    "dsbl=[]\n",
    "start=False\n",
    "startlist=False\n",
    "fields=''\n",
    "dsbt=''\n",
    "for f in smf.split('\\n'):\n",
    "    dsb=re.search('DEFINITION\\[EWSB\\]\\[(\\w+)\\]',f)\n",
    "\n",
    "    if dsb:\n",
    "        dsbt=dsb.groups()[0]\n",
    "        print('****',dsb.groups()[0])\n",
    "        start=True\n",
    "        \n",
    "\n",
    "\n",
    "    if start and f.find('{')>-1:\n",
    "        #print('====')\n",
    "        startlist=True\n",
    "        #reak\n",
    "    if startlist:\n",
    "        fields=fields+f\n",
    "    if re.search('\\}\\s*;',f):\n",
    "        start=False\n",
    "        startlist=False\n",
    "        if fields:\n",
    "            print(dsbt)\n",
    "            dsbl.append( {dsbt:fields.split('=')[-1]} )\n",
    "        fields=''\n",
    "    \n",
    "    print(start,startlist,f,'::',fields,'::')\n",
    "    #if f.find('VEVs')>-1:\n",
    "    #    break\n",
    "\n",
    "        \n",
    "        \n",
    "        \n"
   ]
  },
  {
   "cell_type": "code",
   "execution_count": 451,
   "metadata": {},
   "outputs": [
    {
     "data": {
      "text/plain": [
       "[{'GaugeSector': '{   {{VB,VWB[3]},{VP,VZ},ZZ},  {{VWB[1],VWB[2]},{VWp,conj[VWp]},ZW}};     '},\n",
       " {'VEVs': '{    {H0, {v, 1/Sqrt[2]}, {Ah, \\\\[ImaginaryI]/Sqrt[2]},{hh, 1/Sqrt[2]}}     };'},\n",
       " {'MatterSector': '    {{{{dL}, {conj[dR]}}, {{DL,Vd}, {DR,Ud}}},     {{{uL}, {conj[uR]}}, {{UL,Vu}, {UR,Uu}}},     {{{eL}, {conj[eR]}}, {{EL,Ve}, {ER,Ue}}}};  '},\n",
       " {'DiracSpinors': '{ Fd ->{  DL, conj[DR]}, Fe ->{  EL, conj[ER]}, Fu ->{  UL, conj[UR]}, Fv ->{  vL, 0}};'},\n",
       " {'GaugeES': '{ Fd1 ->{  FdL, 0}, Fd2 ->{  0, FdR}, Fu1 ->{  Fu1, 0}, Fu2 ->{  0, Fu2}, Fe1 ->{  Fe1, 0}, Fe2 ->{  0, Fe2}};'}]"
      ]
     },
     "execution_count": 451,
     "metadata": {},
     "output_type": "execute_result"
    }
   ],
   "source": [
    "dsbl"
   ]
  },
  {
   "cell_type": "code",
   "execution_count": 390,
   "metadata": {},
   "outputs": [
    {
     "data": {
      "text/plain": [
       "True"
      ]
     },
     "execution_count": 390,
     "metadata": {},
     "output_type": "execute_result"
    }
   ],
   "source": [
    "start and f.find('{')>-1"
   ]
  },
  {
   "cell_type": "code",
   "execution_count": 356,
   "metadata": {},
   "outputs": [],
   "source": [
    "r"
   ]
  },
  {
   "cell_type": "code",
   "execution_count": 355,
   "metadata": {},
   "outputs": [
    {
     "ename": "AttributeError",
     "evalue": "'NoneType' object has no attribute 'groups'",
     "output_type": "error",
     "traceback": [
      "\u001b[0;31m---------------------------------------------------------------------------\u001b[0m",
      "\u001b[0;31mAttributeError\u001b[0m                            Traceback (most recent call last)",
      "\u001b[0;32m<ipython-input-355-6544d8091b4d>\u001b[0m in \u001b[0;36m<module>\u001b[0;34m()\u001b[0m\n\u001b[0;32m----> 1\u001b[0;31m \u001b[0mr\u001b[0m\u001b[0;34m.\u001b[0m\u001b[0mgroups\u001b[0m\u001b[0;34m(\u001b[0m\u001b[0;34m)\u001b[0m\u001b[0;34m[\u001b[0m\u001b[0;36m0\u001b[0m\u001b[0;34m]\u001b[0m\u001b[0;34m\u001b[0m\u001b[0m\n\u001b[0m",
      "\u001b[0;31mAttributeError\u001b[0m: 'NoneType' object has no attribute 'groups'"
     ]
    }
   ],
   "source": [
    "r.groups()[0]"
   ]
  },
  {
   "cell_type": "code",
   "execution_count": 222,
   "metadata": {},
   "outputs": [
    {
     "data": {
      "text/plain": [
       "'FermionFields[[1]] = {q, 3, [uL:: dL],     1/6, 2,  3};'"
      ]
     },
     "execution_count": 222,
     "metadata": {},
     "output_type": "execute_result"
    }
   ],
   "source": [
    "re.sub( '(\\{)(.*)\\{\\w+, dL\\}(.*)(\\}\\s*;\\s*)',r'\\1\\2[uL:: dL]\\3\\4' , 'FermionFields[[1]] = {q, 3, {uL, dL},     1/6, 2,  3};')"
   ]
  },
  {
   "cell_type": "code",
   "execution_count": 112,
   "metadata": {},
   "outputs": [
    {
     "name": "stdout",
     "output_type": "stream",
     "text": [
      "Off[General::spell]\n",
      "\n",
      "Model`Name = \"SM\";\n",
      "Model`NameLaTeX =\"Standard Model\";\n",
      "Model`Authors = \"F.Staub\";\n",
      "Model`Date = \"2014-11-06\";\n",
      "\n",
      "(* 2013-01-24: changed normalization of lambda term to convention of hep-ph/0207271 *)\n",
      "(* 2013-06-24: using new name conventions (without inital \"S\" and \"F\" for scalar and matter fields) *)\n",
      "(* 2013-09-01: changing to new conventions for FermionFields/MatterFields *)\n",
      "(* 2014-11-06: Changed sign in Lagrangian to fit standard conventions *)\n",
      "(* 2016-05-03: Changed sign of Yu *)\n",
      "\n",
      "\n",
      "\n",
      "(*-------------------------------------------*)\n",
      "(*   Particle Content*)\n",
      "(*-------------------------------------------*)\n",
      "\n",
      "(* Gauge Groups *)\n",
      "\n",
      "Gauge[[1]]={B,   U[1], hypercharge, g1,False};\n",
      "Gauge[[2]]={WB, SU[2], left,        g2,True};\n",
      "Gauge[[3]]={G,  SU[3], color,       g3,False};\n",
      "\n",
      "\n",
      "(* Matter Fields *)\n",
      "\n",
      "FermionFields[[1]] = {q, 3, {uL, dL},     1/6, 2,  3};  \n",
      "FermionFields[[2]] = {l, 3, {vL, eL},    -1/2, 2,  1};\n",
      "FermionFields[[3]] = {d, 3, conj[dR],     1/3, 1, -3};\n",
      "FermionFields[[4]] = {u, 3, conj[uR],    -2/3, 1, -3};\n",
      "FermionFields[[5]] = {e, 3, conj[eR],       1, 1,  1};\n",
      "\n",
      "ScalarFields[[1]] =  {H, 1, {Hp, H0},     1/2, 2,  1};\n",
      "\n",
      "\n",
      "        \n",
      "(*----------------------------------------------*)\n",
      "(*   DEFINITION                                 *)\n",
      "(*----------------------------------------------*)\n",
      "\n",
      "NameOfStates={GaugeES, EWSB};\n",
      "\n",
      "(* ----- Before EWSB ----- *)\n",
      "\n",
      "DEFINITION[GaugeES][LagrangianInput]= {\n",
      "\t{LagHC, {AddHC->True}},\n",
      "\t{LagNoHC,{AddHC->False}}\n",
      "};\n",
      "\n",
      "\n",
      "LagNoHC = -mu2 conj[H].H - 1/2 \\[Lambda] conj[H].H.conj[H].H;\n",
      "LagHC =  -(Yd conj[H].d.q + Ye conj[H].e.l + Yu u.q.H);\n",
      "\n",
      "\n",
      "\t\t\t  \t\t  \n",
      "\n",
      "(* Gauge Sector *)\n",
      "\n",
      "DEFINITION[EWSB][GaugeSector] =\n",
      "{ \n",
      "  {{VB,VWB[3]},{VP,VZ},ZZ},\n",
      "  {{VWB[1],VWB[2]},{VWp,conj[VWp]},ZW}\n",
      "};     \n",
      "        \n",
      "        \n",
      "          \t\n",
      "\n",
      "(* ----- VEVs ---- *)\n",
      "\n",
      "DEFINITION[EWSB][VEVs]= \n",
      "{    {H0, {v, 1/Sqrt[2]}, {Ah, \\[ImaginaryI]/Sqrt[2]},{hh, 1/Sqrt[2]}}     };\n",
      " \n",
      "\n",
      "DEFINITION[EWSB][MatterSector]=   \n",
      "    {{{{dL}, {conj[dR]}}, {{DL,Vd}, {DR,Ud}}},\n",
      "     {{{uL}, {conj[uR]}}, {{UL,Vu}, {UR,Uu}}},\n",
      "     {{{eL}, {conj[eR]}}, {{EL,Ve}, {ER,Ue}}}};  \n",
      "\n",
      "\n",
      "(*------------------------------------------------------*)\n",
      "(* Dirac-Spinors *)\n",
      "(*------------------------------------------------------*)\n",
      "\n",
      "DEFINITION[EWSB][DiracSpinors]={\n",
      " Fd ->{  DL, conj[DR]},\n",
      " Fe ->{  EL, conj[ER]},\n",
      " Fu ->{  UL, conj[UR]},\n",
      " Fv ->{  vL, 0}};\n",
      "\n",
      "DEFINITION[EWSB][GaugeES]={\n",
      " Fd1 ->{  FdL, 0},\n",
      " Fd2 ->{  0, FdR},\n",
      " Fu1 ->{  Fu1, 0},\n",
      " Fu2 ->{  0, Fu2},\n",
      " Fe1 ->{  Fe1, 0},\n",
      " Fe2 ->{  0, Fe2}};\n",
      "\n",
      "\n",
      "\n",
      "\n"
     ]
    }
   ],
   "source": [
    "print(smf)"
   ]
  },
  {
   "cell_type": "code",
   "execution_count": null,
   "metadata": {},
   "outputs": [],
   "source": []
  }
 ],
 "metadata": {
  "kernelspec": {
   "display_name": "Python 3",
   "language": "python",
   "name": "python3"
  },
  "language_info": {
   "codemirror_mode": {
    "name": "ipython",
    "version": 3
   },
   "file_extension": ".py",
   "mimetype": "text/x-python",
   "name": "python",
   "nbconvert_exporter": "python",
   "pygments_lexer": "ipython3",
   "version": "3.5.3"
  },
  "latex_envs": {
   "LaTeX_envs_menu_present": true,
   "autoclose": false,
   "autocomplete": true,
   "bibliofile": "biblio.bib",
   "cite_by": "apalike",
   "current_citInitial": 1,
   "eqLabelWithNumbers": true,
   "eqNumInitial": 1,
   "hotkeys": {
    "equation": "Ctrl-E",
    "itemize": "Ctrl-I"
   },
   "labels_anchors": false,
   "latex_user_defs": false,
   "report_style_numbering": false,
   "user_envs_cfg": false
  }
 },
 "nbformat": 4,
 "nbformat_minor": 2
}
