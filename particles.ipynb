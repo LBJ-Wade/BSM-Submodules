{
 "cells": [
  {
   "cell_type": "markdown",
   "metadata": {},
   "source": [
    "# Particles generator"
   ]
  },
  {
   "cell_type": "markdown",
   "metadata": {},
   "source": [
    "The SM will be defined as pandas file in JSON format.\n",
    "In this file it will be shown the definition of such a file from a dictionary"
   ]
  },
  {
   "cell_type": "code",
   "execution_count": 163,
   "metadata": {},
   "outputs": [
    {
     "name": "stdout",
     "output_type": "stream",
     "text": [
      "{\"EWSB\":{\"Ah\":{\"PDG\":[0],\"Width\":[0],\"Description\":\"Pseudo-Scalar Higgs\",\"Mass\":\r\n"
     ]
    }
   ],
   "source": [
    "cat kk.json | cut -c1-80"
   ]
  },
  {
   "cell_type": "code",
   "execution_count": 1,
   "metadata": {},
   "outputs": [],
   "source": [
    "import pandas as pd"
   ]
  },
  {
   "cell_type": "markdown",
   "metadata": {},
   "source": [
    "TODO: Capture also main configuration files in parent directory\n",
    "\n",
    "SMMain={'ParticleDefinitionsMain':[{'Description':{'Neutral Higgs':{'PDG':[0],'Width':0}}}]}\n",
    "SMMain['ParticleDefinitionsMain'][0]['Description']['Neutral Higgs']"
   ]
  },
  {
   "cell_type": "markdown",
   "metadata": {},
   "source": [
    "Build SM as dictionary to feed pandas"
   ]
  },
  {
   "cell_type": "code",
   "execution_count": 559,
   "metadata": {},
   "outputs": [],
   "source": [
    "#Matter fields\n",
    "# LaTeX backslash as \\\\\\\\\n",
    "str_keys=['LaTeX','OutputName','Description']\n",
    "lst_keys=['PDG','PDG.IX']\n",
    "ParticleDefinitions={'GaugeES':\n",
    "                             {'H0':{'PDG'  :[0],\n",
    "                                    'Width':0,\n",
    "                                    'Mass' : 'Automatic',\n",
    "                                    'FeynArtsNr' : 1,\n",
    "                                    'LaTeX' : 'H^0',\n",
    "                                    'OutputName' : 'H0'                                   \n",
    "                                   },\n",
    "                              'Hp':{'PDG'  :[0],\n",
    "                                    'Width':0,\n",
    "                                    'Mass' : 'Automatic',\n",
    "                                    'FeynArtsNr' : 2,\n",
    "                                    'LaTeX' : 'H^+',\n",
    "                                    'OutputName' : 'Hp'                                   \n",
    "                                   },\n",
    "                              'VB' : {'Description' :'B-Boson'      },                                                   \n",
    "                              'VG' : {'Description' :'Gluon'        },          \n",
    "                              'VWB': {'Description' :'W-Bosons'     },          \n",
    "                              'gB' : {'Description' :'B-Boson Ghost'},                                                   \n",
    "                              'gG' : {'Description' :'Gluon Ghost'  },          \n",
    "                              'gWB': {'Description' :'W-Boson Ghost'}\n",
    "                             },\n",
    "                            'EWSB':\n",
    "                            {                                \n",
    "                            },\n",
    "                            'WeylFermionAndIndermediate':\n",
    "                            {   \n",
    "                            }\n",
    "                           }\n",
    "\n",
    "ParticleDefinitions['EWSB']['hh']={'Description' : 'Higgs',\n",
    "                                   'PDG'         : [25],\n",
    "                                   'PDG.IX'      : [101000001]}\n",
    "ParticleDefinitions['EWSB']['Ah']={'Description' : \"Pseudo-Scalar Higgs\",\n",
    "                                   'PDG'         : [0],\n",
    "                                   'PDG.IX'      : [0],\n",
    "                                   'Mass'        : [0],\n",
    "                                   'Width'       : [0]\n",
    "                                   }\n",
    "ParticleDefinitions['EWSB']['Hp']={'Description'    : 'Charged Higgs', \n",
    "                                   'PDG'            : [0],\n",
    "                                   'PDG.IX'         : [0],\n",
    "                                   'Width'          : [0], \n",
    "                                   'Mass'           : [0],\n",
    "                                   'LaTeX'          : ['H^+','H^-' ],\n",
    "                                   'OutputName'     : ['Hp' ,'Hm'  ],\n",
    "                                   'ElectricCharge' : 1\n",
    "                                   }\n",
    "\n",
    "ParticleDefinitions['EWSB']['VP']  =  { 'Description' : 'Photon'}\n",
    "ParticleDefinitions['EWSB']['VZ']  =  { 'Description' : 'Z-Boson',\n",
    "                                        'Goldstone' : 'Ah' }\n",
    "ParticleDefinitions['EWSB']['VG']  =  { 'Description' : 'Gluon' }\n",
    "ParticleDefinitions['EWSB']['VWp'] =  { 'Description' : 'W+ - Boson',\n",
    "                                        'Goldstone': 'Hp' }\n",
    "ParticleDefinitions['EWSB']['gP']  =  { 'Description' : 'Photon Ghost'}\n",
    "ParticleDefinitions['EWSB']['gWp'] =  { 'Description' : 'Positive W+ - Boson Ghost'}\n",
    "ParticleDefinitions['EWSB']['gWpC']=  { 'Description' : 'Negative W+ - Boson Ghost' }\n",
    "ParticleDefinitions['EWSB']['gZ']  =  { 'Description' : 'Z-Boson Ghost' }\n",
    "ParticleDefinitions['EWSB']['gG']  =  { 'Description' : 'Gluon Ghost' }\n",
    "ParticleDefinitions['EWSB']['Fd']  =  { 'Description' : 'Down-Quarks'}\n",
    "ParticleDefinitions['EWSB']['Fu']  =  { 'Description' : 'Up-Quarks'}\n",
    "ParticleDefinitions['EWSB']['Fe']  =  { 'Description' : 'Leptons' }\n",
    "ParticleDefinitions['EWSB']['Fv']  =  { 'Description' : 'Neutrinos' }\n",
    "\n",
    "ParticleDefinitions['WeylFermionAndIndermediate']['H' ] = {'PDG'       : [0],\n",
    "                                                           'Width'     : 0,\n",
    "                                                           'Mass'      : 'Automatic',\n",
    "                                                           'LaTeX'     : 'H',\n",
    "                                                           'OutputName': '' }\n",
    "ParticleDefinitions['WeylFermionAndIndermediate']['dR'] = {'LaTeX' : 'd_R'   }\n",
    "ParticleDefinitions['WeylFermionAndIndermediate']['eR'] = {'LaTeX' : 'e_R'   }\n",
    "ParticleDefinitions['WeylFermionAndIndermediate']['l' ] = {'LaTeX' : 'l'     }\n",
    "ParticleDefinitions['WeylFermionAndIndermediate']['uR'] = {'LaTeX' : 'u_R'   }\n",
    "ParticleDefinitions['WeylFermionAndIndermediate']['q' ] = {'LaTeX' : 'q'     }\n",
    "ParticleDefinitions['WeylFermionAndIndermediate']['eL'] = {'LaTeX' : 'e_L'   }\n",
    "ParticleDefinitions['WeylFermionAndIndermediate']['dL'] = {'LaTeX' : 'd_L'   }\n",
    "ParticleDefinitions['WeylFermionAndIndermediate']['uL'] = {'LaTeX' : 'u_L'   }\n",
    "ParticleDefinitions['WeylFermionAndIndermediate']['vL'] = {'LaTeX' : '\\\\\\\\nu_L'}\n",
    "ParticleDefinitions['WeylFermionAndIndermediate']['DR'] = {'LaTeX' : 'D_R'   }\n",
    "ParticleDefinitions['WeylFermionAndIndermediate']['ER'] = {'LaTeX' : 'E_R'   }\n",
    "ParticleDefinitions['WeylFermionAndIndermediate']['UR'] = {'LaTeX' : 'U_R'   }\n",
    "ParticleDefinitions['WeylFermionAndIndermediate']['EL'] = {'LaTeX' : 'E_L'   }\n",
    "ParticleDefinitions['WeylFermionAndIndermediate']['DL'] = {'LaTeX' : 'D_L'   }\n",
    "ParticleDefinitions['WeylFermionAndIndermediate']['UL'] = {'LaTeX' : 'U_L'   }"
   ]
  },
  {
   "cell_type": "markdown",
   "metadata": {},
   "source": [
    "Example to modify dictionary entry"
   ]
  },
  {
   "cell_type": "code",
   "execution_count": 562,
   "metadata": {},
   "outputs": [],
   "source": [
    "ParticleDefinitions['GaugeES']['H0']['FeynArtsNr']=1"
   ]
  },
  {
   "cell_type": "markdown",
   "metadata": {},
   "source": [
    "## Save as JSON"
   ]
  },
  {
   "cell_type": "code",
   "execution_count": 563,
   "metadata": {},
   "outputs": [],
   "source": [
    "f=open('SM.json','w')\n",
    "json.dump(ParticleDefinitions,f)\n",
    "f.close()"
   ]
  },
  {
   "cell_type": "markdown",
   "metadata": {},
   "source": [
    "Check if `pandas` can read it"
   ]
  },
  {
   "cell_type": "code",
   "execution_count": 571,
   "metadata": {},
   "outputs": [
    {
     "data": {
      "text/plain": [
       "{'Description': 'Charged Higgs',\n",
       " 'ElectricCharge': 1,\n",
       " 'LaTeX': ['H^+', 'H^-'],\n",
       " 'Mass': [0],\n",
       " 'OutputName': ['Hp', 'Hm'],\n",
       " 'PDG': [0],\n",
       " 'PDG.IX': [0],\n",
       " 'Width': [0]}"
      ]
     },
     "execution_count": 571,
     "metadata": {},
     "output_type": "execute_result"
    }
   ],
   "source": [
    "pd.read_json('kk.json').loc['Hp']['EWSB']"
   ]
  },
  {
   "cell_type": "markdown",
   "metadata": {},
   "source": [
    "## Feed a `pandas` `DataFrame`"
   ]
  },
  {
   "cell_type": "code",
   "execution_count": 594,
   "metadata": {},
   "outputs": [],
   "source": [
    "SM=pd.DataFrame( ParticleDefinitions  )"
   ]
  },
  {
   "cell_type": "markdown",
   "metadata": {},
   "source": [
    "Checks"
   ]
  },
  {
   "cell_type": "code",
   "execution_count": 595,
   "metadata": {},
   "outputs": [
    {
     "data": {
      "text/plain": [
       "{'FeynArtsNr': 1,\n",
       " 'LaTeX': 'H^0',\n",
       " 'Mass': 'Automatic',\n",
       " 'OutputName': 'H0',\n",
       " 'PDG': [0],\n",
       " 'Width': 0}"
      ]
     },
     "execution_count": 595,
     "metadata": {},
     "output_type": "execute_result"
    }
   ],
   "source": [
    "SM['GaugeES']['H0']"
   ]
  },
  {
   "cell_type": "code",
   "execution_count": 596,
   "metadata": {},
   "outputs": [
    {
     "data": {
      "text/plain": [
       "{'Description': 'Z-Boson', 'Goldstone': 'Ah'}"
      ]
     },
     "execution_count": 596,
     "metadata": {},
     "output_type": "execute_result"
    }
   ],
   "source": [
    "SM['EWSB']['VZ']"
   ]
  },
  {
   "cell_type": "code",
   "execution_count": 597,
   "metadata": {},
   "outputs": [
    {
     "data": {
      "text/html": [
       "<div>\n",
       "<style scoped>\n",
       "    .dataframe tbody tr th:only-of-type {\n",
       "        vertical-align: middle;\n",
       "    }\n",
       "\n",
       "    .dataframe tbody tr th {\n",
       "        vertical-align: top;\n",
       "    }\n",
       "\n",
       "    .dataframe thead th {\n",
       "        text-align: right;\n",
       "    }\n",
       "</style>\n",
       "<table border=\"1\" class=\"dataframe\">\n",
       "  <thead>\n",
       "    <tr style=\"text-align: right;\">\n",
       "      <th></th>\n",
       "      <th>EWSB</th>\n",
       "      <th>GaugeES</th>\n",
       "      <th>WeylFermionAndIndermediate</th>\n",
       "    </tr>\n",
       "  </thead>\n",
       "  <tbody>\n",
       "    <tr>\n",
       "      <th>Ah</th>\n",
       "      <td>{'Mass': [0], 'PDG.IX': [0], 'PDG': [0], 'Desc...</td>\n",
       "      <td>NaN</td>\n",
       "      <td>NaN</td>\n",
       "    </tr>\n",
       "  </tbody>\n",
       "</table>\n",
       "</div>"
      ],
      "text/plain": [
       "                                                 EWSB GaugeES  \\\n",
       "Ah  {'Mass': [0], 'PDG.IX': [0], 'PDG': [0], 'Desc...     NaN   \n",
       "\n",
       "   WeylFermionAndIndermediate  \n",
       "Ah                        NaN  "
      ]
     },
     "execution_count": 597,
     "metadata": {},
     "output_type": "execute_result"
    }
   ],
   "source": [
    "SM[:1]"
   ]
  },
  {
   "cell_type": "markdown",
   "metadata": {},
   "source": [
    "Show a particle"
   ]
  },
  {
   "cell_type": "code",
   "execution_count": 598,
   "metadata": {},
   "outputs": [
    {
     "data": {
      "text/plain": [
       "{'FeynArtsNr': 1,\n",
       " 'LaTeX': 'H^0',\n",
       " 'Mass': 'Automatic',\n",
       " 'OutputName': 'H0',\n",
       " 'PDG': [0],\n",
       " 'Width': 0}"
      ]
     },
     "execution_count": 598,
     "metadata": {},
     "output_type": "execute_result"
    }
   ],
   "source": [
    "SM['GaugeES']['H0']"
   ]
  },
  {
   "cell_type": "markdown",
   "metadata": {},
   "source": [
    "Example: Modify particle property"
   ]
  },
  {
   "cell_type": "code",
   "execution_count": 599,
   "metadata": {},
   "outputs": [],
   "source": [
    "SM['WeylFermionAndIndermediate']['dR'] = {'LaTeX' : 'd_R'   }"
   ]
  },
  {
   "cell_type": "code",
   "execution_count": 600,
   "metadata": {},
   "outputs": [],
   "source": [
    "SM.to_json('SM2.json')#,lines=True,orient='records')"
   ]
  },
  {
   "cell_type": "markdown",
   "metadata": {},
   "source": [
    "## Load JSON\n",
    "Directly fromo the `json.dumps...`"
   ]
  },
  {
   "cell_type": "code",
   "execution_count": 602,
   "metadata": {},
   "outputs": [],
   "source": [
    "BSM=pd.read_json('SM.json')#,lines=True,orient='records')"
   ]
  },
  {
   "cell_type": "code",
   "execution_count": 603,
   "metadata": {},
   "outputs": [
    {
     "data": {
      "text/html": [
       "<div>\n",
       "<style scoped>\n",
       "    .dataframe tbody tr th:only-of-type {\n",
       "        vertical-align: middle;\n",
       "    }\n",
       "\n",
       "    .dataframe tbody tr th {\n",
       "        vertical-align: top;\n",
       "    }\n",
       "\n",
       "    .dataframe thead th {\n",
       "        text-align: right;\n",
       "    }\n",
       "</style>\n",
       "<table border=\"1\" class=\"dataframe\">\n",
       "  <thead>\n",
       "    <tr style=\"text-align: right;\">\n",
       "      <th></th>\n",
       "      <th>EWSB</th>\n",
       "      <th>GaugeES</th>\n",
       "      <th>WeylFermionAndIndermediate</th>\n",
       "    </tr>\n",
       "  </thead>\n",
       "  <tbody>\n",
       "    <tr>\n",
       "      <th>Ah</th>\n",
       "      <td>{'Mass': [0], 'PDG.IX': [0], 'PDG': [0], 'Desc...</td>\n",
       "      <td>NaN</td>\n",
       "      <td>NaN</td>\n",
       "    </tr>\n",
       "  </tbody>\n",
       "</table>\n",
       "</div>"
      ],
      "text/plain": [
       "                                                 EWSB GaugeES  \\\n",
       "Ah  {'Mass': [0], 'PDG.IX': [0], 'PDG': [0], 'Desc...     NaN   \n",
       "\n",
       "   WeylFermionAndIndermediate  \n",
       "Ah                        NaN  "
      ]
     },
     "execution_count": 603,
     "metadata": {},
     "output_type": "execute_result"
    }
   ],
   "source": [
    "BSM[:1]"
   ]
  },
  {
   "cell_type": "code",
   "execution_count": 604,
   "metadata": {},
   "outputs": [
    {
     "data": {
      "text/plain": [
       "{'FeynArtsNr': 1,\n",
       " 'LaTeX': 'H^0',\n",
       " 'Mass': 'Automatic',\n",
       " 'OutputName': 'H0',\n",
       " 'PDG': [0],\n",
       " 'Width': 0}"
      ]
     },
     "execution_count": 604,
     "metadata": {},
     "output_type": "execute_result"
    }
   ],
   "source": [
    "BSM['GaugeES'].dropna()['H0']"
   ]
  },
  {
   "cell_type": "code",
   "execution_count": 605,
   "metadata": {},
   "outputs": [
    {
     "data": {
      "text/plain": [
       "{'FeynArtsNr': 1,\n",
       " 'LaTeX': 'H^0',\n",
       " 'Mass': 'Automatic',\n",
       " 'OutputName': 'H0',\n",
       " 'PDG': [0],\n",
       " 'Width': 0}"
      ]
     },
     "execution_count": 605,
     "metadata": {},
     "output_type": "execute_result"
    }
   ],
   "source": [
    "BSM['GaugeES']['H0']"
   ]
  },
  {
   "cell_type": "code",
   "execution_count": 606,
   "metadata": {},
   "outputs": [
    {
     "data": {
      "text/plain": [
       "{'Description': 'Z-Boson', 'Goldstone': 'Ah'}"
      ]
     },
     "execution_count": 606,
     "metadata": {},
     "output_type": "execute_result"
    }
   ],
   "source": [
    "BSM['EWSB']['VZ']"
   ]
  },
  {
   "cell_type": "code",
   "execution_count": 607,
   "metadata": {},
   "outputs": [],
   "source": [
    "#SM.loc['Ah','EWSB']['Mass']=[1]"
   ]
  },
  {
   "cell_type": "markdown",
   "metadata": {},
   "source": [
    "Still working..."
   ]
  },
  {
   "cell_type": "code",
   "execution_count": 608,
   "metadata": {},
   "outputs": [],
   "source": [
    "BSM['WeylFermionAndIndermediate']['dR'] = {'LaTeX' : 'd_R'   }"
   ]
  },
  {
   "cell_type": "code",
   "execution_count": 609,
   "metadata": {},
   "outputs": [
    {
     "data": {
      "text/plain": [
       "{'Description': 'Pseudo-Scalar Higgs',\n",
       " 'Mass': [0],\n",
       " 'PDG': [0],\n",
       " 'PDG.IX': [0],\n",
       " 'Width': [0]}"
      ]
     },
     "execution_count": 609,
     "metadata": {},
     "output_type": "execute_result"
    }
   ],
   "source": [
    "BSM.loc['Ah','EWSB']"
   ]
  },
  {
   "cell_type": "markdown",
   "metadata": {},
   "source": [
    "## Export to files"
   ]
  },
  {
   "cell_type": "code",
   "execution_count": 610,
   "metadata": {},
   "outputs": [],
   "source": [
    "SM=BSM.loc[['Ah', 'DL', 'DR', 'EL', 'ER', 'Fd', 'Fe', 'Fu', 'Fv', 'H', 'H0', 'Hp',\n",
    "       'UL', 'UR', 'VB', 'VG', 'VP', 'VWB', 'VWp', 'VZ', 'dL', 'dR', 'eL',\n",
    "       'eR', 'gB', 'gG', 'gP', 'gWB', 'gWp', 'gWpC', 'gZ', 'hh', 'l', 'q',\n",
    "       'uL', 'uR', 'vL']]"
   ]
  },
  {
   "cell_type": "code",
   "execution_count": 612,
   "metadata": {},
   "outputs": [],
   "source": [
    "CHECK_PANDAS_SAVED_JSON=True\n",
    "if CHECK_PANDAS_SAVED_JSON:\n",
    "    SM=pd.read_json('SM2.json')#,lines=True,orient='records')"
   ]
  },
  {
   "cell_type": "code",
   "execution_count": 613,
   "metadata": {},
   "outputs": [],
   "source": [
    "import json\n",
    "f=open('p.m','w')\n",
    "for c in SM.columns:\n",
    "    f.write('ParticleDefinitions[{}] = {{\\n'.format(c))\n",
    "    cindex=SM[c].dropna().index\n",
    "    csep=','\n",
    "    for p in cindex:\n",
    "        if p==list(cindex)[-1]:\n",
    "            csep=''\n",
    "        f.write('    {{{}, {{'.format(p))\n",
    "        cpkeys=SM[c][p].keys()\n",
    "        sangria=' '\n",
    "        sep=','\n",
    "        nl='\\n'\n",
    "        #TODO: Be sure that Description will be printed first\n",
    "        for k in cpkeys:\n",
    "            if k!=list(cpkeys)[0]:\n",
    "                sangria='           '\n",
    "            if k==list(cpkeys)[-1]:\n",
    "                sep=''\n",
    "                nl=''\n",
    "            #print list of strings with double quotes\n",
    "            cp='{}{} -> '.format(sangria,k)\n",
    "            smcpk=SM[c][p][k]\n",
    "            if type(smcpk)==str:\n",
    "                smcpk='\"{}\"'.format(smcpk)\n",
    "            else:\n",
    "                smcpk=json.dumps( smcpk )\n",
    "            \n",
    "            f.write('{}{}{}{}'.format(cp,smcpk,sep,nl))\n",
    "\n",
    "        f.write('}}}}{}\\n'.format(csep))\n",
    "    f.write('};\\n\\n')\n",
    "f.close()"
   ]
  },
  {
   "cell_type": "code",
   "execution_count": 614,
   "metadata": {},
   "outputs": [
    {
     "name": "stdout",
     "output_type": "stream",
     "text": [
      "ParticleDefinitions[EWSB] = {\r\n",
      "    {Ah, { Mass -> [0],\r\n",
      "           PDG.IX -> [0],\r\n",
      "           PDG -> [0],\r\n",
      "           Description -> \"Pseudo-Scalar Higgs\",\r\n",
      "           Width -> [0]}},\r\n",
      "    {Fd, { Description -> \"Down-Quarks\"}},\r\n",
      "    {Fe, { Description -> \"Leptons\"}},\r\n",
      "    {Fu, { Description -> \"Up-Quarks\"}},\r\n",
      "    {Fv, { Description -> \"Neutrinos\"}},\r\n",
      "    {Hp, { Width -> [0],\r\n",
      "           Mass -> [0],\r\n",
      "           LaTeX -> [\"H^+\", \"H^-\"],\r\n",
      "           PDG.IX -> [0],\r\n",
      "           PDG -> [0],\r\n",
      "           ElectricCharge -> 1,\r\n",
      "           OutputName -> [\"Hp\", \"Hm\"],\r\n",
      "           Description -> \"Charged Higgs\"}},\r\n",
      "    {VG, { Description -> \"Gluon\"}},\r\n",
      "    {VP, { Description -> \"Photon\"}},\r\n",
      "    {VWp, { Goldstone -> \"Hp\",\r\n",
      "           Description -> \"W+ - Boson\"}},\r\n",
      "    {VZ, { Goldstone -> \"Ah\",\r\n",
      "           Description -> \"Z-Boson\"}},\r\n",
      "    {gG, { Description -> \"Gluon Ghost\"}},\r\n",
      "    {gP, { Description -> \"Photon Ghost\"}},\r\n",
      "    {gWp, { Description -> \"Positive W+ - Boson Ghost\"}},\r\n",
      "    {gWpC, { Description -> \"Negative W+ - Boson Ghost\"}},\r\n",
      "    {gZ, { Description -> \"Z-Boson Ghost\"}},\r\n",
      "    {hh, { PDG.IX -> [101000001],\r\n",
      "           PDG -> [25],\r\n",
      "           Description -> \"Higgs\"}}\r\n",
      "};\r\n",
      "\r\n",
      "ParticleDefinitions[GaugeES] = {\r\n",
      "    {H0, { Mass -> \"Automatic\",\r\n",
      "           FeynArtsNr -> 1,\r\n",
      "           LaTeX -> \"H^0\",\r\n",
      "           PDG -> [0],\r\n",
      "           Width -> 0,\r\n",
      "           OutputName -> \"H0\"}},\r\n",
      "    {Hp, { Mass -> \"Automatic\",\r\n",
      "           FeynArtsNr -> 2,\r\n",
      "           LaTeX -> \"H^+\",\r\n",
      "           PDG -> [0],\r\n",
      "           Width -> 0,\r\n",
      "           OutputName -> \"Hp\"}},\r\n",
      "    {VB, { Description -> \"B-Boson\"}},\r\n",
      "    {VG, { Description -> \"Gluon\"}},\r\n",
      "    {VWB, { Description -> \"W-Bosons\"}},\r\n",
      "    {gB, { Description -> \"B-Boson Ghost\"}},\r\n",
      "    {gG, { Description -> \"Gluon Ghost\"}},\r\n",
      "    {gWB, { Description -> \"W-Boson Ghost\"}}\r\n",
      "};\r\n",
      "\r\n",
      "ParticleDefinitions[WeylFermionAndIndermediate] = {\r\n",
      "    {DL, { LaTeX -> \"D_L\"}},\r\n",
      "    {DR, { LaTeX -> \"D_R\"}},\r\n",
      "    {EL, { LaTeX -> \"E_L\"}},\r\n",
      "    {ER, { LaTeX -> \"E_R\"}},\r\n",
      "    {H, { Mass -> \"Automatic\",\r\n",
      "           LaTeX -> \"H\",\r\n",
      "           PDG -> [0],\r\n",
      "           Width -> 0,\r\n",
      "           OutputName -> \"\"}},\r\n",
      "    {UL, { LaTeX -> \"U_L\"}},\r\n",
      "    {UR, { LaTeX -> \"U_R\"}},\r\n",
      "    {dL, { LaTeX -> \"d_L\"}},\r\n",
      "    {dR, { LaTeX -> \"d_R\"}},\r\n",
      "    {eL, { LaTeX -> \"e_L\"}},\r\n",
      "    {eR, { LaTeX -> \"e_R\"}},\r\n",
      "    {l, { LaTeX -> \"l\"}},\r\n",
      "    {q, { LaTeX -> \"q\"}},\r\n",
      "    {uL, { LaTeX -> \"u_L\"}},\r\n",
      "    {uR, { LaTeX -> \"u_R\"}},\r\n",
      "    {vL, { LaTeX -> \"\\\\nu_L\"}}\r\n",
      "};\r\n",
      "\r\n"
     ]
    }
   ],
   "source": [
    "cat p.m"
   ]
  },
  {
   "cell_type": "markdown",
   "metadata": {},
   "source": [
    "## Get particle from model file"
   ]
  },
  {
   "cell_type": "markdown",
   "metadata": {},
   "source": [
    "Design:\n",
    "* Intialize `particle` as an empty dictionary.\n",
    "* Intialize `particles` as an empty list.\n",
    "* Fill particle properties and build the list: `particles`\n",
    "* Internal defintions\n",
    "  * weyl: Charged Weyl fermion bidiagonal rotation object\n",
    "  * symm: Symmetric diagonalization system object\n",
    "  * vev:  Complex scalar decomposition"
   ]
  },
  {
   "cell_type": "code",
   "execution_count": 771,
   "metadata": {},
   "outputs": [
    {
     "data": {
      "text/plain": [
       "'/home/restrepo/tmp'"
      ]
     },
     "execution_count": 771,
     "metadata": {},
     "output_type": "execute_result"
    }
   ],
   "source": [
    "pwd"
   ]
  },
  {
   "cell_type": "code",
   "execution_count": 772,
   "metadata": {},
   "outputs": [],
   "source": [
    "MODEL_PATH=\"./SARAH/Models/SM/SM.m\""
   ]
  },
  {
   "cell_type": "code",
   "execution_count": 773,
   "metadata": {},
   "outputs": [],
   "source": [
    "f=open(MODEL_PATH,'r')"
   ]
  },
  {
   "cell_type": "code",
   "execution_count": 774,
   "metadata": {},
   "outputs": [],
   "source": [
    "smf=f.read()\n",
    "f.close()"
   ]
  },
  {
   "cell_type": "markdown",
   "metadata": {},
   "source": [
    "### Obtain `particle` from \n",
    "* `Gauge` list\n",
    "* `FermionFields` list, with the components fields (intialized as `particlesson` `dict`) with parents information\n",
    "* `ScalarFields`  list, with the components fields (intialized as `particlesson` `dict`) with parents information\n",
    "\n",
    "and fill `particles`"
   ]
  },
  {
   "cell_type": "code",
   "execution_count": 775,
   "metadata": {},
   "outputs": [],
   "source": [
    "import re\n",
    "import cmdlike as cmd"
   ]
  },
  {
   "cell_type": "code",
   "execution_count": 884,
   "metadata": {},
   "outputs": [],
   "source": [
    "#TODO: Initialize objects\n",
    "particles=[]\n",
    "particlessons=[]\n",
    "\n",
    "Fields=['Gauge','FermionFields','ScalarFields']\n",
    "NAME='DEFINITION'\n",
    "KEY='EWSB'\n",
    "# Get also particles from\n",
    "#NAME[KEY] dictionary!\n",
    "def get_particles(fdotm,Fields,NAME,KEY,particles,particlessons):\n",
    "    '''\n",
    "    Extract particles from  SARAH Model files by using the information\n",
    "    from: \n",
    "    * Fields: list of lists\n",
    "    * NAME[KEY] dictionary \n",
    "    '''\n",
    "    #i=1\n",
    "    #Field=Fields[i]\n",
    "    for Field in Fields:\n",
    "        for f in cmd.grep(Field,fdotm).split('\\n'):\n",
    "            particle={}\n",
    "            if not re.search('^\\s*\\(\\*',f):\n",
    "                #Fix components fields\n",
    "                ff=f.split('{')\n",
    "                if len(ff) ==3:\n",
    "                    fff=ff[2].split('}')\n",
    "                    f=ff[0]+'{'+ff[1]+fff[0].replace(',','::')+''.join(fff[1:])+'};'\n",
    "                g=re.search('%s\\[\\[[0-9]+\\]\\]\\s*=\\s*\\{(.*)\\s*\\}\\s*;\\s*' \n",
    "                    %Field,f)\n",
    "\n",
    "                if g:\n",
    "                    try:\n",
    "                        fp=g.groups()[0].split(',')\n",
    "                    except 'KeyError':\n",
    "                        fp=[]\n",
    "                    if len(fp)>0:\n",
    "                        print(g.groups(),Field,len(fp))\n",
    "                        particle['Field']=fp[0].strip()\n",
    "                        particle['Parents']=None\n",
    "                        particle['Properties']={}\n",
    "                    if Field=='Gauge' and len(fp)>=5:\n",
    "                        particle['Field']='V'+particle['Field']\n",
    "                        particle['Properties']['Group']=fp[1]\n",
    "                        particle['Definition']='GaugeES'\n",
    "                        particle['Properties']['Index']=fp[2]\n",
    "                        particle['Properties']['Coupling']=fp[3]\n",
    "                        particle['Properties']['SSB']=fp[3]\n",
    "                        particle['Properties']['Lorentz']='Vector'\n",
    "                        print(particle)\n",
    "                    else: \n",
    "                        if len(fp)>=6:\n",
    "                            particle['Properties']['NF']=fp[1].strip()\n",
    "                            particle['Properties']['Groups']=fp[3:]\n",
    "                            particle['Definition']='WeylFermionAndIndermediate'\n",
    "                            if Field=='FermionFields':\n",
    "                                particle['Properties']['Lorentz']='WeylFermion'\n",
    "                            elif Field=='ScalarFields':\n",
    "                                particle['Properties']['Lorentz']='Scalar'\n",
    "                            print(\"**********\")\n",
    "                            sons=re.sub('conj\\[(\\w+)\\]',r'\\1', fp[2] ).split('::')\n",
    "                            print(fp[2],sons)\n",
    "                            for s in sons:\n",
    "                                print(s)\n",
    "                                particleson={}\n",
    "                                particleson['Properties']={}\n",
    "                                particleson['Field']=s.strip()\n",
    "                                if Field=='FermionFields':\n",
    "                                    particleson['Definition']='WeylFermionAndIndermediate'\n",
    "                                    particleson['Properties']['Lorentz']='WeylFermion'\n",
    "                                elif Field=='ScalarFields':\n",
    "                                    particleson['Definition']='GaugeES'\n",
    "                                    particleson['Properties']['Lorentz']='Scalar'\n",
    "                                particleson['Parents']=particle['Field']\n",
    "                                particleson['Properties']['NF']=particle['Properties']['NF']\n",
    "                                particlessons=particlessons+[particleson]\n",
    "                            print(\"**********\")\n",
    "\n",
    "                    particles.append(particle)\n",
    "    particles=particles+particlessons\n",
    "    return particles\n"
   ]
  },
  {
   "cell_type": "code",
   "execution_count": 802,
   "metadata": {},
   "outputs": [
    {
     "name": "stdout",
     "output_type": "stream",
     "text": [
      "('B,   U[1], hypercharge, g1,False',) Gauge 5\n",
      "{'Properties': {'Group': '   U[1]', 'Coupling': ' g1', 'SSB': ' g1', 'Index': ' hypercharge'}, 'Parents': None, 'Field': 'VB', 'Definition': 'GaugeES'}\n",
      "('WB, SU[2], left,        g2,True',) Gauge 5\n",
      "{'Properties': {'Group': ' SU[2]', 'Coupling': '        g2', 'SSB': '        g2', 'Index': ' left'}, 'Parents': None, 'Field': 'VWB', 'Definition': 'GaugeES'}\n",
      "('G,  SU[3], color,       g3,False',) Gauge 5\n",
      "{'Properties': {'Group': '  SU[3]', 'Coupling': '       g3', 'SSB': '       g3', 'Index': ' color'}, 'Parents': None, 'Field': 'VG', 'Definition': 'GaugeES'}\n",
      "('q, 3, uL:: dL,     1/6, 2,  3;  ',) FermionFields 6\n",
      "**********\n",
      " uL:: dL [' uL', ' dL']\n",
      " uL\n",
      " dL\n",
      "**********\n",
      "('l, 3, vL:: eL,    -1/2, 2,  1;',) FermionFields 6\n",
      "**********\n",
      " vL:: eL [' vL', ' eL']\n",
      " vL\n",
      " eL\n",
      "**********\n",
      "('d, 3, conj[dR],     1/3, 1, -3',) FermionFields 6\n",
      "**********\n",
      " conj[dR] [' dR']\n",
      " dR\n",
      "**********\n",
      "('u, 3, conj[uR],    -2/3, 1, -3',) FermionFields 6\n",
      "**********\n",
      " conj[uR] [' uR']\n",
      " uR\n",
      "**********\n",
      "('e, 3, conj[eR],       1, 1,  1',) FermionFields 6\n",
      "**********\n",
      " conj[eR] [' eR']\n",
      " eR\n",
      "**********\n",
      "('H, 1, Hp:: H0,     1/2, 2,  1;',) ScalarFields 6\n",
      "**********\n",
      " Hp:: H0 [' Hp', ' H0']\n",
      " Hp\n",
      " H0\n",
      "**********\n"
     ]
    }
   ],
   "source": [
    "particles=get_particles(smf,Fields,NAME,KEY,particles,particlessons)"
   ]
  },
  {
   "cell_type": "code",
   "execution_count": 808,
   "metadata": {},
   "outputs": [
    {
     "data": {
      "text/html": [
       "<div>\n",
       "<style scoped>\n",
       "    .dataframe tbody tr th:only-of-type {\n",
       "        vertical-align: middle;\n",
       "    }\n",
       "\n",
       "    .dataframe tbody tr th {\n",
       "        vertical-align: top;\n",
       "    }\n",
       "\n",
       "    .dataframe thead th {\n",
       "        text-align: right;\n",
       "    }\n",
       "</style>\n",
       "<table border=\"1\" class=\"dataframe\">\n",
       "  <thead>\n",
       "    <tr style=\"text-align: right;\">\n",
       "      <th></th>\n",
       "      <th>Definition</th>\n",
       "      <th>Field</th>\n",
       "      <th>Parents</th>\n",
       "      <th>Properties</th>\n",
       "    </tr>\n",
       "  </thead>\n",
       "  <tbody>\n",
       "    <tr>\n",
       "      <th>0</th>\n",
       "      <td>GaugeES</td>\n",
       "      <td>VB</td>\n",
       "      <td>None</td>\n",
       "      <td>{'Group': '   U[1]', 'Coupling': ' g1', 'SSB':...</td>\n",
       "    </tr>\n",
       "    <tr>\n",
       "      <th>1</th>\n",
       "      <td>GaugeES</td>\n",
       "      <td>VWB</td>\n",
       "      <td>None</td>\n",
       "      <td>{'Group': ' SU[2]', 'Coupling': '        g2', ...</td>\n",
       "    </tr>\n",
       "    <tr>\n",
       "      <th>2</th>\n",
       "      <td>GaugeES</td>\n",
       "      <td>VG</td>\n",
       "      <td>None</td>\n",
       "      <td>{'Group': '  SU[3]', 'Coupling': '       g3', ...</td>\n",
       "    </tr>\n",
       "    <tr>\n",
       "      <th>3</th>\n",
       "      <td>WeylFermionAndIndermediate</td>\n",
       "      <td>q</td>\n",
       "      <td>None</td>\n",
       "      <td>{'NF': '3', 'Groups': ['     1/6', ' 2', '  3;...</td>\n",
       "    </tr>\n",
       "    <tr>\n",
       "      <th>4</th>\n",
       "      <td>WeylFermionAndIndermediate</td>\n",
       "      <td>l</td>\n",
       "      <td>None</td>\n",
       "      <td>{'NF': '3', 'Groups': ['    -1/2', ' 2', '  1;...</td>\n",
       "    </tr>\n",
       "    <tr>\n",
       "      <th>5</th>\n",
       "      <td>WeylFermionAndIndermediate</td>\n",
       "      <td>d</td>\n",
       "      <td>None</td>\n",
       "      <td>{'NF': '3', 'Groups': ['     1/3', ' 1', ' -3'...</td>\n",
       "    </tr>\n",
       "    <tr>\n",
       "      <th>6</th>\n",
       "      <td>WeylFermionAndIndermediate</td>\n",
       "      <td>u</td>\n",
       "      <td>None</td>\n",
       "      <td>{'NF': '3', 'Groups': ['    -2/3', ' 1', ' -3'...</td>\n",
       "    </tr>\n",
       "    <tr>\n",
       "      <th>7</th>\n",
       "      <td>WeylFermionAndIndermediate</td>\n",
       "      <td>e</td>\n",
       "      <td>None</td>\n",
       "      <td>{'NF': '3', 'Groups': ['       1', ' 1', '  1'...</td>\n",
       "    </tr>\n",
       "    <tr>\n",
       "      <th>8</th>\n",
       "      <td>WeylFermionAndIndermediate</td>\n",
       "      <td>H</td>\n",
       "      <td>None</td>\n",
       "      <td>{'NF': '1', 'Groups': ['     1/2', ' 2', '  1;...</td>\n",
       "    </tr>\n",
       "    <tr>\n",
       "      <th>9</th>\n",
       "      <td>WeylFermionAndIndermediate</td>\n",
       "      <td>uL</td>\n",
       "      <td>q</td>\n",
       "      <td>{'NF': '3', 'Lorentz': 'WeylFermion'}</td>\n",
       "    </tr>\n",
       "    <tr>\n",
       "      <th>10</th>\n",
       "      <td>WeylFermionAndIndermediate</td>\n",
       "      <td>dL</td>\n",
       "      <td>q</td>\n",
       "      <td>{'NF': '3', 'Lorentz': 'WeylFermion'}</td>\n",
       "    </tr>\n",
       "    <tr>\n",
       "      <th>11</th>\n",
       "      <td>WeylFermionAndIndermediate</td>\n",
       "      <td>vL</td>\n",
       "      <td>l</td>\n",
       "      <td>{'NF': '3', 'Lorentz': 'WeylFermion'}</td>\n",
       "    </tr>\n",
       "    <tr>\n",
       "      <th>12</th>\n",
       "      <td>WeylFermionAndIndermediate</td>\n",
       "      <td>eL</td>\n",
       "      <td>l</td>\n",
       "      <td>{'NF': '3', 'Lorentz': 'WeylFermion'}</td>\n",
       "    </tr>\n",
       "    <tr>\n",
       "      <th>13</th>\n",
       "      <td>WeylFermionAndIndermediate</td>\n",
       "      <td>dR</td>\n",
       "      <td>d</td>\n",
       "      <td>{'NF': '3', 'Lorentz': 'WeylFermion'}</td>\n",
       "    </tr>\n",
       "    <tr>\n",
       "      <th>14</th>\n",
       "      <td>WeylFermionAndIndermediate</td>\n",
       "      <td>uR</td>\n",
       "      <td>u</td>\n",
       "      <td>{'NF': '3', 'Lorentz': 'WeylFermion'}</td>\n",
       "    </tr>\n",
       "    <tr>\n",
       "      <th>15</th>\n",
       "      <td>WeylFermionAndIndermediate</td>\n",
       "      <td>eR</td>\n",
       "      <td>e</td>\n",
       "      <td>{'NF': '3', 'Lorentz': 'WeylFermion'}</td>\n",
       "    </tr>\n",
       "    <tr>\n",
       "      <th>16</th>\n",
       "      <td>GaugeES</td>\n",
       "      <td>Hp</td>\n",
       "      <td>H</td>\n",
       "      <td>{'NF': '1', 'Lorentz': 'Scalar'}</td>\n",
       "    </tr>\n",
       "    <tr>\n",
       "      <th>17</th>\n",
       "      <td>GaugeES</td>\n",
       "      <td>H0</td>\n",
       "      <td>H</td>\n",
       "      <td>{'NF': '1', 'Lorentz': 'Scalar'}</td>\n",
       "    </tr>\n",
       "  </tbody>\n",
       "</table>\n",
       "</div>"
      ],
      "text/plain": [
       "                    Definition Field Parents  \\\n",
       "0                      GaugeES    VB    None   \n",
       "1                      GaugeES   VWB    None   \n",
       "2                      GaugeES    VG    None   \n",
       "3   WeylFermionAndIndermediate     q    None   \n",
       "4   WeylFermionAndIndermediate     l    None   \n",
       "5   WeylFermionAndIndermediate     d    None   \n",
       "6   WeylFermionAndIndermediate     u    None   \n",
       "7   WeylFermionAndIndermediate     e    None   \n",
       "8   WeylFermionAndIndermediate     H    None   \n",
       "9   WeylFermionAndIndermediate    uL       q   \n",
       "10  WeylFermionAndIndermediate    dL       q   \n",
       "11  WeylFermionAndIndermediate    vL       l   \n",
       "12  WeylFermionAndIndermediate    eL       l   \n",
       "13  WeylFermionAndIndermediate    dR       d   \n",
       "14  WeylFermionAndIndermediate    uR       u   \n",
       "15  WeylFermionAndIndermediate    eR       e   \n",
       "16                     GaugeES    Hp       H   \n",
       "17                     GaugeES    H0       H   \n",
       "\n",
       "                                           Properties  \n",
       "0   {'Group': '   U[1]', 'Coupling': ' g1', 'SSB':...  \n",
       "1   {'Group': ' SU[2]', 'Coupling': '        g2', ...  \n",
       "2   {'Group': '  SU[3]', 'Coupling': '       g3', ...  \n",
       "3   {'NF': '3', 'Groups': ['     1/6', ' 2', '  3;...  \n",
       "4   {'NF': '3', 'Groups': ['    -1/2', ' 2', '  1;...  \n",
       "5   {'NF': '3', 'Groups': ['     1/3', ' 1', ' -3'...  \n",
       "6   {'NF': '3', 'Groups': ['    -2/3', ' 1', ' -3'...  \n",
       "7   {'NF': '3', 'Groups': ['       1', ' 1', '  1'...  \n",
       "8   {'NF': '1', 'Groups': ['     1/2', ' 2', '  1;...  \n",
       "9               {'NF': '3', 'Lorentz': 'WeylFermion'}  \n",
       "10              {'NF': '3', 'Lorentz': 'WeylFermion'}  \n",
       "11              {'NF': '3', 'Lorentz': 'WeylFermion'}  \n",
       "12              {'NF': '3', 'Lorentz': 'WeylFermion'}  \n",
       "13              {'NF': '3', 'Lorentz': 'WeylFermion'}  \n",
       "14              {'NF': '3', 'Lorentz': 'WeylFermion'}  \n",
       "15              {'NF': '3', 'Lorentz': 'WeylFermion'}  \n",
       "16                   {'NF': '1', 'Lorentz': 'Scalar'}  \n",
       "17                   {'NF': '1', 'Lorentz': 'Scalar'}  "
      ]
     },
     "execution_count": 808,
     "metadata": {},
     "output_type": "execute_result"
    }
   ],
   "source": [
    "pd.DataFrame( particles )#.loc[8]['Properties']"
   ]
  },
  {
   "cell_type": "code",
   "execution_count": 799,
   "metadata": {},
   "outputs": [],
   "source": [
    "def sarahlist_to_python(strl,DEBUG=False):\n",
    "    '''\n",
    "    Convert a string with a SARAH list of rotations into\n",
    "    a Python object\n",
    "    '''\n",
    "    #General transformations\n",
    "    nl=re.sub(';\\s*$','', #Drop final semicolon\n",
    "               strl) \n",
    "    if nl.find('->')>-1:\n",
    "        nl=re.sub( '(\\w+\\[*\\w+\\]*)',r'\"\\1\"' ,\n",
    "           re.sub('\\s*:\\s*\\{([\\s\\w,\\[\\]]+)\\}',r':[\\1 ]', # to python value lists of dict key\n",
    "           re.sub( '\\s*->\\s*',':', # to python dict                  \n",
    "              nl)))\n",
    "    else:\n",
    "        nl= re.sub( '\\{','[',\n",
    "            re.sub( '\\}',']',                   \n",
    "            re.sub('([\\w\\[\\]\\/\\\\\\]+)',r'\"\\1\"',  #to python_lists\n",
    "           nl)))\n",
    "    if DEBUG:    \n",
    "        print(nl)\n",
    "        print(\"*\"*50)\n",
    "    return eval(nl)\n",
    "def parse_mathematica_list_of_list(fdotm,NAME='DEFINITION',KEY='EWSB'):\n",
    "    '''\n",
    "    Parse mathematica list with the structure:\n",
    "    \n",
    "      NAME[KEY][KEYS]={\n",
    "                             LIST\n",
    "                             };\n",
    "    \n",
    "    and generate a dictionary with KEYS\n",
    "    '''\n",
    "    dsbd={}\n",
    "    start=False\n",
    "    startlist=False\n",
    "    fields=''\n",
    "    dsbt=''\n",
    "    for f in fdotm.split('\\n'):\n",
    "        dsb=re.search('%s\\[%s\\]\\[(\\w+)\\]' %(NAME,KEY),f)\n",
    "\n",
    "        if dsb:\n",
    "            #Capture EWSB DEFINITION \n",
    "            dsbt=dsb.groups()[0]\n",
    "            start=True\n",
    "\n",
    "        if start and f.find('{')>-1:\n",
    "            startlist=True\n",
    "\n",
    "        if startlist:\n",
    "            fields=fields+f\n",
    "        if re.search('\\}\\s*;',f):\n",
    "            start=False\n",
    "            startlist=False\n",
    "            if fields:\n",
    "                srl=sarahlist_to_python(fields.split('=')[-1])\n",
    "                dsbd.update( {dsbt:srl} )\n",
    "            fields=''\n",
    "    return dsbd"
   ]
  },
  {
   "cell_type": "code",
   "execution_count": 800,
   "metadata": {},
   "outputs": [
    {
     "data": {
      "text/plain": [
       "{'DiracSpinors': {'Fd': ['DL', 'conj[DR]'],\n",
       "  'Fe': ['EL', 'conj[ER]'],\n",
       "  'Fu': ['UL', 'conj[UR]'],\n",
       "  'Fv': ['vL', 0]},\n",
       " 'GaugeES': {'Fd1': ['FdL', 0],\n",
       "  'Fd2': [0, 'FdR'],\n",
       "  'Fe1': ['Fe1', 0],\n",
       "  'Fe2': [0, 'Fe2'],\n",
       "  'Fu1': ['Fu1', 0],\n",
       "  'Fu2': [0, 'Fu2']},\n",
       " 'GaugeSector': [[['VB', 'VWB[3]'], ['VP', 'VZ'], 'ZZ'],\n",
       "  [['VWB[1]', 'VWB[2]'], ['VWp', 'conj[VWp]'], 'ZW']],\n",
       " 'MatterSector': [[[['dL'], ['conj[dR]']], [['DL', 'Vd'], ['DR', 'Ud']]],\n",
       "  [[['uL'], ['conj[uR]']], [['UL', 'Vu'], ['UR', 'Uu']]],\n",
       "  [[['eL'], ['conj[eR]']], [['EL', 'Ve'], ['ER', 'Ue']]]],\n",
       " 'VEVs': [['H0',\n",
       "   ['v', '1/Sqrt[2]'],\n",
       "   ['Ah', '\\\\[ImaginaryI]/Sqrt[2]'],\n",
       "   ['hh', '1/Sqrt[2]']]]}"
      ]
     },
     "execution_count": 800,
     "metadata": {},
     "output_type": "execute_result"
    }
   ],
   "source": [
    "dsbd=parse_mathematica_list_of_list(smf,NAME='DEFINITION',KEY='EWSB')\n",
    "dsbd"
   ]
  },
  {
   "cell_type": "code",
   "execution_count": 835,
   "metadata": {},
   "outputs": [
    {
     "name": "stdout",
     "output_type": "stream",
     "text": [
      "Bidiagonal\n"
     ]
    }
   ],
   "source": [
    "import numpy as np\n",
    "i=0\n",
    "if np.asarray( dsbd['MatterSector'][i]   ).shape==(2,2):\n",
    "    print('Bidiagonal')\n",
    "#,np.asarray( dsbd['GaugeSector']   )[0].shape,"
   ]
  },
  {
   "cell_type": "code",
   "execution_count": 935,
   "metadata": {},
   "outputs": [],
   "source": [
    "def bidiagonal(w,k='MatterSector'):\n",
    "    weyl={}\n",
    "    weyl['left_intr'  ]=w[0][0] #list\n",
    "    weyl['right_intr' ]=w[0][1] #list\n",
    "    weyl['left_mass' ]=w[1][0][0] \n",
    "    weyl['left_rota'  ]=w[1][0][1]\n",
    "    weyl['right_mass']=w[1][1][0]\n",
    "    weyl['right_rota' ]=w[1][1][1]\n",
    "    if k=='MatterSector':\n",
    "        weyl['lorentz' ]='WeylFermion'\n",
    "        #If Diagonal then Scalar or Majorana\n",
    "    return weyl\n",
    "\n",
    "def diagonal(s,k='GaugeSector'):\n",
    "    symm={}\n",
    "    symm['intr']=s[0]\n",
    "    symm['mass']=s[1]\n",
    "    symm['rota']=s[2]\n",
    "    if k=='GaugeSector':\n",
    "        symm['Lorentz']='Vector'\n",
    "    return symm    \n",
    "\n",
    "def vev(dsbd,k='VEVs'):\n",
    "    Vevs=[]\n",
    "    for v in dsbd[k]:\n",
    "        Vev={}\n",
    "        Vev['Complex']=v[0]\n",
    "        Vev['vev']=v[1][0]\n",
    "        Vev['Imaginary']=v[2][0]\n",
    "        Vev['Real']=v[3][0]\n",
    "        Vev['vev_coeff']=v[1][1]\n",
    "        Vev['Imaginary_coeff']=v[2][1]\n",
    "        Vev['Real_coeff']=v[3][1]\n",
    "        Vev['Lorentz']='Scalar'\n",
    "    return Vev"
   ]
  },
  {
   "cell_type": "code",
   "execution_count": 953,
   "metadata": {},
   "outputs": [
    {
     "data": {
      "text/plain": [
       "([{'left_intr': ['dL'],\n",
       "   'left_mass': 'DL',\n",
       "   'left_rota': 'Vd',\n",
       "   'lorentz': 'WeylFermion',\n",
       "   'right_intr': ['conj[dR]'],\n",
       "   'right_mass': 'DR',\n",
       "   'right_rota': 'Ud'},\n",
       "  {'left_intr': ['uL'],\n",
       "   'left_mass': 'UL',\n",
       "   'left_rota': 'Vu',\n",
       "   'lorentz': 'WeylFermion',\n",
       "   'right_intr': ['conj[uR]'],\n",
       "   'right_mass': 'UR',\n",
       "   'right_rota': 'Uu'},\n",
       "  {'left_intr': ['eL'],\n",
       "   'left_mass': 'EL',\n",
       "   'left_rota': 'Ve',\n",
       "   'lorentz': 'WeylFermion',\n",
       "   'right_intr': ['conj[eR]'],\n",
       "   'right_mass': 'ER',\n",
       "   'right_rota': 'Ue'}],\n",
       " [{'Lorentz': 'Vector',\n",
       "   'intr': ['VB', 'VWB[3]'],\n",
       "   'mass': ['VP', 'VZ'],\n",
       "   'rota': 'ZZ'},\n",
       "  {'Lorentz': 'Vector',\n",
       "   'intr': ['VWB[1]', 'VWB[2]'],\n",
       "   'mass': ['VWp', 'conj[VWp]'],\n",
       "   'rota': 'ZW'}])"
      ]
     },
     "execution_count": 953,
     "metadata": {},
     "output_type": "execute_result"
    }
   ],
   "source": [
    "Bidiagonal=[]\n",
    "Diagonal=[]\n",
    "for k in dsbd.keys():\n",
    "    if k=='GaugeSector' or k=='MatterSector':\n",
    "        for w in dsbd[k]:\n",
    "            if np.array(w).shape==(2,2):\n",
    "                weyl=bidiagonal(w,k)\n",
    "                Bidiagonal.append(weyl)\n",
    "            elif np.array(w).shape==(3,):\n",
    "                symm=diagonal(w,k)\n",
    "                Diagonal.append(symm)\n",
    "\n",
    "Bidiagonal,Diagonal"
   ]
  },
  {
   "cell_type": "code",
   "execution_count": 954,
   "metadata": {},
   "outputs": [
    {
     "ename": "KeyError",
     "evalue": "0",
     "output_type": "error",
     "traceback": [
      "\u001b[0;31m---------------------------------------------------------------------------\u001b[0m",
      "\u001b[0;31mKeyError\u001b[0m                                  Traceback (most recent call last)",
      "\u001b[0;32m<ipython-input-954-1cd8cc85734d>\u001b[0m in \u001b[0;36m<module>\u001b[0;34m()\u001b[0m\n\u001b[1;32m      1\u001b[0m \u001b[0;31m#TODO -> Pass info to parameters.m\u001b[0m\u001b[0;34m\u001b[0m\u001b[0;34m\u001b[0m\u001b[0m\n\u001b[1;32m      2\u001b[0m \u001b[0mk\u001b[0m\u001b[0;34m=\u001b[0m\u001b[0;34m'MatterSector'\u001b[0m\u001b[0;34m\u001b[0m\u001b[0m\n\u001b[0;32m----> 3\u001b[0;31m \u001b[0mBidiagonal\u001b[0m\u001b[0;34m=\u001b[0m\u001b[0mbidiagonal\u001b[0m\u001b[0;34m(\u001b[0m\u001b[0mdsbd\u001b[0m\u001b[0;34m,\u001b[0m\u001b[0mk\u001b[0m\u001b[0;34m)\u001b[0m\u001b[0;34m\u001b[0m\u001b[0m\n\u001b[0m\u001b[1;32m      4\u001b[0m \u001b[0mBidiagonal\u001b[0m\u001b[0;34m\u001b[0m\u001b[0m\n",
      "\u001b[0;32m<ipython-input-935-3d55608c03a6>\u001b[0m in \u001b[0;36mbidiagonal\u001b[0;34m(w, k)\u001b[0m\n\u001b[1;32m      1\u001b[0m \u001b[0;32mdef\u001b[0m \u001b[0mbidiagonal\u001b[0m\u001b[0;34m(\u001b[0m\u001b[0mw\u001b[0m\u001b[0;34m,\u001b[0m\u001b[0mk\u001b[0m\u001b[0;34m=\u001b[0m\u001b[0;34m'MatterSector'\u001b[0m\u001b[0;34m)\u001b[0m\u001b[0;34m:\u001b[0m\u001b[0;34m\u001b[0m\u001b[0m\n\u001b[1;32m      2\u001b[0m     \u001b[0mweyl\u001b[0m\u001b[0;34m=\u001b[0m\u001b[0;34m{\u001b[0m\u001b[0;34m}\u001b[0m\u001b[0;34m\u001b[0m\u001b[0m\n\u001b[0;32m----> 3\u001b[0;31m     \u001b[0mweyl\u001b[0m\u001b[0;34m[\u001b[0m\u001b[0;34m'left_intr'\u001b[0m  \u001b[0;34m]\u001b[0m\u001b[0;34m=\u001b[0m\u001b[0mw\u001b[0m\u001b[0;34m[\u001b[0m\u001b[0;36m0\u001b[0m\u001b[0;34m]\u001b[0m\u001b[0;34m[\u001b[0m\u001b[0;36m0\u001b[0m\u001b[0;34m]\u001b[0m \u001b[0;31m#list\u001b[0m\u001b[0;34m\u001b[0m\u001b[0m\n\u001b[0m\u001b[1;32m      4\u001b[0m     \u001b[0mweyl\u001b[0m\u001b[0;34m[\u001b[0m\u001b[0;34m'right_intr'\u001b[0m \u001b[0;34m]\u001b[0m\u001b[0;34m=\u001b[0m\u001b[0mw\u001b[0m\u001b[0;34m[\u001b[0m\u001b[0;36m0\u001b[0m\u001b[0;34m]\u001b[0m\u001b[0;34m[\u001b[0m\u001b[0;36m1\u001b[0m\u001b[0;34m]\u001b[0m \u001b[0;31m#list\u001b[0m\u001b[0;34m\u001b[0m\u001b[0m\n\u001b[1;32m      5\u001b[0m     \u001b[0mweyl\u001b[0m\u001b[0;34m[\u001b[0m\u001b[0;34m'left_mass'\u001b[0m \u001b[0;34m]\u001b[0m\u001b[0;34m=\u001b[0m\u001b[0mw\u001b[0m\u001b[0;34m[\u001b[0m\u001b[0;36m1\u001b[0m\u001b[0;34m]\u001b[0m\u001b[0;34m[\u001b[0m\u001b[0;36m0\u001b[0m\u001b[0;34m]\u001b[0m\u001b[0;34m[\u001b[0m\u001b[0;36m0\u001b[0m\u001b[0;34m]\u001b[0m\u001b[0;34m\u001b[0m\u001b[0m\n",
      "\u001b[0;31mKeyError\u001b[0m: 0"
     ]
    }
   ],
   "source": [
    "#TODO -> Pass info to parameters.m\n",
    "k='MatterSector'\n",
    "Bidiagonal=bidiagonal(dsbd,k)\n",
    "Bidiagonal"
   ]
  },
  {
   "cell_type": "code",
   "execution_count": 923,
   "metadata": {},
   "outputs": [
    {
     "data": {
      "text/plain": [
       "[{'Lorentz': 'Vector',\n",
       "  'intr': ['VB', 'VWB[3]'],\n",
       "  'mass': ['VP', 'VZ'],\n",
       "  'rota': 'ZZ'},\n",
       " {'Lorentz': 'Vector',\n",
       "  'intr': ['VWB[1]', 'VWB[2]'],\n",
       "  'mass': ['VWp', 'conj[VWp]'],\n",
       "  'rota': 'ZW'}]"
      ]
     },
     "execution_count": 923,
     "metadata": {},
     "output_type": "execute_result"
    }
   ],
   "source": [
    "k='GaugeSector'\n",
    "Diagonal=diagonal(dsbd,k)\n",
    "Diagonal"
   ]
  },
  {
   "cell_type": "code",
   "execution_count": 924,
   "metadata": {},
   "outputs": [
    {
     "data": {
      "text/plain": [
       "{'Complex': 'H0',\n",
       " 'Imaginary': 'Ah',\n",
       " 'Imaginary_coeff': '\\\\[ImaginaryI]/Sqrt[2]',\n",
       " 'Lorentz': 'Scalar',\n",
       " 'Real': 'hh',\n",
       " 'Real_coeff': '1/Sqrt[2]',\n",
       " 'vev': 'v',\n",
       " 'vev_coeff': '1/Sqrt[2]'}"
      ]
     },
     "execution_count": 924,
     "metadata": {},
     "output_type": "execute_result"
    }
   ],
   "source": [
    "k='VEVs'\n",
    "VEV=vev(dsbd,k)\n",
    "VEV"
   ]
  },
  {
   "cell_type": "code",
   "execution_count": 781,
   "metadata": {},
   "outputs": [],
   "source": [
    "particle={}\n",
    "particle['Definition']='EWSB'"
   ]
  },
  {
   "cell_type": "code",
   "execution_count": 897,
   "metadata": {},
   "outputs": [
    {
     "data": {
      "text/plain": [
       "['DL', 'conj[DR]']"
      ]
     },
     "execution_count": 897,
     "metadata": {},
     "output_type": "execute_result"
    }
   ],
   "source": [
    "dsbd['DiracSpinors']['Fd'] # Parents"
   ]
  },
  {
   "cell_type": "code",
   "execution_count": 883,
   "metadata": {},
   "outputs": [
    {
     "data": {
      "text/plain": [
       "'VEVs'"
      ]
     },
     "execution_count": 883,
     "metadata": {},
     "output_type": "execute_result"
    }
   ],
   "source": [
    "'VEVs'"
   ]
  },
  {
   "cell_type": "code",
   "execution_count": 901,
   "metadata": {},
   "outputs": [
    {
     "data": {
      "text/plain": [
       "[['H0',\n",
       "  ['v', '1/Sqrt[2]'],\n",
       "  ['Ah', '\\\\[ImaginaryI]/Sqrt[2]'],\n",
       "  ['hh', '1/Sqrt[2]']]]"
      ]
     },
     "execution_count": 901,
     "metadata": {},
     "output_type": "execute_result"
    }
   ],
   "source": [
    "dsbd[k]"
   ]
  },
  {
   "cell_type": "code",
   "execution_count": 909,
   "metadata": {},
   "outputs": [],
   "source": []
  },
  {
   "cell_type": "code",
   "execution_count": 908,
   "metadata": {},
   "outputs": [
    {
     "data": {
      "text/plain": [
       "{'Complex': 'H0',\n",
       " 'Imaginary': 'Ah',\n",
       " 'Imaginary_coeff': '\\\\[ImaginaryI]/Sqrt[2]',\n",
       " 'Real': 'hh',\n",
       " 'Real_coeff': '1/Sqrt[2]',\n",
       " 'vev': 'v',\n",
       " 'vev_coeff': '1/Sqrt[2]'}"
      ]
     },
     "execution_count": 908,
     "metadata": {},
     "output_type": "execute_result"
    }
   ],
   "source": [
    "vev"
   ]
  },
  {
   "cell_type": "code",
   "execution_count": 725,
   "metadata": {},
   "outputs": [
    {
     "data": {
      "text/plain": [
       "[[['VB', 'VWB[3]'], ['VP', 'VZ'], 'ZZ'],\n",
       " [['VWB[1]', 'VWB[2]'], ['VWp', 'conj[VWp]'], 'ZW']]"
      ]
     },
     "execution_count": 725,
     "metadata": {},
     "output_type": "execute_result"
    }
   ],
   "source": [
    "strl=dsbd['GaugeSector']\n",
    "eval( \n",
    "    re.sub( '\\{','[',\n",
    "    re.sub(  '\\}\\;*',']',\n",
    "    re.sub('([\\w\\[\\]]+)',r'\"\\1\"', #\n",
    "           strl) )) \n",
    "    )"
   ]
  },
  {
   "cell_type": "code",
   "execution_count": 717,
   "metadata": {},
   "outputs": [
    {
     "data": {
      "text/plain": [
       "'{ \"Fd\":[  \"DL\", \"conj[DR]\" ], \"Fe\":[  \"EL\", \"conj[ER]\" ], \"Fu\":[  \"UL\", \"conj[UR]\" ], \"Fv\":[  \"vL\", 0 ]}'"
      ]
     },
     "execution_count": 717,
     "metadata": {},
     "output_type": "execute_result"
    }
   ],
   "source": [
    "kk=re.sub( '(\\w+\\[*\\w+\\]*)',r'\"\\1\"' ,\n",
    "   re.sub(';\\s*$','',\n",
    "   re.sub('\\s*:\\s*\\{([\\s\\w,\\[\\]]+)\\}',r':[\\1 ]',\n",
    "    re.sub( '\\s*->\\s*',':',\n",
    "    dsbd['DiracSpinors']))))\n",
    "kk"
   ]
  },
  {
   "cell_type": "code",
   "execution_count": 711,
   "metadata": {},
   "outputs": [
    {
     "data": {
      "text/plain": [
       "{'Fd': ['DL', 'conj[DR]'],\n",
       " 'Fe': ['EL', 'conj[ER]'],\n",
       " 'Fu': ['UL', 'conj[UR]'],\n",
       " 'Fv': ['vL', 0]}"
      ]
     },
     "execution_count": 711,
     "metadata": {},
     "output_type": "execute_result"
    }
   ],
   "source": [
    "eval(kk)"
   ]
  },
  {
   "cell_type": "code",
   "execution_count": 740,
   "metadata": {},
   "outputs": [
    {
     "data": {
      "text/plain": [
       "-1"
      ]
     },
     "execution_count": 740,
     "metadata": {},
     "output_type": "execute_result"
    }
   ],
   "source": [
    "strl.find('->')"
   ]
  },
  {
   "cell_type": "code",
   "execution_count": 765,
   "metadata": {},
   "outputs": [],
   "source": [
    "def sarahlist_to_python(strl,DEBUG=False):\n",
    "    '''\n",
    "    Convert a string with a SARAH list of rotations into\n",
    "    a Python object\n",
    "    '''\n",
    "    #General transformations\n",
    "    nl=re.sub(';\\s*$','', #Drop final semicolon\n",
    "               strl) \n",
    "    if nl.find('->')>-1:\n",
    "        nl=re.sub( '(\\w+\\[*\\w+\\]*)',r'\"\\1\"' ,\n",
    "           re.sub('\\s*:\\s*\\{([\\s\\w,\\[\\]]+)\\}',r':[\\1 ]', # to python value lists of dict key\n",
    "           re.sub( '\\s*->\\s*',':', # to python dict                  \n",
    "              nl)))\n",
    "    else:\n",
    "        nl= re.sub( '\\{','[',\n",
    "            re.sub( '\\}',']',                   \n",
    "            re.sub('([\\w\\[\\]\\/\\\\\\]+)',r'\"\\1\"',  #to python_lists\n",
    "           nl)))\n",
    "    if DEBUG:    \n",
    "        print(nl)\n",
    "        print(\"*\"*50)\n",
    "    return eval(nl)"
   ]
  },
  {
   "cell_type": "code",
   "execution_count": 768,
   "metadata": {},
   "outputs": [
    {
     "name": "stdout",
     "output_type": "stream",
     "text": [
      "{ Fd ->{  DL, conj[DR]}, Fe ->{  EL, conj[ER]}, Fu ->{  UL, conj[UR]}, Fv ->{  vL, 0}};\n",
      "--------------------------------------------------\n",
      "{ \"Fd\":[  \"DL\", \"conj[DR]\" ], \"Fe\":[  \"EL\", \"conj[ER]\" ], \"Fu\":[  \"UL\", \"conj[UR]\" ], \"Fv\":[  \"vL\", 0 ]}\n",
      "**************************************************\n",
      "{   {{VB,VWB[3]},{VP,VZ},ZZ},  {{VWB[1],VWB[2]},{VWp,conj[VWp]},ZW}};     \n",
      "--------------------------------------------------\n",
      "[   [[\"VB\",\"VWB[3]\"],[\"VP\",\"VZ\"],\"ZZ\"],  [[\"VWB[1]\",\"VWB[2]\"],[\"VWp\",\"conj[VWp]\"],\"ZW\"]]\n",
      "**************************************************\n",
      "    {{{{dL}, {conj[dR]}}, {{DL,Vd}, {DR,Ud}}},     {{{uL}, {conj[uR]}}, {{UL,Vu}, {UR,Uu}}},     {{{eL}, {conj[eR]}}, {{EL,Ve}, {ER,Ue}}}};  \n",
      "--------------------------------------------------\n",
      "    [[[[\"dL\"], [\"conj[dR]\"]], [[\"DL\",\"Vd\"], [\"DR\",\"Ud\"]]],     [[[\"uL\"], [\"conj[uR]\"]], [[\"UL\",\"Vu\"], [\"UR\",\"Uu\"]]],     [[[\"eL\"], [\"conj[eR]\"]], [[\"EL\",\"Ve\"], [\"ER\",\"Ue\"]]]]\n",
      "**************************************************\n",
      "{    {H0, {v, 1/Sqrt[2]}, {Ah, \\[ImaginaryI]/Sqrt[2]},{hh, 1/Sqrt[2]}}     };\n",
      "--------------------------------------------------\n",
      "[    [\"H0\", [\"v\", \"1/Sqrt[2]\"], [\"Ah\", \"\\[ImaginaryI]/Sqrt[2]\"],[\"hh\", \"1/Sqrt[2]\"]]     ]\n",
      "**************************************************\n"
     ]
    }
   ],
   "source": [
    "l=[]\n",
    "for k in ['DiracSpinors','GaugeSector','MatterSector','VEVs']:\n",
    "    strl =dsbd[k]\n",
    "    print(strl)\n",
    "    print(\"-\"*50)\n",
    "    nl=sarahlist_to_python(strl,DEBUG=True)\n",
    "    l.append(nl)"
   ]
  },
  {
   "cell_type": "code",
   "execution_count": 756,
   "metadata": {},
   "outputs": [
    {
     "data": {
      "text/plain": [
       "[['H0',\n",
       "  ['v', '1/Sqrt[2]'],\n",
       "  ['Ah', '\\\\[ImaginaryI]/Sqrt[2]'],\n",
       "  ['hh', '1/Sqrt[2]']]]"
      ]
     },
     "execution_count": 756,
     "metadata": {},
     "output_type": "execute_result"
    }
   ],
   "source": [
    "eval(l[-1])"
   ]
  },
  {
   "cell_type": "code",
   "execution_count": 222,
   "metadata": {},
   "outputs": [
    {
     "data": {
      "text/plain": [
       "'FermionFields[[1]] = {q, 3, [uL:: dL],     1/6, 2,  3};'"
      ]
     },
     "execution_count": 222,
     "metadata": {},
     "output_type": "execute_result"
    }
   ],
   "source": [
    "re.sub( '(\\{)(.*)\\{\\w+, dL\\}(.*)(\\}\\s*;\\s*)',r'\\1\\2[uL:: dL]\\3\\4' , 'FermionFields[[1]] = {q, 3, {uL, dL},     1/6, 2,  3};')"
   ]
  },
  {
   "cell_type": "code",
   "execution_count": 112,
   "metadata": {},
   "outputs": [
    {
     "name": "stdout",
     "output_type": "stream",
     "text": [
      "Off[General::spell]\n",
      "\n",
      "Model`Name = \"SM\";\n",
      "Model`NameLaTeX =\"Standard Model\";\n",
      "Model`Authors = \"F.Staub\";\n",
      "Model`Date = \"2014-11-06\";\n",
      "\n",
      "(* 2013-01-24: changed normalization of lambda term to convention of hep-ph/0207271 *)\n",
      "(* 2013-06-24: using new name conventions (without inital \"S\" and \"F\" for scalar and matter fields) *)\n",
      "(* 2013-09-01: changing to new conventions for FermionFields/MatterFields *)\n",
      "(* 2014-11-06: Changed sign in Lagrangian to fit standard conventions *)\n",
      "(* 2016-05-03: Changed sign of Yu *)\n",
      "\n",
      "\n",
      "\n",
      "(*-------------------------------------------*)\n",
      "(*   Particle Content*)\n",
      "(*-------------------------------------------*)\n",
      "\n",
      "(* Gauge Groups *)\n",
      "\n",
      "Gauge[[1]]={B,   U[1], hypercharge, g1,False};\n",
      "Gauge[[2]]={WB, SU[2], left,        g2,True};\n",
      "Gauge[[3]]={G,  SU[3], color,       g3,False};\n",
      "\n",
      "\n",
      "(* Matter Fields *)\n",
      "\n",
      "FermionFields[[1]] = {q, 3, {uL, dL},     1/6, 2,  3};  \n",
      "FermionFields[[2]] = {l, 3, {vL, eL},    -1/2, 2,  1};\n",
      "FermionFields[[3]] = {d, 3, conj[dR],     1/3, 1, -3};\n",
      "FermionFields[[4]] = {u, 3, conj[uR],    -2/3, 1, -3};\n",
      "FermionFields[[5]] = {e, 3, conj[eR],       1, 1,  1};\n",
      "\n",
      "ScalarFields[[1]] =  {H, 1, {Hp, H0},     1/2, 2,  1};\n",
      "\n",
      "\n",
      "        \n",
      "(*----------------------------------------------*)\n",
      "(*   DEFINITION                                 *)\n",
      "(*----------------------------------------------*)\n",
      "\n",
      "NameOfStates={GaugeES, EWSB};\n",
      "\n",
      "(* ----- Before EWSB ----- *)\n",
      "\n",
      "DEFINITION[GaugeES][LagrangianInput]= {\n",
      "\t{LagHC, {AddHC->True}},\n",
      "\t{LagNoHC,{AddHC->False}}\n",
      "};\n",
      "\n",
      "\n",
      "LagNoHC = -mu2 conj[H].H - 1/2 \\[Lambda] conj[H].H.conj[H].H;\n",
      "LagHC =  -(Yd conj[H].d.q + Ye conj[H].e.l + Yu u.q.H);\n",
      "\n",
      "\n",
      "\t\t\t  \t\t  \n",
      "\n",
      "(* Gauge Sector *)\n",
      "\n",
      "DEFINITION[EWSB][GaugeSector] =\n",
      "{ \n",
      "  {{VB,VWB[3]},{VP,VZ},ZZ},\n",
      "  {{VWB[1],VWB[2]},{VWp,conj[VWp]},ZW}\n",
      "};     \n",
      "        \n",
      "        \n",
      "          \t\n",
      "\n",
      "(* ----- VEVs ---- *)\n",
      "\n",
      "DEFINITION[EWSB][VEVs]= \n",
      "{    {H0, {v, 1/Sqrt[2]}, {Ah, \\[ImaginaryI]/Sqrt[2]},{hh, 1/Sqrt[2]}}     };\n",
      " \n",
      "\n",
      "DEFINITION[EWSB][MatterSector]=   \n",
      "    {{{{dL}, {conj[dR]}}, {{DL,Vd}, {DR,Ud}}},\n",
      "     {{{uL}, {conj[uR]}}, {{UL,Vu}, {UR,Uu}}},\n",
      "     {{{eL}, {conj[eR]}}, {{EL,Ve}, {ER,Ue}}}};  \n",
      "\n",
      "\n",
      "(*------------------------------------------------------*)\n",
      "(* Dirac-Spinors *)\n",
      "(*------------------------------------------------------*)\n",
      "\n",
      "DEFINITION[EWSB][DiracSpinors]={\n",
      " Fd ->{  DL, conj[DR]},\n",
      " Fe ->{  EL, conj[ER]},\n",
      " Fu ->{  UL, conj[UR]},\n",
      " Fv ->{  vL, 0}};\n",
      "\n",
      "DEFINITION[EWSB][GaugeES]={\n",
      " Fd1 ->{  FdL, 0},\n",
      " Fd2 ->{  0, FdR},\n",
      " Fu1 ->{  Fu1, 0},\n",
      " Fu2 ->{  0, Fu2},\n",
      " Fe1 ->{  Fe1, 0},\n",
      " Fe2 ->{  0, Fe2}};\n",
      "\n",
      "\n",
      "\n",
      "\n"
     ]
    }
   ],
   "source": [
    "print(smf)"
   ]
  },
  {
   "cell_type": "code",
   "execution_count": null,
   "metadata": {},
   "outputs": [],
   "source": []
  }
 ],
 "metadata": {
  "kernelspec": {
   "display_name": "Python 3",
   "language": "python",
   "name": "python3"
  },
  "language_info": {
   "codemirror_mode": {
    "name": "ipython",
    "version": 3
   },
   "file_extension": ".py",
   "mimetype": "text/x-python",
   "name": "python",
   "nbconvert_exporter": "python",
   "pygments_lexer": "ipython3",
   "version": "3.5.3"
  },
  "latex_envs": {
   "LaTeX_envs_menu_present": true,
   "autoclose": false,
   "autocomplete": true,
   "bibliofile": "biblio.bib",
   "cite_by": "apalike",
   "current_citInitial": 1,
   "eqLabelWithNumbers": true,
   "eqNumInitial": 1,
   "hotkeys": {
    "equation": "Ctrl-E",
    "itemize": "Ctrl-I"
   },
   "labels_anchors": false,
   "latex_user_defs": false,
   "report_style_numbering": false,
   "user_envs_cfg": false
  }
 },
 "nbformat": 4,
 "nbformat_minor": 2
}
