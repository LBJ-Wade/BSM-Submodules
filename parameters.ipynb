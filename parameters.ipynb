{
 "cells": [
  {
   "cell_type": "markdown",
   "metadata": {},
   "source": [
    "# Parameters generator"
   ]
  },
  {
   "cell_type": "markdown",
   "metadata": {},
   "source": [
    "The SM will be defined as pandas file in JSON format.\n",
    "In this file it will be shown the definition of such a file from a dictionary"
   ]
  },
  {
   "cell_type": "code",
   "execution_count": 2,
   "metadata": {},
   "outputs": [],
   "source": [
    "import pandas as pd"
   ]
  },
  {
   "cell_type": "markdown",
   "metadata": {},
   "source": [
    "TODO: Capture also main configuration files in parent directory\n",
    "\n",
    "SMMain={'ParticleDefinitionsMain':[{'Description':{'Neutral Higgs':{'PDG':[0],'Width':0}}}]}\n",
    "SMMain['ParticleDefinitionsMain'][0]['Description']['Neutral Higgs']"
   ]
  },
  {
   "cell_type": "markdown",
   "metadata": {},
   "source": [
    "Build SM as dictionary to feed pandas"
   ]
  },
  {
   "cell_type": "code",
   "execution_count": 559,
   "metadata": {},
   "outputs": [],
   "source": [
    "#Matter fields\n",
    "# LaTeX backslash as \\\\\\\\\n",
    "str_keys=['LaTeX','OutputName','Description']\n",
    "lst_keys=['PDG','PDG.IX']\n",
    "ParticleDefinitions={'GaugeES':\n",
    "                             {'H0':{'PDG'  :[0],\n",
    "                                    'Width':0,\n",
    "                                    'Mass' : 'Automatic',\n",
    "                                    'FeynArtsNr' : 1,\n",
    "                                    'LaTeX' : 'H^0',\n",
    "                                    'OutputName' : 'H0'                                   \n",
    "                                   },\n",
    "                              'Hp':{'PDG'  :[0],\n",
    "                                    'Width':0,\n",
    "                                    'Mass' : 'Automatic',\n",
    "                                    'FeynArtsNr' : 2,\n",
    "                                    'LaTeX' : 'H^+',\n",
    "                                    'OutputName' : 'Hp'                                   \n",
    "                                   },\n",
    "                              'VB' : {'Description' :'B-Boson'      },                                                   \n",
    "                              'VG' : {'Description' :'Gluon'        },          \n",
    "                              'VWB': {'Description' :'W-Bosons'     },          \n",
    "                              'gB' : {'Description' :'B-Boson Ghost'},                                                   \n",
    "                              'gG' : {'Description' :'Gluon Ghost'  },          \n",
    "                              'gWB': {'Description' :'W-Boson Ghost'}\n",
    "                             },\n",
    "                            'EWSB':\n",
    "                            {                                \n",
    "                            },\n",
    "                            'WeylFermionAndIndermediate':\n",
    "                            {   \n",
    "                            }\n",
    "                           }\n",
    "\n",
    "ParticleDefinitions['EWSB']['hh']={'Description' : 'Higgs',\n",
    "                                   'PDG'         : [25],\n",
    "                                   'PDG.IX'      : [101000001]}\n",
    "ParticleDefinitions['EWSB']['Ah']={'Description' : \"Pseudo-Scalar Higgs\",\n",
    "                                   'PDG'         : [0],\n",
    "                                   'PDG.IX'      : [0],\n",
    "                                   'Mass'        : [0],\n",
    "                                   'Width'       : [0]\n",
    "                                   }\n",
    "ParticleDefinitions['EWSB']['Hp']={'Description'    : 'Charged Higgs', \n",
    "                                   'PDG'            : [0],\n",
    "                                   'PDG.IX'         : [0],\n",
    "                                   'Width'          : [0], \n",
    "                                   'Mass'           : [0],\n",
    "                                   'LaTeX'          : ['H^+','H^-' ],\n",
    "                                   'OutputName'     : ['Hp' ,'Hm'  ],\n",
    "                                   'ElectricCharge' : 1\n",
    "                                   }\n",
    "\n",
    "ParticleDefinitions['EWSB']['VP']  =  { 'Description' : 'Photon'}\n",
    "ParticleDefinitions['EWSB']['VZ']  =  { 'Description' : 'Z-Boson',\n",
    "                                        'Goldstone' : 'Ah' }\n",
    "ParticleDefinitions['EWSB']['VG']  =  { 'Description' : 'Gluon' }\n",
    "ParticleDefinitions['EWSB']['VWp'] =  { 'Description' : 'W+ - Boson',\n",
    "                                        'Goldstone': 'Hp' }\n",
    "ParticleDefinitions['EWSB']['gP']  =  { 'Description' : 'Photon Ghost'}\n",
    "ParticleDefinitions['EWSB']['gWp'] =  { 'Description' : 'Positive W+ - Boson Ghost'}\n",
    "ParticleDefinitions['EWSB']['gWpC']=  { 'Description' : 'Negative W+ - Boson Ghost' }\n",
    "ParticleDefinitions['EWSB']['gZ']  =  { 'Description' : 'Z-Boson Ghost' }\n",
    "ParticleDefinitions['EWSB']['gG']  =  { 'Description' : 'Gluon Ghost' }\n",
    "ParticleDefinitions['EWSB']['Fd']  =  { 'Description' : 'Down-Quarks'}\n",
    "ParticleDefinitions['EWSB']['Fu']  =  { 'Description' : 'Up-Quarks'}\n",
    "ParticleDefinitions['EWSB']['Fe']  =  { 'Description' : 'Leptons' }\n",
    "ParticleDefinitions['EWSB']['Fv']  =  { 'Description' : 'Neutrinos' }\n",
    "\n",
    "ParticleDefinitions['WeylFermionAndIndermediate']['H' ] = {'PDG'       : [0],\n",
    "                                                           'Width'     : 0,\n",
    "                                                           'Mass'      : 'Automatic',\n",
    "                                                           'LaTeX'     : 'H',\n",
    "                                                           'OutputName': '' }\n",
    "ParticleDefinitions['WeylFermionAndIndermediate']['dR'] = {'LaTeX' : 'd_R'   }\n",
    "ParticleDefinitions['WeylFermionAndIndermediate']['eR'] = {'LaTeX' : 'e_R'   }\n",
    "ParticleDefinitions['WeylFermionAndIndermediate']['l' ] = {'LaTeX' : 'l'     }\n",
    "ParticleDefinitions['WeylFermionAndIndermediate']['uR'] = {'LaTeX' : 'u_R'   }\n",
    "ParticleDefinitions['WeylFermionAndIndermediate']['q' ] = {'LaTeX' : 'q'     }\n",
    "ParticleDefinitions['WeylFermionAndIndermediate']['eL'] = {'LaTeX' : 'e_L'   }\n",
    "ParticleDefinitions['WeylFermionAndIndermediate']['dL'] = {'LaTeX' : 'd_L'   }\n",
    "ParticleDefinitions['WeylFermionAndIndermediate']['uL'] = {'LaTeX' : 'u_L'   }\n",
    "ParticleDefinitions['WeylFermionAndIndermediate']['vL'] = {'LaTeX' : '\\\\\\\\nu_L'}\n",
    "ParticleDefinitions['WeylFermionAndIndermediate']['DR'] = {'LaTeX' : 'D_R'   }\n",
    "ParticleDefinitions['WeylFermionAndIndermediate']['ER'] = {'LaTeX' : 'E_R'   }\n",
    "ParticleDefinitions['WeylFermionAndIndermediate']['UR'] = {'LaTeX' : 'U_R'   }\n",
    "ParticleDefinitions['WeylFermionAndIndermediate']['EL'] = {'LaTeX' : 'E_L'   }\n",
    "ParticleDefinitions['WeylFermionAndIndermediate']['DL'] = {'LaTeX' : 'D_L'   }\n",
    "ParticleDefinitions['WeylFermionAndIndermediate']['UL'] = {'LaTeX' : 'U_L'   }"
   ]
  },
  {
   "cell_type": "markdown",
   "metadata": {},
   "source": [
    "Example to modify dictionary entry"
   ]
  },
  {
   "cell_type": "code",
   "execution_count": 562,
   "metadata": {},
   "outputs": [],
   "source": [
    "ParticleDefinitions['GaugeES']['H0']['FeynArtsNr']=1"
   ]
  },
  {
   "cell_type": "markdown",
   "metadata": {},
   "source": [
    "## Save as JSON"
   ]
  },
  {
   "cell_type": "code",
   "execution_count": 563,
   "metadata": {},
   "outputs": [],
   "source": [
    "f=open('SM.json','w')\n",
    "json.dump(ParticleDefinitions,f)\n",
    "f.close()"
   ]
  },
  {
   "cell_type": "markdown",
   "metadata": {},
   "source": [
    "Check if `pandas` can read it"
   ]
  },
  {
   "cell_type": "code",
   "execution_count": 571,
   "metadata": {},
   "outputs": [
    {
     "data": {
      "text/plain": [
       "{'Description': 'Charged Higgs',\n",
       " 'ElectricCharge': 1,\n",
       " 'LaTeX': ['H^+', 'H^-'],\n",
       " 'Mass': [0],\n",
       " 'OutputName': ['Hp', 'Hm'],\n",
       " 'PDG': [0],\n",
       " 'PDG.IX': [0],\n",
       " 'Width': [0]}"
      ]
     },
     "execution_count": 571,
     "metadata": {},
     "output_type": "execute_result"
    }
   ],
   "source": [
    "pd.read_json('kk.json').loc['Hp']['EWSB']"
   ]
  },
  {
   "cell_type": "markdown",
   "metadata": {},
   "source": [
    "## Feed a `pandas` `DataFrame`"
   ]
  },
  {
   "cell_type": "code",
   "execution_count": 594,
   "metadata": {},
   "outputs": [],
   "source": [
    "SM=pd.DataFrame( ParticleDefinitions  )"
   ]
  },
  {
   "cell_type": "markdown",
   "metadata": {},
   "source": [
    "Checks"
   ]
  },
  {
   "cell_type": "code",
   "execution_count": 595,
   "metadata": {},
   "outputs": [
    {
     "data": {
      "text/plain": [
       "{'FeynArtsNr': 1,\n",
       " 'LaTeX': 'H^0',\n",
       " 'Mass': 'Automatic',\n",
       " 'OutputName': 'H0',\n",
       " 'PDG': [0],\n",
       " 'Width': 0}"
      ]
     },
     "execution_count": 595,
     "metadata": {},
     "output_type": "execute_result"
    }
   ],
   "source": [
    "SM['GaugeES']['H0']"
   ]
  },
  {
   "cell_type": "code",
   "execution_count": 596,
   "metadata": {},
   "outputs": [
    {
     "data": {
      "text/plain": [
       "{'Description': 'Z-Boson', 'Goldstone': 'Ah'}"
      ]
     },
     "execution_count": 596,
     "metadata": {},
     "output_type": "execute_result"
    }
   ],
   "source": [
    "SM['EWSB']['VZ']"
   ]
  },
  {
   "cell_type": "code",
   "execution_count": 597,
   "metadata": {},
   "outputs": [
    {
     "data": {
      "text/html": [
       "<div>\n",
       "<style scoped>\n",
       "    .dataframe tbody tr th:only-of-type {\n",
       "        vertical-align: middle;\n",
       "    }\n",
       "\n",
       "    .dataframe tbody tr th {\n",
       "        vertical-align: top;\n",
       "    }\n",
       "\n",
       "    .dataframe thead th {\n",
       "        text-align: right;\n",
       "    }\n",
       "</style>\n",
       "<table border=\"1\" class=\"dataframe\">\n",
       "  <thead>\n",
       "    <tr style=\"text-align: right;\">\n",
       "      <th></th>\n",
       "      <th>EWSB</th>\n",
       "      <th>GaugeES</th>\n",
       "      <th>WeylFermionAndIndermediate</th>\n",
       "    </tr>\n",
       "  </thead>\n",
       "  <tbody>\n",
       "    <tr>\n",
       "      <th>Ah</th>\n",
       "      <td>{'Mass': [0], 'PDG.IX': [0], 'PDG': [0], 'Desc...</td>\n",
       "      <td>NaN</td>\n",
       "      <td>NaN</td>\n",
       "    </tr>\n",
       "  </tbody>\n",
       "</table>\n",
       "</div>"
      ],
      "text/plain": [
       "                                                 EWSB GaugeES  \\\n",
       "Ah  {'Mass': [0], 'PDG.IX': [0], 'PDG': [0], 'Desc...     NaN   \n",
       "\n",
       "   WeylFermionAndIndermediate  \n",
       "Ah                        NaN  "
      ]
     },
     "execution_count": 597,
     "metadata": {},
     "output_type": "execute_result"
    }
   ],
   "source": [
    "SM[:1]"
   ]
  },
  {
   "cell_type": "markdown",
   "metadata": {},
   "source": [
    "Show a particle"
   ]
  },
  {
   "cell_type": "code",
   "execution_count": 598,
   "metadata": {},
   "outputs": [
    {
     "data": {
      "text/plain": [
       "{'FeynArtsNr': 1,\n",
       " 'LaTeX': 'H^0',\n",
       " 'Mass': 'Automatic',\n",
       " 'OutputName': 'H0',\n",
       " 'PDG': [0],\n",
       " 'Width': 0}"
      ]
     },
     "execution_count": 598,
     "metadata": {},
     "output_type": "execute_result"
    }
   ],
   "source": [
    "SM['GaugeES']['H0']"
   ]
  },
  {
   "cell_type": "markdown",
   "metadata": {},
   "source": [
    "Example: Modify particle property"
   ]
  },
  {
   "cell_type": "code",
   "execution_count": 599,
   "metadata": {},
   "outputs": [],
   "source": [
    "SM['WeylFermionAndIndermediate']['dR'] = {'LaTeX' : 'd_R'   }"
   ]
  },
  {
   "cell_type": "code",
   "execution_count": 600,
   "metadata": {},
   "outputs": [],
   "source": [
    "SM.to_json('SM2.json')#,lines=True,orient='records')"
   ]
  },
  {
   "cell_type": "markdown",
   "metadata": {},
   "source": [
    "## Load JSON\n",
    "Directly fromo the `json.dumps...`"
   ]
  },
  {
   "cell_type": "code",
   "execution_count": 602,
   "metadata": {},
   "outputs": [],
   "source": [
    "BSM=pd.read_json('SM.json')#,lines=True,orient='records')"
   ]
  },
  {
   "cell_type": "code",
   "execution_count": 603,
   "metadata": {},
   "outputs": [
    {
     "data": {
      "text/html": [
       "<div>\n",
       "<style scoped>\n",
       "    .dataframe tbody tr th:only-of-type {\n",
       "        vertical-align: middle;\n",
       "    }\n",
       "\n",
       "    .dataframe tbody tr th {\n",
       "        vertical-align: top;\n",
       "    }\n",
       "\n",
       "    .dataframe thead th {\n",
       "        text-align: right;\n",
       "    }\n",
       "</style>\n",
       "<table border=\"1\" class=\"dataframe\">\n",
       "  <thead>\n",
       "    <tr style=\"text-align: right;\">\n",
       "      <th></th>\n",
       "      <th>EWSB</th>\n",
       "      <th>GaugeES</th>\n",
       "      <th>WeylFermionAndIndermediate</th>\n",
       "    </tr>\n",
       "  </thead>\n",
       "  <tbody>\n",
       "    <tr>\n",
       "      <th>Ah</th>\n",
       "      <td>{'Mass': [0], 'PDG.IX': [0], 'PDG': [0], 'Desc...</td>\n",
       "      <td>NaN</td>\n",
       "      <td>NaN</td>\n",
       "    </tr>\n",
       "  </tbody>\n",
       "</table>\n",
       "</div>"
      ],
      "text/plain": [
       "                                                 EWSB GaugeES  \\\n",
       "Ah  {'Mass': [0], 'PDG.IX': [0], 'PDG': [0], 'Desc...     NaN   \n",
       "\n",
       "   WeylFermionAndIndermediate  \n",
       "Ah                        NaN  "
      ]
     },
     "execution_count": 603,
     "metadata": {},
     "output_type": "execute_result"
    }
   ],
   "source": [
    "BSM[:1]"
   ]
  },
  {
   "cell_type": "code",
   "execution_count": 604,
   "metadata": {},
   "outputs": [
    {
     "data": {
      "text/plain": [
       "{'FeynArtsNr': 1,\n",
       " 'LaTeX': 'H^0',\n",
       " 'Mass': 'Automatic',\n",
       " 'OutputName': 'H0',\n",
       " 'PDG': [0],\n",
       " 'Width': 0}"
      ]
     },
     "execution_count": 604,
     "metadata": {},
     "output_type": "execute_result"
    }
   ],
   "source": [
    "BSM['GaugeES'].dropna()['H0']"
   ]
  },
  {
   "cell_type": "code",
   "execution_count": 605,
   "metadata": {},
   "outputs": [
    {
     "data": {
      "text/plain": [
       "{'FeynArtsNr': 1,\n",
       " 'LaTeX': 'H^0',\n",
       " 'Mass': 'Automatic',\n",
       " 'OutputName': 'H0',\n",
       " 'PDG': [0],\n",
       " 'Width': 0}"
      ]
     },
     "execution_count": 605,
     "metadata": {},
     "output_type": "execute_result"
    }
   ],
   "source": [
    "BSM['GaugeES']['H0']"
   ]
  },
  {
   "cell_type": "code",
   "execution_count": 606,
   "metadata": {},
   "outputs": [
    {
     "data": {
      "text/plain": [
       "{'Description': 'Z-Boson', 'Goldstone': 'Ah'}"
      ]
     },
     "execution_count": 606,
     "metadata": {},
     "output_type": "execute_result"
    }
   ],
   "source": [
    "BSM['EWSB']['VZ']"
   ]
  },
  {
   "cell_type": "code",
   "execution_count": 607,
   "metadata": {},
   "outputs": [],
   "source": [
    "#SM.loc['Ah','EWSB']['Mass']=[1]"
   ]
  },
  {
   "cell_type": "markdown",
   "metadata": {},
   "source": [
    "Still working..."
   ]
  },
  {
   "cell_type": "code",
   "execution_count": 608,
   "metadata": {},
   "outputs": [],
   "source": [
    "BSM['WeylFermionAndIndermediate']['dR'] = {'LaTeX' : 'd_R'   }"
   ]
  },
  {
   "cell_type": "code",
   "execution_count": 609,
   "metadata": {},
   "outputs": [
    {
     "data": {
      "text/plain": [
       "{'Description': 'Pseudo-Scalar Higgs',\n",
       " 'Mass': [0],\n",
       " 'PDG': [0],\n",
       " 'PDG.IX': [0],\n",
       " 'Width': [0]}"
      ]
     },
     "execution_count": 609,
     "metadata": {},
     "output_type": "execute_result"
    }
   ],
   "source": [
    "BSM.loc['Ah','EWSB']"
   ]
  },
  {
   "cell_type": "markdown",
   "metadata": {},
   "source": [
    "## Export to files"
   ]
  },
  {
   "cell_type": "code",
   "execution_count": 610,
   "metadata": {},
   "outputs": [],
   "source": [
    "SM=BSM.loc[['Ah', 'DL', 'DR', 'EL', 'ER', 'Fd', 'Fe', 'Fu', 'Fv', 'H', 'H0', 'Hp',\n",
    "       'UL', 'UR', 'VB', 'VG', 'VP', 'VWB', 'VWp', 'VZ', 'dL', 'dR', 'eL',\n",
    "       'eR', 'gB', 'gG', 'gP', 'gWB', 'gWp', 'gWpC', 'gZ', 'hh', 'l', 'q',\n",
    "       'uL', 'uR', 'vL']]"
   ]
  },
  {
   "cell_type": "code",
   "execution_count": 612,
   "metadata": {},
   "outputs": [],
   "source": [
    "CHECK_PANDAS_SAVED_JSON=True\n",
    "if CHECK_PANDAS_SAVED_JSON:\n",
    "    SM=pd.read_json('SM2.json')#,lines=True,orient='records')"
   ]
  },
  {
   "cell_type": "code",
   "execution_count": 613,
   "metadata": {},
   "outputs": [],
   "source": [
    "import json\n",
    "f=open('p.m','w')\n",
    "for c in SM.columns:\n",
    "    f.write('ParticleDefinitions[{}] = {{\\n'.format(c))\n",
    "    cindex=SM[c].dropna().index\n",
    "    csep=','\n",
    "    for p in cindex:\n",
    "        if p==list(cindex)[-1]:\n",
    "            csep=''\n",
    "        f.write('    {{{}, {{'.format(p))\n",
    "        cpkeys=SM[c][p].keys()\n",
    "        sangria=' '\n",
    "        sep=','\n",
    "        nl='\\n'\n",
    "        #TODO: Be sure that Description will be printed first\n",
    "        for k in cpkeys:\n",
    "            if k!=list(cpkeys)[0]:\n",
    "                sangria='           '\n",
    "            if k==list(cpkeys)[-1]:\n",
    "                sep=''\n",
    "                nl=''\n",
    "            #print list of strings with double quotes\n",
    "            cp='{}{} -> '.format(sangria,k)\n",
    "            smcpk=SM[c][p][k]\n",
    "            if type(smcpk)==str:\n",
    "                smcpk='\"{}\"'.format(smcpk)\n",
    "            else:\n",
    "                smcpk=json.dumps( smcpk )\n",
    "            \n",
    "            f.write('{}{}{}{}'.format(cp,smcpk,sep,nl))\n",
    "\n",
    "        f.write('}}}}{}\\n'.format(csep))\n",
    "    f.write('};\\n\\n')\n",
    "f.close()"
   ]
  },
  {
   "cell_type": "code",
   "execution_count": 614,
   "metadata": {},
   "outputs": [
    {
     "name": "stdout",
     "output_type": "stream",
     "text": [
      "ParticleDefinitions[EWSB] = {\r\n",
      "    {Ah, { Mass -> [0],\r\n",
      "           PDG.IX -> [0],\r\n",
      "           PDG -> [0],\r\n",
      "           Description -> \"Pseudo-Scalar Higgs\",\r\n",
      "           Width -> [0]}},\r\n",
      "    {Fd, { Description -> \"Down-Quarks\"}},\r\n",
      "    {Fe, { Description -> \"Leptons\"}},\r\n",
      "    {Fu, { Description -> \"Up-Quarks\"}},\r\n",
      "    {Fv, { Description -> \"Neutrinos\"}},\r\n",
      "    {Hp, { Width -> [0],\r\n",
      "           Mass -> [0],\r\n",
      "           LaTeX -> [\"H^+\", \"H^-\"],\r\n",
      "           PDG.IX -> [0],\r\n",
      "           PDG -> [0],\r\n",
      "           ElectricCharge -> 1,\r\n",
      "           OutputName -> [\"Hp\", \"Hm\"],\r\n",
      "           Description -> \"Charged Higgs\"}},\r\n",
      "    {VG, { Description -> \"Gluon\"}},\r\n",
      "    {VP, { Description -> \"Photon\"}},\r\n",
      "    {VWp, { Goldstone -> \"Hp\",\r\n",
      "           Description -> \"W+ - Boson\"}},\r\n",
      "    {VZ, { Goldstone -> \"Ah\",\r\n",
      "           Description -> \"Z-Boson\"}},\r\n",
      "    {gG, { Description -> \"Gluon Ghost\"}},\r\n",
      "    {gP, { Description -> \"Photon Ghost\"}},\r\n",
      "    {gWp, { Description -> \"Positive W+ - Boson Ghost\"}},\r\n",
      "    {gWpC, { Description -> \"Negative W+ - Boson Ghost\"}},\r\n",
      "    {gZ, { Description -> \"Z-Boson Ghost\"}},\r\n",
      "    {hh, { PDG.IX -> [101000001],\r\n",
      "           PDG -> [25],\r\n",
      "           Description -> \"Higgs\"}}\r\n",
      "};\r\n",
      "\r\n",
      "ParticleDefinitions[GaugeES] = {\r\n",
      "    {H0, { Mass -> \"Automatic\",\r\n",
      "           FeynArtsNr -> 1,\r\n",
      "           LaTeX -> \"H^0\",\r\n",
      "           PDG -> [0],\r\n",
      "           Width -> 0,\r\n",
      "           OutputName -> \"H0\"}},\r\n",
      "    {Hp, { Mass -> \"Automatic\",\r\n",
      "           FeynArtsNr -> 2,\r\n",
      "           LaTeX -> \"H^+\",\r\n",
      "           PDG -> [0],\r\n",
      "           Width -> 0,\r\n",
      "           OutputName -> \"Hp\"}},\r\n",
      "    {VB, { Description -> \"B-Boson\"}},\r\n",
      "    {VG, { Description -> \"Gluon\"}},\r\n",
      "    {VWB, { Description -> \"W-Bosons\"}},\r\n",
      "    {gB, { Description -> \"B-Boson Ghost\"}},\r\n",
      "    {gG, { Description -> \"Gluon Ghost\"}},\r\n",
      "    {gWB, { Description -> \"W-Boson Ghost\"}}\r\n",
      "};\r\n",
      "\r\n",
      "ParticleDefinitions[WeylFermionAndIndermediate] = {\r\n",
      "    {DL, { LaTeX -> \"D_L\"}},\r\n",
      "    {DR, { LaTeX -> \"D_R\"}},\r\n",
      "    {EL, { LaTeX -> \"E_L\"}},\r\n",
      "    {ER, { LaTeX -> \"E_R\"}},\r\n",
      "    {H, { Mass -> \"Automatic\",\r\n",
      "           LaTeX -> \"H\",\r\n",
      "           PDG -> [0],\r\n",
      "           Width -> 0,\r\n",
      "           OutputName -> \"\"}},\r\n",
      "    {UL, { LaTeX -> \"U_L\"}},\r\n",
      "    {UR, { LaTeX -> \"U_R\"}},\r\n",
      "    {dL, { LaTeX -> \"d_L\"}},\r\n",
      "    {dR, { LaTeX -> \"d_R\"}},\r\n",
      "    {eL, { LaTeX -> \"e_L\"}},\r\n",
      "    {eR, { LaTeX -> \"e_R\"}},\r\n",
      "    {l, { LaTeX -> \"l\"}},\r\n",
      "    {q, { LaTeX -> \"q\"}},\r\n",
      "    {uL, { LaTeX -> \"u_L\"}},\r\n",
      "    {uR, { LaTeX -> \"u_R\"}},\r\n",
      "    {vL, { LaTeX -> \"\\\\nu_L\"}}\r\n",
      "};\r\n",
      "\r\n"
     ]
    }
   ],
   "source": [
    "cat p.m"
   ]
  },
  {
   "cell_type": "markdown",
   "metadata": {},
   "source": [
    "# Get particle from model file"
   ]
  },
  {
   "cell_type": "markdown",
   "metadata": {},
   "source": [
    "Design:\n",
    "* Intialize `particle` as an empty dictionary.\n",
    "* Intialize `particles` as an empty list.\n",
    "* Fill particle properties and build the list: `particles`\n",
    "* Internal defintions\n",
    "  * weyl: Charged Weyl fermion bidiagonal rotation object\n",
    "  * symm: Symmetric diagonalization system object\n",
    "  * vev:  Complex scalar decomposition"
   ]
  },
  {
   "cell_type": "markdown",
   "metadata": {},
   "source": [
    "Implementation:\n",
    "1. Get particles from particles definitions\n",
    "2. Get particles from `DEFINITION[EWSB]`"
   ]
  },
  {
   "cell_type": "markdown",
   "metadata": {},
   "source": [
    "## Load Model file"
   ]
  },
  {
   "cell_type": "code",
   "execution_count": 64,
   "metadata": {},
   "outputs": [
    {
     "data": {
      "text/plain": [
       "'/home/restrepo/tmp'"
      ]
     },
     "execution_count": 64,
     "metadata": {},
     "output_type": "execute_result"
    }
   ],
   "source": [
    "pwd"
   ]
  },
  {
   "cell_type": "code",
   "execution_count": 65,
   "metadata": {},
   "outputs": [],
   "source": [
    "MODEL_PATH=\"./SARAH/Models/SM/SM.m\""
   ]
  },
  {
   "cell_type": "code",
   "execution_count": 66,
   "metadata": {},
   "outputs": [],
   "source": [
    "f=open(MODEL_PATH,'r')"
   ]
  },
  {
   "cell_type": "code",
   "execution_count": 67,
   "metadata": {},
   "outputs": [],
   "source": [
    "smf=f.read()\n",
    "f.close()"
   ]
  },
  {
   "cell_type": "code",
   "execution_count": 68,
   "metadata": {},
   "outputs": [
    {
     "data": {
      "text/plain": [
       "'Off[General::spell]\\n\\nModel`Name = \"SM\";\\nModel`NameLaTeX =\"Standard Model\";\\nModel`Authors = \"F.Staub\";\\nModel`Date = \"2014-11-06\";\\n\\n(* 2013-01-24: changed normalization of lambda term to convention of hep-ph/0207271 *)\\n(* 2013-06-24: using new name conventions (without inital \"S\" and \"F\" for scalar and matter fields) *)\\n(* 2013-09-01: changing to new conventions for FermionFields/MatterFields *)\\n(* 2014-11-06: Changed sign in Lagrangian to fit standard conventions *)\\n(* 2016-05-03: Changed sign of Yu *)\\n\\n\\n\\n(*-------------------------------------------*)\\n(*   Particle Content*)\\n(*-------------------------------------------*)\\n\\n(* Gauge Groups *)\\n\\nGauge[[1]]={B,   U[1], hypercharge, g1,False};\\nGauge[[2]]={WB, SU[2], left,        g2,True};\\nGauge[[3]]={G,  SU[3], color,       g3,False};\\n\\n\\n(* Matter Fields *)\\n\\nFermionFields[[1]] = {q, 3, {uL, dL},     1/6, 2,  3};  \\nFermionFields[[2]] = {l, 3, {vL, eL},    -1/2, 2,  1};\\nFermionFields[[3]] = {d, 3, conj[dR],     1/3, 1, -3};\\nFermionFields[[4]] = {u, 3, conj[uR],    -2/3, 1, -3};\\nFermionFields[[5]] = {e, 3, conj[eR],       1, 1,  1};\\n\\nScalarFields[[1]] =  {H, 1, {Hp, H0},     1/2, 2,  1};\\n\\n\\n        \\n(*----------------------------------------------*)\\n(*   DEFINITION                                 *)\\n(*----------------------------------------------*)\\n\\nNameOfStates={GaugeES, EWSB};\\n\\n(* ----- Before EWSB ----- *)\\n\\nDEFINITION[GaugeES][LagrangianInput]= {\\n\\t{LagHC, {AddHC->True}},\\n\\t{LagNoHC,{AddHC->False}}\\n};\\n\\n\\nLagNoHC = -mu2 conj[H].H - 1/2 \\\\[Lambda] conj[H].H.conj[H].H;\\nLagHC =  -(Yd conj[H].d.q + Ye conj[H].e.l + Yu u.q.H);\\n\\n\\n\\t\\t\\t  \\t\\t  \\n\\n(* Gauge Sector *)\\n\\nDEFINITION[EWSB][GaugeSector] =\\n{ \\n  {{VB,VWB[3]},{VP,VZ},ZZ},\\n  {{VWB[1],VWB[2]},{VWp,conj[VWp]},ZW}\\n};     \\n        \\n        \\n          \\t\\n\\n(* ----- VEVs ---- *)\\n\\nDEFINITION[EWSB][VEVs]= \\n{    {H0, {v, 1/Sqrt[2]}, {Ah, \\\\[ImaginaryI]/Sqrt[2]},{hh, 1/Sqrt[2]}}     };\\n \\n\\nDEFINITION[EWSB][MatterSector]=   \\n    {{{{dL}, {conj[dR]}}, {{DL,Vd}, {DR,Ud}}},\\n     {{{uL}, {conj[uR]}}, {{UL,Vu}, {UR,Uu}}},\\n     {{{eL}, {conj[eR]}}, {{EL,Ve}, {ER,Ue}}}};  \\n\\n\\n(*------------------------------------------------------*)\\n(* Dirac-Spinors *)\\n(*------------------------------------------------------*)\\n\\nDEFINITION[EWSB][DiracSpinors]={\\n Fd ->{  DL, conj[DR]},\\n Fe ->{  EL, conj[ER]},\\n Fu ->{  UL, conj[UR]},\\n Fv ->{  vL, 0}};\\n\\nDEFINITION[EWSB][GaugeES]={\\n Fd1 ->{  FdL, 0},\\n Fd2 ->{  0, FdR},\\n Fu1 ->{  Fu1, 0},\\n Fu2 ->{  0, Fu2},\\n Fe1 ->{  Fe1, 0},\\n Fe2 ->{  0, Fe2}};\\n\\n\\n\\n'"
      ]
     },
     "execution_count": 68,
     "metadata": {},
     "output_type": "execute_result"
    }
   ],
   "source": [
    "smf"
   ]
  },
  {
   "cell_type": "markdown",
   "metadata": {},
   "source": [
    "## General definition"
   ]
  },
  {
   "cell_type": "code",
   "execution_count": 69,
   "metadata": {},
   "outputs": [],
   "source": [
    "import re\n",
    "import cmdlike as cmd\n",
    "import pandas as pd\n",
    "import numpy as np\n",
    "import json\n",
    "pd.set_option('display.max_colwidth',200)"
   ]
  },
  {
   "cell_type": "code",
   "execution_count": 70,
   "metadata": {},
   "outputs": [],
   "source": [
    "#TODO: Initialize objects\n",
    "particles=[]\n",
    "particlessons=[]\n",
    "\n",
    "Fields=['Gauge','FermionFields','ScalarFields']\n",
    "NAME='DEFINITION'\n",
    "KEY='EWSB'\n",
    "# Get also particles from\n",
    "#NAME[KEY] dictionary!\n",
    "def get_particles(fdotm,Fields,NAME,KEY,particles,particlessons):\n",
    "    '''\n",
    "    Extract particles from  SARAH Model files by using the information\n",
    "    from: \n",
    "    * Fields: list of lists\n",
    "    * NAME[KEY] dictionary \n",
    "    '''\n",
    "    #i=1\n",
    "    #Field=Fields[i]\n",
    "    for Field in Fields:\n",
    "        for f in cmd.grep(Field,fdotm).split('\\n'):\n",
    "            particle={}\n",
    "            if not re.search('^\\s*\\(\\*',f):\n",
    "                #Fix components fields\n",
    "                ff=f.split('{')\n",
    "                if len(ff) ==3:\n",
    "                    fff=ff[2].split('}')\n",
    "                    f=ff[0]+'{'+ff[1]+fff[0].replace(',','::')+''.join(fff[1:])+'};'\n",
    "                g=re.search('%s\\[\\[[0-9]+\\]\\]\\s*=\\s*\\{(.*)\\s*\\}\\s*;\\s*' \n",
    "                    %Field,f)\n",
    "\n",
    "                if g:\n",
    "                    try:\n",
    "                        fp=g.groups()[0].split(',')\n",
    "                    except 'KeyError':\n",
    "                        fp=[]\n",
    "                    if len(fp)>0:\n",
    "                        print(g.groups(),Field,len(fp))\n",
    "                        particle['Field']=fp[0].strip()\n",
    "                        particle['Parents']=None\n",
    "                        particle['Properties']={}\n",
    "                    if Field=='Gauge' and len(fp)>=5:\n",
    "                        particle['Field']='V'+particle['Field']\n",
    "                        particle['Properties']['Group']=fp[1]\n",
    "                        particle['Definition']='GaugeES'\n",
    "                        particle['Properties']['Index']=fp[2]\n",
    "                        particle['Properties']['Coupling']=fp[3]\n",
    "                        particle['Properties']['SSB']=fp[3]\n",
    "                        particle['Properties']['Lorentz']='Vector'\n",
    "                        print(particle)\n",
    "                    else: \n",
    "                        if len(fp)>=6:\n",
    "                            particle['Properties']['NF']=fp[1].strip()\n",
    "                            particle['Properties']['Groups']=fp[3:]\n",
    "                            particle['Definition']='WeylFermionAndIndermediate'\n",
    "                            if Field=='FermionFields':\n",
    "                                particle['Properties']['Lorentz']='WeylFermion'\n",
    "                            elif Field=='ScalarFields':\n",
    "                                particle['Properties']['Lorentz']='Scalar'\n",
    "                            print(\"**********\")\n",
    "                            sons=re.sub('conj\\[(\\w+)\\]',r'\\1', fp[2] ).split('::')\n",
    "                            print(fp[2],sons)\n",
    "                            for s in sons:\n",
    "                                print(s)\n",
    "                                particleson={}\n",
    "                                particleson['Properties']={}\n",
    "                                particleson['Field']=s.strip()\n",
    "                                if Field=='FermionFields':\n",
    "                                    particleson['Definition']='WeylFermionAndIndermediate'\n",
    "                                    particleson['Properties']['Lorentz']='WeylFermion'\n",
    "                                elif Field=='ScalarFields':\n",
    "                                    particleson['Definition']='GaugeES'\n",
    "                                    particleson['Properties']['Lorentz']='Scalar'\n",
    "                                particleson['Parents']=particle['Field']\n",
    "                                particleson['Properties']['NF']=particle['Properties']['NF']\n",
    "                                particlessons=particlessons+[particleson]\n",
    "                            print(\"**********\")\n",
    "\n",
    "                    particles.append(particle)\n",
    "    particles=particles+particlessons\n",
    "    return particles\n",
    "\n",
    "def sarahlist_to_python(strl,only_extract=False,DEBUG=False):\n",
    "    '''\n",
    "    Convert a string with a SARAH list of rotations into\n",
    "    a Python object\n",
    "    '''\n",
    "    if only_extract:\n",
    "        return strl\n",
    "    #General transformations\n",
    "    nl=re.sub(';\\s*$','', #Drop final semicolon\n",
    "               strl)\n",
    "    if ( re.search('^\\s*\\t*\\{.*\\{.*\\{.*->True',strl ) or \n",
    "       re.search('^\\s*\\t*\\{.*\\{.*\\{.*->False',strl ) ):\n",
    "        nl=re.sub( '([\\w]+)([,:])',r'\"\\1\"\\2', # Keep True and False\n",
    "              re.sub( '[\\s\\t]+','', # strip\n",
    "              re.sub( '\\s*->\\s*',':', # to python dict                  \n",
    "                  nl))).replace('}},{','}],['\n",
    "                      ).replace('{{','[['\n",
    "                      ).replace('}}}','}]]'\n",
    "                      )        \n",
    "    elif nl.find('->')>-1:\n",
    "        nl=re.sub( '(\\w+\\[*\\w+\\]*)',r'\"\\1\"' ,\n",
    "           re.sub('\\s*:\\s*\\{([\\s\\w,\\[\\]]+)\\}',r':[\\1 ]', # to python value lists of dict key\n",
    "           re.sub( '\\s*->\\s*',':', # to python dict                  \n",
    "              nl)))\n",
    "    else:\n",
    "        nl= re.sub( '\\{','[',\n",
    "            re.sub( '\\}',']',                   \n",
    "            re.sub('([\\w\\[\\]\\/\\\\\\]+)',r'\"\\1\"',  #to python_lists\n",
    "           nl)))\n",
    "    if DEBUG:    \n",
    "        print(nl)\n",
    "        print(\"*\"*50)\n",
    "    return eval(nl)\n",
    "\n",
    "def extract_code_block(fdotm,pattern,pattern_start,pattern_end,only_extract=False):\n",
    "    dsbd={}\n",
    "    start=False\n",
    "    startlist=False\n",
    "    fields=''\n",
    "    dsbt=''\n",
    "    for f in fdotm.split('\\n'):\n",
    "        dsb=re.search(pattern,f)\n",
    "        if dsb:\n",
    "            #Capture EWSB DEFINITION \n",
    "            dsbt=dsb.groups()[0]\n",
    "            start=True\n",
    "\n",
    "        if start and f.find(pattern_start)>-1:\n",
    "            startlist=True\n",
    "\n",
    "        if startlist:\n",
    "            fields=fields+f\n",
    "        if re.search(pattern_end,f):\n",
    "            start=False\n",
    "            startlist=False\n",
    "            if fields:\n",
    "                srl=sarahlist_to_python(fields.split('=')[-1],only_extract)\n",
    "                dsbd.update( {dsbt:srl} )\n",
    "                \n",
    "                fields=''\n",
    "    return dsbd\n",
    "\n",
    "def parse_mathematica_list_of_list(fdotm,NAME='DEFINITION',KEY='EWSB'):\n",
    "    '''\n",
    "    Parse mathematica list with the structure:\n",
    "    \n",
    "      NAME[KEY][KEYS]={\n",
    "                             LIST\n",
    "                             };\n",
    "    \n",
    "    and generate a dictionary with KEYS\n",
    "    '''\n",
    "    pattern='%s\\[%s\\]\\[(\\w+)\\]' %(NAME,KEY)\n",
    "    pattern_start='{'\n",
    "    pattern_end='\\}\\s*;'\n",
    "    only_extract=False\n",
    "    dsbd=extract_code_block(fdotm,pattern,pattern_start,pattern_end,only_extract)\n",
    "    return dsbd\n",
    "\n",
    "def bidiagonal(w,k='MatterSector'):\n",
    "    weyl={}\n",
    "    weyl['left_intr'  ]=w[0][0] #list\n",
    "    weyl['right_intr' ]=w[0][1] #list\n",
    "    weyl['left_mass' ]=w[1][0][0] \n",
    "    weyl['left_rota'  ]=w[1][0][1]\n",
    "    weyl['right_mass']=w[1][1][0]\n",
    "    weyl['right_rota' ]=w[1][1][1]\n",
    "    if k=='MatterSector':\n",
    "        weyl['lorentz' ]='WeylFermion'\n",
    "        #If Diagonal then Scalar or Majorana\n",
    "    return weyl\n",
    "\n",
    "def diagonal(s,k='GaugeSector'):\n",
    "    symm={}\n",
    "    symm['intr']=s[0]\n",
    "    symm['mass']=s[1]\n",
    "    symm['rota']=s[2]\n",
    "    if k=='GaugeSector':\n",
    "        symm['Lorentz']='Vector'\n",
    "    return symm    \n",
    "\n",
    "def get_vev(v,k='VEVs'):        \n",
    "    Vev={}\n",
    "    Vev['Complex']=v[0]\n",
    "    Vev['vev']=v[1][0]\n",
    "    Vev['Imaginary']=v[2][0]\n",
    "    Vev['Real']=v[3][0]\n",
    "    Vev['vev_coeff']=v[1][1]\n",
    "    Vev['Imaginary_coeff']=v[2][1]\n",
    "    Vev['Real_coeff']=v[3][1]\n",
    "    Vev['Lorentz']='Scalar'\n",
    "    return Vev"
   ]
  },
  {
   "cell_type": "markdown",
   "metadata": {},
   "source": [
    "### New defintions"
   ]
  },
  {
   "cell_type": "code",
   "execution_count": 71,
   "metadata": {},
   "outputs": [],
   "source": [
    "def get_hypercharge(field,particles):\n",
    "    try: \n",
    "        Y=particles[particles['Field']==field].reset_index(\n",
    "              ).loc[0].get('Properties').get('Groups'\n",
    "                                   )[0]\n",
    "    except KeyError:\n",
    "        Y=None\n",
    "    return Y\n",
    "\n",
    "def get_Lorentz(field,particles):\n",
    "    try: \n",
    "        Y=particles[particles['Field']==field].reset_index(\n",
    "              ).loc[0].get('Properties').get('Lorentz'\n",
    "                                   )\n",
    "    except KeyError:\n",
    "        Y=None\n",
    "    return Y\n",
    "\n",
    "def get_higgs_vev(smdict,k,particles):\n",
    "    '''\n",
    "    Get the vev associated to the Yukawa coupling\n",
    "    in `smdict` with Description `k`\n",
    "    '''\n",
    "    try:\n",
    "        H=smdict.get(k).get('Higgs')\n",
    "    except AttributeError:\n",
    "        H=''\n",
    "    if H:\n",
    "        H0=get_H0(H,particles)\n",
    "        hh=get_hh(H0,particles)\n",
    "        if not hh.empty:\n",
    "            v=hh.get('Properties').apply(lambda d: d.get('vev')).loc[0]\n",
    "    else:\n",
    "        v=''\n",
    "    return v\n",
    "\n",
    "def get_diagonal_basis(vev,p,particles):\n",
    "    try:\n",
    "        pp=particles[particles['Parents']==p].reset_index(drop=True).loc[0,'Field']\n",
    "        DF=particles[particles['Parents']==pp].reset_index(drop=True).loc[0,'Field']\n",
    "    except:\n",
    "        DF=''\n",
    "    if vev and DF:\n",
    "        db=r'''Sqrt[2]/%s* {{Mass[%s,1],0,0 },\n",
    "                {0, Mass[%s,2],0},\n",
    "                {0, 0, Mass[%s,3]}}''' %(vev,DF,DF,DF)\n",
    "    else:\n",
    "        db=''\n",
    "    return db\n",
    "\n",
    "def get_multiplet(WF,particles):\n",
    "    '''WF: Weyl Fermion'''\n",
    "    mltp=particles[particles['Parents']==WF]\n",
    "    if mltp.shape[0]==2:\n",
    "        chiral='Left'\n",
    "    elif mltp.shape[0]==1:\n",
    "        chiral='Right'\n",
    "    else:\n",
    "        chiral=None\n",
    "    j=0\n",
    "    multiplet={}\n",
    "    for p in mltp['Field']:\n",
    "        multiplet[p]={}\n",
    "        j=j+1\n",
    "        multiplet[p]['chiral']=chiral\n",
    "        if chiral=='Left':\n",
    "            multiplet[p]['dim']='doublet'\n",
    "            if j==1:\n",
    "                multiplet[p]['pos']='Up'\n",
    "            elif j==2:\n",
    "                multiplet[p]['pos']='Down'\n",
    "            else:\n",
    "                multiplet[p]['pos']=None\n",
    "        else:\n",
    "            multiplet[p]['dim']='singlet'\n",
    "    return multiplet\n",
    "\n",
    "def sorted_equality(l1,l2):\n",
    "    return sorted(l1)==sorted(l2)\n",
    "\n",
    "def get_H0(H,particles):\n",
    "    \"H is string\"\n",
    "    Hs=particles[particles['Parents']==H]\n",
    "    #Get doublet components\n",
    "    if Hs.shape[0]==2:\n",
    "        # extract neutral component\n",
    "        for Hf in Hs.get('Field'):\n",
    "            H0s=particles[particles.get('Parents')==Hf].reset_index(drop=True)\n",
    "            if not H0s.get('Properties').empty:\n",
    "                return H0s\n",
    "        \n",
    "def get_hh(H0,particles):\n",
    "    \"H0 is a dataframe\"\n",
    "    if not H0.empty:\n",
    "        return H0[H0.get('Properties').apply(lambda d: d.get('CP')=='Real')].reset_index(drop=True)\n",
    "    else:\n",
    "        return pd.DataFrame()"
   ]
  },
  {
   "cell_type": "markdown",
   "metadata": {},
   "source": [
    "## 2) Get parameters from `DEFINITION[GaugeES]`"
   ]
  },
  {
   "cell_type": "code",
   "execution_count": 72,
   "metadata": {},
   "outputs": [],
   "source": [
    "dsbd=parse_mathematica_list_of_list(smf,NAME='DEFINITION',KEY='GaugeES')\n",
    "\n",
    "fdotm=smf\n",
    "d={}\n",
    "for lag in dsbd['LagrangianInput']:\n",
    "    pattern='^\\s*\\t*({}.*)'.format(lag[0])\n",
    "    pattern_start='='\n",
    "    pattern_end=';'\n",
    "    only_extract=True\n",
    "    l=extract_code_block(fdotm,pattern,pattern_start,pattern_end,only_extract)\n",
    "    fl=list(l.values())[0]\n",
    "\n",
    "    fll=re.sub('[\\+\\-]','::',\n",
    "        re.sub('\\)*\\s*\\t*\\;\\s*\\t*$','',\n",
    "            re.sub( '^\\s*\\t*[\\-\\+\\(]+','',\n",
    "            fl))).split('::')\n",
    "\n",
    "    for x in fll:\n",
    "        flli=re.sub('^\\s*\\t*', '',x)\n",
    "        dd=re.sub('([\\w\\\\\\/\\s\\[\\]]+)\\s+([\\w\\[\\]\\.]+)',r'\\1::\\2',  flli).split('::')\n",
    "        d[dd[0].strip()]=dd[1].strip()"
   ]
  },
  {
   "cell_type": "code",
   "execution_count": 73,
   "metadata": {},
   "outputs": [
    {
     "data": {
      "text/plain": [
       "{'1/2 \\\\[Lambda]': 'conj[H].H.conj[H].H',\n",
       " 'Yd': 'conj[H].d.q',\n",
       " 'Ye': 'conj[H].e.l',\n",
       " 'Yu': 'u.q.H',\n",
       " 'mu2': 'conj[H].H'}"
      ]
     },
     "execution_count": 73,
     "metadata": {},
     "output_type": "execute_result"
    }
   ],
   "source": [
    "d"
   ]
  },
  {
   "cell_type": "code",
   "execution_count": 74,
   "metadata": {},
   "outputs": [],
   "source": [
    "particles=pd.read_json('parseparticles.json')"
   ]
  },
  {
   "cell_type": "code",
   "execution_count": 75,
   "metadata": {},
   "outputs": [
    {
     "name": "stdout",
     "output_type": "stream",
     "text": [
      "['u', 'q', 'H']\n",
      "['H', 'H']\n",
      "['H', 'H', 'H', 'H']\n",
      "['H', 'e', 'l']\n",
      "['H', 'd', 'q']\n"
     ]
    }
   ],
   "source": [
    "dd={}\n",
    "for k in d.keys():\n",
    "    prtcls=[ s.strip() for s in re.sub( '[\\w]+\\[(\\w+)\\]',r'\\1',d[k]).split('.')]\n",
    "    print(prtcls)\n",
    "    dd[k]={'operator':d[k],'fields':prtcls,\n",
    "           'hypercharge': sorted( [ get_hypercharge(f,particles).replace('-','') \n",
    "                                 for f in prtcls]),\n",
    "           'Lorentz':[ get_Lorentz(f,particles) for f in prtcls]\n",
    "          }\n",
    "    \n",
    "for k in dd.keys():\n",
    "    ck=re.sub('^[0-9\\/\\s]+',r'',k)\n",
    "    if ck!=k:\n",
    "        vk=dd.pop(k)\n",
    "        dd[ck]=vk    "
   ]
  },
  {
   "cell_type": "code",
   "execution_count": 76,
   "metadata": {},
   "outputs": [
    {
     "data": {
      "text/plain": [
       "{'Yd': {'Lorentz': ['Scalar', 'WeylFermion', 'WeylFermion'],\n",
       "  'fields': ['H', 'd', 'q'],\n",
       "  'hypercharge': ['1/2', '1/3', '1/6'],\n",
       "  'operator': 'conj[H].d.q'},\n",
       " 'Ye': {'Lorentz': ['Scalar', 'WeylFermion', 'WeylFermion'],\n",
       "  'fields': ['H', 'e', 'l'],\n",
       "  'hypercharge': ['1', '1/2', '1/2'],\n",
       "  'operator': 'conj[H].e.l'},\n",
       " 'Yu': {'Lorentz': ['WeylFermion', 'WeylFermion', 'Scalar'],\n",
       "  'fields': ['u', 'q', 'H'],\n",
       "  'hypercharge': ['1/2', '1/6', '2/3'],\n",
       "  'operator': 'u.q.H'},\n",
       " '\\\\[Lambda]': {'Lorentz': ['Scalar', 'Scalar', 'Scalar', 'Scalar'],\n",
       "  'fields': ['H', 'H', 'H', 'H'],\n",
       "  'hypercharge': ['1/2', '1/2', '1/2', '1/2'],\n",
       "  'operator': 'conj[H].H.conj[H].H'},\n",
       " 'mu2': {'Lorentz': ['Scalar', 'Scalar'],\n",
       "  'fields': ['H', 'H'],\n",
       "  'hypercharge': ['1/2', '1/2'],\n",
       "  'operator': 'conj[H].H'}}"
      ]
     },
     "execution_count": 76,
     "metadata": {},
     "output_type": "execute_result"
    }
   ],
   "source": [
    "dd"
   ]
  },
  {
   "cell_type": "markdown",
   "metadata": {},
   "source": [
    "## Extract the SM copupling from Model file\n",
    "Check the Yukawa interactions to extract the SM Yukawa couplings, and identify the Higgs field to get the scalar couplings"
   ]
  },
  {
   "cell_type": "code",
   "execution_count": 77,
   "metadata": {},
   "outputs": [],
   "source": [
    "smdict={'Down-Yukawa-Coupling':{'Lorentz': ['Scalar', 'WeylFermion', 'WeylFermion'],\n",
    "                                'hypercharge': ['1/2', '1/3', '1/6'],\n",
    "                                'update_Description':{}},\n",
    "        'Up-Yukawa-Coupling':{'Lorentz': ['WeylFermion', 'WeylFermion','Scalar'],\n",
    "                              'hypercharge': ['1/2', '1/6', '2/3'],\n",
    "                             'update_Description':{}},\n",
    "        'Lepton-Yukawa-Coupling':{'Lorentz': ['Scalar', 'WeylFermion', 'WeylFermion'],\n",
    "                                  'hypercharge': ['1', '1/2', '1/2'],\n",
    "                                 'update_Description':{}},\n",
    "        'SM Mu Parameter':  {'Lorentz': ['Scalar', 'Scalar'],\n",
    "                             'hypercharge': ['1/2', '1/2'],\n",
    "                             'update_Description':{'OutputName':'m2SM'}},\n",
    "  'SM Higgs Selfcouplings': {'Lorentz': ['Scalar', 'Scalar', 'Scalar', 'Scalar'],\n",
    "                             'hypercharge': ['1/2', '1/2', '1/2', '1/2'],\n",
    "                            'update_Description':{}}\n",
    "       }\n"
   ]
  },
  {
   "cell_type": "code",
   "execution_count": 78,
   "metadata": {},
   "outputs": [
    {
     "data": {
      "text/plain": [
       "{'Down-Yukawa-Coupling': {'Lorentz': ['Scalar', 'WeylFermion', 'WeylFermion'],\n",
       "  'hypercharge': ['1/2', '1/3', '1/6'],\n",
       "  'update_Description': {}},\n",
       " 'Lepton-Yukawa-Coupling': {'Lorentz': ['Scalar',\n",
       "   'WeylFermion',\n",
       "   'WeylFermion'],\n",
       "  'hypercharge': ['1', '1/2', '1/2'],\n",
       "  'update_Description': {}},\n",
       " 'SM Higgs Selfcouplings': {'Lorentz': ['Scalar',\n",
       "   'Scalar',\n",
       "   'Scalar',\n",
       "   'Scalar'],\n",
       "  'hypercharge': ['1/2', '1/2', '1/2', '1/2'],\n",
       "  'update_Description': {}},\n",
       " 'SM Mu Parameter': {'Lorentz': ['Scalar', 'Scalar'],\n",
       "  'hypercharge': ['1/2', '1/2'],\n",
       "  'update_Description': {'OutputName': 'm2SM'}},\n",
       " 'Up-Yukawa-Coupling': {'Lorentz': ['WeylFermion', 'WeylFermion', 'Scalar'],\n",
       "  'hypercharge': ['1/2', '1/6', '2/3'],\n",
       "  'update_Description': {}}}"
      ]
     },
     "execution_count": 78,
     "metadata": {},
     "output_type": "execute_result"
    }
   ],
   "source": [
    "smdict"
   ]
  },
  {
   "cell_type": "code",
   "execution_count": 79,
   "metadata": {},
   "outputs": [
    {
     "name": "stdout",
     "output_type": "stream",
     "text": [
      "dL Down\n",
      "eL Down\n"
     ]
    }
   ],
   "source": [
    "# Get standard model Higgs\n",
    "import sys\n",
    "for k in dd.keys():\n",
    "    if (sorted_equality( smdict['Up-Yukawa-Coupling']['Lorentz'],dd[k]['Lorentz'] ) and\n",
    "        sorted_equality( smdict['Up-Yukawa-Coupling']['hypercharge'],dd[k]['hypercharge'] ) ):\n",
    "        #Get Higgs from scalar part\n",
    "        for i in range(len(dd[k]['Lorentz'])):\n",
    "            if dd[k]['Lorentz'][i]=='Scalar':\n",
    "                H=dd[k]['fields'][i]\n",
    "                smdict['Up-Yukawa-Coupling']['Coupling']=k\n",
    "                smdict['Up-Yukawa-Coupling']['Higgs']=H\n",
    "                smdict['Up-Yukawa-Coupling']['fields']=dd[k]['fields']\n",
    "        #Use obtained Higgs to obtain diagonal form\n",
    "        for i in range(len(dd[k]['Lorentz'])):                \n",
    "            if dd[k]['Lorentz'][i]=='WeylFermion':\n",
    "                mltp=get_multiplet(dd[k]['fields'][i],particles)\n",
    "                for p in mltp.keys():\n",
    "                    if mltp[p].get('pos')=='Up':\n",
    "                        vev=get_higgs_vev(smdict,'Up-Yukawa-Coupling',particles)\n",
    "                        smdict['Up-Yukawa-Coupling'\n",
    "                              ]['update_Description'\n",
    "                              ]['DependenceNum']=get_diagonal_basis(\n",
    "                                                 vev,p,particles)                \n",
    "                \n",
    "if not smdict.get('Up-Yukawa-Coupling'):\n",
    "    sys.exit('\"Up-Yukawa-Coupling\" NOT FOUND!' )\n",
    "lk=list(dd.keys())\n",
    "lk.remove( smdict['Up-Yukawa-Coupling']['Coupling'] )\n",
    "\n",
    "lds=list(smdict.keys())\n",
    "lds.remove('Up-Yukawa-Coupling')\n",
    "for ds in lds:\n",
    "    for k in lk:\n",
    "        if (sorted_equality( smdict[ds]['Lorentz'],dd[k]['Lorentz'] ) and\n",
    "            sorted_equality( smdict[ds]['hypercharge'],dd[k]['hypercharge'] ) ):\n",
    "            smdict[ds]['Coupling']=k\n",
    "            smdict[ds]['fields']=dd[k]['fields']\n",
    "            if H:\n",
    "                smdict[ds]['Higgs']=H\n",
    "            for i in range(len(dd[k]['Lorentz'])):\n",
    "                if dd[k]['Lorentz'][i]=='WeylFermion':\n",
    "                    mltp=get_multiplet(dd[k]['fields'][i],particles)\n",
    "                    for p in mltp.keys():\n",
    "                        if mltp[p].get('pos')=='Down':\n",
    "                            print(p,mltp[p].get('pos'))\n",
    "                            vev=get_higgs_vev(smdict,ds,particles)\n",
    "                            smdict[ds]['update_Description'\n",
    "                                  ]['DependenceNum']=get_diagonal_basis(\n",
    "                                                     vev,p,particles)                    "
   ]
  },
  {
   "cell_type": "code",
   "execution_count": 80,
   "metadata": {},
   "outputs": [
    {
     "data": {
      "text/plain": [
       "{'Down-Yukawa-Coupling': {'Coupling': 'Yd',\n",
       "  'Higgs': 'H',\n",
       "  'Lorentz': ['Scalar', 'WeylFermion', 'WeylFermion'],\n",
       "  'fields': ['H', 'd', 'q'],\n",
       "  'hypercharge': ['1/2', '1/3', '1/6'],\n",
       "  'update_Description': {'DependenceNum': 'Sqrt[2]/v* {{Mass[Fd,1],0,0 },\\n                {0, Mass[Fd,2],0},\\n                {0, 0, Mass[Fd,3]}}'}},\n",
       " 'Lepton-Yukawa-Coupling': {'Coupling': 'Ye',\n",
       "  'Higgs': 'H',\n",
       "  'Lorentz': ['Scalar', 'WeylFermion', 'WeylFermion'],\n",
       "  'fields': ['H', 'e', 'l'],\n",
       "  'hypercharge': ['1', '1/2', '1/2'],\n",
       "  'update_Description': {'DependenceNum': 'Sqrt[2]/v* {{Mass[Fe,1],0,0 },\\n                {0, Mass[Fe,2],0},\\n                {0, 0, Mass[Fe,3]}}'}},\n",
       " 'SM Higgs Selfcouplings': {'Coupling': '\\\\[Lambda]',\n",
       "  'Higgs': 'H',\n",
       "  'Lorentz': ['Scalar', 'Scalar', 'Scalar', 'Scalar'],\n",
       "  'fields': ['H', 'H', 'H', 'H'],\n",
       "  'hypercharge': ['1/2', '1/2', '1/2', '1/2'],\n",
       "  'update_Description': {}},\n",
       " 'SM Mu Parameter': {'Coupling': 'mu2',\n",
       "  'Higgs': 'H',\n",
       "  'Lorentz': ['Scalar', 'Scalar'],\n",
       "  'fields': ['H', 'H'],\n",
       "  'hypercharge': ['1/2', '1/2'],\n",
       "  'update_Description': {'OutputName': 'm2SM'}},\n",
       " 'Up-Yukawa-Coupling': {'Coupling': 'Yu',\n",
       "  'Higgs': 'H',\n",
       "  'Lorentz': ['WeylFermion', 'WeylFermion', 'Scalar'],\n",
       "  'fields': ['u', 'q', 'H'],\n",
       "  'hypercharge': ['1/2', '1/6', '2/3'],\n",
       "  'update_Description': {'DependenceNum': 'Sqrt[2]/v* {{Mass[Fu,1],0,0 },\\n                {0, Mass[Fu,2],0},\\n                {0, 0, Mass[Fu,3]}}'}}}"
      ]
     },
     "execution_count": 80,
     "metadata": {},
     "output_type": "execute_result"
    }
   ],
   "source": [
    "smdict"
   ]
  },
  {
   "cell_type": "code",
   "execution_count": 81,
   "metadata": {},
   "outputs": [
    {
     "name": "stdout",
     "output_type": "stream",
     "text": [
      "Down-Yukawa-Coupling\n",
      "dR\n",
      "uL\n",
      "dL\n",
      "Lepton-Yukawa-Coupling\n",
      "eR\n",
      "vL\n",
      "eL\n",
      "SM Mu Parameter\n",
      "Up-Yukawa-Coupling\n",
      "uR\n",
      "uL\n",
      "dL\n",
      "SM Higgs Selfcouplings\n"
     ]
    }
   ],
   "source": [
    "rotation={}\n",
    "for k in smdict.keys():\n",
    "    print(k)\n",
    "    for i in range(len(smdict[k].get('fields'))):\n",
    "        if smdict[k]['Lorentz'][i]=='WeylFermion':\n",
    "            mltp=particles[particles['Parents']==smdict[k]['fields'][i]]\n",
    "            if mltp.shape[0]==2:\n",
    "                chiral='Left'\n",
    "            elif mltp.shape[0]==1:\n",
    "                chiral='Right'\n",
    "            else:\n",
    "                chiral=None\n",
    "                \n",
    "            j=0\n",
    "            for p in mltp['Field']:\n",
    "                j=j+1\n",
    "                print(p)\n",
    "                #Updage smdict\n",
    "                #rotations\n",
    "                prt=particles.dropna(subset=['Parents'])\n",
    "                rot=prt[prt['Parents'].dropna(\n",
    "                       ).str.contains(p)].reset_index()['rotation'].loc[0]\n",
    "                if type(rot)==str:\n",
    "                    rotation[p]={rot:{}}\n",
    "                    dscr='Mixing-Matrix'\n",
    "                    if chiral=='Left':\n",
    "                        if j==1:\n",
    "                            dscr='{}-Up-{}'.format(chiral,dscr)\n",
    "                        elif j==2:\n",
    "                            dscr='{}-Down-{}'.format(chiral,dscr)\n",
    "                    elif chiral=='Right':\n",
    "                        if re.search('^[uU]',p):\n",
    "                            dscr='{}-Up-{}'.format(chiral,dscr)\n",
    "                        elif re.search('^[dD]',p):\n",
    "                            dscr='{}-Down-{}'.format(chiral,dscr)\n",
    "                        elif re.search('^[eE]',p):\n",
    "                            dscr='{}-Lepton-{}'.format(chiral,dscr)\n",
    "                        else:\n",
    "                            dscr=None\n",
    "                    rotation[p][rot]['Description']=dscr"
   ]
  },
  {
   "cell_type": "code",
   "execution_count": 82,
   "metadata": {},
   "outputs": [
    {
     "data": {
      "text/plain": [
       "{'Down-Yukawa-Coupling': {'Coupling': 'Yd',\n",
       "  'Higgs': 'H',\n",
       "  'Lorentz': ['Scalar', 'WeylFermion', 'WeylFermion'],\n",
       "  'fields': ['H', 'd', 'q'],\n",
       "  'hypercharge': ['1/2', '1/3', '1/6'],\n",
       "  'update_Description': {'DependenceNum': 'Sqrt[2]/v* {{Mass[Fd,1],0,0 },\\n                {0, Mass[Fd,2],0},\\n                {0, 0, Mass[Fd,3]}}'}},\n",
       " 'Lepton-Yukawa-Coupling': {'Coupling': 'Ye',\n",
       "  'Higgs': 'H',\n",
       "  'Lorentz': ['Scalar', 'WeylFermion', 'WeylFermion'],\n",
       "  'fields': ['H', 'e', 'l'],\n",
       "  'hypercharge': ['1', '1/2', '1/2'],\n",
       "  'update_Description': {'DependenceNum': 'Sqrt[2]/v* {{Mass[Fe,1],0,0 },\\n                {0, Mass[Fe,2],0},\\n                {0, 0, Mass[Fe,3]}}'}},\n",
       " 'SM Higgs Selfcouplings': {'Coupling': '\\\\[Lambda]',\n",
       "  'Higgs': 'H',\n",
       "  'Lorentz': ['Scalar', 'Scalar', 'Scalar', 'Scalar'],\n",
       "  'fields': ['H', 'H', 'H', 'H'],\n",
       "  'hypercharge': ['1/2', '1/2', '1/2', '1/2'],\n",
       "  'update_Description': {}},\n",
       " 'SM Mu Parameter': {'Coupling': 'mu2',\n",
       "  'Higgs': 'H',\n",
       "  'Lorentz': ['Scalar', 'Scalar'],\n",
       "  'fields': ['H', 'H'],\n",
       "  'hypercharge': ['1/2', '1/2'],\n",
       "  'update_Description': {'OutputName': 'm2SM'}},\n",
       " 'Up-Yukawa-Coupling': {'Coupling': 'Yu',\n",
       "  'Higgs': 'H',\n",
       "  'Lorentz': ['WeylFermion', 'WeylFermion', 'Scalar'],\n",
       "  'fields': ['u', 'q', 'H'],\n",
       "  'hypercharge': ['1/2', '1/6', '2/3'],\n",
       "  'update_Description': {'DependenceNum': 'Sqrt[2]/v* {{Mass[Fu,1],0,0 },\\n                {0, Mass[Fu,2],0},\\n                {0, 0, Mass[Fu,3]}}'}}}"
      ]
     },
     "execution_count": 82,
     "metadata": {},
     "output_type": "execute_result"
    }
   ],
   "source": [
    "smdict"
   ]
  },
  {
   "cell_type": "code",
   "execution_count": 83,
   "metadata": {},
   "outputs": [
    {
     "data": {
      "text/plain": [
       "{'dL': {'Vd': {'Description': 'Left-Down-Mixing-Matrix'}},\n",
       " 'dR': {'Ud': {'Description': 'Right-Down-Mixing-Matrix'}},\n",
       " 'eL': {'Ve': {'Description': 'Left-Down-Mixing-Matrix'}},\n",
       " 'eR': {'Ue': {'Description': 'Right-Lepton-Mixing-Matrix'}},\n",
       " 'uL': {'Vu': {'Description': 'Left-Up-Mixing-Matrix'}},\n",
       " 'uR': {'Uu': {'Description': 'Right-Up-Mixing-Matrix'}}}"
      ]
     },
     "execution_count": 83,
     "metadata": {},
     "output_type": "execute_result"
    }
   ],
   "source": [
    "rotation"
   ]
  },
  {
   "cell_type": "code",
   "execution_count": 84,
   "metadata": {},
   "outputs": [
    {
     "data": {
      "text/plain": [
       "18                {'Lorentz': 'Vector', 'Mass_basis': ['VP', 'VZ'], 'Interaction_basis': ['VB', 'VWB[3]']}\n",
       "19                {'Lorentz': 'Vector', 'Mass_basis': ['VP', 'VZ'], 'Interaction_basis': ['VB', 'VWB[3]']}\n",
       "20    {'Lorentz': 'Vector', 'Mass_basis': ['VWp', 'conj[VWp]'], 'Interaction_basis': ['VWB[1]', 'VWB[2]']}\n",
       "Name: Properties, dtype: object"
      ]
     },
     "execution_count": 84,
     "metadata": {},
     "output_type": "execute_result"
    }
   ],
   "source": [
    "particles[particles['Block']=='GaugeSector']['Properties']"
   ]
  },
  {
   "cell_type": "code",
   "execution_count": 85,
   "metadata": {},
   "outputs": [
    {
     "name": "stdout",
     "output_type": "stream",
     "text": [
      "* VB\n",
      "   U[1]\n",
      "* VWB\n",
      " SU[2]\n",
      " SU[2]\n",
      "* VG\n",
      "  SU[3]\n"
     ]
    }
   ],
   "source": [
    "grps=particles[particles['Definition']=='GaugeES']['Properties'].apply(lambda d: d.get('Group')).dropna()\n",
    "\n",
    "G={}\n",
    "coupling={}\n",
    "for g in grps:\n",
    "    G=particles[particles['Properties'].apply(lambda d: d.get('Group')==g)].reset_index(drop=True)\n",
    "    V=G.reset_index().loc[0,'Field']\n",
    "    print('*',V)\n",
    "    try:\n",
    "        VV=particles[particles['Parents'].astype(str).str.contains(V)\n",
    "                    ].reset_index(drop=True)\n",
    "        if VV.shape[0]==2:\n",
    "            VV=VV[VV.get('Properties').astype(str).str.contains(\n",
    "                   'conj\\[\\w+\\]')].reset_index(drop=True)\n",
    "    \n",
    "        f=VV.loc[0,'Field']\n",
    "        r=VV.loc[0,'rotation']\n",
    "    except KeyError:\n",
    "        f=''    \n",
    "    c=G.loc[0,'Properties']['Coupling'].strip()\n",
    "    if g.find('U[1]')>-1:\n",
    "        if f:\n",
    "            rotation[f]={r: {'Description':\"Photon-Z Mixing Matrix\"}}\n",
    "        coupling[c]={'Description':'Hypercharge-Coupling'}\n",
    "    if g.find('SU[2]')>-1:\n",
    "        print(g)\n",
    "        if f:\n",
    "            rotation[f]={r: {'Description':\"W Mixing Matrix\"}}\n",
    "        coupling[c]={'Description':'Left-Coupling'}\n",
    "    if g.find('SU[3]')>-1:\n",
    "        coupling[c]={'Description':'Strong-Coupling'}\n",
    "\n",
    "    #break\n",
    "    print(g)"
   ]
  },
  {
   "cell_type": "code",
   "execution_count": 86,
   "metadata": {},
   "outputs": [
    {
     "data": {
      "text/plain": [
       "{'VP': {'ZZ': {'Description': 'Photon-Z Mixing Matrix'}},\n",
       " 'VWp': {'ZW': {'Description': 'W Mixing Matrix'}},\n",
       " 'dL': {'Vd': {'Description': 'Left-Down-Mixing-Matrix'}},\n",
       " 'dR': {'Ud': {'Description': 'Right-Down-Mixing-Matrix'}},\n",
       " 'eL': {'Ve': {'Description': 'Left-Down-Mixing-Matrix'}},\n",
       " 'eR': {'Ue': {'Description': 'Right-Lepton-Mixing-Matrix'}},\n",
       " 'uL': {'Vu': {'Description': 'Left-Up-Mixing-Matrix'}},\n",
       " 'uR': {'Uu': {'Description': 'Right-Up-Mixing-Matrix'}}}"
      ]
     },
     "execution_count": 86,
     "metadata": {},
     "output_type": "execute_result"
    }
   ],
   "source": [
    "rotation"
   ]
  },
  {
   "cell_type": "markdown",
   "metadata": {},
   "source": [
    "{\\[Lambda],  { Description -> \"SM Higgs Selfcouplings\",\n",
    "               DependenceNum -> Mass[hh]^2/(v^2)}},\n",
    "{v,          { Description -> \"EW-VEV\",\n",
    "               DependenceNum -> Sqrt[4*Mass[VWp]^2/(g2^2)],\n",
    "               DependenceSPheno -> None,\n",
    "               OutputName -> vvSM}},\n",
    "{mH2,        { Description -> \"SM Higgs Mass Parameter\"}},\n",
    "\n",
    "{ThetaW,    { Description -> \"Weinberg-Angle\",\n",
    "              DependenceNum -> ArcSin[Sqrt[1 - Mass[VWp]^2/Mass[VZ]^2]]  }},"
   ]
  },
  {
   "cell_type": "code",
   "execution_count": 87,
   "metadata": {},
   "outputs": [],
   "source": [
    "H=smdict['SM Higgs Selfcouplings'].get('Higgs')\n",
    "if H:\n",
    "    H0=get_H0(H,particles)\n",
    "    if not H0.empty:\n",
    "        hh=get_hh(H0,particles).get('Field').loc[0]\n",
    "        vev=get_hh(H0,particles).get('Properties').loc[0].get('vev')\n",
    "        if hh and vev:\n",
    "            smdict['SM Higgs Selfcouplings'\n",
    "                  ]['update_Description']={\n",
    "                    'DependenceNum': r'Mass[{}]^2/({}^2)'.format(hh,vev) }"
   ]
  },
  {
   "cell_type": "code",
   "execution_count": 88,
   "metadata": {},
   "outputs": [],
   "source": [
    "smdict['EW-VEV']={}\n",
    "smdict['EW-VEV']['Coupling']=vev\n",
    "smdict['EW-VEV']['update_Description']={}\n",
    "smdict['EW-VEV']['update_Description']['DependenceSPheno']='None'\n",
    "smdict['EW-VEV']['update_Description']['OutputName']='vvSM'\n",
    "VWp=''\n",
    "g2=''\n",
    "for k in rotation.keys():\n",
    "    if list( rotation[k].values() )[0].get('Description')=='W Mixing Matrix':\n",
    "        VWp=k\n",
    "for c in coupling.keys():\n",
    "    if coupling[c].get('Description')=='Left-Coupling':\n",
    "        g2=c\n",
    "smdict['EW-VEV']['update_Description']['DependenceNum']=r'Sqrt[4*Mass[{}]^2/({}^2)]'.format(VWp,g2)"
   ]
  },
  {
   "cell_type": "code",
   "execution_count": 89,
   "metadata": {},
   "outputs": [],
   "source": [
    "for k in rotation:\n",
    "    if list( rotation[k].values() )[0].get('Description')=='Photon-Z Mixing Matrix':\n",
    "        VP=k\n",
    "        ZZ=list(rotation[k].keys())[0]\n",
    "fz=particles[particles['rotation']==ZZ]\n",
    "VZ=fz[fz.get('Field')!=VP].reset_index(drop=True).loc[0,'Field']\n",
    "smdict['Weinberg-Angle']={}\n",
    "smdict['Weinberg-Angle']['Coupling']='ThetaW'\n",
    "smdict['Weinberg-Angle']['update_Description']={}\n",
    "smdict['Weinberg-Angle']['update_Description'\n",
    "     ]['DependenceNum']='ArcSin[Sqrt[1 - Mass[{}]^2/Mass[{}]^2]]'.format(\n",
    "                                                           VWp,VZ )"
   ]
  },
  {
   "cell_type": "code",
   "execution_count": 90,
   "metadata": {},
   "outputs": [],
   "source": [
    "constants={}\n",
    "constants['AlphaS']= { 'Description'  : 'Alpha Strong'}\n",
    "constants['e']     = { 'Description'  :  'electric charge'} \n",
    "constants['Gf']    = { 'Description'  :  \"Fermi's constant\"}\n",
    "constants['aEWinv']= { 'Description'  :  'inverse weak coupling constant at mZ'}\n",
    "constants['mH2']   = { 'Description'  :  'SM Higgs Mass Parameter'}"
   ]
  },
  {
   "cell_type": "code",
   "execution_count": 91,
   "metadata": {},
   "outputs": [
    {
     "data": {
      "text/plain": [
       "({'Down-Yukawa-Coupling': {'Coupling': 'Yd',\n",
       "   'Higgs': 'H',\n",
       "   'Lorentz': ['Scalar', 'WeylFermion', 'WeylFermion'],\n",
       "   'fields': ['H', 'd', 'q'],\n",
       "   'hypercharge': ['1/2', '1/3', '1/6'],\n",
       "   'update_Description': {'DependenceNum': 'Sqrt[2]/v* {{Mass[Fd,1],0,0 },\\n                {0, Mass[Fd,2],0},\\n                {0, 0, Mass[Fd,3]}}'}},\n",
       "  'EW-VEV': {'Coupling': 'v',\n",
       "   'update_Description': {'DependenceNum': 'Sqrt[4*Mass[VWp]^2/(g2^2)]',\n",
       "    'DependenceSPheno': 'None',\n",
       "    'OutputName': 'vvSM'}},\n",
       "  'Lepton-Yukawa-Coupling': {'Coupling': 'Ye',\n",
       "   'Higgs': 'H',\n",
       "   'Lorentz': ['Scalar', 'WeylFermion', 'WeylFermion'],\n",
       "   'fields': ['H', 'e', 'l'],\n",
       "   'hypercharge': ['1', '1/2', '1/2'],\n",
       "   'update_Description': {'DependenceNum': 'Sqrt[2]/v* {{Mass[Fe,1],0,0 },\\n                {0, Mass[Fe,2],0},\\n                {0, 0, Mass[Fe,3]}}'}},\n",
       "  'SM Higgs Selfcouplings': {'Coupling': '\\\\[Lambda]',\n",
       "   'Higgs': 'H',\n",
       "   'Lorentz': ['Scalar', 'Scalar', 'Scalar', 'Scalar'],\n",
       "   'fields': ['H', 'H', 'H', 'H'],\n",
       "   'hypercharge': ['1/2', '1/2', '1/2', '1/2'],\n",
       "   'update_Description': {'DependenceNum': 'Mass[hh]^2/(v^2)'}},\n",
       "  'SM Mu Parameter': {'Coupling': 'mu2',\n",
       "   'Higgs': 'H',\n",
       "   'Lorentz': ['Scalar', 'Scalar'],\n",
       "   'fields': ['H', 'H'],\n",
       "   'hypercharge': ['1/2', '1/2'],\n",
       "   'update_Description': {'OutputName': 'm2SM'}},\n",
       "  'Up-Yukawa-Coupling': {'Coupling': 'Yu',\n",
       "   'Higgs': 'H',\n",
       "   'Lorentz': ['WeylFermion', 'WeylFermion', 'Scalar'],\n",
       "   'fields': ['u', 'q', 'H'],\n",
       "   'hypercharge': ['1/2', '1/6', '2/3'],\n",
       "   'update_Description': {'DependenceNum': 'Sqrt[2]/v* {{Mass[Fu,1],0,0 },\\n                {0, Mass[Fu,2],0},\\n                {0, 0, Mass[Fu,3]}}'}},\n",
       "  'Weinberg-Angle': {'Coupling': 'ThetaW',\n",
       "   'update_Description': {'DependenceNum': 'ArcSin[Sqrt[1 - Mass[VWp]^2/Mass[VZ]^2]]'}}},\n",
       " {'g1': {'Description': 'Hypercharge-Coupling'},\n",
       "  'g2': {'Description': 'Left-Coupling'},\n",
       "  'g3': {'Description': 'Strong-Coupling'}},\n",
       " {'VP': {'ZZ': {'Description': 'Photon-Z Mixing Matrix'}},\n",
       "  'VWp': {'ZW': {'Description': 'W Mixing Matrix'}},\n",
       "  'dL': {'Vd': {'Description': 'Left-Down-Mixing-Matrix'}},\n",
       "  'dR': {'Ud': {'Description': 'Right-Down-Mixing-Matrix'}},\n",
       "  'eL': {'Ve': {'Description': 'Left-Down-Mixing-Matrix'}},\n",
       "  'eR': {'Ue': {'Description': 'Right-Lepton-Mixing-Matrix'}},\n",
       "  'uL': {'Vu': {'Description': 'Left-Up-Mixing-Matrix'}},\n",
       "  'uR': {'Uu': {'Description': 'Right-Up-Mixing-Matrix'}}},\n",
       " {'AlphaS': {'Description': 'Alpha Strong'},\n",
       "  'Gf': {'Description': \"Fermi's constant\"},\n",
       "  'aEWinv': {'Description': 'inverse weak coupling constant at mZ'},\n",
       "  'e': {'Description': 'electric charge'},\n",
       "  'mH2': {'Description': 'SM Higgs Mass Parameter'}})"
      ]
     },
     "execution_count": 91,
     "metadata": {},
     "output_type": "execute_result"
    }
   ],
   "source": [
    "smdict,coupling,rotation,constants"
   ]
  },
  {
   "cell_type": "markdown",
   "metadata": {},
   "source": [
    "## Build `parameters` with the same standards as `particles`"
   ]
  },
  {
   "cell_type": "code",
   "execution_count": 92,
   "metadata": {},
   "outputs": [],
   "source": [
    "ParameterDefinitions={'Properties':{}}\n",
    "ParameterDefinitions['Properties'].update(coupling)\n",
    "ParameterDefinitions['Properties'].update(constants)\n",
    "for k in rotation.keys():\n",
    "    ParameterDefinitions['Properties'].update(rotation.get(k))\n",
    "\n",
    "#ParameterDefinition"
   ]
  },
  {
   "cell_type": "code",
   "execution_count": 93,
   "metadata": {},
   "outputs": [
    {
     "data": {
      "text/plain": [
       "['Weinberg-Angle',\n",
       " 'Down-Yukawa-Coupling',\n",
       " 'Lepton-Yukawa-Coupling',\n",
       " 'Up-Yukawa-Coupling',\n",
       " 'SM Higgs Selfcouplings',\n",
       " 'EW-VEV',\n",
       " 'SM Mu Parameter']"
      ]
     },
     "execution_count": 93,
     "metadata": {},
     "output_type": "execute_result"
    }
   ],
   "source": [
    " list(smdict.keys())"
   ]
  },
  {
   "cell_type": "code",
   "execution_count": 94,
   "metadata": {},
   "outputs": [
    {
     "data": {
      "text/plain": [
       "'v'"
      ]
     },
     "execution_count": 94,
     "metadata": {},
     "output_type": "execute_result"
    }
   ],
   "source": [
    "vev"
   ]
  },
  {
   "cell_type": "code",
   "execution_count": 96,
   "metadata": {},
   "outputs": [
    {
     "name": "stdout",
     "output_type": "stream",
     "text": [
      "******************************\n",
      "{'ThetaW': {'DependenceNum': 'ArcSin[Sqrt[1 - Mass[VWp]^2/Mass[VZ]^2]]', 'Description': 'Weinberg-Angle'}}\n",
      "******************************\n",
      "******************************\n",
      "{'Yd': {'DependenceNum': 'Sqrt[2]/v* {{Mass[Fd,1],0,0 },\\n                {0, Mass[Fd,2],0},\\n                {0, 0, Mass[Fd,3]}}', 'Description': 'Down-Yukawa-Coupling'}}\n",
      "******************************\n",
      "******************************\n",
      "{'Ye': {'DependenceNum': 'Sqrt[2]/v* {{Mass[Fe,1],0,0 },\\n                {0, Mass[Fe,2],0},\\n                {0, 0, Mass[Fe,3]}}', 'Description': 'Lepton-Yukawa-Coupling'}}\n",
      "******************************\n",
      "******************************\n",
      "{'Yu': {'DependenceNum': 'Sqrt[2]/v* {{Mass[Fu,1],0,0 },\\n                {0, Mass[Fu,2],0},\\n                {0, 0, Mass[Fu,3]}}', 'Description': 'Up-Yukawa-Coupling'}}\n",
      "******************************\n",
      "******************************\n",
      "{'\\\\[Lambda]': {'DependenceNum': 'Mass[hh]^2/(v^2)', 'Description': 'SM Higgs Selfcouplings'}}\n",
      "******************************\n",
      "******************************\n",
      "{'v': {'DependenceNum': 'Sqrt[4*Mass[VWp]^2/(g2^2)]', 'DependenceSPheno': 'None', 'Description': 'EW-VEV', 'OutputName': 'vvSM'}}\n",
      "******************************\n",
      "******************************\n",
      "{'mu2': {'Description': 'SM Mu Parameter', 'OutputName': 'm2SM'}}\n",
      "******************************\n"
     ]
    }
   ],
   "source": [
    "#k='Down-Yukawa-Coupling'\n",
    "for k in smdict.keys():\n",
    "    smp={}\n",
    "    smp['Description']=k\n",
    "    smp.update(smdict[k].get('update_Description'))\n",
    "    ParameterDefinitions['Properties'].update( { smdict[k].get('Coupling'):  smp} )\n",
    "    print(\"*\"*30)\n",
    "    print( { smdict[k].get('Coupling'):  smp} )\n",
    "    print(\"*\"*30)\n",
    "    #break"
   ]
  },
  {
   "cell_type": "code",
   "execution_count": 97,
   "metadata": {},
   "outputs": [
    {
     "data": {
      "text/plain": [
       "{'Properties': {'AlphaS': {'Description': 'Alpha Strong'},\n",
       "  'Gf': {'Description': \"Fermi's constant\"},\n",
       "  'ThetaW': {'DependenceNum': 'ArcSin[Sqrt[1 - Mass[VWp]^2/Mass[VZ]^2]]',\n",
       "   'Description': 'Weinberg-Angle'},\n",
       "  'Ud': {'Description': 'Right-Down-Mixing-Matrix'},\n",
       "  'Ue': {'Description': 'Right-Lepton-Mixing-Matrix'},\n",
       "  'Uu': {'Description': 'Right-Up-Mixing-Matrix'},\n",
       "  'Vd': {'Description': 'Left-Down-Mixing-Matrix'},\n",
       "  'Ve': {'Description': 'Left-Down-Mixing-Matrix'},\n",
       "  'Vu': {'Description': 'Left-Up-Mixing-Matrix'},\n",
       "  'Yd': {'DependenceNum': 'Sqrt[2]/v* {{Mass[Fd,1],0,0 },\\n                {0, Mass[Fd,2],0},\\n                {0, 0, Mass[Fd,3]}}',\n",
       "   'Description': 'Down-Yukawa-Coupling'},\n",
       "  'Ye': {'DependenceNum': 'Sqrt[2]/v* {{Mass[Fe,1],0,0 },\\n                {0, Mass[Fe,2],0},\\n                {0, 0, Mass[Fe,3]}}',\n",
       "   'Description': 'Lepton-Yukawa-Coupling'},\n",
       "  'Yu': {'DependenceNum': 'Sqrt[2]/v* {{Mass[Fu,1],0,0 },\\n                {0, Mass[Fu,2],0},\\n                {0, 0, Mass[Fu,3]}}',\n",
       "   'Description': 'Up-Yukawa-Coupling'},\n",
       "  'ZW': {'Description': 'W Mixing Matrix'},\n",
       "  'ZZ': {'Description': 'Photon-Z Mixing Matrix'},\n",
       "  '\\\\[Lambda]': {'DependenceNum': 'Mass[hh]^2/(v^2)',\n",
       "   'Description': 'SM Higgs Selfcouplings'},\n",
       "  'aEWinv': {'Description': 'inverse weak coupling constant at mZ'},\n",
       "  'e': {'Description': 'electric charge'},\n",
       "  'g1': {'Description': 'Hypercharge-Coupling'},\n",
       "  'g2': {'Description': 'Left-Coupling'},\n",
       "  'g3': {'Description': 'Strong-Coupling'},\n",
       "  'mH2': {'Description': 'SM Higgs Mass Parameter'},\n",
       "  'mu2': {'Description': 'SM Mu Parameter', 'OutputName': 'm2SM'},\n",
       "  'v': {'DependenceNum': 'Sqrt[4*Mass[VWp]^2/(g2^2)]',\n",
       "   'DependenceSPheno': 'None',\n",
       "   'Description': 'EW-VEV',\n",
       "   'OutputName': 'vvSM'}}}"
      ]
     },
     "execution_count": 97,
     "metadata": {},
     "output_type": "execute_result"
    }
   ],
   "source": [
    "ParameterDefinitions"
   ]
  },
  {
   "cell_type": "code",
   "execution_count": 98,
   "metadata": {},
   "outputs": [
    {
     "data": {
      "text/html": [
       "<div>\n",
       "<style scoped>\n",
       "    .dataframe tbody tr th:only-of-type {\n",
       "        vertical-align: middle;\n",
       "    }\n",
       "\n",
       "    .dataframe tbody tr th {\n",
       "        vertical-align: top;\n",
       "    }\n",
       "\n",
       "    .dataframe thead th {\n",
       "        text-align: right;\n",
       "    }\n",
       "</style>\n",
       "<table border=\"1\" class=\"dataframe\">\n",
       "  <thead>\n",
       "    <tr style=\"text-align: right;\">\n",
       "      <th></th>\n",
       "      <th>Properties</th>\n",
       "    </tr>\n",
       "  </thead>\n",
       "  <tbody>\n",
       "    <tr>\n",
       "      <th>AlphaS</th>\n",
       "      <td>{'Description': 'Alpha Strong'}</td>\n",
       "    </tr>\n",
       "    <tr>\n",
       "      <th>Gf</th>\n",
       "      <td>{'Description': 'Fermi's constant'}</td>\n",
       "    </tr>\n",
       "    <tr>\n",
       "      <th>ThetaW</th>\n",
       "      <td>{'DependenceNum': 'ArcSin[Sqrt[1 - Mass[VWp]^2/Mass[VZ]^2]]', 'Description': 'Weinberg-Angle'}</td>\n",
       "    </tr>\n",
       "    <tr>\n",
       "      <th>Ud</th>\n",
       "      <td>{'Description': 'Right-Down-Mixing-Matrix'}</td>\n",
       "    </tr>\n",
       "    <tr>\n",
       "      <th>Ue</th>\n",
       "      <td>{'Description': 'Right-Lepton-Mixing-Matrix'}</td>\n",
       "    </tr>\n",
       "    <tr>\n",
       "      <th>Uu</th>\n",
       "      <td>{'Description': 'Right-Up-Mixing-Matrix'}</td>\n",
       "    </tr>\n",
       "    <tr>\n",
       "      <th>Vd</th>\n",
       "      <td>{'Description': 'Left-Down-Mixing-Matrix'}</td>\n",
       "    </tr>\n",
       "    <tr>\n",
       "      <th>Ve</th>\n",
       "      <td>{'Description': 'Left-Down-Mixing-Matrix'}</td>\n",
       "    </tr>\n",
       "    <tr>\n",
       "      <th>Vu</th>\n",
       "      <td>{'Description': 'Left-Up-Mixing-Matrix'}</td>\n",
       "    </tr>\n",
       "    <tr>\n",
       "      <th>Yd</th>\n",
       "      <td>{'DependenceNum': 'Sqrt[2]/v* {{Mass[Fd,1],0,0 },\n",
       "                {0, Mass[Fd,2],0},\n",
       "                {0, 0, Mass[Fd,3]}}', 'Description': 'Down-Yukawa-Coupling'}</td>\n",
       "    </tr>\n",
       "    <tr>\n",
       "      <th>Ye</th>\n",
       "      <td>{'DependenceNum': 'Sqrt[2]/v* {{Mass[Fe,1],0,0 },\n",
       "                {0, Mass[Fe,2],0},\n",
       "                {0, 0, Mass[Fe,3]}}', 'Description': 'Lepton-Yukawa-Coupling'}</td>\n",
       "    </tr>\n",
       "    <tr>\n",
       "      <th>Yu</th>\n",
       "      <td>{'DependenceNum': 'Sqrt[2]/v* {{Mass[Fu,1],0,0 },\n",
       "                {0, Mass[Fu,2],0},\n",
       "                {0, 0, Mass[Fu,3]}}', 'Description': 'Up-Yukawa-Coupling'}</td>\n",
       "    </tr>\n",
       "    <tr>\n",
       "      <th>ZW</th>\n",
       "      <td>{'Description': 'W Mixing Matrix'}</td>\n",
       "    </tr>\n",
       "    <tr>\n",
       "      <th>ZZ</th>\n",
       "      <td>{'Description': 'Photon-Z Mixing Matrix'}</td>\n",
       "    </tr>\n",
       "    <tr>\n",
       "      <th>\\[Lambda]</th>\n",
       "      <td>{'DependenceNum': 'Mass[hh]^2/(v^2)', 'Description': 'SM Higgs Selfcouplings'}</td>\n",
       "    </tr>\n",
       "    <tr>\n",
       "      <th>aEWinv</th>\n",
       "      <td>{'Description': 'inverse weak coupling constant at mZ'}</td>\n",
       "    </tr>\n",
       "    <tr>\n",
       "      <th>e</th>\n",
       "      <td>{'Description': 'electric charge'}</td>\n",
       "    </tr>\n",
       "    <tr>\n",
       "      <th>g1</th>\n",
       "      <td>{'Description': 'Hypercharge-Coupling'}</td>\n",
       "    </tr>\n",
       "    <tr>\n",
       "      <th>g2</th>\n",
       "      <td>{'Description': 'Left-Coupling'}</td>\n",
       "    </tr>\n",
       "    <tr>\n",
       "      <th>g3</th>\n",
       "      <td>{'Description': 'Strong-Coupling'}</td>\n",
       "    </tr>\n",
       "    <tr>\n",
       "      <th>mH2</th>\n",
       "      <td>{'Description': 'SM Higgs Mass Parameter'}</td>\n",
       "    </tr>\n",
       "    <tr>\n",
       "      <th>mu2</th>\n",
       "      <td>{'Description': 'SM Mu Parameter', 'OutputName': 'm2SM'}</td>\n",
       "    </tr>\n",
       "    <tr>\n",
       "      <th>v</th>\n",
       "      <td>{'DependenceNum': 'Sqrt[4*Mass[VWp]^2/(g2^2)]', 'DependenceSPheno': 'None', 'Description': 'EW-VEV', 'OutputName': 'vvSM'}</td>\n",
       "    </tr>\n",
       "  </tbody>\n",
       "</table>\n",
       "</div>"
      ],
      "text/plain": [
       "                                                                                                                                                                    Properties\n",
       "AlphaS                                                                                                                                         {'Description': 'Alpha Strong'}\n",
       "Gf                                                                                                                                         {'Description': 'Fermi's constant'}\n",
       "ThetaW                                                                          {'DependenceNum': 'ArcSin[Sqrt[1 - Mass[VWp]^2/Mass[VZ]^2]]', 'Description': 'Weinberg-Angle'}\n",
       "Ud                                                                                                                                 {'Description': 'Right-Down-Mixing-Matrix'}\n",
       "Ue                                                                                                                               {'Description': 'Right-Lepton-Mixing-Matrix'}\n",
       "Uu                                                                                                                                   {'Description': 'Right-Up-Mixing-Matrix'}\n",
       "Vd                                                                                                                                  {'Description': 'Left-Down-Mixing-Matrix'}\n",
       "Ve                                                                                                                                  {'Description': 'Left-Down-Mixing-Matrix'}\n",
       "Vu                                                                                                                                    {'Description': 'Left-Up-Mixing-Matrix'}\n",
       "Yd           {'DependenceNum': 'Sqrt[2]/v* {{Mass[Fd,1],0,0 },\n",
       "                {0, Mass[Fd,2],0},\n",
       "                {0, 0, Mass[Fd,3]}}', 'Description': 'Down-Yukawa-Coupling'}\n",
       "Ye         {'DependenceNum': 'Sqrt[2]/v* {{Mass[Fe,1],0,0 },\n",
       "                {0, Mass[Fe,2],0},\n",
       "                {0, 0, Mass[Fe,3]}}', 'Description': 'Lepton-Yukawa-Coupling'}\n",
       "Yu             {'DependenceNum': 'Sqrt[2]/v* {{Mass[Fu,1],0,0 },\n",
       "                {0, Mass[Fu,2],0},\n",
       "                {0, 0, Mass[Fu,3]}}', 'Description': 'Up-Yukawa-Coupling'}\n",
       "ZW                                                                                                                                          {'Description': 'W Mixing Matrix'}\n",
       "ZZ                                                                                                                                   {'Description': 'Photon-Z Mixing Matrix'}\n",
       "\\[Lambda]                                                                                       {'DependenceNum': 'Mass[hh]^2/(v^2)', 'Description': 'SM Higgs Selfcouplings'}\n",
       "aEWinv                                                                                                                 {'Description': 'inverse weak coupling constant at mZ'}\n",
       "e                                                                                                                                           {'Description': 'electric charge'}\n",
       "g1                                                                                                                                     {'Description': 'Hypercharge-Coupling'}\n",
       "g2                                                                                                                                            {'Description': 'Left-Coupling'}\n",
       "g3                                                                                                                                          {'Description': 'Strong-Coupling'}\n",
       "mH2                                                                                                                                 {'Description': 'SM Higgs Mass Parameter'}\n",
       "mu2                                                                                                                   {'Description': 'SM Mu Parameter', 'OutputName': 'm2SM'}\n",
       "v                                                   {'DependenceNum': 'Sqrt[4*Mass[VWp]^2/(g2^2)]', 'DependenceSPheno': 'None', 'Description': 'EW-VEV', 'OutputName': 'vvSM'}"
      ]
     },
     "execution_count": 98,
     "metadata": {},
     "output_type": "execute_result"
    }
   ],
   "source": [
    "pd.DataFrame(ParameterDefinitions)"
   ]
  },
  {
   "cell_type": "markdown",
   "metadata": {},
   "source": [
    "## Write file"
   ]
  },
  {
   "cell_type": "code",
   "execution_count": 99,
   "metadata": {},
   "outputs": [],
   "source": [
    "f=open('SMp.json','w')\n",
    "json.dump(ParameterDefinitions,f)\n",
    "f.close()"
   ]
  },
  {
   "cell_type": "code",
   "execution_count": 100,
   "metadata": {},
   "outputs": [],
   "source": [
    "CHECK_PANDAS_SAVED_JSON=True\n",
    "if CHECK_PANDAS_SAVED_JSON:\n",
    "    SM=pd.read_json('SMp.json')#,lines=True,orient='records')"
   ]
  },
  {
   "cell_type": "code",
   "execution_count": 101,
   "metadata": {},
   "outputs": [
    {
     "data": {
      "text/plain": [
       "Index(['Properties'], dtype='object')"
      ]
     },
     "execution_count": 101,
     "metadata": {},
     "output_type": "execute_result"
    }
   ],
   "source": [
    "SM.columns"
   ]
  },
  {
   "cell_type": "code",
   "execution_count": 102,
   "metadata": {},
   "outputs": [
    {
     "data": {
      "text/plain": [
       "Index(['AlphaS', 'Gf', 'ThetaW', 'Ud', 'Ue', 'Uu', 'Vd', 'Ve', 'Vu', 'Yd',\n",
       "       'Ye', 'Yu', 'ZW', 'ZZ', '\\[Lambda]', 'aEWinv', 'e', 'g1', 'g2', 'g3',\n",
       "       'mH2', 'mu2', 'v'],\n",
       "      dtype='object')"
      ]
     },
     "execution_count": 102,
     "metadata": {},
     "output_type": "execute_result"
    }
   ],
   "source": [
    "SM.columns\n",
    "c='Properties'\n",
    "SM[c].dropna().index"
   ]
  },
  {
   "cell_type": "code",
   "execution_count": 120,
   "metadata": {},
   "outputs": [
    {
     "data": {
      "text/plain": [
       "{'1/2 \\\\[Lambda]': 'conj[H].H.conj[H].H',\n",
       " 'Yd': 'conj[H].d.q',\n",
       " 'Ye': 'conj[H].e.l',\n",
       " 'Yu': 'u.q.H',\n",
       " 'mu2': 'conj[H].H'}"
      ]
     },
     "execution_count": 120,
     "metadata": {},
     "output_type": "execute_result"
    }
   ],
   "source": [
    "d"
   ]
  },
  {
   "cell_type": "code",
   "execution_count": 129,
   "metadata": {},
   "outputs": [],
   "source": [
    "from collections import OrderedDict \n",
    "\n",
    "d=SM.loc['ThetaW','Properties']\n",
    "element='Description'\n",
    "def order_dict_by(d,element='Description'):\n",
    "    l=list(d.keys())\n",
    "    if element in l:\n",
    "        l.remove(element)\n",
    "        l=[element]+l\n",
    "        od=OrderedDict()\n",
    "        for k in l:\n",
    "            od[k]=d[k]\n",
    "    return od"
   ]
  },
  {
   "cell_type": "code",
   "execution_count": 131,
   "metadata": {},
   "outputs": [
    {
     "data": {
      "text/plain": [
       "odict_keys(['Description', 'DependenceNum'])"
      ]
     },
     "execution_count": 131,
     "metadata": {},
     "output_type": "execute_result"
    }
   ],
   "source": [
    "order_dict_by(d,element='Description').keys()"
   ]
  },
  {
   "cell_type": "code",
   "execution_count": 117,
   "metadata": {},
   "outputs": [],
   "source": []
  },
  {
   "cell_type": "code",
   "execution_count": 119,
   "metadata": {},
   "outputs": [
    {
     "data": {
      "text/plain": [
       "['Description', 'DependenceNum']"
      ]
     },
     "execution_count": 119,
     "metadata": {},
     "output_type": "execute_result"
    }
   ],
   "source": [
    "['Description']+l"
   ]
  },
  {
   "cell_type": "code",
   "execution_count": 111,
   "metadata": {},
   "outputs": [],
   "source": [
    "from collections import OrderedDict \n",
    "od = OrderedDict() \n",
    "od['a'] = 1\n",
    "od['b'] = 2\n",
    "od['c'] = 3\n",
    "od['d'] = 4"
   ]
  },
  {
   "cell_type": "code",
   "execution_count": 132,
   "metadata": {},
   "outputs": [],
   "source": [
    "import json\n",
    "definitions='ParameterDefintions'#ParticleDefinitions'\n",
    "f=open('para.m','w')\n",
    "for c in SM.columns:\n",
    "    if definitions=='ParticleDefinitions':\n",
    "        f.write('{}[{}] = {{\\n'.format(definitions,c))\n",
    "    else:\n",
    "        f.write('{} = {{\\n'.format(definitions))\n",
    "        \n",
    "    cindex=SM[c].dropna().index\n",
    "    csep=','\n",
    "    for p in cindex:\n",
    "        SMcp=order_dict_by(SM[c][p],element='Description')\n",
    "        if p==list(cindex)[-1]:\n",
    "            csep=''\n",
    "        f.write('    {{{}, {{'.format(p))\n",
    "        cpkeys=SMcp.keys()\n",
    "        sangria=' '\n",
    "        sep=','\n",
    "        nl='\\n'\n",
    "        #TODO: Be sure that Description will be printed first\n",
    "        for k in cpkeys:\n",
    "            if k!=list(cpkeys)[0]:\n",
    "                sangria='           '\n",
    "            if k==list(cpkeys)[-1]:\n",
    "                sep=''\n",
    "                nl=''\n",
    "            #print list of strings with double quotes\n",
    "            cp='{}{} -> '.format(sangria,k)\n",
    "            smcpk=SM[c][p][k]\n",
    "            if type(smcpk)==str:\n",
    "                smcpk='\"{}\"'.format(smcpk)\n",
    "            else:\n",
    "                smcpk=json.dumps( smcpk )\n",
    "            \n",
    "            f.write('{}{}{}{}'.format(cp,smcpk,sep,nl))\n",
    "\n",
    "        f.write('}}}}{}\\n'.format(csep))\n",
    "    f.write('};\\n\\n')\n",
    "f.close()"
   ]
  },
  {
   "cell_type": "code",
   "execution_count": 133,
   "metadata": {},
   "outputs": [
    {
     "name": "stdout",
     "output_type": "stream",
     "text": [
      "ParameterDefintions = {\r\n",
      "    {AlphaS, { Description -> \"Alpha Strong\"}},\r\n",
      "    {Gf, { Description -> \"Fermi's constant\"}},\r\n",
      "    {ThetaW, { Description -> \"Weinberg-Angle\",\r\n",
      "           DependenceNum -> \"ArcSin[Sqrt[1 - Mass[VWp]^2/Mass[VZ]^2]]\"}},\r\n",
      "    {Ud, { Description -> \"Right-Down-Mixing-Matrix\"}},\r\n",
      "    {Ue, { Description -> \"Right-Lepton-Mixing-Matrix\"}},\r\n",
      "    {Uu, { Description -> \"Right-Up-Mixing-Matrix\"}},\r\n",
      "    {Vd, { Description -> \"Left-Down-Mixing-Matrix\"}},\r\n",
      "    {Ve, { Description -> \"Left-Down-Mixing-Matrix\"}},\r\n",
      "    {Vu, { Description -> \"Left-Up-Mixing-Matrix\"}},\r\n",
      "    {Yd, { Description -> \"Down-Yukawa-Coupling\",\r\n",
      "           DependenceNum -> \"Sqrt[2]/v* {{Mass[Fd,1],0,0 },\r\n",
      "                {0, Mass[Fd,2],0},\r\n",
      "                {0, 0, Mass[Fd,3]}}\"}},\r\n",
      "    {Ye, { Description -> \"Lepton-Yukawa-Coupling\",\r\n",
      "           DependenceNum -> \"Sqrt[2]/v* {{Mass[Fe,1],0,0 },\r\n",
      "                {0, Mass[Fe,2],0},\r\n",
      "                {0, 0, Mass[Fe,3]}}\"}},\r\n",
      "    {Yu, { Description -> \"Up-Yukawa-Coupling\",\r\n",
      "           DependenceNum -> \"Sqrt[2]/v* {{Mass[Fu,1],0,0 },\r\n",
      "                {0, Mass[Fu,2],0},\r\n",
      "                {0, 0, Mass[Fu,3]}}\"}},\r\n",
      "    {ZW, { Description -> \"W Mixing Matrix\"}},\r\n",
      "    {ZZ, { Description -> \"Photon-Z Mixing Matrix\"}},\r\n",
      "    {\\[Lambda], { Description -> \"SM Higgs Selfcouplings\",\r\n",
      "           DependenceNum -> \"Mass[hh]^2/(v^2)\"}},\r\n",
      "    {aEWinv, { Description -> \"inverse weak coupling constant at mZ\"}},\r\n",
      "    {e, { Description -> \"electric charge\"}},\r\n",
      "    {g1, { Description -> \"Hypercharge-Coupling\"}},\r\n",
      "    {g2, { Description -> \"Left-Coupling\"}},\r\n",
      "    {g3, { Description -> \"Strong-Coupling\"}},\r\n",
      "    {mH2, { Description -> \"SM Higgs Mass Parameter\"}},\r\n",
      "    {mu2, { Description -> \"SM Mu Parameter\",\r\n",
      "           OutputName -> \"m2SM\"}},\r\n",
      "    {v, { Description -> \"EW-VEV\",\r\n",
      "           DependenceNum -> \"Sqrt[4*Mass[VWp]^2/(g2^2)]\",\r\n",
      "           DependenceSPheno -> \"None\",\r\n",
      "           OutputName -> \"vvSM\"}}\r\n",
      "};\r\n",
      "\r\n"
     ]
    }
   ],
   "source": [
    "cat para.m"
   ]
  },
  {
   "cell_type": "code",
   "execution_count": 142,
   "metadata": {},
   "outputs": [],
   "source": [
    "def sarahlist_to_python(strl,DEBUG=False):\n",
    "    '''\n",
    "    Convert a string with a SARAH list of rotations into\n",
    "    a Python object\n",
    "    '''\n",
    "    #General transformations\n",
    "    nl=re.sub(';\\s*$','', #Drop final semicolon\n",
    "               strl)\n",
    "    if re.search('^\\{.*\\{.*\\{.*->True',strl ) or re.search('^\\{.*\\{.*\\{.*->False',strl ):\n",
    "        nl=re.sub( '([\\w]+)([,:])',r'\"\\1\"\\2', # Keep True and False\n",
    "              re.sub( '[\\s\\t]+','', # strip\n",
    "              re.sub( '\\s*->\\s*',':', # to python dict                  \n",
    "                  nl))).replace('}},{','}],['\n",
    "                      ).replace('{{','[['\n",
    "                      ).replace('}}}','}]]'\n",
    "                      )        \n",
    "    elif nl.find('->')>-1:\n",
    "        nl=re.sub( '(\\w+\\[*\\w+\\]*)',r'\"\\1\"' ,\n",
    "           re.sub('\\s*:\\s*\\{([\\s\\w,\\[\\]]+)\\}',r':[\\1 ]', # to python value lists of dict key\n",
    "           re.sub( '\\s*->\\s*',':', # to python dict                  \n",
    "              nl)))\n",
    "    else:\n",
    "        nl= re.sub( '\\{','[',\n",
    "            re.sub( '\\}',']',                   \n",
    "            re.sub('([\\w\\[\\]\\/\\\\\\]+)',r'\"\\1\"',  #to python_lists\n",
    "           nl)))\n",
    "    if DEBUG:    \n",
    "        print(nl)\n",
    "        print(\"*\"*50)\n",
    "    return eval(nl)"
   ]
  },
  {
   "cell_type": "code",
   "execution_count": null,
   "metadata": {},
   "outputs": [],
   "source": []
  },
  {
   "cell_type": "code",
   "execution_count": 141,
   "metadata": {},
   "outputs": [
    {
     "ename": "KeyError",
     "evalue": "'DiracSpinors'",
     "output_type": "error",
     "traceback": [
      "\u001b[0;31m---------------------------------------------------------------------------\u001b[0m",
      "\u001b[0;31mKeyError\u001b[0m                                  Traceback (most recent call last)",
      "\u001b[0;32m<ipython-input-141-716f3eb9c37f>\u001b[0m in \u001b[0;36m<module>\u001b[0;34m()\u001b[0m\n\u001b[1;32m     20\u001b[0m \u001b[0mDEFINITION\u001b[0m\u001b[0;34m[\u001b[0m\u001b[0;34m'EWSB'\u001b[0m\u001b[0;34m]\u001b[0m\u001b[0;34m[\u001b[0m\u001b[0;34m'Diagonal'\u001b[0m\u001b[0;34m]\u001b[0m\u001b[0;34m=\u001b[0m\u001b[0mDiagonal\u001b[0m\u001b[0;34m\u001b[0m\u001b[0m\n\u001b[1;32m     21\u001b[0m \u001b[0mDEFINITION\u001b[0m\u001b[0;34m[\u001b[0m\u001b[0;34m'EWSB'\u001b[0m\u001b[0;34m]\u001b[0m\u001b[0;34m[\u001b[0m\u001b[0;34m'VEVs'\u001b[0m\u001b[0;34m]\u001b[0m\u001b[0;34m=\u001b[0m\u001b[0mVEV\u001b[0m\u001b[0;34m\u001b[0m\u001b[0m\n\u001b[0;32m---> 22\u001b[0;31m \u001b[0mDEFINITION\u001b[0m\u001b[0;34m[\u001b[0m\u001b[0;34m'EWSB'\u001b[0m\u001b[0;34m]\u001b[0m\u001b[0;34m[\u001b[0m\u001b[0;34m'DiracSpinors'\u001b[0m\u001b[0;34m]\u001b[0m\u001b[0;34m=\u001b[0m\u001b[0mdsbd\u001b[0m\u001b[0;34m[\u001b[0m\u001b[0;34m'DiracSpinors'\u001b[0m\u001b[0;34m]\u001b[0m\u001b[0;34m\u001b[0m\u001b[0m\n\u001b[0m",
      "\u001b[0;31mKeyError\u001b[0m: 'DiracSpinors'"
     ]
    }
   ],
   "source": [
    "DEFINITION={}\n",
    "DEFINITION['EWSB']={}\n",
    "Bidiagonal=[]\n",
    "Diagonal=[]\n",
    "VEV=[]\n",
    "for k in dsbd.keys():\n",
    "    \n",
    "    for w in dsbd[k]:\n",
    "        if k=='GaugeSector' or k=='MatterSector':\n",
    "            if np.array(w).shape==(2,2):\n",
    "                weyl=bidiagonal(w,k)\n",
    "                Bidiagonal.append(weyl)\n",
    "            elif np.array(w).shape==(3,):\n",
    "                symm=diagonal(w,k)\n",
    "                Diagonal.append(symm)\n",
    "        elif k=='VEVs':\n",
    "            VEV.append(get_vev(w,k))\n",
    "\n",
    "DEFINITION['EWSB']['Bidiagonal']=Bidiagonal\n",
    "DEFINITION['EWSB']['Diagonal']=Diagonal\n",
    "DEFINITION['EWSB']['VEVs']=VEV\n",
    "DEFINITION['EWSB']['DiracSpinors']=dsbd['DiracSpinors']"
   ]
  },
  {
   "cell_type": "code",
   "execution_count": 14,
   "metadata": {
    "scrolled": true
   },
   "outputs": [],
   "source": [
    "particles=particles+rotations_to_particles(rotations=DEFINITION,key='EWSB',lr='',sep='')\n",
    "particles=particles+rotations_to_particles(rotations=DEFINITION,key='EWSB',lr='left',sep='_')\n",
    "particles=particles+rotations_to_particles(rotations=DEFINITION,key='EWSB',lr='right',sep='_')"
   ]
  },
  {
   "cell_type": "code",
   "execution_count": 18,
   "metadata": {},
   "outputs": [],
   "source": [
    "newparticles=[]\n",
    "for d in DEFINITION['EWSB']['VEVs']:\n",
    "    particle=vev_to_particles(d,cp='Real')\n",
    "    newparticles.append(particle)\n",
    "    particle=vev_to_particles(d,cp='Imaginary')\n",
    "    newparticles.append(particle)\n",
    "particles=particles+newparticles    "
   ]
  },
  {
   "cell_type": "code",
   "execution_count": 20,
   "metadata": {},
   "outputs": [],
   "source": [
    "newparticles=[]\n",
    "dict_of_spinors=lf=DEFINITION['EWSB']['DiracSpinors']\n",
    "for f in dict_of_spinors.keys():\n",
    "    particle=spinor_to_particles(dict_of_spinors,f)\n",
    "    newparticles.append(particle)\n",
    "particles=particles+newparticles    "
   ]
  },
  {
   "cell_type": "code",
   "execution_count": 21,
   "metadata": {},
   "outputs": [
    {
     "data": {
      "text/html": [
       "<div>\n",
       "<style scoped>\n",
       "    .dataframe tbody tr th:only-of-type {\n",
       "        vertical-align: middle;\n",
       "    }\n",
       "\n",
       "    .dataframe tbody tr th {\n",
       "        vertical-align: top;\n",
       "    }\n",
       "\n",
       "    .dataframe thead th {\n",
       "        text-align: right;\n",
       "    }\n",
       "</style>\n",
       "<table border=\"1\" class=\"dataframe\">\n",
       "  <thead>\n",
       "    <tr style=\"text-align: right;\">\n",
       "      <th></th>\n",
       "      <th>Block</th>\n",
       "      <th>DEFINITION</th>\n",
       "      <th>Definition</th>\n",
       "      <th>Defintion</th>\n",
       "      <th>Field</th>\n",
       "      <th>Parents</th>\n",
       "      <th>Properties</th>\n",
       "      <th>rotation</th>\n",
       "    </tr>\n",
       "  </thead>\n",
       "  <tbody>\n",
       "    <tr>\n",
       "      <th>0</th>\n",
       "      <td>NaN</td>\n",
       "      <td>NaN</td>\n",
       "      <td>GaugeES</td>\n",
       "      <td>NaN</td>\n",
       "      <td>VB</td>\n",
       "      <td>None</td>\n",
       "      <td>{'Index': ' hypercharge', 'Group': '   U[1]', ...</td>\n",
       "      <td>NaN</td>\n",
       "    </tr>\n",
       "    <tr>\n",
       "      <th>1</th>\n",
       "      <td>NaN</td>\n",
       "      <td>NaN</td>\n",
       "      <td>GaugeES</td>\n",
       "      <td>NaN</td>\n",
       "      <td>VWB</td>\n",
       "      <td>None</td>\n",
       "      <td>{'Index': ' left', 'Group': ' SU[2]', 'Lorentz...</td>\n",
       "      <td>NaN</td>\n",
       "    </tr>\n",
       "    <tr>\n",
       "      <th>2</th>\n",
       "      <td>NaN</td>\n",
       "      <td>NaN</td>\n",
       "      <td>GaugeES</td>\n",
       "      <td>NaN</td>\n",
       "      <td>VG</td>\n",
       "      <td>None</td>\n",
       "      <td>{'Index': ' color', 'Group': '  SU[3]', 'Loren...</td>\n",
       "      <td>NaN</td>\n",
       "    </tr>\n",
       "    <tr>\n",
       "      <th>3</th>\n",
       "      <td>NaN</td>\n",
       "      <td>NaN</td>\n",
       "      <td>WeylFermionAndIndermediate</td>\n",
       "      <td>NaN</td>\n",
       "      <td>q</td>\n",
       "      <td>None</td>\n",
       "      <td>{'Groups': ['     1/6', ' 2', '  3;  '], 'Lore...</td>\n",
       "      <td>NaN</td>\n",
       "    </tr>\n",
       "    <tr>\n",
       "      <th>4</th>\n",
       "      <td>NaN</td>\n",
       "      <td>NaN</td>\n",
       "      <td>WeylFermionAndIndermediate</td>\n",
       "      <td>NaN</td>\n",
       "      <td>l</td>\n",
       "      <td>None</td>\n",
       "      <td>{'Groups': ['    -1/2', ' 2', '  1;'], 'Lorent...</td>\n",
       "      <td>NaN</td>\n",
       "    </tr>\n",
       "    <tr>\n",
       "      <th>5</th>\n",
       "      <td>NaN</td>\n",
       "      <td>NaN</td>\n",
       "      <td>WeylFermionAndIndermediate</td>\n",
       "      <td>NaN</td>\n",
       "      <td>d</td>\n",
       "      <td>None</td>\n",
       "      <td>{'Groups': ['     1/3', ' 1', ' -3'], 'Lorentz...</td>\n",
       "      <td>NaN</td>\n",
       "    </tr>\n",
       "    <tr>\n",
       "      <th>6</th>\n",
       "      <td>NaN</td>\n",
       "      <td>NaN</td>\n",
       "      <td>WeylFermionAndIndermediate</td>\n",
       "      <td>NaN</td>\n",
       "      <td>u</td>\n",
       "      <td>None</td>\n",
       "      <td>{'Groups': ['    -2/3', ' 1', ' -3'], 'Lorentz...</td>\n",
       "      <td>NaN</td>\n",
       "    </tr>\n",
       "    <tr>\n",
       "      <th>7</th>\n",
       "      <td>NaN</td>\n",
       "      <td>NaN</td>\n",
       "      <td>WeylFermionAndIndermediate</td>\n",
       "      <td>NaN</td>\n",
       "      <td>e</td>\n",
       "      <td>None</td>\n",
       "      <td>{'Groups': ['       1', ' 1', '  1'], 'Lorentz...</td>\n",
       "      <td>NaN</td>\n",
       "    </tr>\n",
       "    <tr>\n",
       "      <th>8</th>\n",
       "      <td>NaN</td>\n",
       "      <td>NaN</td>\n",
       "      <td>WeylFermionAndIndermediate</td>\n",
       "      <td>NaN</td>\n",
       "      <td>H</td>\n",
       "      <td>None</td>\n",
       "      <td>{'Groups': ['     1/2', ' 2', '  1;'], 'Lorent...</td>\n",
       "      <td>NaN</td>\n",
       "    </tr>\n",
       "    <tr>\n",
       "      <th>9</th>\n",
       "      <td>NaN</td>\n",
       "      <td>NaN</td>\n",
       "      <td>WeylFermionAndIndermediate</td>\n",
       "      <td>NaN</td>\n",
       "      <td>uL</td>\n",
       "      <td>q</td>\n",
       "      <td>{'NF': '3', 'Lorentz': 'WeylFermion'}</td>\n",
       "      <td>NaN</td>\n",
       "    </tr>\n",
       "    <tr>\n",
       "      <th>10</th>\n",
       "      <td>NaN</td>\n",
       "      <td>NaN</td>\n",
       "      <td>WeylFermionAndIndermediate</td>\n",
       "      <td>NaN</td>\n",
       "      <td>dL</td>\n",
       "      <td>q</td>\n",
       "      <td>{'NF': '3', 'Lorentz': 'WeylFermion'}</td>\n",
       "      <td>NaN</td>\n",
       "    </tr>\n",
       "    <tr>\n",
       "      <th>11</th>\n",
       "      <td>NaN</td>\n",
       "      <td>NaN</td>\n",
       "      <td>WeylFermionAndIndermediate</td>\n",
       "      <td>NaN</td>\n",
       "      <td>vL</td>\n",
       "      <td>l</td>\n",
       "      <td>{'NF': '3', 'Lorentz': 'WeylFermion'}</td>\n",
       "      <td>NaN</td>\n",
       "    </tr>\n",
       "    <tr>\n",
       "      <th>12</th>\n",
       "      <td>NaN</td>\n",
       "      <td>NaN</td>\n",
       "      <td>WeylFermionAndIndermediate</td>\n",
       "      <td>NaN</td>\n",
       "      <td>eL</td>\n",
       "      <td>l</td>\n",
       "      <td>{'NF': '3', 'Lorentz': 'WeylFermion'}</td>\n",
       "      <td>NaN</td>\n",
       "    </tr>\n",
       "    <tr>\n",
       "      <th>13</th>\n",
       "      <td>NaN</td>\n",
       "      <td>NaN</td>\n",
       "      <td>WeylFermionAndIndermediate</td>\n",
       "      <td>NaN</td>\n",
       "      <td>dR</td>\n",
       "      <td>d</td>\n",
       "      <td>{'NF': '3', 'Lorentz': 'WeylFermion'}</td>\n",
       "      <td>NaN</td>\n",
       "    </tr>\n",
       "    <tr>\n",
       "      <th>14</th>\n",
       "      <td>NaN</td>\n",
       "      <td>NaN</td>\n",
       "      <td>WeylFermionAndIndermediate</td>\n",
       "      <td>NaN</td>\n",
       "      <td>uR</td>\n",
       "      <td>u</td>\n",
       "      <td>{'NF': '3', 'Lorentz': 'WeylFermion'}</td>\n",
       "      <td>NaN</td>\n",
       "    </tr>\n",
       "    <tr>\n",
       "      <th>15</th>\n",
       "      <td>NaN</td>\n",
       "      <td>NaN</td>\n",
       "      <td>WeylFermionAndIndermediate</td>\n",
       "      <td>NaN</td>\n",
       "      <td>eR</td>\n",
       "      <td>e</td>\n",
       "      <td>{'NF': '3', 'Lorentz': 'WeylFermion'}</td>\n",
       "      <td>NaN</td>\n",
       "    </tr>\n",
       "    <tr>\n",
       "      <th>16</th>\n",
       "      <td>NaN</td>\n",
       "      <td>NaN</td>\n",
       "      <td>GaugeES</td>\n",
       "      <td>NaN</td>\n",
       "      <td>Hp</td>\n",
       "      <td>H</td>\n",
       "      <td>{'NF': '1', 'Lorentz': 'Scalar'}</td>\n",
       "      <td>NaN</td>\n",
       "    </tr>\n",
       "    <tr>\n",
       "      <th>17</th>\n",
       "      <td>NaN</td>\n",
       "      <td>NaN</td>\n",
       "      <td>GaugeES</td>\n",
       "      <td>NaN</td>\n",
       "      <td>H0</td>\n",
       "      <td>H</td>\n",
       "      <td>{'NF': '1', 'Lorentz': 'Scalar'}</td>\n",
       "      <td>NaN</td>\n",
       "    </tr>\n",
       "    <tr>\n",
       "      <th>18</th>\n",
       "      <td>GaugeSector</td>\n",
       "      <td>NaN</td>\n",
       "      <td>EWSB</td>\n",
       "      <td>NaN</td>\n",
       "      <td>VP</td>\n",
       "      <td>VB</td>\n",
       "      <td>{'Interaction_basis': ['VB', 'VWB[3]'], 'Mass_...</td>\n",
       "      <td>ZZ</td>\n",
       "    </tr>\n",
       "    <tr>\n",
       "      <th>19</th>\n",
       "      <td>GaugeSector</td>\n",
       "      <td>NaN</td>\n",
       "      <td>EWSB</td>\n",
       "      <td>NaN</td>\n",
       "      <td>VZ</td>\n",
       "      <td>VWB[3]</td>\n",
       "      <td>{'Interaction_basis': ['VB', 'VWB[3]'], 'Mass_...</td>\n",
       "      <td>ZZ</td>\n",
       "    </tr>\n",
       "    <tr>\n",
       "      <th>20</th>\n",
       "      <td>GaugeSector</td>\n",
       "      <td>NaN</td>\n",
       "      <td>EWSB</td>\n",
       "      <td>NaN</td>\n",
       "      <td>VWp</td>\n",
       "      <td>VWB[1]</td>\n",
       "      <td>{'Interaction_basis': ['VWB[1]', 'VWB[2]'], 'M...</td>\n",
       "      <td>ZW</td>\n",
       "    </tr>\n",
       "    <tr>\n",
       "      <th>21</th>\n",
       "      <td>MatterField</td>\n",
       "      <td>NaN</td>\n",
       "      <td>NaN</td>\n",
       "      <td>NaN</td>\n",
       "      <td>DL</td>\n",
       "      <td>dL</td>\n",
       "      <td>{'Interaction_basis': ['dL'], 'Mass_basis': 'D...</td>\n",
       "      <td>Vd</td>\n",
       "    </tr>\n",
       "    <tr>\n",
       "      <th>22</th>\n",
       "      <td>MatterField</td>\n",
       "      <td>NaN</td>\n",
       "      <td>NaN</td>\n",
       "      <td>NaN</td>\n",
       "      <td>UL</td>\n",
       "      <td>uL</td>\n",
       "      <td>{'Interaction_basis': ['uL'], 'Mass_basis': 'U...</td>\n",
       "      <td>Vu</td>\n",
       "    </tr>\n",
       "    <tr>\n",
       "      <th>23</th>\n",
       "      <td>MatterField</td>\n",
       "      <td>NaN</td>\n",
       "      <td>NaN</td>\n",
       "      <td>NaN</td>\n",
       "      <td>EL</td>\n",
       "      <td>eL</td>\n",
       "      <td>{'Interaction_basis': ['eL'], 'Mass_basis': 'E...</td>\n",
       "      <td>Ve</td>\n",
       "    </tr>\n",
       "    <tr>\n",
       "      <th>24</th>\n",
       "      <td>MatterField</td>\n",
       "      <td>NaN</td>\n",
       "      <td>NaN</td>\n",
       "      <td>NaN</td>\n",
       "      <td>DR</td>\n",
       "      <td>conj[dR]</td>\n",
       "      <td>{'Interaction_basis': ['conj[dR]'], 'Mass_basi...</td>\n",
       "      <td>Ud</td>\n",
       "    </tr>\n",
       "    <tr>\n",
       "      <th>25</th>\n",
       "      <td>MatterField</td>\n",
       "      <td>NaN</td>\n",
       "      <td>NaN</td>\n",
       "      <td>NaN</td>\n",
       "      <td>UR</td>\n",
       "      <td>conj[uR]</td>\n",
       "      <td>{'Interaction_basis': ['conj[uR]'], 'Mass_basi...</td>\n",
       "      <td>Uu</td>\n",
       "    </tr>\n",
       "    <tr>\n",
       "      <th>26</th>\n",
       "      <td>MatterField</td>\n",
       "      <td>NaN</td>\n",
       "      <td>NaN</td>\n",
       "      <td>NaN</td>\n",
       "      <td>ER</td>\n",
       "      <td>conj[eR]</td>\n",
       "      <td>{'Interaction_basis': ['conj[eR]'], 'Mass_basi...</td>\n",
       "      <td>Ue</td>\n",
       "    </tr>\n",
       "    <tr>\n",
       "      <th>27</th>\n",
       "      <td>VEVs</td>\n",
       "      <td>EWSB</td>\n",
       "      <td>NaN</td>\n",
       "      <td>NaN</td>\n",
       "      <td>hh</td>\n",
       "      <td>H0</td>\n",
       "      <td>{'CP': 'Real', 'Lorentz': 'Scalar', 'Coefficie...</td>\n",
       "      <td>NaN</td>\n",
       "    </tr>\n",
       "    <tr>\n",
       "      <th>28</th>\n",
       "      <td>VEVs</td>\n",
       "      <td>EWSB</td>\n",
       "      <td>NaN</td>\n",
       "      <td>NaN</td>\n",
       "      <td>Ah</td>\n",
       "      <td>H0</td>\n",
       "      <td>{'CP': 'Imaginary', 'Lorentz': 'Scalar', 'Coef...</td>\n",
       "      <td>NaN</td>\n",
       "    </tr>\n",
       "    <tr>\n",
       "      <th>29</th>\n",
       "      <td>DiracSpinors</td>\n",
       "      <td>NaN</td>\n",
       "      <td>NaN</td>\n",
       "      <td>EWSB</td>\n",
       "      <td>Fv</td>\n",
       "      <td>vL</td>\n",
       "      <td>{'MajoranaSpinor': ['vL', 0], 'Lorentz': 'Majo...</td>\n",
       "      <td>NaN</td>\n",
       "    </tr>\n",
       "    <tr>\n",
       "      <th>30</th>\n",
       "      <td>DiracSpinors</td>\n",
       "      <td>NaN</td>\n",
       "      <td>NaN</td>\n",
       "      <td>EWSB</td>\n",
       "      <td>Fd</td>\n",
       "      <td>DL</td>\n",
       "      <td>{'DiracSpinor': ['DL', 'conj[DR]'], 'Lorentz':...</td>\n",
       "      <td>NaN</td>\n",
       "    </tr>\n",
       "    <tr>\n",
       "      <th>31</th>\n",
       "      <td>DiracSpinors</td>\n",
       "      <td>NaN</td>\n",
       "      <td>NaN</td>\n",
       "      <td>EWSB</td>\n",
       "      <td>Fe</td>\n",
       "      <td>EL</td>\n",
       "      <td>{'DiracSpinor': ['EL', 'conj[ER]'], 'Lorentz':...</td>\n",
       "      <td>NaN</td>\n",
       "    </tr>\n",
       "    <tr>\n",
       "      <th>32</th>\n",
       "      <td>DiracSpinors</td>\n",
       "      <td>NaN</td>\n",
       "      <td>NaN</td>\n",
       "      <td>EWSB</td>\n",
       "      <td>Fu</td>\n",
       "      <td>UL</td>\n",
       "      <td>{'DiracSpinor': ['UL', 'conj[UR]'], 'Lorentz':...</td>\n",
       "      <td>NaN</td>\n",
       "    </tr>\n",
       "  </tbody>\n",
       "</table>\n",
       "</div>"
      ],
      "text/plain": [
       "           Block DEFINITION                  Definition Defintion Field  \\\n",
       "0            NaN        NaN                     GaugeES       NaN    VB   \n",
       "1            NaN        NaN                     GaugeES       NaN   VWB   \n",
       "2            NaN        NaN                     GaugeES       NaN    VG   \n",
       "3            NaN        NaN  WeylFermionAndIndermediate       NaN     q   \n",
       "4            NaN        NaN  WeylFermionAndIndermediate       NaN     l   \n",
       "5            NaN        NaN  WeylFermionAndIndermediate       NaN     d   \n",
       "6            NaN        NaN  WeylFermionAndIndermediate       NaN     u   \n",
       "7            NaN        NaN  WeylFermionAndIndermediate       NaN     e   \n",
       "8            NaN        NaN  WeylFermionAndIndermediate       NaN     H   \n",
       "9            NaN        NaN  WeylFermionAndIndermediate       NaN    uL   \n",
       "10           NaN        NaN  WeylFermionAndIndermediate       NaN    dL   \n",
       "11           NaN        NaN  WeylFermionAndIndermediate       NaN    vL   \n",
       "12           NaN        NaN  WeylFermionAndIndermediate       NaN    eL   \n",
       "13           NaN        NaN  WeylFermionAndIndermediate       NaN    dR   \n",
       "14           NaN        NaN  WeylFermionAndIndermediate       NaN    uR   \n",
       "15           NaN        NaN  WeylFermionAndIndermediate       NaN    eR   \n",
       "16           NaN        NaN                     GaugeES       NaN    Hp   \n",
       "17           NaN        NaN                     GaugeES       NaN    H0   \n",
       "18   GaugeSector        NaN                        EWSB       NaN    VP   \n",
       "19   GaugeSector        NaN                        EWSB       NaN    VZ   \n",
       "20   GaugeSector        NaN                        EWSB       NaN   VWp   \n",
       "21   MatterField        NaN                         NaN       NaN    DL   \n",
       "22   MatterField        NaN                         NaN       NaN    UL   \n",
       "23   MatterField        NaN                         NaN       NaN    EL   \n",
       "24   MatterField        NaN                         NaN       NaN    DR   \n",
       "25   MatterField        NaN                         NaN       NaN    UR   \n",
       "26   MatterField        NaN                         NaN       NaN    ER   \n",
       "27          VEVs       EWSB                         NaN       NaN    hh   \n",
       "28          VEVs       EWSB                         NaN       NaN    Ah   \n",
       "29  DiracSpinors        NaN                         NaN      EWSB    Fv   \n",
       "30  DiracSpinors        NaN                         NaN      EWSB    Fd   \n",
       "31  DiracSpinors        NaN                         NaN      EWSB    Fe   \n",
       "32  DiracSpinors        NaN                         NaN      EWSB    Fu   \n",
       "\n",
       "     Parents                                         Properties rotation  \n",
       "0       None  {'Index': ' hypercharge', 'Group': '   U[1]', ...      NaN  \n",
       "1       None  {'Index': ' left', 'Group': ' SU[2]', 'Lorentz...      NaN  \n",
       "2       None  {'Index': ' color', 'Group': '  SU[3]', 'Loren...      NaN  \n",
       "3       None  {'Groups': ['     1/6', ' 2', '  3;  '], 'Lore...      NaN  \n",
       "4       None  {'Groups': ['    -1/2', ' 2', '  1;'], 'Lorent...      NaN  \n",
       "5       None  {'Groups': ['     1/3', ' 1', ' -3'], 'Lorentz...      NaN  \n",
       "6       None  {'Groups': ['    -2/3', ' 1', ' -3'], 'Lorentz...      NaN  \n",
       "7       None  {'Groups': ['       1', ' 1', '  1'], 'Lorentz...      NaN  \n",
       "8       None  {'Groups': ['     1/2', ' 2', '  1;'], 'Lorent...      NaN  \n",
       "9          q              {'NF': '3', 'Lorentz': 'WeylFermion'}      NaN  \n",
       "10         q              {'NF': '3', 'Lorentz': 'WeylFermion'}      NaN  \n",
       "11         l              {'NF': '3', 'Lorentz': 'WeylFermion'}      NaN  \n",
       "12         l              {'NF': '3', 'Lorentz': 'WeylFermion'}      NaN  \n",
       "13         d              {'NF': '3', 'Lorentz': 'WeylFermion'}      NaN  \n",
       "14         u              {'NF': '3', 'Lorentz': 'WeylFermion'}      NaN  \n",
       "15         e              {'NF': '3', 'Lorentz': 'WeylFermion'}      NaN  \n",
       "16         H                   {'NF': '1', 'Lorentz': 'Scalar'}      NaN  \n",
       "17         H                   {'NF': '1', 'Lorentz': 'Scalar'}      NaN  \n",
       "18        VB  {'Interaction_basis': ['VB', 'VWB[3]'], 'Mass_...       ZZ  \n",
       "19    VWB[3]  {'Interaction_basis': ['VB', 'VWB[3]'], 'Mass_...       ZZ  \n",
       "20    VWB[1]  {'Interaction_basis': ['VWB[1]', 'VWB[2]'], 'M...       ZW  \n",
       "21        dL  {'Interaction_basis': ['dL'], 'Mass_basis': 'D...       Vd  \n",
       "22        uL  {'Interaction_basis': ['uL'], 'Mass_basis': 'U...       Vu  \n",
       "23        eL  {'Interaction_basis': ['eL'], 'Mass_basis': 'E...       Ve  \n",
       "24  conj[dR]  {'Interaction_basis': ['conj[dR]'], 'Mass_basi...       Ud  \n",
       "25  conj[uR]  {'Interaction_basis': ['conj[uR]'], 'Mass_basi...       Uu  \n",
       "26  conj[eR]  {'Interaction_basis': ['conj[eR]'], 'Mass_basi...       Ue  \n",
       "27        H0  {'CP': 'Real', 'Lorentz': 'Scalar', 'Coefficie...      NaN  \n",
       "28        H0  {'CP': 'Imaginary', 'Lorentz': 'Scalar', 'Coef...      NaN  \n",
       "29        vL  {'MajoranaSpinor': ['vL', 0], 'Lorentz': 'Majo...      NaN  \n",
       "30        DL  {'DiracSpinor': ['DL', 'conj[DR]'], 'Lorentz':...      NaN  \n",
       "31        EL  {'DiracSpinor': ['EL', 'conj[ER]'], 'Lorentz':...      NaN  \n",
       "32        UL  {'DiracSpinor': ['UL', 'conj[UR]'], 'Lorentz':...      NaN  "
      ]
     },
     "execution_count": 21,
     "metadata": {},
     "output_type": "execute_result"
    }
   ],
   "source": [
    "pd.DataFrame( particles )"
   ]
  },
  {
   "cell_type": "code",
   "execution_count": 13,
   "metadata": {},
   "outputs": [
    {
     "name": "stdout",
     "output_type": "stream",
     "text": [
      "Off[General::spell]\n",
      "\n",
      "Model`Name = \"SM\";\n",
      "Model`NameLaTeX =\"Standard Model\";\n",
      "Model`Authors = \"F.Staub\";\n",
      "Model`Date = \"2014-11-06\";\n",
      "\n",
      "(* 2013-01-24: changed normalization of lambda term to convention of hep-ph/0207271 *)\n",
      "(* 2013-06-24: using new name conventions (without inital \"S\" and \"F\" for scalar and matter fields) *)\n",
      "(* 2013-09-01: changing to new conventions for FermionFields/MatterFields *)\n",
      "(* 2014-11-06: Changed sign in Lagrangian to fit standard conventions *)\n",
      "(* 2016-05-03: Changed sign of Yu *)\n",
      "\n",
      "\n",
      "\n",
      "(*-------------------------------------------*)\n",
      "(*   Particle Content*)\n",
      "(*-------------------------------------------*)\n",
      "\n",
      "(* Gauge Groups *)\n",
      "\n",
      "Gauge[[1]]={B,   U[1], hypercharge, g1,False};\n",
      "Gauge[[2]]={WB, SU[2], left,        g2,True};\n",
      "Gauge[[3]]={G,  SU[3], color,       g3,False};\n",
      "\n",
      "\n",
      "(* Matter Fields *)\n",
      "\n",
      "FermionFields[[1]] = {q, 3, {uL, dL},     1/6, 2,  3};  \n",
      "FermionFields[[2]] = {l, 3, {vL, eL},    -1/2, 2,  1};\n",
      "FermionFields[[3]] = {d, 3, conj[dR],     1/3, 1, -3};\n",
      "FermionFields[[4]] = {u, 3, conj[uR],    -2/3, 1, -3};\n",
      "FermionFields[[5]] = {e, 3, conj[eR],       1, 1,  1};\n",
      "\n",
      "ScalarFields[[1]] =  {H, 1, {Hp, H0},     1/2, 2,  1};\n",
      "\n",
      "\n",
      "        \n",
      "(*----------------------------------------------*)\n",
      "(*   DEFINITION                                 *)\n",
      "(*----------------------------------------------*)\n",
      "\n",
      "NameOfStates={GaugeES, EWSB};\n",
      "\n",
      "(* ----- Before EWSB ----- *)\n",
      "\n",
      "DEFINITION[GaugeES][LagrangianInput]= {\n",
      "\t{LagHC, {AddHC->True}},\n",
      "\t{LagNoHC,{AddHC->False}}\n",
      "};\n",
      "\n",
      "\n",
      "LagNoHC = -mu2 conj[H].H - 1/2 \\[Lambda] conj[H].H.conj[H].H;\n",
      "LagHC =  -(Yd conj[H].d.q + Ye conj[H].e.l + Yu u.q.H);\n",
      "\n",
      "\n",
      "\t\t\t  \t\t  \n",
      "\n",
      "(* Gauge Sector *)\n",
      "\n",
      "DEFINITION[EWSB][GaugeSector] =\n",
      "{ \n",
      "  {{VB,VWB[3]},{VP,VZ},ZZ},\n",
      "  {{VWB[1],VWB[2]},{VWp,conj[VWp]},ZW}\n",
      "};     \n",
      "        \n",
      "        \n",
      "          \t\n",
      "\n",
      "(* ----- VEVs ---- *)\n",
      "\n",
      "DEFINITION[EWSB][VEVs]= \n",
      "{    {H0, {v, 1/Sqrt[2]}, {Ah, \\[ImaginaryI]/Sqrt[2]},{hh, 1/Sqrt[2]}}     };\n",
      " \n",
      "\n",
      "DEFINITION[EWSB][MatterSector]=   \n",
      "    {{{{dL}, {conj[dR]}}, {{DL,Vd}, {DR,Ud}}},\n",
      "     {{{uL}, {conj[uR]}}, {{UL,Vu}, {UR,Uu}}},\n",
      "     {{{eL}, {conj[eR]}}, {{EL,Ve}, {ER,Ue}}}};  \n",
      "\n",
      "\n",
      "(*------------------------------------------------------*)\n",
      "(* Dirac-Spinors *)\n",
      "(*------------------------------------------------------*)\n",
      "\n",
      "DEFINITION[EWSB][DiracSpinors]={\n",
      " Fd ->{  DL, conj[DR]},\n",
      " Fe ->{  EL, conj[ER]},\n",
      " Fu ->{  UL, conj[UR]},\n",
      " Fv ->{  vL, 0}};\n",
      "\n",
      "DEFINITION[EWSB][GaugeES]={\n",
      " Fd1 ->{  FdL, 0},\n",
      " Fd2 ->{  0, FdR},\n",
      " Fu1 ->{  Fu1, 0},\n",
      " Fu2 ->{  0, Fu2},\n",
      " Fe1 ->{  Fe1, 0},\n",
      " Fe2 ->{  0, Fe2}};\n",
      "\n",
      "\n",
      "\n",
      "\n"
     ]
    }
   ],
   "source": [
    "print(smf)"
   ]
  },
  {
   "cell_type": "code",
   "execution_count": 236,
   "metadata": {},
   "outputs": [
    {
     "data": {
      "text/plain": [
       "2"
      ]
     },
     "execution_count": 236,
     "metadata": {},
     "output_type": "execute_result"
    }
   ],
   "source": [
    "1+1"
   ]
  },
  {
   "cell_type": "code",
   "execution_count": null,
   "metadata": {},
   "outputs": [],
   "source": []
  }
 ],
 "metadata": {
  "kernelspec": {
   "display_name": "Python 3",
   "language": "python",
   "name": "python3"
  },
  "language_info": {
   "codemirror_mode": {
    "name": "ipython",
    "version": 3
   },
   "file_extension": ".py",
   "mimetype": "text/x-python",
   "name": "python",
   "nbconvert_exporter": "python",
   "pygments_lexer": "ipython3",
   "version": "3.5.3"
  },
  "latex_envs": {
   "LaTeX_envs_menu_present": true,
   "autoclose": false,
   "autocomplete": true,
   "bibliofile": "biblio.bib",
   "cite_by": "apalike",
   "current_citInitial": 1,
   "eqLabelWithNumbers": true,
   "eqNumInitial": 1,
   "hotkeys": {
    "equation": "Ctrl-E",
    "itemize": "Ctrl-I"
   },
   "labels_anchors": false,
   "latex_user_defs": false,
   "report_style_numbering": false,
   "user_envs_cfg": false
  }
 },
 "nbformat": 4,
 "nbformat_minor": 2
}
